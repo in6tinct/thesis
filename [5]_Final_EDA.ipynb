{
  "nbformat": 4,
  "nbformat_minor": 0,
  "metadata": {
    "colab": {
      "name": "[5] Final EDA.ipynb",
      "provenance": [],
      "toc_visible": true,
      "machine_shape": "hm"
    },
    "kernelspec": {
      "name": "python3",
      "display_name": "Python 3"
    }
  },
  "cells": [
    {
      "cell_type": "markdown",
      "metadata": {
        "id": "NSvZm_gYqRFv",
        "colab_type": "text"
      },
      "source": [
        "# Libraries and Variables"
      ]
    },
    {
      "cell_type": "code",
      "metadata": {
        "id": "uCmCx84UpxFi",
        "colab_type": "code",
        "outputId": "c419bf8e-50f9-488e-800a-ab91d7fc51b1",
        "colab": {
          "base_uri": "https://localhost:8080/",
          "height": 71
        }
      },
      "source": [
        "import pandas as pd\n",
        "import numpy as np\n",
        "import seaborn as sns\n",
        "import matplotlib.pyplot as plt\n",
        "pd.set_option('display.max_rows', 500)\n",
        "pd.set_option('display.max_columns', 500)\n",
        "pd.set_option('display.width', 1000)\n",
        "from scipy import stats\n",
        "print(\"Libraries Imported\")\n",
        "#Lets import and check the dataset\n",
        "#Attaching google drive\n",
        "from google.colab import drive\n",
        "drive.mount('/content/gdrive')"
      ],
      "execution_count": 0,
      "outputs": [
        {
          "output_type": "stream",
          "text": [
            "Libraries Imported\n",
            "Drive already mounted at /content/gdrive; to attempt to forcibly remount, call drive.mount(\"/content/gdrive\", force_remount=True).\n"
          ],
          "name": "stdout"
        }
      ]
    },
    {
      "cell_type": "code",
      "metadata": {
        "id": "K4PET6YmxCHP",
        "colab_type": "code",
        "colab": {}
      },
      "source": [
        "base_loc = '/content/gdrive/My Drive/upgrad/research/data/'\n",
        "data_loc = base_loc + 'data.csv'\n",
        "cluster2_loc = base_loc + 'cluster2.csv'\n",
        "cluster7_loc = base_loc + 'cluster7.csv'\n",
        "\n",
        "#Variables set\n",
        "gameplay_loc = base_loc + 'games_1_data.csv'\n",
        "achievement_loc = base_loc + 'Achievement_Percentages.csv'\n",
        "app_id_loc = base_loc + 'App_ID_Info.csv'\n",
        "group_strength_loc = base_loc + 'Groups.csv'\n",
        "groups_data = base_loc + 'Groups_2013_1.csv'\n",
        "player_summary_loc = base_loc + 'Player_Summaries_2013_1.csv'\n",
        "friends_data = base_loc + 'Friends_2013_1.csv'\n",
        "genres_loc = base_loc + 'Games_Genres.csv'\n",
        "player_dataset_loc = base_loc + 'player_dataset.csv'\n",
        "grouped_data_loc = base_loc + 'grouped_data.csv'\n",
        "app_id_merge_loc = base_loc + 'app_id_merge.csv'"
      ],
      "execution_count": 0,
      "outputs": []
    },
    {
      "cell_type": "markdown",
      "metadata": {
        "id": "ujsGCoqHxKD6",
        "colab_type": "text"
      },
      "source": [
        "# Data Load and Prep"
      ]
    },
    {
      "cell_type": "code",
      "metadata": {
        "id": "YsLfaicOxCzi",
        "colab_type": "code",
        "outputId": "9c64f963-3b83-409a-aa63-e350718d1efa",
        "colab": {
          "base_uri": "https://localhost:8080/",
          "height": 224
        }
      },
      "source": [
        "data = pd.read_csv(cluster2_loc)\n",
        "data.head()"
      ],
      "execution_count": 0,
      "outputs": [
        {
          "output_type": "execute_result",
          "data": {
            "text/html": [
              "<div>\n",
              "<style scoped>\n",
              "    .dataframe tbody tr th:only-of-type {\n",
              "        vertical-align: middle;\n",
              "    }\n",
              "\n",
              "    .dataframe tbody tr th {\n",
              "        vertical-align: top;\n",
              "    }\n",
              "\n",
              "    .dataframe thead th {\n",
              "        text-align: right;\n",
              "    }\n",
              "</style>\n",
              "<table border=\"1\" class=\"dataframe\">\n",
              "  <thead>\n",
              "    <tr style=\"text-align: right;\">\n",
              "      <th></th>\n",
              "      <th>steamid</th>\n",
              "      <th>commentpermission</th>\n",
              "      <th>realname</th>\n",
              "      <th>playtime_2weeks</th>\n",
              "      <th>playtime_forever</th>\n",
              "      <th>no_of_games</th>\n",
              "      <th>free_to_play</th>\n",
              "      <th>Price</th>\n",
              "      <th>Rating</th>\n",
              "      <th>Required_Age</th>\n",
              "      <th>Is_Multiplayer</th>\n",
              "      <th>Is_Adult</th>\n",
              "      <th>unplayed</th>\n",
              "      <th>game_age</th>\n",
              "      <th>no_of_groups</th>\n",
              "      <th>avg_friend_duration</th>\n",
              "      <th>avg_percentage_completion</th>\n",
              "      <th>total_group_connections</th>\n",
              "      <th>total_friend_connections</th>\n",
              "      <th>total_achievements</th>\n",
              "      <th>loggoff_duration</th>\n",
              "      <th>account_age</th>\n",
              "      <th>Genre_Action</th>\n",
              "      <th>Genre_Adventure</th>\n",
              "      <th>Genre_Casual</th>\n",
              "      <th>Genre_Early</th>\n",
              "      <th>Genre_Free</th>\n",
              "      <th>Genre_Indie</th>\n",
              "      <th>Genre_Massively_Multiplayer</th>\n",
              "      <th>Genre_RPG</th>\n",
              "      <th>Genre_Racing</th>\n",
              "      <th>Genre_Simulation</th>\n",
              "      <th>Genre_Sports</th>\n",
              "      <th>Genre_Strategy</th>\n",
              "      <th>Genre_Unknown</th>\n",
              "      <th>Playtime_2weeks_bygenre_Action</th>\n",
              "      <th>Playtime_2weeks_bygenre_Adventure</th>\n",
              "      <th>Playtime_2weeks_bygenre_Casual</th>\n",
              "      <th>Playtime_2weeks_bygenre_Early</th>\n",
              "      <th>Playtime_2weeks_bygenre_Free</th>\n",
              "      <th>Playtime_2weeks_bygenre_Indie</th>\n",
              "      <th>Playtime_2weeks_bygenre_Massively_Multiplayer</th>\n",
              "      <th>Playtime_2weeks_bygenre_RPG</th>\n",
              "      <th>Playtime_2weeks_bygenre_Racing</th>\n",
              "      <th>Playtime_2weeks_bygenre_Simulation</th>\n",
              "      <th>Playtime_2weeks_bygenre_Sports</th>\n",
              "      <th>Playtime_2weeks_bygenre_Strategy</th>\n",
              "      <th>Playtime_2weeks_bygenre_Unknown</th>\n",
              "      <th>Playtime_forever_bygenre_Action</th>\n",
              "      <th>Playtime_forever_bygenre_Adventure</th>\n",
              "      <th>Playtime_forever_bygenre_Casual</th>\n",
              "      <th>Playtime_forever_bygenre_Early</th>\n",
              "      <th>Playtime_forever_bygenre_Free</th>\n",
              "      <th>Playtime_forever_bygenre_Indie</th>\n",
              "      <th>Playtime_forever_bygenre_Massively_Multiplayer</th>\n",
              "      <th>Playtime_forever_bygenre_RPG</th>\n",
              "      <th>Playtime_forever_bygenre_Racing</th>\n",
              "      <th>Playtime_forever_bygenre_Simulation</th>\n",
              "      <th>Playtime_forever_bygenre_Sports</th>\n",
              "      <th>Playtime_forever_bygenre_Strategy</th>\n",
              "      <th>Playtime_forever_bygenre_Unknown</th>\n",
              "      <th>Type_demo</th>\n",
              "      <th>Type_dlc</th>\n",
              "      <th>Type_game</th>\n",
              "      <th>Type_mod</th>\n",
              "      <th>Type_Unknown</th>\n",
              "      <th>playtime_age</th>\n",
              "      <th>forever_avg</th>\n",
              "      <th>daily_monetary</th>\n",
              "      <th>achievement_per_game</th>\n",
              "      <th>freetoplay_percentage</th>\n",
              "      <th>multiplayer_percentage</th>\n",
              "      <th>adult_percentage</th>\n",
              "      <th>unplayed_percentage</th>\n",
              "      <th>Playtime_forever_total</th>\n",
              "      <th>Playtime_2weeks_total</th>\n",
              "      <th>Genre_total</th>\n",
              "      <th>ClusterID</th>\n",
              "    </tr>\n",
              "  </thead>\n",
              "  <tbody>\n",
              "    <tr>\n",
              "      <th>0</th>\n",
              "      <td>76561197960269425</td>\n",
              "      <td>0.0</td>\n",
              "      <td>1</td>\n",
              "      <td>5761.0</td>\n",
              "      <td>359095.125</td>\n",
              "      <td>222.0</td>\n",
              "      <td>9.0</td>\n",
              "      <td>2375.87</td>\n",
              "      <td>77.747748</td>\n",
              "      <td>3.905405</td>\n",
              "      <td>83.0</td>\n",
              "      <td>1.0</td>\n",
              "      <td>77.0</td>\n",
              "      <td>3914.536036</td>\n",
              "      <td>12.0</td>\n",
              "      <td>432.500000</td>\n",
              "      <td>13.789975</td>\n",
              "      <td>379079.0</td>\n",
              "      <td>58.0</td>\n",
              "      <td>11628.0</td>\n",
              "      <td>61.0</td>\n",
              "      <td>3334.5</td>\n",
              "      <td>0.347716</td>\n",
              "      <td>0.098985</td>\n",
              "      <td>0.096447</td>\n",
              "      <td>0.002538</td>\n",
              "      <td>0.007614</td>\n",
              "      <td>0.208122</td>\n",
              "      <td>0.000000</td>\n",
              "      <td>0.083756</td>\n",
              "      <td>0.007614</td>\n",
              "      <td>0.020305</td>\n",
              "      <td>0.010152</td>\n",
              "      <td>0.104061</td>\n",
              "      <td>0.012690</td>\n",
              "      <td>0.572430</td>\n",
              "      <td>0.011098</td>\n",
              "      <td>0.287675</td>\n",
              "      <td>0.0</td>\n",
              "      <td>0.000000</td>\n",
              "      <td>0.075496</td>\n",
              "      <td>0.0</td>\n",
              "      <td>0.011098</td>\n",
              "      <td>0.0</td>\n",
              "      <td>0.001168</td>\n",
              "      <td>0.041034</td>\n",
              "      <td>0.000000</td>\n",
              "      <td>0.00000</td>\n",
              "      <td>0.126480</td>\n",
              "      <td>0.034038</td>\n",
              "      <td>0.233752</td>\n",
              "      <td>0.000119</td>\n",
              "      <td>0.022556</td>\n",
              "      <td>0.496072</td>\n",
              "      <td>0.000000</td>\n",
              "      <td>0.053008</td>\n",
              "      <td>0.000063</td>\n",
              "      <td>0.000003</td>\n",
              "      <td>0.001457</td>\n",
              "      <td>0.032430</td>\n",
              "      <td>0.000021</td>\n",
              "      <td>0.0</td>\n",
              "      <td>0.004505</td>\n",
              "      <td>0.972973</td>\n",
              "      <td>0.000000</td>\n",
              "      <td>0.022523</td>\n",
              "      <td>1586</td>\n",
              "      <td>226.415590</td>\n",
              "      <td>1.498026</td>\n",
              "      <td>52.378378</td>\n",
              "      <td>0.040541</td>\n",
              "      <td>0.373874</td>\n",
              "      <td>0.004505</td>\n",
              "      <td>0.346847</td>\n",
              "      <td>2330534.0</td>\n",
              "      <td>6848.0</td>\n",
              "      <td>394</td>\n",
              "      <td>0</td>\n",
              "    </tr>\n",
              "    <tr>\n",
              "      <th>1</th>\n",
              "      <td>76561197960269501</td>\n",
              "      <td>0.0</td>\n",
              "      <td>1</td>\n",
              "      <td>6543.0</td>\n",
              "      <td>170598.000</td>\n",
              "      <td>206.0</td>\n",
              "      <td>8.0</td>\n",
              "      <td>2641.03</td>\n",
              "      <td>79.228155</td>\n",
              "      <td>4.456311</td>\n",
              "      <td>90.5</td>\n",
              "      <td>1.0</td>\n",
              "      <td>63.0</td>\n",
              "      <td>3761.116505</td>\n",
              "      <td>28.0</td>\n",
              "      <td>319.717105</td>\n",
              "      <td>13.636806</td>\n",
              "      <td>2723055.0</td>\n",
              "      <td>152.0</td>\n",
              "      <td>11298.0</td>\n",
              "      <td>61.0</td>\n",
              "      <td>3334.5</td>\n",
              "      <td>0.357724</td>\n",
              "      <td>0.075881</td>\n",
              "      <td>0.070461</td>\n",
              "      <td>0.000000</td>\n",
              "      <td>0.008130</td>\n",
              "      <td>0.197832</td>\n",
              "      <td>0.002710</td>\n",
              "      <td>0.051491</td>\n",
              "      <td>0.010840</td>\n",
              "      <td>0.051491</td>\n",
              "      <td>0.008130</td>\n",
              "      <td>0.132791</td>\n",
              "      <td>0.032520</td>\n",
              "      <td>0.064735</td>\n",
              "      <td>0.007774</td>\n",
              "      <td>0.000000</td>\n",
              "      <td>0.0</td>\n",
              "      <td>0.000000</td>\n",
              "      <td>0.041413</td>\n",
              "      <td>0.0</td>\n",
              "      <td>0.000000</td>\n",
              "      <td>0.0</td>\n",
              "      <td>0.002686</td>\n",
              "      <td>0.000000</td>\n",
              "      <td>0.030813</td>\n",
              "      <td>0.85258</td>\n",
              "      <td>0.507494</td>\n",
              "      <td>0.054859</td>\n",
              "      <td>0.005600</td>\n",
              "      <td>0.000000</td>\n",
              "      <td>0.134056</td>\n",
              "      <td>0.059518</td>\n",
              "      <td>0.000077</td>\n",
              "      <td>0.074155</td>\n",
              "      <td>0.002563</td>\n",
              "      <td>0.000066</td>\n",
              "      <td>0.000084</td>\n",
              "      <td>0.112939</td>\n",
              "      <td>0.048590</td>\n",
              "      <td>0.0</td>\n",
              "      <td>0.004854</td>\n",
              "      <td>0.927184</td>\n",
              "      <td>0.009709</td>\n",
              "      <td>0.058252</td>\n",
              "      <td>1586</td>\n",
              "      <td>107.564943</td>\n",
              "      <td>1.665214</td>\n",
              "      <td>54.844660</td>\n",
              "      <td>0.038835</td>\n",
              "      <td>0.439320</td>\n",
              "      <td>0.004854</td>\n",
              "      <td>0.305825</td>\n",
              "      <td>287156.0</td>\n",
              "      <td>7075.0</td>\n",
              "      <td>369</td>\n",
              "      <td>0</td>\n",
              "    </tr>\n",
              "    <tr>\n",
              "      <th>2</th>\n",
              "      <td>76561197960269721</td>\n",
              "      <td>0.0</td>\n",
              "      <td>0</td>\n",
              "      <td>10727.0</td>\n",
              "      <td>359095.125</td>\n",
              "      <td>75.0</td>\n",
              "      <td>5.0</td>\n",
              "      <td>917.30</td>\n",
              "      <td>80.480000</td>\n",
              "      <td>2.480000</td>\n",
              "      <td>38.0</td>\n",
              "      <td>0.0</td>\n",
              "      <td>37.0</td>\n",
              "      <td>4172.626667</td>\n",
              "      <td>4.0</td>\n",
              "      <td>846.600000</td>\n",
              "      <td>14.620819</td>\n",
              "      <td>5133.0</td>\n",
              "      <td>5.0</td>\n",
              "      <td>4698.0</td>\n",
              "      <td>80.0</td>\n",
              "      <td>3334.5</td>\n",
              "      <td>0.347107</td>\n",
              "      <td>0.099174</td>\n",
              "      <td>0.016529</td>\n",
              "      <td>0.000000</td>\n",
              "      <td>0.024793</td>\n",
              "      <td>0.115702</td>\n",
              "      <td>0.008264</td>\n",
              "      <td>0.181818</td>\n",
              "      <td>0.000000</td>\n",
              "      <td>0.024793</td>\n",
              "      <td>0.000000</td>\n",
              "      <td>0.165289</td>\n",
              "      <td>0.016529</td>\n",
              "      <td>0.000052</td>\n",
              "      <td>0.000052</td>\n",
              "      <td>0.000000</td>\n",
              "      <td>0.0</td>\n",
              "      <td>0.000000</td>\n",
              "      <td>0.000052</td>\n",
              "      <td>0.0</td>\n",
              "      <td>0.000052</td>\n",
              "      <td>0.0</td>\n",
              "      <td>0.000157</td>\n",
              "      <td>0.000000</td>\n",
              "      <td>0.999635</td>\n",
              "      <td>0.00000</td>\n",
              "      <td>0.261675</td>\n",
              "      <td>0.052906</td>\n",
              "      <td>0.000556</td>\n",
              "      <td>0.000000</td>\n",
              "      <td>0.025541</td>\n",
              "      <td>0.065929</td>\n",
              "      <td>0.021525</td>\n",
              "      <td>0.131212</td>\n",
              "      <td>0.000000</td>\n",
              "      <td>0.000006</td>\n",
              "      <td>0.000000</td>\n",
              "      <td>0.409037</td>\n",
              "      <td>0.031613</td>\n",
              "      <td>0.0</td>\n",
              "      <td>0.000000</td>\n",
              "      <td>0.960000</td>\n",
              "      <td>0.013333</td>\n",
              "      <td>0.026667</td>\n",
              "      <td>1586</td>\n",
              "      <td>226.415590</td>\n",
              "      <td>0.578373</td>\n",
              "      <td>62.640000</td>\n",
              "      <td>0.066667</td>\n",
              "      <td>0.506667</td>\n",
              "      <td>0.000000</td>\n",
              "      <td>0.493333</td>\n",
              "      <td>503651.0</td>\n",
              "      <td>19154.0</td>\n",
              "      <td>121</td>\n",
              "      <td>1</td>\n",
              "    </tr>\n",
              "    <tr>\n",
              "      <th>3</th>\n",
              "      <td>76561197960269752</td>\n",
              "      <td>0.0</td>\n",
              "      <td>1</td>\n",
              "      <td>8060.0</td>\n",
              "      <td>102719.000</td>\n",
              "      <td>20.0</td>\n",
              "      <td>2.0</td>\n",
              "      <td>264.82</td>\n",
              "      <td>83.250000</td>\n",
              "      <td>5.100000</td>\n",
              "      <td>14.0</td>\n",
              "      <td>0.0</td>\n",
              "      <td>8.0</td>\n",
              "      <td>4728.261932</td>\n",
              "      <td>15.0</td>\n",
              "      <td>347.750000</td>\n",
              "      <td>14.846449</td>\n",
              "      <td>286035.0</td>\n",
              "      <td>116.0</td>\n",
              "      <td>1556.0</td>\n",
              "      <td>81.0</td>\n",
              "      <td>3334.5</td>\n",
              "      <td>0.629630</td>\n",
              "      <td>0.000000</td>\n",
              "      <td>0.000000</td>\n",
              "      <td>0.000000</td>\n",
              "      <td>0.074074</td>\n",
              "      <td>0.000000</td>\n",
              "      <td>0.000000</td>\n",
              "      <td>0.259259</td>\n",
              "      <td>0.000000</td>\n",
              "      <td>0.000000</td>\n",
              "      <td>0.000000</td>\n",
              "      <td>0.037037</td>\n",
              "      <td>0.000000</td>\n",
              "      <td>0.962273</td>\n",
              "      <td>0.000000</td>\n",
              "      <td>0.000000</td>\n",
              "      <td>0.0</td>\n",
              "      <td>0.018863</td>\n",
              "      <td>0.000000</td>\n",
              "      <td>0.0</td>\n",
              "      <td>0.000000</td>\n",
              "      <td>0.0</td>\n",
              "      <td>0.000000</td>\n",
              "      <td>0.000000</td>\n",
              "      <td>0.018863</td>\n",
              "      <td>0.00000</td>\n",
              "      <td>0.523047</td>\n",
              "      <td>0.000000</td>\n",
              "      <td>0.000000</td>\n",
              "      <td>0.000000</td>\n",
              "      <td>0.208763</td>\n",
              "      <td>0.000000</td>\n",
              "      <td>0.000000</td>\n",
              "      <td>0.066787</td>\n",
              "      <td>0.000000</td>\n",
              "      <td>0.000000</td>\n",
              "      <td>0.000000</td>\n",
              "      <td>0.201402</td>\n",
              "      <td>0.000000</td>\n",
              "      <td>0.0</td>\n",
              "      <td>0.000000</td>\n",
              "      <td>1.000000</td>\n",
              "      <td>0.000000</td>\n",
              "      <td>0.000000</td>\n",
              "      <td>1586</td>\n",
              "      <td>64.766078</td>\n",
              "      <td>0.166974</td>\n",
              "      <td>77.800000</td>\n",
              "      <td>0.100000</td>\n",
              "      <td>0.700000</td>\n",
              "      <td>0.000000</td>\n",
              "      <td>0.400000</td>\n",
              "      <td>180693.0</td>\n",
              "      <td>8376.0</td>\n",
              "      <td>27</td>\n",
              "      <td>1</td>\n",
              "    </tr>\n",
              "    <tr>\n",
              "      <th>4</th>\n",
              "      <td>76561197960270225</td>\n",
              "      <td>0.0</td>\n",
              "      <td>1</td>\n",
              "      <td>8833.0</td>\n",
              "      <td>157599.000</td>\n",
              "      <td>187.0</td>\n",
              "      <td>6.0</td>\n",
              "      <td>1997.19</td>\n",
              "      <td>78.914439</td>\n",
              "      <td>2.989305</td>\n",
              "      <td>75.0</td>\n",
              "      <td>0.0</td>\n",
              "      <td>80.0</td>\n",
              "      <td>3843.850267</td>\n",
              "      <td>3.0</td>\n",
              "      <td>105.487805</td>\n",
              "      <td>13.244114</td>\n",
              "      <td>795622.0</td>\n",
              "      <td>41.0</td>\n",
              "      <td>11035.0</td>\n",
              "      <td>80.0</td>\n",
              "      <td>3334.5</td>\n",
              "      <td>0.342466</td>\n",
              "      <td>0.071918</td>\n",
              "      <td>0.058219</td>\n",
              "      <td>0.000000</td>\n",
              "      <td>0.006849</td>\n",
              "      <td>0.147260</td>\n",
              "      <td>0.000000</td>\n",
              "      <td>0.085616</td>\n",
              "      <td>0.010274</td>\n",
              "      <td>0.047945</td>\n",
              "      <td>0.003425</td>\n",
              "      <td>0.140411</td>\n",
              "      <td>0.085616</td>\n",
              "      <td>0.380752</td>\n",
              "      <td>0.000000</td>\n",
              "      <td>0.000000</td>\n",
              "      <td>0.0</td>\n",
              "      <td>0.222859</td>\n",
              "      <td>0.000000</td>\n",
              "      <td>0.0</td>\n",
              "      <td>0.157892</td>\n",
              "      <td>0.0</td>\n",
              "      <td>0.000627</td>\n",
              "      <td>0.000000</td>\n",
              "      <td>0.237869</td>\n",
              "      <td>0.00000</td>\n",
              "      <td>0.290993</td>\n",
              "      <td>0.017525</td>\n",
              "      <td>0.016589</td>\n",
              "      <td>0.000000</td>\n",
              "      <td>0.230949</td>\n",
              "      <td>0.031191</td>\n",
              "      <td>0.000000</td>\n",
              "      <td>0.066627</td>\n",
              "      <td>0.000356</td>\n",
              "      <td>0.000038</td>\n",
              "      <td>0.000000</td>\n",
              "      <td>0.334901</td>\n",
              "      <td>0.010831</td>\n",
              "      <td>0.0</td>\n",
              "      <td>0.000000</td>\n",
              "      <td>0.860963</td>\n",
              "      <td>0.005348</td>\n",
              "      <td>0.133690</td>\n",
              "      <td>1586</td>\n",
              "      <td>99.368852</td>\n",
              "      <td>1.259262</td>\n",
              "      <td>59.010695</td>\n",
              "      <td>0.032086</td>\n",
              "      <td>0.401070</td>\n",
              "      <td>0.000000</td>\n",
              "      <td>0.427807</td>\n",
              "      <td>370614.0</td>\n",
              "      <td>22319.0</td>\n",
              "      <td>292</td>\n",
              "      <td>0</td>\n",
              "    </tr>\n",
              "  </tbody>\n",
              "</table>\n",
              "</div>"
            ],
            "text/plain": [
              "             steamid  commentpermission  realname  playtime_2weeks  playtime_forever  no_of_games  free_to_play    Price     Rating  Required_Age  Is_Multiplayer  Is_Adult  unplayed     game_age  no_of_groups  avg_friend_duration  avg_percentage_completion  total_group_connections  total_friend_connections  total_achievements  loggoff_duration  account_age  Genre_Action  Genre_Adventure  Genre_Casual  Genre_Early  Genre_Free  Genre_Indie  Genre_Massively_Multiplayer  Genre_RPG  Genre_Racing  Genre_Simulation  Genre_Sports  Genre_Strategy  Genre_Unknown  Playtime_2weeks_bygenre_Action  Playtime_2weeks_bygenre_Adventure  Playtime_2weeks_bygenre_Casual  Playtime_2weeks_bygenre_Early  Playtime_2weeks_bygenre_Free  Playtime_2weeks_bygenre_Indie  Playtime_2weeks_bygenre_Massively_Multiplayer  Playtime_2weeks_bygenre_RPG  Playtime_2weeks_bygenre_Racing  Playtime_2weeks_bygenre_Simulation  Playtime_2weeks_bygenre_Sports  Playtime_2weeks_bygenre_Strategy  Playtime_2weeks_bygenre_Unknown  \\\n",
              "0  76561197960269425                0.0         1           5761.0        359095.125        222.0           9.0  2375.87  77.747748      3.905405            83.0       1.0      77.0  3914.536036          12.0           432.500000                  13.789975                 379079.0                      58.0             11628.0              61.0       3334.5      0.347716         0.098985      0.096447     0.002538    0.007614     0.208122                     0.000000   0.083756      0.007614          0.020305      0.010152        0.104061       0.012690                        0.572430                           0.011098                        0.287675                            0.0                      0.000000                       0.075496                                            0.0                     0.011098                             0.0                            0.001168                        0.041034                          0.000000                          0.00000   \n",
              "1  76561197960269501                0.0         1           6543.0        170598.000        206.0           8.0  2641.03  79.228155      4.456311            90.5       1.0      63.0  3761.116505          28.0           319.717105                  13.636806                2723055.0                     152.0             11298.0              61.0       3334.5      0.357724         0.075881      0.070461     0.000000    0.008130     0.197832                     0.002710   0.051491      0.010840          0.051491      0.008130        0.132791       0.032520                        0.064735                           0.007774                        0.000000                            0.0                      0.000000                       0.041413                                            0.0                     0.000000                             0.0                            0.002686                        0.000000                          0.030813                          0.85258   \n",
              "2  76561197960269721                0.0         0          10727.0        359095.125         75.0           5.0   917.30  80.480000      2.480000            38.0       0.0      37.0  4172.626667           4.0           846.600000                  14.620819                   5133.0                       5.0              4698.0              80.0       3334.5      0.347107         0.099174      0.016529     0.000000    0.024793     0.115702                     0.008264   0.181818      0.000000          0.024793      0.000000        0.165289       0.016529                        0.000052                           0.000052                        0.000000                            0.0                      0.000000                       0.000052                                            0.0                     0.000052                             0.0                            0.000157                        0.000000                          0.999635                          0.00000   \n",
              "3  76561197960269752                0.0         1           8060.0        102719.000         20.0           2.0   264.82  83.250000      5.100000            14.0       0.0       8.0  4728.261932          15.0           347.750000                  14.846449                 286035.0                     116.0              1556.0              81.0       3334.5      0.629630         0.000000      0.000000     0.000000    0.074074     0.000000                     0.000000   0.259259      0.000000          0.000000      0.000000        0.037037       0.000000                        0.962273                           0.000000                        0.000000                            0.0                      0.018863                       0.000000                                            0.0                     0.000000                             0.0                            0.000000                        0.000000                          0.018863                          0.00000   \n",
              "4  76561197960270225                0.0         1           8833.0        157599.000        187.0           6.0  1997.19  78.914439      2.989305            75.0       0.0      80.0  3843.850267           3.0           105.487805                  13.244114                 795622.0                      41.0             11035.0              80.0       3334.5      0.342466         0.071918      0.058219     0.000000    0.006849     0.147260                     0.000000   0.085616      0.010274          0.047945      0.003425        0.140411       0.085616                        0.380752                           0.000000                        0.000000                            0.0                      0.222859                       0.000000                                            0.0                     0.157892                             0.0                            0.000627                        0.000000                          0.237869                          0.00000   \n",
              "\n",
              "   Playtime_forever_bygenre_Action  Playtime_forever_bygenre_Adventure  Playtime_forever_bygenre_Casual  Playtime_forever_bygenre_Early  Playtime_forever_bygenre_Free  Playtime_forever_bygenre_Indie  Playtime_forever_bygenre_Massively_Multiplayer  Playtime_forever_bygenre_RPG  Playtime_forever_bygenre_Racing  Playtime_forever_bygenre_Simulation  Playtime_forever_bygenre_Sports  Playtime_forever_bygenre_Strategy  Playtime_forever_bygenre_Unknown  Type_demo  Type_dlc  Type_game  Type_mod  Type_Unknown  playtime_age  forever_avg  daily_monetary  achievement_per_game  freetoplay_percentage  multiplayer_percentage  adult_percentage  unplayed_percentage  Playtime_forever_total  Playtime_2weeks_total  Genre_total  ClusterID  \n",
              "0                         0.126480                            0.034038                         0.233752                        0.000119                       0.022556                        0.496072                                        0.000000                      0.053008                         0.000063                             0.000003                         0.001457                           0.032430                          0.000021        0.0  0.004505   0.972973  0.000000      0.022523          1586   226.415590        1.498026             52.378378               0.040541                0.373874          0.004505             0.346847               2330534.0                 6848.0          394          0  \n",
              "1                         0.507494                            0.054859                         0.005600                        0.000000                       0.134056                        0.059518                                        0.000077                      0.074155                         0.002563                             0.000066                         0.000084                           0.112939                          0.048590        0.0  0.004854   0.927184  0.009709      0.058252          1586   107.564943        1.665214             54.844660               0.038835                0.439320          0.004854             0.305825                287156.0                 7075.0          369          0  \n",
              "2                         0.261675                            0.052906                         0.000556                        0.000000                       0.025541                        0.065929                                        0.021525                      0.131212                         0.000000                             0.000006                         0.000000                           0.409037                          0.031613        0.0  0.000000   0.960000  0.013333      0.026667          1586   226.415590        0.578373             62.640000               0.066667                0.506667          0.000000             0.493333                503651.0                19154.0          121          1  \n",
              "3                         0.523047                            0.000000                         0.000000                        0.000000                       0.208763                        0.000000                                        0.000000                      0.066787                         0.000000                             0.000000                         0.000000                           0.201402                          0.000000        0.0  0.000000   1.000000  0.000000      0.000000          1586    64.766078        0.166974             77.800000               0.100000                0.700000          0.000000             0.400000                180693.0                 8376.0           27          1  \n",
              "4                         0.290993                            0.017525                         0.016589                        0.000000                       0.230949                        0.031191                                        0.000000                      0.066627                         0.000356                             0.000038                         0.000000                           0.334901                          0.010831        0.0  0.000000   0.860963  0.005348      0.133690          1586    99.368852        1.259262             59.010695               0.032086                0.401070          0.000000             0.427807                370614.0                22319.0          292          0  "
            ]
          },
          "metadata": {
            "tags": []
          },
          "execution_count": 4
        }
      ]
    },
    {
      "cell_type": "code",
      "metadata": {
        "id": "7EYYxDixOdm6",
        "colab_type": "code",
        "colab": {}
      },
      "source": [
        "data.ClusterID = data.ClusterID.apply(lambda x: 2 if x==0 else 1)"
      ],
      "execution_count": 0,
      "outputs": []
    },
    {
      "cell_type": "code",
      "metadata": {
        "id": "hi2iPSH1EjeY",
        "colab_type": "code",
        "outputId": "87b75266-ef37-4b04-9cdc-174e06999083",
        "colab": {
          "base_uri": "https://localhost:8080/",
          "height": 142
        }
      },
      "source": [
        "#Counts\n",
        "data[['steamid','ClusterID']].groupby(by='ClusterID').count()\n",
        "\n",
        "#38k - 1 vs 22k - 2"
      ],
      "execution_count": 0,
      "outputs": [
        {
          "output_type": "execute_result",
          "data": {
            "text/html": [
              "<div>\n",
              "<style scoped>\n",
              "    .dataframe tbody tr th:only-of-type {\n",
              "        vertical-align: middle;\n",
              "    }\n",
              "\n",
              "    .dataframe tbody tr th {\n",
              "        vertical-align: top;\n",
              "    }\n",
              "\n",
              "    .dataframe thead th {\n",
              "        text-align: right;\n",
              "    }\n",
              "</style>\n",
              "<table border=\"1\" class=\"dataframe\">\n",
              "  <thead>\n",
              "    <tr style=\"text-align: right;\">\n",
              "      <th></th>\n",
              "      <th>steamid</th>\n",
              "    </tr>\n",
              "    <tr>\n",
              "      <th>ClusterID</th>\n",
              "      <th></th>\n",
              "    </tr>\n",
              "  </thead>\n",
              "  <tbody>\n",
              "    <tr>\n",
              "      <th>1</th>\n",
              "      <td>38166</td>\n",
              "    </tr>\n",
              "    <tr>\n",
              "      <th>2</th>\n",
              "      <td>22192</td>\n",
              "    </tr>\n",
              "  </tbody>\n",
              "</table>\n",
              "</div>"
            ],
            "text/plain": [
              "           steamid\n",
              "ClusterID         \n",
              "1            38166\n",
              "2            22192"
            ]
          },
          "metadata": {
            "tags": []
          },
          "execution_count": 6
        }
      ]
    },
    {
      "cell_type": "code",
      "metadata": {
        "id": "Lb_xk12nyLmv",
        "colab_type": "code",
        "outputId": "18e4f1e1-74a1-419e-b0e8-79a7328225ce",
        "colab": {
          "base_uri": "https://localhost:8080/",
          "height": 131
        }
      },
      "source": [
        "cluster_means = pd.DataFrame()\n",
        "\n",
        "for columns in data.drop(['steamid'],axis=1).columns[:len(data.columns)-2]:\n",
        "  a = pd.DataFrame(data.groupby([\"ClusterID\"])[columns].mean())\n",
        "  cluster_means = pd.concat([cluster_means,a],axis=1)\n",
        "\n",
        "cluster_means.reset_index(level=0, inplace=True)\n",
        "cluster_means.head()"
      ],
      "execution_count": 0,
      "outputs": [
        {
          "output_type": "execute_result",
          "data": {
            "text/html": [
              "<div>\n",
              "<style scoped>\n",
              "    .dataframe tbody tr th:only-of-type {\n",
              "        vertical-align: middle;\n",
              "    }\n",
              "\n",
              "    .dataframe tbody tr th {\n",
              "        vertical-align: top;\n",
              "    }\n",
              "\n",
              "    .dataframe thead th {\n",
              "        text-align: right;\n",
              "    }\n",
              "</style>\n",
              "<table border=\"1\" class=\"dataframe\">\n",
              "  <thead>\n",
              "    <tr style=\"text-align: right;\">\n",
              "      <th></th>\n",
              "      <th>ClusterID</th>\n",
              "      <th>commentpermission</th>\n",
              "      <th>realname</th>\n",
              "      <th>playtime_2weeks</th>\n",
              "      <th>playtime_forever</th>\n",
              "      <th>no_of_games</th>\n",
              "      <th>free_to_play</th>\n",
              "      <th>Price</th>\n",
              "      <th>Rating</th>\n",
              "      <th>Required_Age</th>\n",
              "      <th>Is_Multiplayer</th>\n",
              "      <th>Is_Adult</th>\n",
              "      <th>unplayed</th>\n",
              "      <th>game_age</th>\n",
              "      <th>no_of_groups</th>\n",
              "      <th>avg_friend_duration</th>\n",
              "      <th>avg_percentage_completion</th>\n",
              "      <th>total_group_connections</th>\n",
              "      <th>total_friend_connections</th>\n",
              "      <th>total_achievements</th>\n",
              "      <th>loggoff_duration</th>\n",
              "      <th>account_age</th>\n",
              "      <th>Genre_Action</th>\n",
              "      <th>Genre_Adventure</th>\n",
              "      <th>Genre_Casual</th>\n",
              "      <th>Genre_Early</th>\n",
              "      <th>Genre_Free</th>\n",
              "      <th>Genre_Indie</th>\n",
              "      <th>Genre_Massively_Multiplayer</th>\n",
              "      <th>Genre_RPG</th>\n",
              "      <th>Genre_Racing</th>\n",
              "      <th>Genre_Simulation</th>\n",
              "      <th>Genre_Sports</th>\n",
              "      <th>Genre_Strategy</th>\n",
              "      <th>Genre_Unknown</th>\n",
              "      <th>Playtime_2weeks_bygenre_Action</th>\n",
              "      <th>Playtime_2weeks_bygenre_Adventure</th>\n",
              "      <th>Playtime_2weeks_bygenre_Casual</th>\n",
              "      <th>Playtime_2weeks_bygenre_Early</th>\n",
              "      <th>Playtime_2weeks_bygenre_Free</th>\n",
              "      <th>Playtime_2weeks_bygenre_Indie</th>\n",
              "      <th>Playtime_2weeks_bygenre_Massively_Multiplayer</th>\n",
              "      <th>Playtime_2weeks_bygenre_RPG</th>\n",
              "      <th>Playtime_2weeks_bygenre_Racing</th>\n",
              "      <th>Playtime_2weeks_bygenre_Simulation</th>\n",
              "      <th>Playtime_2weeks_bygenre_Sports</th>\n",
              "      <th>Playtime_2weeks_bygenre_Strategy</th>\n",
              "      <th>Playtime_2weeks_bygenre_Unknown</th>\n",
              "      <th>Playtime_forever_bygenre_Action</th>\n",
              "      <th>Playtime_forever_bygenre_Adventure</th>\n",
              "      <th>Playtime_forever_bygenre_Casual</th>\n",
              "      <th>Playtime_forever_bygenre_Early</th>\n",
              "      <th>Playtime_forever_bygenre_Free</th>\n",
              "      <th>Playtime_forever_bygenre_Indie</th>\n",
              "      <th>Playtime_forever_bygenre_Massively_Multiplayer</th>\n",
              "      <th>Playtime_forever_bygenre_RPG</th>\n",
              "      <th>Playtime_forever_bygenre_Racing</th>\n",
              "      <th>Playtime_forever_bygenre_Simulation</th>\n",
              "      <th>Playtime_forever_bygenre_Sports</th>\n",
              "      <th>Playtime_forever_bygenre_Strategy</th>\n",
              "      <th>Playtime_forever_bygenre_Unknown</th>\n",
              "      <th>Type_demo</th>\n",
              "      <th>Type_dlc</th>\n",
              "      <th>Type_game</th>\n",
              "      <th>Type_mod</th>\n",
              "      <th>Type_Unknown</th>\n",
              "      <th>playtime_age</th>\n",
              "      <th>forever_avg</th>\n",
              "      <th>daily_monetary</th>\n",
              "      <th>achievement_per_game</th>\n",
              "      <th>freetoplay_percentage</th>\n",
              "      <th>multiplayer_percentage</th>\n",
              "      <th>adult_percentage</th>\n",
              "      <th>unplayed_percentage</th>\n",
              "      <th>Playtime_forever_total</th>\n",
              "      <th>Playtime_2weeks_total</th>\n",
              "      <th>Genre_total</th>\n",
              "    </tr>\n",
              "  </thead>\n",
              "  <tbody>\n",
              "    <tr>\n",
              "      <th>0</th>\n",
              "      <td>1</td>\n",
              "      <td>0.0</td>\n",
              "      <td>0.461589</td>\n",
              "      <td>6808.314416</td>\n",
              "      <td>113027.445940</td>\n",
              "      <td>40.099434</td>\n",
              "      <td>2.262275</td>\n",
              "      <td>566.441844</td>\n",
              "      <td>80.088563</td>\n",
              "      <td>4.488440</td>\n",
              "      <td>19.540769</td>\n",
              "      <td>0.332482</td>\n",
              "      <td>11.585600</td>\n",
              "      <td>3732.864753</td>\n",
              "      <td>4.691964</td>\n",
              "      <td>324.657841</td>\n",
              "      <td>14.524801</td>\n",
              "      <td>3.943484e+05</td>\n",
              "      <td>34.789813</td>\n",
              "      <td>2557.660090</td>\n",
              "      <td>135.095556</td>\n",
              "      <td>1283.870395</td>\n",
              "      <td>0.423530</td>\n",
              "      <td>0.076687</td>\n",
              "      <td>0.017535</td>\n",
              "      <td>0.000313</td>\n",
              "      <td>0.035797</td>\n",
              "      <td>0.091750</td>\n",
              "      <td>0.003474</td>\n",
              "      <td>0.092317</td>\n",
              "      <td>0.005973</td>\n",
              "      <td>0.043761</td>\n",
              "      <td>0.004813</td>\n",
              "      <td>0.140782</td>\n",
              "      <td>0.06327</td>\n",
              "      <td>0.330164</td>\n",
              "      <td>0.038417</td>\n",
              "      <td>0.005098</td>\n",
              "      <td>0.000246</td>\n",
              "      <td>0.134284</td>\n",
              "      <td>0.081156</td>\n",
              "      <td>0.010919</td>\n",
              "      <td>0.121479</td>\n",
              "      <td>0.002746</td>\n",
              "      <td>0.001251</td>\n",
              "      <td>0.003101</td>\n",
              "      <td>0.228033</td>\n",
              "      <td>0.043105</td>\n",
              "      <td>0.377764</td>\n",
              "      <td>0.041416</td>\n",
              "      <td>0.004808</td>\n",
              "      <td>0.000139</td>\n",
              "      <td>0.135214</td>\n",
              "      <td>0.070395</td>\n",
              "      <td>0.007928</td>\n",
              "      <td>0.115897</td>\n",
              "      <td>0.002279</td>\n",
              "      <td>0.000079</td>\n",
              "      <td>0.002145</td>\n",
              "      <td>0.201684</td>\n",
              "      <td>0.04025</td>\n",
              "      <td>0.000501</td>\n",
              "      <td>0.003339</td>\n",
              "      <td>0.897383</td>\n",
              "      <td>0.004882</td>\n",
              "      <td>0.093894</td>\n",
              "      <td>1070.037494</td>\n",
              "      <td>115.080928</td>\n",
              "      <td>0.585916</td>\n",
              "      <td>67.793393</td>\n",
              "      <td>0.089566</td>\n",
              "      <td>0.545922</td>\n",
              "      <td>0.007298</td>\n",
              "      <td>0.264781</td>\n",
              "      <td>205787.668448</td>\n",
              "      <td>14074.980244</td>\n",
              "      <td>65.173610</td>\n",
              "    </tr>\n",
              "    <tr>\n",
              "      <th>1</th>\n",
              "      <td>2</td>\n",
              "      <td>0.0</td>\n",
              "      <td>0.726613</td>\n",
              "      <td>6895.791637</td>\n",
              "      <td>174673.138992</td>\n",
              "      <td>133.410463</td>\n",
              "      <td>5.071828</td>\n",
              "      <td>1773.631934</td>\n",
              "      <td>78.590531</td>\n",
              "      <td>4.254661</td>\n",
              "      <td>53.429119</td>\n",
              "      <td>0.960549</td>\n",
              "      <td>45.610896</td>\n",
              "      <td>3716.777518</td>\n",
              "      <td>14.200027</td>\n",
              "      <td>416.765920</td>\n",
              "      <td>14.284000</td>\n",
              "      <td>1.796843e+06</td>\n",
              "      <td>68.512031</td>\n",
              "      <td>7527.327596</td>\n",
              "      <td>117.831471</td>\n",
              "      <td>1543.859229</td>\n",
              "      <td>0.362191</td>\n",
              "      <td>0.103207</td>\n",
              "      <td>0.043331</td>\n",
              "      <td>0.000452</td>\n",
              "      <td>0.012264</td>\n",
              "      <td>0.153763</td>\n",
              "      <td>0.001679</td>\n",
              "      <td>0.092675</td>\n",
              "      <td>0.008867</td>\n",
              "      <td>0.035880</td>\n",
              "      <td>0.007681</td>\n",
              "      <td>0.123552</td>\n",
              "      <td>0.05446</td>\n",
              "      <td>0.333365</td>\n",
              "      <td>0.054999</td>\n",
              "      <td>0.012009</td>\n",
              "      <td>0.000298</td>\n",
              "      <td>0.134142</td>\n",
              "      <td>0.103496</td>\n",
              "      <td>0.013180</td>\n",
              "      <td>0.123938</td>\n",
              "      <td>0.003969</td>\n",
              "      <td>0.001079</td>\n",
              "      <td>0.003990</td>\n",
              "      <td>0.187520</td>\n",
              "      <td>0.028015</td>\n",
              "      <td>0.392321</td>\n",
              "      <td>0.053419</td>\n",
              "      <td>0.010496</td>\n",
              "      <td>0.000111</td>\n",
              "      <td>0.143339</td>\n",
              "      <td>0.090120</td>\n",
              "      <td>0.008487</td>\n",
              "      <td>0.120552</td>\n",
              "      <td>0.003179</td>\n",
              "      <td>0.000051</td>\n",
              "      <td>0.002905</td>\n",
              "      <td>0.148121</td>\n",
              "      <td>0.02690</td>\n",
              "      <td>0.000888</td>\n",
              "      <td>0.004547</td>\n",
              "      <td>1.011331</td>\n",
              "      <td>0.003695</td>\n",
              "      <td>0.094648</td>\n",
              "      <td>1232.555335</td>\n",
              "      <td>147.811402</td>\n",
              "      <td>1.597294</td>\n",
              "      <td>58.010844</td>\n",
              "      <td>0.044035</td>\n",
              "      <td>0.422080</td>\n",
              "      <td>0.007175</td>\n",
              "      <td>0.334978</td>\n",
              "      <td>330108.845755</td>\n",
              "      <td>14924.595665</td>\n",
              "      <td>270.122026</td>\n",
              "    </tr>\n",
              "  </tbody>\n",
              "</table>\n",
              "</div>"
            ],
            "text/plain": [
              "   ClusterID  commentpermission  realname  playtime_2weeks  playtime_forever  no_of_games  free_to_play        Price     Rating  Required_Age  Is_Multiplayer  Is_Adult   unplayed     game_age  no_of_groups  avg_friend_duration  avg_percentage_completion  total_group_connections  total_friend_connections  total_achievements  loggoff_duration  account_age  Genre_Action  Genre_Adventure  Genre_Casual  Genre_Early  Genre_Free  Genre_Indie  Genre_Massively_Multiplayer  Genre_RPG  Genre_Racing  Genre_Simulation  Genre_Sports  Genre_Strategy  Genre_Unknown  Playtime_2weeks_bygenre_Action  Playtime_2weeks_bygenre_Adventure  Playtime_2weeks_bygenre_Casual  Playtime_2weeks_bygenre_Early  Playtime_2weeks_bygenre_Free  Playtime_2weeks_bygenre_Indie  Playtime_2weeks_bygenre_Massively_Multiplayer  Playtime_2weeks_bygenre_RPG  Playtime_2weeks_bygenre_Racing  Playtime_2weeks_bygenre_Simulation  Playtime_2weeks_bygenre_Sports  Playtime_2weeks_bygenre_Strategy  Playtime_2weeks_bygenre_Unknown  \\\n",
              "0          1                0.0  0.461589      6808.314416     113027.445940    40.099434      2.262275   566.441844  80.088563      4.488440       19.540769  0.332482  11.585600  3732.864753      4.691964           324.657841                  14.524801             3.943484e+05                 34.789813         2557.660090        135.095556  1283.870395      0.423530         0.076687      0.017535     0.000313    0.035797     0.091750                     0.003474   0.092317      0.005973          0.043761      0.004813        0.140782        0.06327                        0.330164                           0.038417                        0.005098                       0.000246                      0.134284                       0.081156                                       0.010919                     0.121479                        0.002746                            0.001251                        0.003101                          0.228033                         0.043105   \n",
              "1          2                0.0  0.726613      6895.791637     174673.138992   133.410463      5.071828  1773.631934  78.590531      4.254661       53.429119  0.960549  45.610896  3716.777518     14.200027           416.765920                  14.284000             1.796843e+06                 68.512031         7527.327596        117.831471  1543.859229      0.362191         0.103207      0.043331     0.000452    0.012264     0.153763                     0.001679   0.092675      0.008867          0.035880      0.007681        0.123552        0.05446                        0.333365                           0.054999                        0.012009                       0.000298                      0.134142                       0.103496                                       0.013180                     0.123938                        0.003969                            0.001079                        0.003990                          0.187520                         0.028015   \n",
              "\n",
              "   Playtime_forever_bygenre_Action  Playtime_forever_bygenre_Adventure  Playtime_forever_bygenre_Casual  Playtime_forever_bygenre_Early  Playtime_forever_bygenre_Free  Playtime_forever_bygenre_Indie  Playtime_forever_bygenre_Massively_Multiplayer  Playtime_forever_bygenre_RPG  Playtime_forever_bygenre_Racing  Playtime_forever_bygenre_Simulation  Playtime_forever_bygenre_Sports  Playtime_forever_bygenre_Strategy  Playtime_forever_bygenre_Unknown  Type_demo  Type_dlc  Type_game  Type_mod  Type_Unknown  playtime_age  forever_avg  daily_monetary  achievement_per_game  freetoplay_percentage  multiplayer_percentage  adult_percentage  unplayed_percentage  Playtime_forever_total  Playtime_2weeks_total  Genre_total  \n",
              "0                         0.377764                            0.041416                         0.004808                        0.000139                       0.135214                        0.070395                                        0.007928                      0.115897                         0.002279                             0.000079                         0.002145                           0.201684                           0.04025   0.000501  0.003339   0.897383  0.004882      0.093894   1070.037494   115.080928        0.585916             67.793393               0.089566                0.545922          0.007298             0.264781           205787.668448           14074.980244    65.173610  \n",
              "1                         0.392321                            0.053419                         0.010496                        0.000111                       0.143339                        0.090120                                        0.008487                      0.120552                         0.003179                             0.000051                         0.002905                           0.148121                           0.02690   0.000888  0.004547   1.011331  0.003695      0.094648   1232.555335   147.811402        1.597294             58.010844               0.044035                0.422080          0.007175             0.334978           330108.845755           14924.595665   270.122026  "
            ]
          },
          "metadata": {
            "tags": []
          },
          "execution_count": 7
        }
      ]
    },
    {
      "cell_type": "code",
      "metadata": {
        "id": "mIvDDSbMJzmR",
        "colab_type": "code",
        "colab": {}
      },
      "source": [
        ""
      ],
      "execution_count": 0,
      "outputs": []
    },
    {
      "cell_type": "markdown",
      "metadata": {
        "id": "_ZG-TvgGxtOA",
        "colab_type": "text"
      },
      "source": [
        "# EDA"
      ]
    },
    {
      "cell_type": "markdown",
      "metadata": {
        "id": "Le18l7mFx7sX",
        "colab_type": "text"
      },
      "source": [
        "## Key differences and similarities in the clusters"
      ]
    },
    {
      "cell_type": "markdown",
      "metadata": {
        "id": "08THl-6S0LK7",
        "colab_type": "text"
      },
      "source": [
        "### Similarities"
      ]
    },
    {
      "cell_type": "code",
      "metadata": {
        "id": "DWDou_hH0V0w",
        "colab_type": "code",
        "outputId": "35a1afc2-09b1-4dda-95fd-c128ca4938b7",
        "colab": {
          "base_uri": "https://localhost:8080/",
          "height": 418
        }
      },
      "source": [
        "from matplotlib.pyplot import figure\n",
        "figure(num=None, figsize=(20, 15), dpi=60, facecolor='w', edgecolor='k')\n",
        "\n",
        "plt.subplot(4, 3, 1)\n",
        "sns.barplot('ClusterID', 'playtime_2weeks',data=cluster_means)\n",
        "plt.subplot(4, 3, 2)\n",
        "sns.barplot('ClusterID', 'playtime_forever',data=cluster_means)\n",
        "plt.subplot(4, 3, 3)\n",
        "sns.barplot('ClusterID', 'game_age',data=cluster_means)\n",
        "plt.subplot(4, 3, 4)\n",
        "sns.barplot('ClusterID', 'total_friend_connections',data=cluster_means)\n",
        "plt.subplot(4, 3, 5)\n",
        "sns.barplot('ClusterID', 'loggoff_duration',data=cluster_means)\n",
        "plt.subplot(4, 3, 6)\n",
        "sns.barplot('ClusterID', 'account_age',data=cluster_means)"
      ],
      "execution_count": 0,
      "outputs": [
        {
          "output_type": "execute_result",
          "data": {
            "text/plain": [
              "<matplotlib.axes._subplots.AxesSubplot at 0x7f70aaef2cf8>"
            ]
          },
          "metadata": {
            "tags": []
          },
          "execution_count": 8
        },
        {
          "output_type": "display_data",
          "data": {
            "image/png": "[encoded data removed]",
            "text/plain": [
              "<Figure size 1200x900 with 6 Axes>"
            ]
          },
          "metadata": {
            "tags": []
          }
        }
      ]
    },
    {
      "cell_type": "markdown",
      "metadata": {
        "id": "5q-RrRCi1wd-",
        "colab_type": "text"
      },
      "source": [
        "### Differences"
      ]
    },
    {
      "cell_type": "code",
      "metadata": {
        "id": "AIgivhNx13C8",
        "colab_type": "code",
        "outputId": "24c805a2-655e-46a4-952b-e033d84a8e1a",
        "colab": {
          "base_uri": "https://localhost:8080/",
          "height": 652
        }
      },
      "source": [
        "from matplotlib.pyplot import figure\n",
        "figure(num=None, figsize=(30, 15), dpi=50, facecolor='w', edgecolor='k')\n",
        "\n",
        "plt.subplot(4, 4, 1)\n",
        "sns.barplot('ClusterID', 'no_of_games',data=cluster_means)\n",
        "plt.subplot(4, 4, 2)\n",
        "sns.barplot('ClusterID', 'daily_monetary',data=cluster_means)\n",
        "plt.subplot(4, 4, 3)\n",
        "sns.barplot('ClusterID', 'forever_avg',data=cluster_means)\n",
        "plt.subplot(4, 4, 4)\n",
        "sns.barplot('ClusterID', 'achievement_per_game',data=cluster_means)\n",
        "plt.subplot(4, 4, 5)\n",
        "sns.barplot('ClusterID', 'free_to_play',data=cluster_means)\n",
        "plt.subplot(4, 4, 6)\n",
        "sns.barplot('ClusterID', 'freetoplay_percentage',data=cluster_means)\n",
        "plt.subplot(4, 4, 7)\n",
        "sns.barplot('ClusterID', 'Is_Multiplayer',data=cluster_means)\n",
        "plt.subplot(4, 4, 8)\n",
        "sns.barplot('ClusterID', 'multiplayer_percentage',data=cluster_means)\n",
        "plt.subplot(4, 4, 9)\n",
        "sns.barplot('ClusterID', 'Is_Adult',data=cluster_means)\n",
        "plt.subplot(4, 4, 10)\n",
        "sns.barplot('ClusterID', 'unplayed',data=cluster_means)\n",
        "plt.subplot(4, 4, 11)\n",
        "sns.barplot('ClusterID', 'unplayed_percentage',data=cluster_means)\n",
        "plt.subplot(4, 4, 12)\n",
        "sns.barplot('ClusterID', 'no_of_groups',data=cluster_means)\n",
        "plt.subplot(4, 4, 13)\n",
        "sns.barplot('ClusterID', 'total_group_connections',data=cluster_means)\n",
        "plt.subplot(4, 4, 14)\n",
        "sns.barplot('ClusterID', 'Is_Adult',data=cluster_means)\n",
        "plt.subplot(4, 4, 15)\n",
        "sns.barplot('ClusterID', 'adult_percentage',data=cluster_means)"
      ],
      "execution_count": 0,
      "outputs": [
        {
          "output_type": "execute_result",
          "data": {
            "text/plain": [
              "<matplotlib.axes._subplots.AxesSubplot at 0x7f70aa5d05f8>"
            ]
          },
          "metadata": {
            "tags": []
          },
          "execution_count": 9
        },
        {
          "output_type": "display_data",
          "data": {
            "image/png": "[encoded data removed]",
            "text/plain": [
              "<Figure size 1500x750 with 15 Axes>"
            ]
          },
          "metadata": {
            "tags": []
          }
        }
      ]
    },
    {
      "cell_type": "markdown",
      "metadata": {
        "id": "L_65OUZHUFUK",
        "colab_type": "text"
      },
      "source": [
        "Things we need : \n",
        "\n",
        "Average no of games owned by the gamers , \n",
        "Average daily spent of the gamers\n"
      ]
    },
    {
      "cell_type": "code",
      "metadata": {
        "id": "Rx2L2LDMVBG3",
        "colab_type": "code",
        "outputId": "e94cf12a-c16c-4ebe-c399-82b5ef262eef",
        "colab": {
          "base_uri": "https://localhost:8080/",
          "height": 131
        }
      },
      "source": [
        "cluster_means.head()"
      ],
      "execution_count": 0,
      "outputs": [
        {
          "output_type": "execute_result",
          "data": {
            "text/html": [
              "<div>\n",
              "<style scoped>\n",
              "    .dataframe tbody tr th:only-of-type {\n",
              "        vertical-align: middle;\n",
              "    }\n",
              "\n",
              "    .dataframe tbody tr th {\n",
              "        vertical-align: top;\n",
              "    }\n",
              "\n",
              "    .dataframe thead th {\n",
              "        text-align: right;\n",
              "    }\n",
              "</style>\n",
              "<table border=\"1\" class=\"dataframe\">\n",
              "  <thead>\n",
              "    <tr style=\"text-align: right;\">\n",
              "      <th></th>\n",
              "      <th>ClusterID</th>\n",
              "      <th>commentpermission</th>\n",
              "      <th>realname</th>\n",
              "      <th>playtime_2weeks</th>\n",
              "      <th>playtime_forever</th>\n",
              "      <th>no_of_games</th>\n",
              "      <th>free_to_play</th>\n",
              "      <th>Price</th>\n",
              "      <th>Rating</th>\n",
              "      <th>Required_Age</th>\n",
              "      <th>Is_Multiplayer</th>\n",
              "      <th>Is_Adult</th>\n",
              "      <th>unplayed</th>\n",
              "      <th>game_age</th>\n",
              "      <th>no_of_groups</th>\n",
              "      <th>avg_friend_duration</th>\n",
              "      <th>avg_percentage_completion</th>\n",
              "      <th>total_group_connections</th>\n",
              "      <th>total_friend_connections</th>\n",
              "      <th>total_achievements</th>\n",
              "      <th>loggoff_duration</th>\n",
              "      <th>account_age</th>\n",
              "      <th>Genre_Action</th>\n",
              "      <th>Genre_Adventure</th>\n",
              "      <th>Genre_Casual</th>\n",
              "      <th>Genre_Early</th>\n",
              "      <th>Genre_Free</th>\n",
              "      <th>Genre_Indie</th>\n",
              "      <th>Genre_Massively_Multiplayer</th>\n",
              "      <th>Genre_RPG</th>\n",
              "      <th>Genre_Racing</th>\n",
              "      <th>Genre_Simulation</th>\n",
              "      <th>Genre_Sports</th>\n",
              "      <th>Genre_Strategy</th>\n",
              "      <th>Genre_Unknown</th>\n",
              "      <th>Playtime_2weeks_bygenre_Action</th>\n",
              "      <th>Playtime_2weeks_bygenre_Adventure</th>\n",
              "      <th>Playtime_2weeks_bygenre_Casual</th>\n",
              "      <th>Playtime_2weeks_bygenre_Early</th>\n",
              "      <th>Playtime_2weeks_bygenre_Free</th>\n",
              "      <th>Playtime_2weeks_bygenre_Indie</th>\n",
              "      <th>Playtime_2weeks_bygenre_Massively_Multiplayer</th>\n",
              "      <th>Playtime_2weeks_bygenre_RPG</th>\n",
              "      <th>Playtime_2weeks_bygenre_Racing</th>\n",
              "      <th>Playtime_2weeks_bygenre_Simulation</th>\n",
              "      <th>Playtime_2weeks_bygenre_Sports</th>\n",
              "      <th>Playtime_2weeks_bygenre_Strategy</th>\n",
              "      <th>Playtime_2weeks_bygenre_Unknown</th>\n",
              "      <th>Playtime_forever_bygenre_Action</th>\n",
              "      <th>Playtime_forever_bygenre_Adventure</th>\n",
              "      <th>Playtime_forever_bygenre_Casual</th>\n",
              "      <th>Playtime_forever_bygenre_Early</th>\n",
              "      <th>Playtime_forever_bygenre_Free</th>\n",
              "      <th>Playtime_forever_bygenre_Indie</th>\n",
              "      <th>Playtime_forever_bygenre_Massively_Multiplayer</th>\n",
              "      <th>Playtime_forever_bygenre_RPG</th>\n",
              "      <th>Playtime_forever_bygenre_Racing</th>\n",
              "      <th>Playtime_forever_bygenre_Simulation</th>\n",
              "      <th>Playtime_forever_bygenre_Sports</th>\n",
              "      <th>Playtime_forever_bygenre_Strategy</th>\n",
              "      <th>Playtime_forever_bygenre_Unknown</th>\n",
              "      <th>Type_demo</th>\n",
              "      <th>Type_dlc</th>\n",
              "      <th>Type_game</th>\n",
              "      <th>Type_mod</th>\n",
              "      <th>Type_Unknown</th>\n",
              "      <th>playtime_age</th>\n",
              "      <th>forever_avg</th>\n",
              "      <th>daily_monetary</th>\n",
              "      <th>achievement_per_game</th>\n",
              "      <th>freetoplay_percentage</th>\n",
              "      <th>multiplayer_percentage</th>\n",
              "      <th>adult_percentage</th>\n",
              "      <th>unplayed_percentage</th>\n",
              "      <th>Playtime_forever_total</th>\n",
              "      <th>Playtime_2weeks_total</th>\n",
              "      <th>Genre_total</th>\n",
              "    </tr>\n",
              "  </thead>\n",
              "  <tbody>\n",
              "    <tr>\n",
              "      <th>0</th>\n",
              "      <td>1</td>\n",
              "      <td>0.0</td>\n",
              "      <td>0.461589</td>\n",
              "      <td>6808.314416</td>\n",
              "      <td>113027.445940</td>\n",
              "      <td>40.099434</td>\n",
              "      <td>2.262275</td>\n",
              "      <td>566.441844</td>\n",
              "      <td>80.088563</td>\n",
              "      <td>4.488440</td>\n",
              "      <td>19.540769</td>\n",
              "      <td>0.332482</td>\n",
              "      <td>11.585600</td>\n",
              "      <td>3732.864753</td>\n",
              "      <td>4.691964</td>\n",
              "      <td>324.657841</td>\n",
              "      <td>14.524801</td>\n",
              "      <td>3.943484e+05</td>\n",
              "      <td>34.789813</td>\n",
              "      <td>2557.660090</td>\n",
              "      <td>135.095556</td>\n",
              "      <td>1283.870395</td>\n",
              "      <td>0.423530</td>\n",
              "      <td>0.076687</td>\n",
              "      <td>0.017535</td>\n",
              "      <td>0.000313</td>\n",
              "      <td>0.035797</td>\n",
              "      <td>0.091750</td>\n",
              "      <td>0.003474</td>\n",
              "      <td>0.092317</td>\n",
              "      <td>0.005973</td>\n",
              "      <td>0.043761</td>\n",
              "      <td>0.004813</td>\n",
              "      <td>0.140782</td>\n",
              "      <td>0.06327</td>\n",
              "      <td>0.330164</td>\n",
              "      <td>0.038417</td>\n",
              "      <td>0.005098</td>\n",
              "      <td>0.000246</td>\n",
              "      <td>0.134284</td>\n",
              "      <td>0.081156</td>\n",
              "      <td>0.010919</td>\n",
              "      <td>0.121479</td>\n",
              "      <td>0.002746</td>\n",
              "      <td>0.001251</td>\n",
              "      <td>0.003101</td>\n",
              "      <td>0.228033</td>\n",
              "      <td>0.043105</td>\n",
              "      <td>0.377764</td>\n",
              "      <td>0.041416</td>\n",
              "      <td>0.004808</td>\n",
              "      <td>0.000139</td>\n",
              "      <td>0.135214</td>\n",
              "      <td>0.070395</td>\n",
              "      <td>0.007928</td>\n",
              "      <td>0.115897</td>\n",
              "      <td>0.002279</td>\n",
              "      <td>0.000079</td>\n",
              "      <td>0.002145</td>\n",
              "      <td>0.201684</td>\n",
              "      <td>0.04025</td>\n",
              "      <td>0.000501</td>\n",
              "      <td>0.003339</td>\n",
              "      <td>0.897383</td>\n",
              "      <td>0.004882</td>\n",
              "      <td>0.093894</td>\n",
              "      <td>1070.037494</td>\n",
              "      <td>115.080928</td>\n",
              "      <td>0.585916</td>\n",
              "      <td>67.793393</td>\n",
              "      <td>0.089566</td>\n",
              "      <td>0.545922</td>\n",
              "      <td>0.007298</td>\n",
              "      <td>0.264781</td>\n",
              "      <td>205787.668448</td>\n",
              "      <td>14074.980244</td>\n",
              "      <td>65.173610</td>\n",
              "    </tr>\n",
              "    <tr>\n",
              "      <th>1</th>\n",
              "      <td>2</td>\n",
              "      <td>0.0</td>\n",
              "      <td>0.726613</td>\n",
              "      <td>6895.791637</td>\n",
              "      <td>174673.138992</td>\n",
              "      <td>133.410463</td>\n",
              "      <td>5.071828</td>\n",
              "      <td>1773.631934</td>\n",
              "      <td>78.590531</td>\n",
              "      <td>4.254661</td>\n",
              "      <td>53.429119</td>\n",
              "      <td>0.960549</td>\n",
              "      <td>45.610896</td>\n",
              "      <td>3716.777518</td>\n",
              "      <td>14.200027</td>\n",
              "      <td>416.765920</td>\n",
              "      <td>14.284000</td>\n",
              "      <td>1.796843e+06</td>\n",
              "      <td>68.512031</td>\n",
              "      <td>7527.327596</td>\n",
              "      <td>117.831471</td>\n",
              "      <td>1543.859229</td>\n",
              "      <td>0.362191</td>\n",
              "      <td>0.103207</td>\n",
              "      <td>0.043331</td>\n",
              "      <td>0.000452</td>\n",
              "      <td>0.012264</td>\n",
              "      <td>0.153763</td>\n",
              "      <td>0.001679</td>\n",
              "      <td>0.092675</td>\n",
              "      <td>0.008867</td>\n",
              "      <td>0.035880</td>\n",
              "      <td>0.007681</td>\n",
              "      <td>0.123552</td>\n",
              "      <td>0.05446</td>\n",
              "      <td>0.333365</td>\n",
              "      <td>0.054999</td>\n",
              "      <td>0.012009</td>\n",
              "      <td>0.000298</td>\n",
              "      <td>0.134142</td>\n",
              "      <td>0.103496</td>\n",
              "      <td>0.013180</td>\n",
              "      <td>0.123938</td>\n",
              "      <td>0.003969</td>\n",
              "      <td>0.001079</td>\n",
              "      <td>0.003990</td>\n",
              "      <td>0.187520</td>\n",
              "      <td>0.028015</td>\n",
              "      <td>0.392321</td>\n",
              "      <td>0.053419</td>\n",
              "      <td>0.010496</td>\n",
              "      <td>0.000111</td>\n",
              "      <td>0.143339</td>\n",
              "      <td>0.090120</td>\n",
              "      <td>0.008487</td>\n",
              "      <td>0.120552</td>\n",
              "      <td>0.003179</td>\n",
              "      <td>0.000051</td>\n",
              "      <td>0.002905</td>\n",
              "      <td>0.148121</td>\n",
              "      <td>0.02690</td>\n",
              "      <td>0.000888</td>\n",
              "      <td>0.004547</td>\n",
              "      <td>1.011331</td>\n",
              "      <td>0.003695</td>\n",
              "      <td>0.094648</td>\n",
              "      <td>1232.555335</td>\n",
              "      <td>147.811402</td>\n",
              "      <td>1.597294</td>\n",
              "      <td>58.010844</td>\n",
              "      <td>0.044035</td>\n",
              "      <td>0.422080</td>\n",
              "      <td>0.007175</td>\n",
              "      <td>0.334978</td>\n",
              "      <td>330108.845755</td>\n",
              "      <td>14924.595665</td>\n",
              "      <td>270.122026</td>\n",
              "    </tr>\n",
              "  </tbody>\n",
              "</table>\n",
              "</div>"
            ],
            "text/plain": [
              "   ClusterID  commentpermission  realname  playtime_2weeks  playtime_forever  no_of_games  free_to_play        Price     Rating  Required_Age  Is_Multiplayer  Is_Adult   unplayed     game_age  no_of_groups  avg_friend_duration  avg_percentage_completion  total_group_connections  total_friend_connections  total_achievements  loggoff_duration  account_age  Genre_Action  Genre_Adventure  Genre_Casual  Genre_Early  Genre_Free  Genre_Indie  Genre_Massively_Multiplayer  Genre_RPG  Genre_Racing  Genre_Simulation  Genre_Sports  Genre_Strategy  Genre_Unknown  Playtime_2weeks_bygenre_Action  Playtime_2weeks_bygenre_Adventure  Playtime_2weeks_bygenre_Casual  Playtime_2weeks_bygenre_Early  Playtime_2weeks_bygenre_Free  Playtime_2weeks_bygenre_Indie  Playtime_2weeks_bygenre_Massively_Multiplayer  Playtime_2weeks_bygenre_RPG  Playtime_2weeks_bygenre_Racing  Playtime_2weeks_bygenre_Simulation  Playtime_2weeks_bygenre_Sports  Playtime_2weeks_bygenre_Strategy  Playtime_2weeks_bygenre_Unknown  \\\n",
              "0          1                0.0  0.461589      6808.314416     113027.445940    40.099434      2.262275   566.441844  80.088563      4.488440       19.540769  0.332482  11.585600  3732.864753      4.691964           324.657841                  14.524801             3.943484e+05                 34.789813         2557.660090        135.095556  1283.870395      0.423530         0.076687      0.017535     0.000313    0.035797     0.091750                     0.003474   0.092317      0.005973          0.043761      0.004813        0.140782        0.06327                        0.330164                           0.038417                        0.005098                       0.000246                      0.134284                       0.081156                                       0.010919                     0.121479                        0.002746                            0.001251                        0.003101                          0.228033                         0.043105   \n",
              "1          2                0.0  0.726613      6895.791637     174673.138992   133.410463      5.071828  1773.631934  78.590531      4.254661       53.429119  0.960549  45.610896  3716.777518     14.200027           416.765920                  14.284000             1.796843e+06                 68.512031         7527.327596        117.831471  1543.859229      0.362191         0.103207      0.043331     0.000452    0.012264     0.153763                     0.001679   0.092675      0.008867          0.035880      0.007681        0.123552        0.05446                        0.333365                           0.054999                        0.012009                       0.000298                      0.134142                       0.103496                                       0.013180                     0.123938                        0.003969                            0.001079                        0.003990                          0.187520                         0.028015   \n",
              "\n",
              "   Playtime_forever_bygenre_Action  Playtime_forever_bygenre_Adventure  Playtime_forever_bygenre_Casual  Playtime_forever_bygenre_Early  Playtime_forever_bygenre_Free  Playtime_forever_bygenre_Indie  Playtime_forever_bygenre_Massively_Multiplayer  Playtime_forever_bygenre_RPG  Playtime_forever_bygenre_Racing  Playtime_forever_bygenre_Simulation  Playtime_forever_bygenre_Sports  Playtime_forever_bygenre_Strategy  Playtime_forever_bygenre_Unknown  Type_demo  Type_dlc  Type_game  Type_mod  Type_Unknown  playtime_age  forever_avg  daily_monetary  achievement_per_game  freetoplay_percentage  multiplayer_percentage  adult_percentage  unplayed_percentage  Playtime_forever_total  Playtime_2weeks_total  Genre_total  \n",
              "0                         0.377764                            0.041416                         0.004808                        0.000139                       0.135214                        0.070395                                        0.007928                      0.115897                         0.002279                             0.000079                         0.002145                           0.201684                           0.04025   0.000501  0.003339   0.897383  0.004882      0.093894   1070.037494   115.080928        0.585916             67.793393               0.089566                0.545922          0.007298             0.264781           205787.668448           14074.980244    65.173610  \n",
              "1                         0.392321                            0.053419                         0.010496                        0.000111                       0.143339                        0.090120                                        0.008487                      0.120552                         0.003179                             0.000051                         0.002905                           0.148121                           0.02690   0.000888  0.004547   1.011331  0.003695      0.094648   1232.555335   147.811402        1.597294             58.010844               0.044035                0.422080          0.007175             0.334978           330108.845755           14924.595665   270.122026  "
            ]
          },
          "metadata": {
            "tags": []
          },
          "execution_count": 10
        }
      ]
    },
    {
      "cell_type": "markdown",
      "metadata": {
        "id": "85o7Wfg76CcM",
        "colab_type": "text"
      },
      "source": [
        "# Comparisons"
      ]
    },
    {
      "cell_type": "markdown",
      "metadata": {
        "id": "mwpPSdCR7-PY",
        "colab_type": "text"
      },
      "source": [
        "The 90th percentile for two-week playtime is 8.9 hours, the 90th\n",
        "percentile for games owned is 21, and the 90th percentile for lifetime market value is $317.64. Because\n",
        "these are 90th percentiles, the majority of users exhibit behaviors far below these values, which runs\n",
        "counter to stereotypes about gamers."
      ]
    },
    {
      "cell_type": "markdown",
      "metadata": {
        "id": "JzbhHN8U6LGb",
        "colab_type": "text"
      },
      "source": [
        "## Ownership"
      ]
    },
    {
      "cell_type": "markdown",
      "metadata": {
        "id": "dSwULaP-ce--",
        "colab_type": "text"
      },
      "source": [
        "The 80th percentile is 10 games owned and 7 games played.\n",
        "\n",
        "The “Action” genre is by far the most popular in terms of ownership, followed distantly by the “Strategy” and “Indie” genres. (Graph in previous study)\n",
        "\n"
      ]
    },
    {
      "cell_type": "code",
      "metadata": {
        "id": "QvxYnV4S6RUk",
        "colab_type": "code",
        "outputId": "4174edec-c09b-4fb9-dcdc-1eb9eed5222e",
        "colab": {
          "base_uri": "https://localhost:8080/",
          "height": 204
        }
      },
      "source": [
        "#Gameplay data\n",
        "gameplay = pd.read_csv(gameplay_loc)\n",
        "gameplay.head(n=5)"
      ],
      "execution_count": 0,
      "outputs": [
        {
          "output_type": "execute_result",
          "data": {
            "text/html": [
              "<div>\n",
              "<style scoped>\n",
              "    .dataframe tbody tr th:only-of-type {\n",
              "        vertical-align: middle;\n",
              "    }\n",
              "\n",
              "    .dataframe tbody tr th {\n",
              "        vertical-align: top;\n",
              "    }\n",
              "\n",
              "    .dataframe thead th {\n",
              "        text-align: right;\n",
              "    }\n",
              "</style>\n",
              "<table border=\"1\" class=\"dataframe\">\n",
              "  <thead>\n",
              "    <tr style=\"text-align: right;\">\n",
              "      <th></th>\n",
              "      <th>steamid</th>\n",
              "      <th>appid</th>\n",
              "      <th>playtime_2weeks</th>\n",
              "      <th>playtime_forever</th>\n",
              "      <th>dateretrieved</th>\n",
              "    </tr>\n",
              "  </thead>\n",
              "  <tbody>\n",
              "    <tr>\n",
              "      <th>0</th>\n",
              "      <td>76561197960266039</td>\n",
              "      <td>10</td>\n",
              "      <td>7.0</td>\n",
              "      <td>1311.0</td>\n",
              "      <td>2013-05-06 16:00:46</td>\n",
              "    </tr>\n",
              "    <tr>\n",
              "      <th>1</th>\n",
              "      <td>76561197960266039</td>\n",
              "      <td>20</td>\n",
              "      <td>NaN</td>\n",
              "      <td>391.0</td>\n",
              "      <td>2013-05-06 16:00:46</td>\n",
              "    </tr>\n",
              "    <tr>\n",
              "      <th>2</th>\n",
              "      <td>76561197960266039</td>\n",
              "      <td>30</td>\n",
              "      <td>NaN</td>\n",
              "      <td>0.0</td>\n",
              "      <td>2013-05-06 16:00:46</td>\n",
              "    </tr>\n",
              "    <tr>\n",
              "      <th>3</th>\n",
              "      <td>76561197960266039</td>\n",
              "      <td>40</td>\n",
              "      <td>NaN</td>\n",
              "      <td>748.0</td>\n",
              "      <td>2013-05-06 16:00:46</td>\n",
              "    </tr>\n",
              "    <tr>\n",
              "      <th>4</th>\n",
              "      <td>76561197960266039</td>\n",
              "      <td>50</td>\n",
              "      <td>NaN</td>\n",
              "      <td>NaN</td>\n",
              "      <td>2013-05-06 16:00:46</td>\n",
              "    </tr>\n",
              "  </tbody>\n",
              "</table>\n",
              "</div>"
            ],
            "text/plain": [
              "             steamid  appid  playtime_2weeks  playtime_forever        dateretrieved\n",
              "0  76561197960266039     10              7.0            1311.0  2013-05-06 16:00:46\n",
              "1  76561197960266039     20              NaN             391.0  2013-05-06 16:00:46\n",
              "2  76561197960266039     30              NaN               0.0  2013-05-06 16:00:46\n",
              "3  76561197960266039     40              NaN             748.0  2013-05-06 16:00:46\n",
              "4  76561197960266039     50              NaN               NaN  2013-05-06 16:00:46"
            ]
          },
          "metadata": {
            "tags": []
          },
          "execution_count": 11
        }
      ]
    },
    {
      "cell_type": "code",
      "metadata": {
        "id": "Dc6TXatOnKNl",
        "colab_type": "code",
        "outputId": "e860d5e5-6179-4196-cf5b-4fbae5247784",
        "colab": {
          "base_uri": "https://localhost:8080/",
          "height": 204
        }
      },
      "source": [
        "#NaNs need to be made 0\n",
        "gameplay.playtime_2weeks = gameplay.playtime_2weeks.apply(lambda x: 0 if np.isnan(x) else x)\n",
        "gameplay.playtime_forever = gameplay.playtime_forever.apply(lambda x: 0 if np.isnan(x) else x)\n",
        "#Unplayed Games\n",
        "gameplay['unplayed'] = gameplay.playtime_forever.apply(lambda x: 1 if x==0 else 0)\n",
        "gameplay['played'] = gameplay.playtime_forever.apply(lambda x: 1 if x>0 else 0)\n",
        "gameplay.head()"
      ],
      "execution_count": 0,
      "outputs": [
        {
          "output_type": "execute_result",
          "data": {
            "text/html": [
              "<div>\n",
              "<style scoped>\n",
              "    .dataframe tbody tr th:only-of-type {\n",
              "        vertical-align: middle;\n",
              "    }\n",
              "\n",
              "    .dataframe tbody tr th {\n",
              "        vertical-align: top;\n",
              "    }\n",
              "\n",
              "    .dataframe thead th {\n",
              "        text-align: right;\n",
              "    }\n",
              "</style>\n",
              "<table border=\"1\" class=\"dataframe\">\n",
              "  <thead>\n",
              "    <tr style=\"text-align: right;\">\n",
              "      <th></th>\n",
              "      <th>steamid</th>\n",
              "      <th>appid</th>\n",
              "      <th>playtime_2weeks</th>\n",
              "      <th>playtime_forever</th>\n",
              "      <th>dateretrieved</th>\n",
              "      <th>unplayed</th>\n",
              "      <th>played</th>\n",
              "    </tr>\n",
              "  </thead>\n",
              "  <tbody>\n",
              "    <tr>\n",
              "      <th>0</th>\n",
              "      <td>76561197960266039</td>\n",
              "      <td>10</td>\n",
              "      <td>7.0</td>\n",
              "      <td>1311.0</td>\n",
              "      <td>2013-05-06 16:00:46</td>\n",
              "      <td>0</td>\n",
              "      <td>1</td>\n",
              "    </tr>\n",
              "    <tr>\n",
              "      <th>1</th>\n",
              "      <td>76561197960266039</td>\n",
              "      <td>20</td>\n",
              "      <td>0.0</td>\n",
              "      <td>391.0</td>\n",
              "      <td>2013-05-06 16:00:46</td>\n",
              "      <td>0</td>\n",
              "      <td>1</td>\n",
              "    </tr>\n",
              "    <tr>\n",
              "      <th>2</th>\n",
              "      <td>76561197960266039</td>\n",
              "      <td>30</td>\n",
              "      <td>0.0</td>\n",
              "      <td>0.0</td>\n",
              "      <td>2013-05-06 16:00:46</td>\n",
              "      <td>1</td>\n",
              "      <td>0</td>\n",
              "    </tr>\n",
              "    <tr>\n",
              "      <th>3</th>\n",
              "      <td>76561197960266039</td>\n",
              "      <td>40</td>\n",
              "      <td>0.0</td>\n",
              "      <td>748.0</td>\n",
              "      <td>2013-05-06 16:00:46</td>\n",
              "      <td>0</td>\n",
              "      <td>1</td>\n",
              "    </tr>\n",
              "    <tr>\n",
              "      <th>4</th>\n",
              "      <td>76561197960266039</td>\n",
              "      <td>50</td>\n",
              "      <td>0.0</td>\n",
              "      <td>0.0</td>\n",
              "      <td>2013-05-06 16:00:46</td>\n",
              "      <td>1</td>\n",
              "      <td>0</td>\n",
              "    </tr>\n",
              "  </tbody>\n",
              "</table>\n",
              "</div>"
            ],
            "text/plain": [
              "             steamid  appid  playtime_2weeks  playtime_forever        dateretrieved  unplayed  played\n",
              "0  76561197960266039     10              7.0            1311.0  2013-05-06 16:00:46         0       1\n",
              "1  76561197960266039     20              0.0             391.0  2013-05-06 16:00:46         0       1\n",
              "2  76561197960266039     30              0.0               0.0  2013-05-06 16:00:46         1       0\n",
              "3  76561197960266039     40              0.0             748.0  2013-05-06 16:00:46         0       1\n",
              "4  76561197960266039     50              0.0               0.0  2013-05-06 16:00:46         1       0"
            ]
          },
          "metadata": {
            "tags": []
          },
          "execution_count": 12
        }
      ]
    },
    {
      "cell_type": "code",
      "metadata": {
        "id": "jgZ9BjqPp-Id",
        "colab_type": "code",
        "outputId": "1f4e71ec-2a82-4b65-e171-b4801e632d1b",
        "colab": {
          "base_uri": "https://localhost:8080/",
          "height": 204
        }
      },
      "source": [
        "gameplay[gameplay.played==1].playtime_forever.quantile(np.arange(0,1,0.1))\n",
        "#Median 366\n",
        "gameplay[(gameplay.played==1) & (\n",
        "    gameplay.steamid.isin(data[data.ClusterID==1].steamid)\n",
        ")].playtime_forever.quantile(np.arange(0,1,0.1))\n",
        "#Median 453\n",
        "gameplay[gameplay.played==1].playtime_forever.quantile(np.arange(0,1,0.1))\n",
        "#Median 366\n",
        "gameplay[(gameplay.played==1) & (\n",
        "    gameplay.steamid.isin(data[data.ClusterID==2].steamid)\n",
        ")].playtime_forever.quantile(np.arange(0,1,0.1))\n",
        "#Median 207"
      ],
      "execution_count": 0,
      "outputs": [
        {
          "output_type": "execute_result",
          "data": {
            "text/plain": [
              "0.0       1.0\n",
              "0.1      11.0\n",
              "0.2      29.0\n",
              "0.3      61.0\n",
              "0.4     115.0\n",
              "0.5     207.0\n",
              "0.6     366.0\n",
              "0.7     646.0\n",
              "0.8    1208.0\n",
              "0.9    2897.0\n",
              "Name: playtime_forever, dtype: float64"
            ]
          },
          "metadata": {
            "tags": []
          },
          "execution_count": 13
        }
      ]
    },
    {
      "cell_type": "code",
      "metadata": {
        "id": "EAe2JhFm2aEW",
        "colab_type": "code",
        "outputId": "19af87fe-bbd2-44cf-f8f9-11b69b1b9b25",
        "colab": {
          "base_uri": "https://localhost:8080/",
          "height": 204
        }
      },
      "source": [
        "total = gameplay[['steamid','appid']].groupby('steamid',as_index=False).count()\n",
        "total.columns = ['steamid', 'no_of_games']\n",
        "\n",
        "play_counts = gameplay[['steamid','unplayed','played']].groupby('steamid',as_index=False).agg({'unplayed':'sum','played':'sum'})\n",
        "play_counts = play_counts.merge(total,on='steamid',how='inner')\n",
        "\n",
        "play_counts['unplayed_percentage'] = play_counts.unplayed/play_counts.no_of_games\n",
        "play_counts.head()"
      ],
      "execution_count": 0,
      "outputs": [
        {
          "output_type": "execute_result",
          "data": {
            "text/html": [
              "<div>\n",
              "<style scoped>\n",
              "    .dataframe tbody tr th:only-of-type {\n",
              "        vertical-align: middle;\n",
              "    }\n",
              "\n",
              "    .dataframe tbody tr th {\n",
              "        vertical-align: top;\n",
              "    }\n",
              "\n",
              "    .dataframe thead th {\n",
              "        text-align: right;\n",
              "    }\n",
              "</style>\n",
              "<table border=\"1\" class=\"dataframe\">\n",
              "  <thead>\n",
              "    <tr style=\"text-align: right;\">\n",
              "      <th></th>\n",
              "      <th>steamid</th>\n",
              "      <th>unplayed</th>\n",
              "      <th>played</th>\n",
              "      <th>no_of_games</th>\n",
              "      <th>unplayed_percentage</th>\n",
              "    </tr>\n",
              "  </thead>\n",
              "  <tbody>\n",
              "    <tr>\n",
              "      <th>0</th>\n",
              "      <td>76561197960266039</td>\n",
              "      <td>7</td>\n",
              "      <td>10</td>\n",
              "      <td>17</td>\n",
              "      <td>0.411765</td>\n",
              "    </tr>\n",
              "    <tr>\n",
              "      <th>1</th>\n",
              "      <td>76561197960269360</td>\n",
              "      <td>19</td>\n",
              "      <td>20</td>\n",
              "      <td>39</td>\n",
              "      <td>0.487179</td>\n",
              "    </tr>\n",
              "    <tr>\n",
              "      <th>2</th>\n",
              "      <td>76561197960269424</td>\n",
              "      <td>22</td>\n",
              "      <td>43</td>\n",
              "      <td>65</td>\n",
              "      <td>0.338462</td>\n",
              "    </tr>\n",
              "    <tr>\n",
              "      <th>3</th>\n",
              "      <td>76561197960269425</td>\n",
              "      <td>77</td>\n",
              "      <td>145</td>\n",
              "      <td>222</td>\n",
              "      <td>0.346847</td>\n",
              "    </tr>\n",
              "    <tr>\n",
              "      <th>4</th>\n",
              "      <td>76561197960269501</td>\n",
              "      <td>63</td>\n",
              "      <td>143</td>\n",
              "      <td>206</td>\n",
              "      <td>0.305825</td>\n",
              "    </tr>\n",
              "  </tbody>\n",
              "</table>\n",
              "</div>"
            ],
            "text/plain": [
              "             steamid  unplayed  played  no_of_games  unplayed_percentage\n",
              "0  76561197960266039         7      10           17             0.411765\n",
              "1  76561197960269360        19      20           39             0.487179\n",
              "2  76561197960269424        22      43           65             0.338462\n",
              "3  76561197960269425        77     145          222             0.346847\n",
              "4  76561197960269501        63     143          206             0.305825"
            ]
          },
          "metadata": {
            "tags": []
          },
          "execution_count": 14
        }
      ]
    },
    {
      "cell_type": "code",
      "metadata": {
        "id": "TYU066hc7CdL",
        "colab_type": "code",
        "outputId": "b639f001-6c01-4f3d-d25f-f23eeb5ed3c7",
        "colab": {
          "base_uri": "https://localhost:8080/",
          "height": 884
        }
      },
      "source": [
        "#Owned games median\n",
        "#play_counts.no_of_games.quantile(np.arange(0.0,1.0,0.01))\n",
        "#Median of owned games is 11, 80 percentile is 46\n",
        "\n",
        "#data[data.ClusterID==1].no_of_games.quantile(np.arange(0.5,1.0,0.01))\n",
        "#Cluster 1 : 34 games\n",
        "#data[data.ClusterID==2].no_of_games.quantile(np.arange(0.0,1.0,0.1))\n",
        "#Cluster 2: 127 games\n",
        "\n",
        "play_counts[play_counts.steamid.isin(data[data.ClusterID==1].steamid)].no_of_games.quantile(np.arange(0.5,1.0,0.01))\n",
        "play_counts[play_counts.steamid.isin(data[data.ClusterID==2].steamid)].no_of_games.quantile(np.arange(0.5,1.0,0.01))"
      ],
      "execution_count": 0,
      "outputs": [
        {
          "output_type": "execute_result",
          "data": {
            "text/plain": [
              "0.50    128.00\n",
              "0.51    130.00\n",
              "0.52    131.00\n",
              "0.53    133.00\n",
              "0.54    135.00\n",
              "0.55    137.00\n",
              "0.56    139.00\n",
              "0.57    141.00\n",
              "0.58    143.00\n",
              "0.59    145.00\n",
              "0.60    147.00\n",
              "0.61    149.00\n",
              "0.62    152.00\n",
              "0.63    154.00\n",
              "0.64    157.00\n",
              "0.65    159.00\n",
              "0.66    161.00\n",
              "0.67    164.00\n",
              "0.68    167.00\n",
              "0.69    170.00\n",
              "0.70    174.00\n",
              "0.71    177.00\n",
              "0.72    180.00\n",
              "0.73    183.00\n",
              "0.74    187.00\n",
              "0.75    190.00\n",
              "0.76    194.00\n",
              "0.77    198.00\n",
              "0.78    202.00\n",
              "0.79    206.00\n",
              "0.80    211.00\n",
              "0.81    216.00\n",
              "0.82    221.62\n",
              "0.83    227.00\n",
              "0.84    235.00\n",
              "0.85    242.00\n",
              "0.86    249.00\n",
              "0.87    258.00\n",
              "0.88    267.00\n",
              "0.89    278.00\n",
              "0.90    290.00\n",
              "0.91    304.00\n",
              "0.92    321.00\n",
              "0.93    339.00\n",
              "0.94    359.00\n",
              "0.95    388.00\n",
              "0.96    431.36\n",
              "0.97    486.00\n",
              "0.98    564.18\n",
              "0.99    706.09\n",
              "Name: no_of_games, dtype: float64"
            ]
          },
          "metadata": {
            "tags": []
          },
          "execution_count": 15
        }
      ]
    },
    {
      "cell_type": "code",
      "metadata": {
        "id": "uVBWoP6FoN-h",
        "colab_type": "code",
        "outputId": "20482a9e-53a4-476d-b452-056807522e22",
        "colab": {
          "base_uri": "https://localhost:8080/",
          "height": 204
        }
      },
      "source": [
        "#played games median\n",
        "#play_counts.played.quantile(np.arange(0.0,1.0,0.1))\n",
        "#Median 8, 80 is 32\n",
        "\n",
        "#Clusters\n",
        "#play_counts[play_counts.steamid.isin(\n",
        "#    data[data.ClusterID==1].steamid)].played.quantile(np.arange(0.0,1.0,0.1))\n",
        "#Cluster 1 median : 24 games median\n",
        "#play_counts[play_counts.steamid.isin(\n",
        "#    data[data.ClusterID==2].steamid)].played.quantile(np.arange(0.0,1.0,0.1))\n",
        "#Cluster 2: 77!\n",
        "\n",
        "#play_counts.unplayed.quantile(np.arange(0.0,1.0,0.1))\n",
        "play_counts.unplayed_percentage.quantile(np.arange(0.0,1.0,0.1)) #16%\n",
        "#Clusters\n",
        "#play_counts[play_counts.steamid.isin(\n",
        "#    data[data.ClusterID==1].steamid)].unplayed_percentage.quantile(np.arange(0.0,1.0,0.1))\n",
        "#Cluster 0 median : 24% median\n",
        "#play_counts[play_counts.steamid.isin(\n",
        "#    data[data.ClusterID==2].steamid)].unplayed_percentage.quantile(np.arange(0.0,1.0,0.1))\n",
        "#Cluster 1: 36%"
      ],
      "execution_count": 0,
      "outputs": [
        {
          "output_type": "execute_result",
          "data": {
            "text/plain": [
              "0.0    0.000000\n",
              "0.1    0.000000\n",
              "0.2    0.000000\n",
              "0.3    0.000000\n",
              "0.4    0.095238\n",
              "0.5    0.166667\n",
              "0.6    0.228070\n",
              "0.7    0.300000\n",
              "0.8    0.395833\n",
              "0.9    0.500000\n",
              "Name: unplayed_percentage, dtype: float64"
            ]
          },
          "metadata": {
            "tags": []
          },
          "execution_count": 16
        }
      ]
    },
    {
      "cell_type": "code",
      "metadata": {
        "id": "nBuedP5P_bDH",
        "colab_type": "code",
        "outputId": "00e68b59-a834-43c4-f3e2-b0f1784ad90e",
        "colab": {
          "base_uri": "https://localhost:8080/",
          "height": 204
        }
      },
      "source": [
        "play_counts.corr()"
      ],
      "execution_count": 0,
      "outputs": [
        {
          "output_type": "execute_result",
          "data": {
            "text/html": [
              "<div>\n",
              "<style scoped>\n",
              "    .dataframe tbody tr th:only-of-type {\n",
              "        vertical-align: middle;\n",
              "    }\n",
              "\n",
              "    .dataframe tbody tr th {\n",
              "        vertical-align: top;\n",
              "    }\n",
              "\n",
              "    .dataframe thead th {\n",
              "        text-align: right;\n",
              "    }\n",
              "</style>\n",
              "<table border=\"1\" class=\"dataframe\">\n",
              "  <thead>\n",
              "    <tr style=\"text-align: right;\">\n",
              "      <th></th>\n",
              "      <th>steamid</th>\n",
              "      <th>unplayed</th>\n",
              "      <th>played</th>\n",
              "      <th>no_of_games</th>\n",
              "      <th>unplayed_percentage</th>\n",
              "    </tr>\n",
              "  </thead>\n",
              "  <tbody>\n",
              "    <tr>\n",
              "      <th>steamid</th>\n",
              "      <td>1.000000</td>\n",
              "      <td>-0.180050</td>\n",
              "      <td>-0.271748</td>\n",
              "      <td>-0.248498</td>\n",
              "      <td>-0.356059</td>\n",
              "    </tr>\n",
              "    <tr>\n",
              "      <th>unplayed</th>\n",
              "      <td>-0.180050</td>\n",
              "      <td>1.000000</td>\n",
              "      <td>0.652205</td>\n",
              "      <td>0.909064</td>\n",
              "      <td>0.403828</td>\n",
              "    </tr>\n",
              "    <tr>\n",
              "      <th>played</th>\n",
              "      <td>-0.271748</td>\n",
              "      <td>0.652205</td>\n",
              "      <td>1.000000</td>\n",
              "      <td>0.908739</td>\n",
              "      <td>0.227833</td>\n",
              "    </tr>\n",
              "    <tr>\n",
              "      <th>no_of_games</th>\n",
              "      <td>-0.248498</td>\n",
              "      <td>0.909064</td>\n",
              "      <td>0.908739</td>\n",
              "      <td>1.000000</td>\n",
              "      <td>0.347568</td>\n",
              "    </tr>\n",
              "    <tr>\n",
              "      <th>unplayed_percentage</th>\n",
              "      <td>-0.356059</td>\n",
              "      <td>0.403828</td>\n",
              "      <td>0.227833</td>\n",
              "      <td>0.347568</td>\n",
              "      <td>1.000000</td>\n",
              "    </tr>\n",
              "  </tbody>\n",
              "</table>\n",
              "</div>"
            ],
            "text/plain": [
              "                      steamid  unplayed    played  no_of_games  unplayed_percentage\n",
              "steamid              1.000000 -0.180050 -0.271748    -0.248498            -0.356059\n",
              "unplayed            -0.180050  1.000000  0.652205     0.909064             0.403828\n",
              "played              -0.271748  0.652205  1.000000     0.908739             0.227833\n",
              "no_of_games         -0.248498  0.909064  0.908739     1.000000             0.347568\n",
              "unplayed_percentage -0.356059  0.403828  0.227833     0.347568             1.000000"
            ]
          },
          "metadata": {
            "tags": []
          },
          "execution_count": 17
        }
      ]
    },
    {
      "cell_type": "markdown",
      "metadata": {
        "id": "u2bQelC9gneN",
        "colab_type": "text"
      },
      "source": [
        "## Friendships"
      ]
    },
    {
      "cell_type": "markdown",
      "metadata": {
        "id": "MIO-oy72hcdR",
        "colab_type": "text"
      },
      "source": [
        " 9 million gamers (88.06%) add ten or less friends per year and only 2,500 gamers (0.02%) add more than two hundred friends per year. \n",
        "\n",
        " Without special action, users may not have more than 250 friends. This limit  is raised to 300 if a user links their Steam account with their Facebook account.\n",
        "\n",
        " "
      ]
    },
    {
      "cell_type": "code",
      "metadata": {
        "id": "zf_I3QIeRvMv",
        "colab_type": "code",
        "colab": {}
      },
      "source": [
        "#Friends data\n",
        "friends = pd.read_csv(friends_data)"
      ],
      "execution_count": 0,
      "outputs": []
    },
    {
      "cell_type": "code",
      "metadata": {
        "id": "sOkpVD4jSzw6",
        "colab_type": "code",
        "outputId": "ab9d35fb-5b55-4a85-c229-c3fc133536ac",
        "colab": {
          "base_uri": "https://localhost:8080/",
          "height": 153
        }
      },
      "source": [
        "friends.count() #10 Mil friendships"
      ],
      "execution_count": 0,
      "outputs": [
        {
          "output_type": "execute_result",
          "data": {
            "text/plain": [
              "steamid_a        10628381\n",
              "steamid_b        10628381\n",
              "relationship     10628381\n",
              "friend_since     10628381\n",
              "dateretrieved    10628381\n",
              "LccTag                  0\n",
              "steamid          10628381\n",
              "dtype: int64"
            ]
          },
          "metadata": {
            "tags": []
          },
          "execution_count": 19
        }
      ]
    },
    {
      "cell_type": "code",
      "metadata": {
        "id": "oVMgIlIkVSTF",
        "colab_type": "code",
        "outputId": "0e81c0b1-3d5a-4daf-fa5d-ac47030418cd",
        "colab": {
          "base_uri": "https://localhost:8080/",
          "height": 34
        }
      },
      "source": [
        "len(pd.unique(friends.steamid_a)) #216220\n",
        "len(pd.unique(friends[friends.steamid_a.isin(data.steamid)].steamid_a)) #60358"
      ],
      "execution_count": 0,
      "outputs": [
        {
          "output_type": "execute_result",
          "data": {
            "text/plain": [
              "60358"
            ]
          },
          "metadata": {
            "tags": []
          },
          "execution_count": 20
        }
      ]
    },
    {
      "cell_type": "code",
      "metadata": {
        "id": "1ydMdPqjHD2e",
        "colab_type": "code",
        "outputId": "f5a66660-19b4-42c4-86ea-71e5afbec258",
        "colab": {
          "base_uri": "https://localhost:8080/",
          "height": 204
        }
      },
      "source": [
        "#Friends data\n",
        "friends = pd.read_csv(friends_data)\n",
        "friends['friend_since_year'] = pd.to_datetime(friends.friend_since).dt.year\n",
        "friends.head()\n",
        "\n",
        "#Friendship \n",
        "friends = friends[['steamid_a','steamid_b','friend_since_year']].groupby(by=['steamid_a','friend_since_year'],as_index=False).count()\n",
        "friends.columns = ['steamid_a','friend_since_year','friends']\n",
        "friends = friends[friends.friend_since_year!=1969]\n",
        "friends.head()"
      ],
      "execution_count": 0,
      "outputs": [
        {
          "output_type": "execute_result",
          "data": {
            "text/html": [
              "<div>\n",
              "<style scoped>\n",
              "    .dataframe tbody tr th:only-of-type {\n",
              "        vertical-align: middle;\n",
              "    }\n",
              "\n",
              "    .dataframe tbody tr th {\n",
              "        vertical-align: top;\n",
              "    }\n",
              "\n",
              "    .dataframe thead th {\n",
              "        text-align: right;\n",
              "    }\n",
              "</style>\n",
              "<table border=\"1\" class=\"dataframe\">\n",
              "  <thead>\n",
              "    <tr style=\"text-align: right;\">\n",
              "      <th></th>\n",
              "      <th>steamid_a</th>\n",
              "      <th>friend_since_year</th>\n",
              "      <th>friends</th>\n",
              "    </tr>\n",
              "  </thead>\n",
              "  <tbody>\n",
              "    <tr>\n",
              "      <th>1</th>\n",
              "      <td>76561197960266039</td>\n",
              "      <td>2008</td>\n",
              "      <td>1</td>\n",
              "    </tr>\n",
              "    <tr>\n",
              "      <th>2</th>\n",
              "      <td>76561197960266039</td>\n",
              "      <td>2009</td>\n",
              "      <td>2</td>\n",
              "    </tr>\n",
              "    <tr>\n",
              "      <th>3</th>\n",
              "      <td>76561197960266039</td>\n",
              "      <td>2010</td>\n",
              "      <td>10</td>\n",
              "    </tr>\n",
              "    <tr>\n",
              "      <th>4</th>\n",
              "      <td>76561197960266039</td>\n",
              "      <td>2011</td>\n",
              "      <td>11</td>\n",
              "    </tr>\n",
              "    <tr>\n",
              "      <th>5</th>\n",
              "      <td>76561197960266039</td>\n",
              "      <td>2012</td>\n",
              "      <td>100</td>\n",
              "    </tr>\n",
              "  </tbody>\n",
              "</table>\n",
              "</div>"
            ],
            "text/plain": [
              "           steamid_a  friend_since_year  friends\n",
              "1  76561197960266039               2008        1\n",
              "2  76561197960266039               2009        2\n",
              "3  76561197960266039               2010       10\n",
              "4  76561197960266039               2011       11\n",
              "5  76561197960266039               2012      100"
            ]
          },
          "metadata": {
            "tags": []
          },
          "execution_count": 21
        }
      ]
    },
    {
      "cell_type": "code",
      "metadata": {
        "id": "Yq2FxyOTTY0U",
        "colab_type": "code",
        "outputId": "5c032fa0-b13e-4c55-c2ba-7a3d37900a07",
        "colab": {
          "base_uri": "https://localhost:8080/",
          "height": 884
        }
      },
      "source": [
        "friends_stats = friends.groupby(by=['steamid_a'],as_index=False).agg({'friends':'median'})\n",
        "friends_stats.friends.quantile(np.arange(0.5,1.0,0.01)) #10\n",
        "#Looks like the addicted people showcase similar social behaviour to the casual users\n",
        "\n",
        "friends_stats[friends_stats.steamid_a.isin(\n",
        "    data[data.ClusterID==1].steamid)].friends.quantile(np.arange(0.5,1.0,0.01))\n",
        "\n",
        "friends_stats[friends_stats.steamid_a.isin(\n",
        "    data[data.ClusterID==2].steamid)].friends.quantile(np.arange(0.5,1.0,0.01))"
      ],
      "execution_count": 0,
      "outputs": [
        {
          "output_type": "execute_result",
          "data": {
            "text/plain": [
              "0.50     11.0\n",
              "0.51     12.0\n",
              "0.52     12.0\n",
              "0.53     12.5\n",
              "0.54     13.0\n",
              "0.55     13.0\n",
              "0.56     14.0\n",
              "0.57     14.0\n",
              "0.58     14.5\n",
              "0.59     15.0\n",
              "0.60     15.5\n",
              "0.61     16.0\n",
              "0.62     16.5\n",
              "0.63     17.0\n",
              "0.64     17.5\n",
              "0.65     18.0\n",
              "0.66     19.0\n",
              "0.67     19.5\n",
              "0.68     20.0\n",
              "0.69     21.0\n",
              "0.70     21.5\n",
              "0.71     22.5\n",
              "0.72     23.0\n",
              "0.73     24.0\n",
              "0.74     25.0\n",
              "0.75     26.0\n",
              "0.76     27.0\n",
              "0.77     28.0\n",
              "0.78     29.0\n",
              "0.79     30.0\n",
              "0.80     31.5\n",
              "0.81     33.0\n",
              "0.82     34.0\n",
              "0.83     36.0\n",
              "0.84     37.0\n",
              "0.85     39.0\n",
              "0.86     41.0\n",
              "0.87     43.0\n",
              "0.88     45.0\n",
              "0.89     47.0\n",
              "0.90     50.0\n",
              "0.91     53.0\n",
              "0.92     56.0\n",
              "0.93     60.0\n",
              "0.94     65.0\n",
              "0.95     70.0\n",
              "0.96     77.0\n",
              "0.97     87.0\n",
              "0.98    102.0\n",
              "0.99    125.0\n",
              "Name: friends, dtype: float64"
            ]
          },
          "metadata": {
            "tags": []
          },
          "execution_count": 22
        }
      ]
    },
    {
      "cell_type": "code",
      "metadata": {
        "id": "hXoUj5SAdWN9",
        "colab_type": "code",
        "outputId": "5dbf29df-36a6-41b8-d9f7-8976a2f33768",
        "colab": {
          "base_uri": "https://localhost:8080/",
          "height": 34
        }
      },
      "source": [
        "friends_stats[friends_stats.friends<=10].count()[1]*100/friends_stats.count()[1] #51.48%\n",
        "#friends_stats[friends_stats.friends>50].count()[1]*100/friends_stats.count()[1] #8.33%"
      ],
      "execution_count": 0,
      "outputs": [
        {
          "output_type": "execute_result",
          "data": {
            "text/plain": [
              "51.48163093035013"
            ]
          },
          "metadata": {
            "tags": []
          },
          "execution_count": 23
        }
      ]
    },
    {
      "cell_type": "code",
      "metadata": {
        "id": "q4n_c3uFOEyo",
        "colab_type": "code",
        "outputId": "76053498-2d03-4f15-f685-5df77e0502b2",
        "colab": {
          "base_uri": "https://localhost:8080/",
          "height": 204
        }
      },
      "source": [
        "friends_stats = friends.groupby(by=['friend_since_year'],as_index=False).agg({'friends':'median'})\n",
        "friends_stats.head()"
      ],
      "execution_count": 0,
      "outputs": [
        {
          "output_type": "execute_result",
          "data": {
            "text/html": [
              "<div>\n",
              "<style scoped>\n",
              "    .dataframe tbody tr th:only-of-type {\n",
              "        vertical-align: middle;\n",
              "    }\n",
              "\n",
              "    .dataframe tbody tr th {\n",
              "        vertical-align: top;\n",
              "    }\n",
              "\n",
              "    .dataframe thead th {\n",
              "        text-align: right;\n",
              "    }\n",
              "</style>\n",
              "<table border=\"1\" class=\"dataframe\">\n",
              "  <thead>\n",
              "    <tr style=\"text-align: right;\">\n",
              "      <th></th>\n",
              "      <th>friend_since_year</th>\n",
              "      <th>friends</th>\n",
              "    </tr>\n",
              "  </thead>\n",
              "  <tbody>\n",
              "    <tr>\n",
              "      <th>0</th>\n",
              "      <td>2008</td>\n",
              "      <td>1</td>\n",
              "    </tr>\n",
              "    <tr>\n",
              "      <th>1</th>\n",
              "      <td>2009</td>\n",
              "      <td>4</td>\n",
              "    </tr>\n",
              "    <tr>\n",
              "      <th>2</th>\n",
              "      <td>2010</td>\n",
              "      <td>4</td>\n",
              "    </tr>\n",
              "    <tr>\n",
              "      <th>3</th>\n",
              "      <td>2011</td>\n",
              "      <td>4</td>\n",
              "    </tr>\n",
              "    <tr>\n",
              "      <th>4</th>\n",
              "      <td>2012</td>\n",
              "      <td>8</td>\n",
              "    </tr>\n",
              "  </tbody>\n",
              "</table>\n",
              "</div>"
            ],
            "text/plain": [
              "   friend_since_year  friends\n",
              "0               2008        1\n",
              "1               2009        4\n",
              "2               2010        4\n",
              "3               2011        4\n",
              "4               2012        8"
            ]
          },
          "metadata": {
            "tags": []
          },
          "execution_count": 24
        }
      ]
    },
    {
      "cell_type": "code",
      "metadata": {
        "id": "qAl5akU_XNIA",
        "colab_type": "code",
        "outputId": "9ae68eb5-2beb-4d70-844a-b41850bdef3b",
        "colab": {
          "base_uri": "https://localhost:8080/",
          "height": 311
        }
      },
      "source": [
        "friends_stats = friends.groupby(by=['friend_since_year'],as_index=False).agg({'friends':'mean'})\n",
        "friends_stats.head()\n",
        "\n",
        "ax = sns.lineplot('friend_since_year','friends',data=friends_stats)\n",
        "ax.set(xlabel='Year')\n",
        "ax.set(ylabel='Total friendships')\n",
        "plt.title('Total number of friendships \\nmade each year by the heavy gamers', y=-0.3)\n",
        "plt.show()"
      ],
      "execution_count": 0,
      "outputs": [
        {
          "output_type": "display_data",
          "data": {
            "image/png": "[encoded data removed]",
            "text/plain": [
              "<Figure size 432x288 with 1 Axes>"
            ]
          },
          "metadata": {
            "tags": []
          }
        }
      ]
    },
    {
      "cell_type": "code",
      "metadata": {
        "id": "ZgZWyFWLHneA",
        "colab_type": "code",
        "outputId": "69a22b39-185c-4652-d6ca-fedd1b671987",
        "colab": {
          "base_uri": "https://localhost:8080/",
          "height": 204
        }
      },
      "source": [
        "player_summary = pd.read_csv(player_summary_loc)\n",
        "player_summary = player_summary[player_summary.steamid.isin(data.steamid)]\n",
        "accounts = player_summary[['steamid','timecreated']][-player_summary.timecreated.isna()]\n",
        "accounts['year'] = pd.to_datetime(accounts.timecreated).dt.year\n",
        "accounts = accounts.groupby('year',as_index=False).count()[['year','steamid']]\n",
        "accounts.columns = ['year','total']\n",
        "accounts.head()"
      ],
      "execution_count": 0,
      "outputs": [
        {
          "output_type": "execute_result",
          "data": {
            "text/html": [
              "<div>\n",
              "<style scoped>\n",
              "    .dataframe tbody tr th:only-of-type {\n",
              "        vertical-align: middle;\n",
              "    }\n",
              "\n",
              "    .dataframe tbody tr th {\n",
              "        vertical-align: top;\n",
              "    }\n",
              "\n",
              "    .dataframe thead th {\n",
              "        text-align: right;\n",
              "    }\n",
              "</style>\n",
              "<table border=\"1\" class=\"dataframe\">\n",
              "  <thead>\n",
              "    <tr style=\"text-align: right;\">\n",
              "      <th></th>\n",
              "      <th>year</th>\n",
              "      <th>total</th>\n",
              "    </tr>\n",
              "  </thead>\n",
              "  <tbody>\n",
              "    <tr>\n",
              "      <th>0</th>\n",
              "      <td>2003</td>\n",
              "      <td>1406</td>\n",
              "    </tr>\n",
              "    <tr>\n",
              "      <th>1</th>\n",
              "      <td>2004</td>\n",
              "      <td>3402</td>\n",
              "    </tr>\n",
              "    <tr>\n",
              "      <th>2</th>\n",
              "      <td>2005</td>\n",
              "      <td>1886</td>\n",
              "    </tr>\n",
              "    <tr>\n",
              "      <th>3</th>\n",
              "      <td>2006</td>\n",
              "      <td>2112</td>\n",
              "    </tr>\n",
              "    <tr>\n",
              "      <th>4</th>\n",
              "      <td>2007</td>\n",
              "      <td>4077</td>\n",
              "    </tr>\n",
              "  </tbody>\n",
              "</table>\n",
              "</div>"
            ],
            "text/plain": [
              "   year  total\n",
              "0  2003   1406\n",
              "1  2004   3402\n",
              "2  2005   1886\n",
              "3  2006   2112\n",
              "4  2007   4077"
            ]
          },
          "metadata": {
            "tags": []
          },
          "execution_count": 26
        }
      ]
    },
    {
      "cell_type": "code",
      "metadata": {
        "id": "2vPyisvgI59w",
        "colab_type": "code",
        "outputId": "672705a0-1a2c-4ab4-888b-fca459138746",
        "colab": {
          "base_uri": "https://localhost:8080/",
          "height": 311
        }
      },
      "source": [
        "ax = sns.lineplot('year','total',data=accounts[accounts.year<2012])\n",
        "ax.set(xlabel='Year')\n",
        "ax.set(ylabel='Number of new accounts')\n",
        "plt.title('Number of new accounts of the heavy \\ngamers each year until 2011', y=-0.3)\n",
        "plt.show()"
      ],
      "execution_count": 0,
      "outputs": [
        {
          "output_type": "display_data",
          "data": {
            "image/png": "[encoded data removed]",
            "text/plain": [
              "<Figure size 432x288 with 1 Axes>"
            ]
          },
          "metadata": {
            "tags": []
          }
        }
      ]
    },
    {
      "cell_type": "code",
      "metadata": {
        "id": "RyMFidgyYjTP",
        "colab_type": "code",
        "outputId": "3c5cb00d-cf1d-4117-9256-a0b632f15674",
        "colab": {
          "base_uri": "https://localhost:8080/",
          "height": 279
        }
      },
      "source": [
        "friends_stats = friends[friends.steamid_a.isin(\n",
        "    data[data.ClusterID==1].steamid\n",
        ")].groupby(by=['friend_since_year'],as_index=False).agg({'friends':'sum'})\n",
        "friends_stats.head()\n",
        "\n",
        "ax = sns.lineplot('friend_since_year','friends',data=friends_stats)\n",
        "ax.set(xlabel='Year')\n",
        "ax.set(ylabel='Total friendships')\n",
        "plt.show()"
      ],
      "execution_count": 0,
      "outputs": [
        {
          "output_type": "display_data",
          "data": {
            "image/png": "[encoded data removed]",
            "text/plain": [
              "<Figure size 432x288 with 1 Axes>"
            ]
          },
          "metadata": {
            "tags": []
          }
        }
      ]
    },
    {
      "cell_type": "code",
      "metadata": {
        "id": "QRr7qigjYul3",
        "colab_type": "code",
        "outputId": "77af3f4d-7e39-4447-f3c2-f9a91c0c8188",
        "colab": {
          "base_uri": "https://localhost:8080/",
          "height": 279
        }
      },
      "source": [
        "friends_stats = friends[friends.steamid_a.isin(\n",
        "    data[data.ClusterID==2].steamid\n",
        ")].groupby(by=['friend_since_year'],as_index=False).agg({'friends':'sum'})\n",
        "friends_stats.head()\n",
        "\n",
        "ax = sns.lineplot('friend_since_year','friends',data=friends_stats)#.set_title('lalala')\n",
        "ax.set(xlabel='Year')\n",
        "ax.set(ylabel='Total friendships')\n",
        "plt.show()"
      ],
      "execution_count": 0,
      "outputs": [
        {
          "output_type": "display_data",
          "data": {
            "image/png": "[encoded data removed]",
            "text/plain": [
              "<Figure size 432x288 with 1 Axes>"
            ]
          },
          "metadata": {
            "tags": []
          }
        }
      ]
    },
    {
      "cell_type": "code",
      "metadata": {
        "id": "08XjtP5SOkix",
        "colab_type": "code",
        "outputId": "78641e07-69d1-4af4-9204-84c5938aa47b",
        "colab": {
          "base_uri": "https://localhost:8080/",
          "height": 80
        }
      },
      "source": [
        "friends_stats = friends[friends.friend_since_year==2012].groupby(by=['friend_since_year'],as_index=False).agg({'friends':'median'})\n",
        "friends_stats.head() #8 friends"
      ],
      "execution_count": 0,
      "outputs": [
        {
          "output_type": "execute_result",
          "data": {
            "text/html": [
              "<div>\n",
              "<style scoped>\n",
              "    .dataframe tbody tr th:only-of-type {\n",
              "        vertical-align: middle;\n",
              "    }\n",
              "\n",
              "    .dataframe tbody tr th {\n",
              "        vertical-align: top;\n",
              "    }\n",
              "\n",
              "    .dataframe thead th {\n",
              "        text-align: right;\n",
              "    }\n",
              "</style>\n",
              "<table border=\"1\" class=\"dataframe\">\n",
              "  <thead>\n",
              "    <tr style=\"text-align: right;\">\n",
              "      <th></th>\n",
              "      <th>friend_since_year</th>\n",
              "      <th>friends</th>\n",
              "    </tr>\n",
              "  </thead>\n",
              "  <tbody>\n",
              "    <tr>\n",
              "      <th>0</th>\n",
              "      <td>2012</td>\n",
              "      <td>8</td>\n",
              "    </tr>\n",
              "  </tbody>\n",
              "</table>\n",
              "</div>"
            ],
            "text/plain": [
              "   friend_since_year  friends\n",
              "0               2012        8"
            ]
          },
          "metadata": {
            "tags": []
          },
          "execution_count": 30
        }
      ]
    },
    {
      "cell_type": "markdown",
      "metadata": {
        "id": "3D1uUO_IPWom",
        "colab_type": "text"
      },
      "source": [
        "Social behaviour of addicted users are similar to that of casual players"
      ]
    },
    {
      "cell_type": "code",
      "metadata": {
        "id": "HR77CW_jPcF0",
        "colab_type": "code",
        "outputId": "80e3f1fe-ab42-483d-8416-abaa3c6be336",
        "colab": {
          "base_uri": "https://localhost:8080/",
          "height": 111
        }
      },
      "source": [
        "#Looking at the clusters\n",
        "cluster_means[['ClusterID','total_friend_connections','avg_friend_duration','account_age']].head()\n",
        "\n",
        "#1 has fewer friends and newer friends \n",
        "#2 keeps older and has more friends\n",
        "#However 1 : Accounts are newer by almost an year on average"
      ],
      "execution_count": 0,
      "outputs": [
        {
          "output_type": "execute_result",
          "data": {
            "text/html": [
              "<div>\n",
              "<style scoped>\n",
              "    .dataframe tbody tr th:only-of-type {\n",
              "        vertical-align: middle;\n",
              "    }\n",
              "\n",
              "    .dataframe tbody tr th {\n",
              "        vertical-align: top;\n",
              "    }\n",
              "\n",
              "    .dataframe thead th {\n",
              "        text-align: right;\n",
              "    }\n",
              "</style>\n",
              "<table border=\"1\" class=\"dataframe\">\n",
              "  <thead>\n",
              "    <tr style=\"text-align: right;\">\n",
              "      <th></th>\n",
              "      <th>ClusterID</th>\n",
              "      <th>total_friend_connections</th>\n",
              "      <th>avg_friend_duration</th>\n",
              "      <th>account_age</th>\n",
              "    </tr>\n",
              "  </thead>\n",
              "  <tbody>\n",
              "    <tr>\n",
              "      <th>0</th>\n",
              "      <td>1</td>\n",
              "      <td>34.789813</td>\n",
              "      <td>324.657841</td>\n",
              "      <td>1283.870395</td>\n",
              "    </tr>\n",
              "    <tr>\n",
              "      <th>1</th>\n",
              "      <td>2</td>\n",
              "      <td>68.512031</td>\n",
              "      <td>416.765920</td>\n",
              "      <td>1543.859229</td>\n",
              "    </tr>\n",
              "  </tbody>\n",
              "</table>\n",
              "</div>"
            ],
            "text/plain": [
              "   ClusterID  total_friend_connections  avg_friend_duration  account_age\n",
              "0          1                 34.789813           324.657841  1283.870395\n",
              "1          2                 68.512031           416.765920  1543.859229"
            ]
          },
          "metadata": {
            "tags": []
          },
          "execution_count": 31
        }
      ]
    },
    {
      "cell_type": "code",
      "metadata": {
        "id": "ftv4XK4gPqZa",
        "colab_type": "code",
        "outputId": "663ab1f8-383f-4c5b-e8b9-bd1a8dffd3ed",
        "colab": {
          "base_uri": "https://localhost:8080/",
          "height": 204
        }
      },
      "source": [
        "\n",
        "friends_stats = friends[(friends.steamid_a.isin(data[data.ClusterID==1].steamid)) & \n",
        "                        (friends.friend_since_year==2012)].groupby(by=['steamid_a'],as_index=False).agg({'friends':'median'})\n",
        "friends_stats.friends.quantile(np.arange(0.1,1.1,0.1)) #6\n",
        "\n",
        "\n",
        "#1 : Median 6"
      ],
      "execution_count": 0,
      "outputs": [
        {
          "output_type": "execute_result",
          "data": {
            "text/plain": [
              "0.1      1.0\n",
              "0.2      2.0\n",
              "0.3      3.0\n",
              "0.4      5.0\n",
              "0.5      6.0\n",
              "0.6      9.0\n",
              "0.7     12.0\n",
              "0.8     18.0\n",
              "0.9     29.0\n",
              "1.0    263.0\n",
              "Name: friends, dtype: float64"
            ]
          },
          "metadata": {
            "tags": []
          },
          "execution_count": 32
        }
      ]
    },
    {
      "cell_type": "code",
      "metadata": {
        "id": "6SfclQEKimgb",
        "colab_type": "code",
        "outputId": "b7c87d18-22dc-440a-9b1d-43db658d3187",
        "colab": {
          "base_uri": "https://localhost:8080/",
          "height": 204
        }
      },
      "source": [
        "friends_stats = friends[friends.steamid_a.isin(data[data.ClusterID==2].steamid)].groupby(by=['steamid_a'],\n",
        "                                                                                        as_index=False).agg({'friends':'median'})\n",
        "friends_stats.friends.quantile(np.arange(0.1,1.1,0.1)) #11"
      ],
      "execution_count": 0,
      "outputs": [
        {
          "output_type": "execute_result",
          "data": {
            "text/plain": [
              "0.1      2.0\n",
              "0.2      4.0\n",
              "0.3      6.0\n",
              "0.4      8.0\n",
              "0.5     11.0\n",
              "0.6     15.5\n",
              "0.7     21.5\n",
              "0.8     31.5\n",
              "0.9     50.0\n",
              "1.0    304.0\n",
              "Name: friends, dtype: float64"
            ]
          },
          "metadata": {
            "tags": []
          },
          "execution_count": 33
        }
      ]
    },
    {
      "cell_type": "markdown",
      "metadata": {
        "id": "ISP5y_BbiKq4",
        "colab_type": "text"
      },
      "source": [
        "## Groups"
      ]
    },
    {
      "cell_type": "markdown",
      "metadata": {
        "id": "Woru3k4hiNfL",
        "colab_type": "text"
      },
      "source": [
        "We find that large amounts of groups have members with playtime for larger numbers of games (game counts of 100 - 1000). However, as the number of  distinct games continues to increase the number of corresponding groups  decreases. This decline occurs because most users who own games (89.78%) own  less than 20 games, making large numbers of distinct games across the group a  rarity."
      ]
    },
    {
      "cell_type": "code",
      "metadata": {
        "id": "4d72s4JYt9uh",
        "colab_type": "code",
        "outputId": "984c68d7-ad14-47ab-f829-3ffa4bb934e1",
        "colab": {
          "base_uri": "https://localhost:8080/",
          "height": 111
        }
      },
      "source": [
        "cluster_means[['ClusterID','no_of_groups']].head()\n",
        "#1 part of 5 groups and 2 is 14."
      ],
      "execution_count": 0,
      "outputs": [
        {
          "output_type": "execute_result",
          "data": {
            "text/html": [
              "<div>\n",
              "<style scoped>\n",
              "    .dataframe tbody tr th:only-of-type {\n",
              "        vertical-align: middle;\n",
              "    }\n",
              "\n",
              "    .dataframe tbody tr th {\n",
              "        vertical-align: top;\n",
              "    }\n",
              "\n",
              "    .dataframe thead th {\n",
              "        text-align: right;\n",
              "    }\n",
              "</style>\n",
              "<table border=\"1\" class=\"dataframe\">\n",
              "  <thead>\n",
              "    <tr style=\"text-align: right;\">\n",
              "      <th></th>\n",
              "      <th>ClusterID</th>\n",
              "      <th>no_of_groups</th>\n",
              "    </tr>\n",
              "  </thead>\n",
              "  <tbody>\n",
              "    <tr>\n",
              "      <th>0</th>\n",
              "      <td>1</td>\n",
              "      <td>4.691964</td>\n",
              "    </tr>\n",
              "    <tr>\n",
              "      <th>1</th>\n",
              "      <td>2</td>\n",
              "      <td>14.200027</td>\n",
              "    </tr>\n",
              "  </tbody>\n",
              "</table>\n",
              "</div>"
            ],
            "text/plain": [
              "   ClusterID  no_of_groups\n",
              "0          1      4.691964\n",
              "1          2     14.200027"
            ]
          },
          "metadata": {
            "tags": []
          },
          "execution_count": 34
        }
      ]
    },
    {
      "cell_type": "code",
      "metadata": {
        "id": "7z1la0biyQaY",
        "colab_type": "code",
        "outputId": "fd312a61-25b3-43ea-cd6d-58e3215fec4d",
        "colab": {
          "base_uri": "https://localhost:8080/",
          "height": 884
        }
      },
      "source": [
        "#Lets look at the overall data\n",
        "groups = pd.read_csv(groups_data)\n",
        "groups.groupby(by = 'steamid',as_index=False).count().groupid.quantile(np.arange(0.5,1,0.01))\n",
        "#Median is 5 groups overall\n",
        "\n",
        "#Cluster1\n",
        "groups[groups.steamid.isin(data[data.ClusterID==1].steamid)].groupby(by = 'steamid',as_index=False\n",
        "                                                                     ).count().groupid.quantile(np.arange(0.5,1,0.01))\n",
        "#median 4 and 90 percentile 16\n",
        "\n",
        "#Cluster2\n",
        "groups[groups.steamid.isin(data[data.ClusterID==2].steamid)].groupby(by = 'steamid',as_index=False\n",
        "                                                                     ).count().groupid.quantile(np.arange(0.5,1,0.01))\n",
        "#median 12 and 90 percentile 60"
      ],
      "execution_count": 0,
      "outputs": [
        {
          "output_type": "execute_result",
          "data": {
            "text/plain": [
              "0.50     12.0\n",
              "0.51     13.0\n",
              "0.52     13.0\n",
              "0.53     14.0\n",
              "0.54     14.0\n",
              "0.55     15.0\n",
              "0.56     15.0\n",
              "0.57     15.0\n",
              "0.58     16.0\n",
              "0.59     16.0\n",
              "0.60     17.0\n",
              "0.61     18.0\n",
              "0.62     18.0\n",
              "0.63     19.0\n",
              "0.64     19.0\n",
              "0.65     20.0\n",
              "0.66     21.0\n",
              "0.67     21.0\n",
              "0.68     22.0\n",
              "0.69     23.0\n",
              "0.70     24.0\n",
              "0.71     25.0\n",
              "0.72     25.0\n",
              "0.73     27.0\n",
              "0.74     28.0\n",
              "0.75     29.0\n",
              "0.76     30.0\n",
              "0.77     31.0\n",
              "0.78     32.0\n",
              "0.79     34.0\n",
              "0.80     35.0\n",
              "0.81     36.0\n",
              "0.82     38.0\n",
              "0.83     40.0\n",
              "0.84     42.0\n",
              "0.85     44.0\n",
              "0.86     47.0\n",
              "0.87     50.0\n",
              "0.88     53.0\n",
              "0.89     57.0\n",
              "0.90     61.0\n",
              "0.91     66.0\n",
              "0.92     72.0\n",
              "0.93     79.0\n",
              "0.94     88.0\n",
              "0.95    100.0\n",
              "0.96    114.0\n",
              "0.97    137.0\n",
              "0.98    173.0\n",
              "0.99    256.0\n",
              "Name: groupid, dtype: float64"
            ]
          },
          "metadata": {
            "tags": []
          },
          "execution_count": 35
        }
      ]
    },
    {
      "cell_type": "markdown",
      "metadata": {
        "id": "K5wyEr8plWzc",
        "colab_type": "text"
      },
      "source": [
        "## Play times"
      ]
    },
    {
      "cell_type": "markdown",
      "metadata": {
        "id": "Q4bjiSWUlZ9z",
        "colab_type": "text"
      },
      "source": [
        "The top 20% of Steam users account for 82.4% of the total playtime of all games played on Steam.\n",
        "Over 80% of Steam gamers had not played any of their games at all in the two weeks prior to our requesting their gaming data.\n",
        "The 80th percentile is 32.05 hours, or about 16 hours a week on average.\n",
        "80th percentile value of non-zero two-week playtimes corresponds to the 95th percentile of overall two-week playtimes.\n",
        "There are indeed some users who have extreme playtimes on the order of 80-90% of the maximum two-week playtime. These values constitute a very minor portion of our data (0.01% of users).\n",
        "67.7% of two-week playtimes as well as 57.7% of total playtimes are devoted entirely to playing multiplayer games, despite the fact that only 48.7% of games on Steam are multiplayer games (i.e. have a multiplayer component)\n"
      ]
    },
    {
      "cell_type": "code",
      "metadata": {
        "id": "v0cDnHcaKWOC",
        "colab_type": "code",
        "outputId": "a1d72520-5189-4f5f-f8e2-e18a6e41fbe0",
        "colab": {
          "base_uri": "https://localhost:8080/",
          "height": 204
        }
      },
      "source": [
        "gameplay.head()"
      ],
      "execution_count": 0,
      "outputs": [
        {
          "output_type": "execute_result",
          "data": {
            "text/html": [
              "<div>\n",
              "<style scoped>\n",
              "    .dataframe tbody tr th:only-of-type {\n",
              "        vertical-align: middle;\n",
              "    }\n",
              "\n",
              "    .dataframe tbody tr th {\n",
              "        vertical-align: top;\n",
              "    }\n",
              "\n",
              "    .dataframe thead th {\n",
              "        text-align: right;\n",
              "    }\n",
              "</style>\n",
              "<table border=\"1\" class=\"dataframe\">\n",
              "  <thead>\n",
              "    <tr style=\"text-align: right;\">\n",
              "      <th></th>\n",
              "      <th>steamid</th>\n",
              "      <th>appid</th>\n",
              "      <th>playtime_2weeks</th>\n",
              "      <th>playtime_forever</th>\n",
              "      <th>dateretrieved</th>\n",
              "      <th>unplayed</th>\n",
              "      <th>played</th>\n",
              "    </tr>\n",
              "  </thead>\n",
              "  <tbody>\n",
              "    <tr>\n",
              "      <th>0</th>\n",
              "      <td>76561197960266039</td>\n",
              "      <td>10</td>\n",
              "      <td>7.0</td>\n",
              "      <td>1311.0</td>\n",
              "      <td>2013-05-06 16:00:46</td>\n",
              "      <td>0</td>\n",
              "      <td>1</td>\n",
              "    </tr>\n",
              "    <tr>\n",
              "      <th>1</th>\n",
              "      <td>76561197960266039</td>\n",
              "      <td>20</td>\n",
              "      <td>0.0</td>\n",
              "      <td>391.0</td>\n",
              "      <td>2013-05-06 16:00:46</td>\n",
              "      <td>0</td>\n",
              "      <td>1</td>\n",
              "    </tr>\n",
              "    <tr>\n",
              "      <th>2</th>\n",
              "      <td>76561197960266039</td>\n",
              "      <td>30</td>\n",
              "      <td>0.0</td>\n",
              "      <td>0.0</td>\n",
              "      <td>2013-05-06 16:00:46</td>\n",
              "      <td>1</td>\n",
              "      <td>0</td>\n",
              "    </tr>\n",
              "    <tr>\n",
              "      <th>3</th>\n",
              "      <td>76561197960266039</td>\n",
              "      <td>40</td>\n",
              "      <td>0.0</td>\n",
              "      <td>748.0</td>\n",
              "      <td>2013-05-06 16:00:46</td>\n",
              "      <td>0</td>\n",
              "      <td>1</td>\n",
              "    </tr>\n",
              "    <tr>\n",
              "      <th>4</th>\n",
              "      <td>76561197960266039</td>\n",
              "      <td>50</td>\n",
              "      <td>0.0</td>\n",
              "      <td>0.0</td>\n",
              "      <td>2013-05-06 16:00:46</td>\n",
              "      <td>1</td>\n",
              "      <td>0</td>\n",
              "    </tr>\n",
              "  </tbody>\n",
              "</table>\n",
              "</div>"
            ],
            "text/plain": [
              "             steamid  appid  playtime_2weeks  playtime_forever        dateretrieved  unplayed  played\n",
              "0  76561197960266039     10              7.0            1311.0  2013-05-06 16:00:46         0       1\n",
              "1  76561197960266039     20              0.0             391.0  2013-05-06 16:00:46         0       1\n",
              "2  76561197960266039     30              0.0               0.0  2013-05-06 16:00:46         1       0\n",
              "3  76561197960266039     40              0.0             748.0  2013-05-06 16:00:46         0       1\n",
              "4  76561197960266039     50              0.0               0.0  2013-05-06 16:00:46         1       0"
            ]
          },
          "metadata": {
            "tags": []
          },
          "execution_count": 36
        }
      ]
    },
    {
      "cell_type": "code",
      "metadata": {
        "id": "sPuiNWGjbD1d",
        "colab_type": "code",
        "outputId": "5c74a98e-2d76-4f1a-ea40-5a3adab5e1e2",
        "colab": {
          "base_uri": "https://localhost:8080/",
          "height": 111
        }
      },
      "source": [
        "play_stats = gameplay.merge(data,on='steamid',how='inner')\n",
        "#play_stats = gameplay[gameplay.played==1].groupby(by='steamid',as_index=False).agg(\n",
        "#    {'playtime_2weeks' : 'median','playtime_forever':'median'})\n",
        "\n",
        "play_stats = play_stats[['playtime_2weeks_x','playtime_forever_x','played','ClusterID']]\n",
        "play_stats.head()\n",
        "play_stats[play_stats.played==1].groupby(by='ClusterID',as_index=False).agg(\n",
        "    {'playtime_2weeks_x' : 'mean','playtime_forever_x':'mean'})"
      ],
      "execution_count": 0,
      "outputs": [
        {
          "output_type": "execute_result",
          "data": {
            "text/html": [
              "<div>\n",
              "<style scoped>\n",
              "    .dataframe tbody tr th:only-of-type {\n",
              "        vertical-align: middle;\n",
              "    }\n",
              "\n",
              "    .dataframe tbody tr th {\n",
              "        vertical-align: top;\n",
              "    }\n",
              "\n",
              "    .dataframe thead th {\n",
              "        text-align: right;\n",
              "    }\n",
              "</style>\n",
              "<table border=\"1\" class=\"dataframe\">\n",
              "  <thead>\n",
              "    <tr style=\"text-align: right;\">\n",
              "      <th></th>\n",
              "      <th>ClusterID</th>\n",
              "      <th>playtime_2weeks_x</th>\n",
              "      <th>playtime_forever_x</th>\n",
              "    </tr>\n",
              "  </thead>\n",
              "  <tbody>\n",
              "    <tr>\n",
              "      <th>0</th>\n",
              "      <td>1</td>\n",
              "      <td>246.349606</td>\n",
              "      <td>4087.082287</td>\n",
              "    </tr>\n",
              "    <tr>\n",
              "      <th>1</th>\n",
              "      <td>2</td>\n",
              "      <td>79.900965</td>\n",
              "      <td>2042.760362</td>\n",
              "    </tr>\n",
              "  </tbody>\n",
              "</table>\n",
              "</div>"
            ],
            "text/plain": [
              "   ClusterID  playtime_2weeks_x  playtime_forever_x\n",
              "0          1         246.349606         4087.082287\n",
              "1          2          79.900965         2042.760362"
            ]
          },
          "metadata": {
            "tags": []
          },
          "execution_count": 44
        }
      ]
    },
    {
      "cell_type": "code",
      "metadata": {
        "id": "iCymtD7CKt_C",
        "colab_type": "code",
        "outputId": "84c756ec-3b3b-474a-dd32-edee2513341d",
        "colab": {
          "base_uri": "https://localhost:8080/",
          "height": 119
        }
      },
      "source": [
        "#Playtime 2 weeks statistics\n",
        "play_stats = gameplay.groupby(by='steamid',as_index=False).agg({'playtime_2weeks' : 'sum','playtime_forever':'sum'})\n",
        "\n",
        "play_stats.playtime_2weeks.quantile([0.5,0.8,0.9,0.95,0.99])/60\n",
        "#Median is 6363.0 minutes in 2 weeks while the 80th percentile is 8347.0 minutes\n",
        "\n",
        "play_stats[play_stats.steamid.isin(data[data.ClusterID==1].steamid\n",
        "                                   )].playtime_2weeks.quantile([0.5,0.8,0.9,0.95,0.99])/60\n",
        "#median 6256.0\n",
        "\n",
        "play_stats[play_stats.steamid.isin(data[data.ClusterID==2].steamid\n",
        "                                   )].playtime_2weeks.quantile([0.5,0.8,0.9,0.95,0.99])/60\n",
        "#6343.0"
      ],
      "execution_count": 0,
      "outputs": [
        {
          "output_type": "execute_result",
          "data": {
            "text/plain": [
              "0.50    105.733333\n",
              "0.80    136.666667\n",
              "0.90    165.800000\n",
              "0.95    203.122500\n",
              "0.99    318.571167\n",
              "Name: playtime_2weeks, dtype: float64"
            ]
          },
          "metadata": {
            "tags": []
          },
          "execution_count": 89
        }
      ]
    },
    {
      "cell_type": "code",
      "metadata": {
        "id": "GMyrApT71RmQ",
        "colab_type": "code",
        "outputId": "baaa3d0d-6331-4a63-db00-8020db97f9b7",
        "colab": {
          "base_uri": "https://localhost:8080/",
          "height": 119
        }
      },
      "source": [
        "play_stats.playtime_forever.quantile([0.5,0.8,0.9,0.95,0.99])/60\n",
        "#Median is 6363.0 minutes in 2 weeks while the 80th percentile is 8347.0 minutes\n",
        "\n",
        "play_stats[play_stats.steamid.isin(data[data.ClusterID==1].steamid\n",
        "                                   )].playtime_forever.quantile([0.5,0.8,0.9,0.95,0.99])/60\n",
        "#median 6256.0\n",
        "\n",
        "play_stats[play_stats.steamid.isin(data[data.ClusterID==2].steamid\n",
        "                                   )].playtime_forever.quantile([0.5,0.8,0.9,0.95,0.99])/60\n",
        "#6343.0"
      ],
      "execution_count": 0,
      "outputs": [
        {
          "output_type": "execute_result",
          "data": {
            "text/plain": [
              "0.50     2634.775000\n",
              "0.80     4312.563333\n",
              "0.90     5508.005000\n",
              "0.95     6697.865833\n",
              "0.99    10039.651833\n",
              "Name: playtime_forever, dtype: float64"
            ]
          },
          "metadata": {
            "tags": []
          },
          "execution_count": 92
        }
      ]
    },
    {
      "cell_type": "code",
      "metadata": {
        "id": "gYL6c81GN_Gt",
        "colab_type": "code",
        "outputId": "77a72d18-43e5-47e3-f190-97848572e866",
        "colab": {
          "base_uri": "https://localhost:8080/",
          "height": 111
        }
      },
      "source": [
        "#Playtime forever statistics\n",
        "\n",
        "#play_stats.playtime_forever.quantile(np.arange(0,1,0.1))\n",
        "#Median is around 90657.0.0 minutes \n",
        "\n",
        "#play_stats[play_stats.steamid.isin(data[data.ClusterID==1].steamid)].playtime_forever.quantile(np.arange(0,1,0.1))\n",
        "#Median 92656.0\n",
        "\n",
        "#play_stats[play_stats.steamid.isin(data[data.ClusterID==2].steamid)].playtime_forever.quantile(np.arange(0,1,0.1))\n",
        "#Median: 157792.5\n",
        "\n",
        "cluster_means[['ClusterID','account_age','playtime_forever','forever_avg']]\n",
        "#Cluster 1 plays 115 minutes everyday on average\n",
        "#Cluster 2 plays 147 minutes"
      ],
      "execution_count": 0,
      "outputs": [
        {
          "output_type": "execute_result",
          "data": {
            "text/html": [
              "<div>\n",
              "<style scoped>\n",
              "    .dataframe tbody tr th:only-of-type {\n",
              "        vertical-align: middle;\n",
              "    }\n",
              "\n",
              "    .dataframe tbody tr th {\n",
              "        vertical-align: top;\n",
              "    }\n",
              "\n",
              "    .dataframe thead th {\n",
              "        text-align: right;\n",
              "    }\n",
              "</style>\n",
              "<table border=\"1\" class=\"dataframe\">\n",
              "  <thead>\n",
              "    <tr style=\"text-align: right;\">\n",
              "      <th></th>\n",
              "      <th>ClusterID</th>\n",
              "      <th>account_age</th>\n",
              "      <th>playtime_forever</th>\n",
              "      <th>forever_avg</th>\n",
              "    </tr>\n",
              "  </thead>\n",
              "  <tbody>\n",
              "    <tr>\n",
              "      <th>0</th>\n",
              "      <td>1</td>\n",
              "      <td>1283.870395</td>\n",
              "      <td>113027.445940</td>\n",
              "      <td>115.080928</td>\n",
              "    </tr>\n",
              "    <tr>\n",
              "      <th>1</th>\n",
              "      <td>2</td>\n",
              "      <td>1543.859229</td>\n",
              "      <td>174673.138992</td>\n",
              "      <td>147.811402</td>\n",
              "    </tr>\n",
              "  </tbody>\n",
              "</table>\n",
              "</div>"
            ],
            "text/plain": [
              "   ClusterID  account_age  playtime_forever  forever_avg\n",
              "0          1  1283.870395     113027.445940   115.080928\n",
              "1          2  1543.859229     174673.138992   147.811402"
            ]
          },
          "metadata": {
            "tags": []
          },
          "execution_count": 57
        }
      ]
    },
    {
      "cell_type": "code",
      "metadata": {
        "id": "lDh0KFwM3yDS",
        "colab_type": "code",
        "outputId": "c2b4c487-2197-479a-903c-7e504c745a71",
        "colab": {
          "base_uri": "https://localhost:8080/",
          "height": 204
        }
      },
      "source": [
        "data.forever_avg.quantile(np.arange(0,1,0.1))\n",
        "#Median 109\n",
        "#data[data.forever_avg<110].account_age.quantile(np.arange(0,1,0.1))\n",
        "#1208.0"
      ],
      "execution_count": 0,
      "outputs": [
        {
          "output_type": "execute_result",
          "data": {
            "text/plain": [
              "0.0      3.544423\n",
              "0.1     39.249158\n",
              "0.2     57.887525\n",
              "0.3     74.488576\n",
              "0.4     91.439069\n",
              "0.5    109.880178\n",
              "0.6    130.888406\n",
              "0.7    155.899848\n",
              "0.8    190.536096\n",
              "0.9    227.275396\n",
              "Name: forever_avg, dtype: float64"
            ]
          },
          "metadata": {
            "tags": []
          },
          "execution_count": 58
        }
      ]
    },
    {
      "cell_type": "markdown",
      "metadata": {
        "id": "4YJiheOGokJR",
        "colab_type": "text"
      },
      "source": [
        "## Money"
      ]
    },
    {
      "cell_type": "markdown",
      "metadata": {
        "id": "u1flcFLQonsG",
        "colab_type": "text"
      },
      "source": [
        " The top 20% of Steam users account for 73% of the total current market value of owned games on Steam. \n",
        " The action genre constitutes 49.24% of total playtime on Steam as well as 51.88% of the total current market value of Steam users’ game libraries.\n",
        " "
      ]
    },
    {
      "cell_type": "code",
      "metadata": {
        "id": "szGwtAivDlx3",
        "colab_type": "code",
        "colab": {}
      },
      "source": [
        "apps = pd.read_csv(app_id_loc)"
      ],
      "execution_count": 0,
      "outputs": []
    },
    {
      "cell_type": "code",
      "metadata": {
        "id": "IZL_HgT-h62T",
        "colab_type": "code",
        "outputId": "78f08665-3c10-4398-84c2-37115673ccc2",
        "colab": {
          "base_uri": "https://localhost:8080/",
          "height": 204
        }
      },
      "source": [
        "apps['game_age'] = (pd.to_datetime('today')-pd.to_datetime(apps.Release_Date)).dt.days\n",
        "apps.head()"
      ],
      "execution_count": 0,
      "outputs": [
        {
          "output_type": "execute_result",
          "data": {
            "text/html": [
              "<div>\n",
              "<style scoped>\n",
              "    .dataframe tbody tr th:only-of-type {\n",
              "        vertical-align: middle;\n",
              "    }\n",
              "\n",
              "    .dataframe tbody tr th {\n",
              "        vertical-align: top;\n",
              "    }\n",
              "\n",
              "    .dataframe thead th {\n",
              "        text-align: right;\n",
              "    }\n",
              "</style>\n",
              "<table border=\"1\" class=\"dataframe\">\n",
              "  <thead>\n",
              "    <tr style=\"text-align: right;\">\n",
              "      <th></th>\n",
              "      <th>appid</th>\n",
              "      <th>Title</th>\n",
              "      <th>Type</th>\n",
              "      <th>Price</th>\n",
              "      <th>Release_Date</th>\n",
              "      <th>Rating</th>\n",
              "      <th>Required_Age</th>\n",
              "      <th>Is_Multiplayer</th>\n",
              "      <th>game_age</th>\n",
              "    </tr>\n",
              "  </thead>\n",
              "  <tbody>\n",
              "    <tr>\n",
              "      <th>0</th>\n",
              "      <td>10</td>\n",
              "      <td>Counter-Strike</td>\n",
              "      <td>game</td>\n",
              "      <td>9.99</td>\n",
              "      <td>2000-11-01 00:00:00</td>\n",
              "      <td>88</td>\n",
              "      <td>0</td>\n",
              "      <td>1</td>\n",
              "      <td>7047</td>\n",
              "    </tr>\n",
              "    <tr>\n",
              "      <th>1</th>\n",
              "      <td>20</td>\n",
              "      <td>Team Fortress Classic</td>\n",
              "      <td>game</td>\n",
              "      <td>4.99</td>\n",
              "      <td>1999-04-01 00:00:00</td>\n",
              "      <td>-1</td>\n",
              "      <td>0</td>\n",
              "      <td>1</td>\n",
              "      <td>7627</td>\n",
              "    </tr>\n",
              "    <tr>\n",
              "      <th>2</th>\n",
              "      <td>30</td>\n",
              "      <td>Day of Defeat</td>\n",
              "      <td>game</td>\n",
              "      <td>4.99</td>\n",
              "      <td>2003-05-01 00:00:00</td>\n",
              "      <td>79</td>\n",
              "      <td>0</td>\n",
              "      <td>1</td>\n",
              "      <td>6136</td>\n",
              "    </tr>\n",
              "    <tr>\n",
              "      <th>3</th>\n",
              "      <td>40</td>\n",
              "      <td>Deathmatch Classic</td>\n",
              "      <td>game</td>\n",
              "      <td>4.99</td>\n",
              "      <td>2001-06-01 00:00:00</td>\n",
              "      <td>-1</td>\n",
              "      <td>0</td>\n",
              "      <td>1</td>\n",
              "      <td>6835</td>\n",
              "    </tr>\n",
              "    <tr>\n",
              "      <th>4</th>\n",
              "      <td>50</td>\n",
              "      <td>Half-Life: Opposing Force</td>\n",
              "      <td>game</td>\n",
              "      <td>4.99</td>\n",
              "      <td>1999-11-01 00:00:00</td>\n",
              "      <td>-1</td>\n",
              "      <td>0</td>\n",
              "      <td>1</td>\n",
              "      <td>7413</td>\n",
              "    </tr>\n",
              "  </tbody>\n",
              "</table>\n",
              "</div>"
            ],
            "text/plain": [
              "   appid                      Title  Type  Price         Release_Date  Rating  Required_Age  Is_Multiplayer  game_age\n",
              "0     10             Counter-Strike  game   9.99  2000-11-01 00:00:00      88             0               1      7047\n",
              "1     20      Team Fortress Classic  game   4.99  1999-04-01 00:00:00      -1             0               1      7627\n",
              "2     30              Day of Defeat  game   4.99  2003-05-01 00:00:00      79             0               1      6136\n",
              "3     40         Deathmatch Classic  game   4.99  2001-06-01 00:00:00      -1             0               1      6835\n",
              "4     50  Half-Life: Opposing Force  game   4.99  1999-11-01 00:00:00      -1             0               1      7413"
            ]
          },
          "metadata": {
            "tags": []
          },
          "execution_count": 60
        }
      ]
    },
    {
      "cell_type": "code",
      "metadata": {
        "id": "wojbHt17h4hT",
        "colab_type": "code",
        "outputId": "523c4d66-3217-4c8b-e786-430321514976",
        "colab": {
          "base_uri": "https://localhost:8080/",
          "height": 343
        }
      },
      "source": [
        "gameplay_apps = gameplay.merge(apps,how='left',on='appid')\n",
        "gameplay_apps.head()"
      ],
      "execution_count": 0,
      "outputs": [
        {
          "output_type": "execute_result",
          "data": {
            "text/html": [
              "<div>\n",
              "<style scoped>\n",
              "    .dataframe tbody tr th:only-of-type {\n",
              "        vertical-align: middle;\n",
              "    }\n",
              "\n",
              "    .dataframe tbody tr th {\n",
              "        vertical-align: top;\n",
              "    }\n",
              "\n",
              "    .dataframe thead th {\n",
              "        text-align: right;\n",
              "    }\n",
              "</style>\n",
              "<table border=\"1\" class=\"dataframe\">\n",
              "  <thead>\n",
              "    <tr style=\"text-align: right;\">\n",
              "      <th></th>\n",
              "      <th>steamid</th>\n",
              "      <th>appid</th>\n",
              "      <th>playtime_2weeks</th>\n",
              "      <th>playtime_forever</th>\n",
              "      <th>dateretrieved</th>\n",
              "      <th>unplayed</th>\n",
              "      <th>played</th>\n",
              "      <th>Title</th>\n",
              "      <th>Type</th>\n",
              "      <th>Price</th>\n",
              "      <th>Release_Date</th>\n",
              "      <th>Rating</th>\n",
              "      <th>Required_Age</th>\n",
              "      <th>Is_Multiplayer</th>\n",
              "      <th>game_age</th>\n",
              "    </tr>\n",
              "  </thead>\n",
              "  <tbody>\n",
              "    <tr>\n",
              "      <th>0</th>\n",
              "      <td>76561197960266039</td>\n",
              "      <td>10</td>\n",
              "      <td>7.0</td>\n",
              "      <td>1311.0</td>\n",
              "      <td>2013-05-06 16:00:46</td>\n",
              "      <td>0</td>\n",
              "      <td>1</td>\n",
              "      <td>Counter-Strike</td>\n",
              "      <td>game</td>\n",
              "      <td>9.99</td>\n",
              "      <td>2000-11-01 00:00:00</td>\n",
              "      <td>88.0</td>\n",
              "      <td>0.0</td>\n",
              "      <td>1.0</td>\n",
              "      <td>7047.0</td>\n",
              "    </tr>\n",
              "    <tr>\n",
              "      <th>1</th>\n",
              "      <td>76561197960266039</td>\n",
              "      <td>20</td>\n",
              "      <td>0.0</td>\n",
              "      <td>391.0</td>\n",
              "      <td>2013-05-06 16:00:46</td>\n",
              "      <td>0</td>\n",
              "      <td>1</td>\n",
              "      <td>Team Fortress Classic</td>\n",
              "      <td>game</td>\n",
              "      <td>4.99</td>\n",
              "      <td>1999-04-01 00:00:00</td>\n",
              "      <td>-1.0</td>\n",
              "      <td>0.0</td>\n",
              "      <td>1.0</td>\n",
              "      <td>7627.0</td>\n",
              "    </tr>\n",
              "    <tr>\n",
              "      <th>2</th>\n",
              "      <td>76561197960266039</td>\n",
              "      <td>30</td>\n",
              "      <td>0.0</td>\n",
              "      <td>0.0</td>\n",
              "      <td>2013-05-06 16:00:46</td>\n",
              "      <td>1</td>\n",
              "      <td>0</td>\n",
              "      <td>Day of Defeat</td>\n",
              "      <td>game</td>\n",
              "      <td>4.99</td>\n",
              "      <td>2003-05-01 00:00:00</td>\n",
              "      <td>79.0</td>\n",
              "      <td>0.0</td>\n",
              "      <td>1.0</td>\n",
              "      <td>6136.0</td>\n",
              "    </tr>\n",
              "    <tr>\n",
              "      <th>3</th>\n",
              "      <td>76561197960266039</td>\n",
              "      <td>40</td>\n",
              "      <td>0.0</td>\n",
              "      <td>748.0</td>\n",
              "      <td>2013-05-06 16:00:46</td>\n",
              "      <td>0</td>\n",
              "      <td>1</td>\n",
              "      <td>Deathmatch Classic</td>\n",
              "      <td>game</td>\n",
              "      <td>4.99</td>\n",
              "      <td>2001-06-01 00:00:00</td>\n",
              "      <td>-1.0</td>\n",
              "      <td>0.0</td>\n",
              "      <td>1.0</td>\n",
              "      <td>6835.0</td>\n",
              "    </tr>\n",
              "    <tr>\n",
              "      <th>4</th>\n",
              "      <td>76561197960266039</td>\n",
              "      <td>50</td>\n",
              "      <td>0.0</td>\n",
              "      <td>0.0</td>\n",
              "      <td>2013-05-06 16:00:46</td>\n",
              "      <td>1</td>\n",
              "      <td>0</td>\n",
              "      <td>Half-Life: Opposing Force</td>\n",
              "      <td>game</td>\n",
              "      <td>4.99</td>\n",
              "      <td>1999-11-01 00:00:00</td>\n",
              "      <td>-1.0</td>\n",
              "      <td>0.0</td>\n",
              "      <td>1.0</td>\n",
              "      <td>7413.0</td>\n",
              "    </tr>\n",
              "  </tbody>\n",
              "</table>\n",
              "</div>"
            ],
            "text/plain": [
              "             steamid  appid  playtime_2weeks  playtime_forever        dateretrieved  unplayed  played                      Title  Type  Price         Release_Date  Rating  Required_Age  Is_Multiplayer  game_age\n",
              "0  76561197960266039     10              7.0            1311.0  2013-05-06 16:00:46         0       1             Counter-Strike  game   9.99  2000-11-01 00:00:00    88.0           0.0             1.0    7047.0\n",
              "1  76561197960266039     20              0.0             391.0  2013-05-06 16:00:46         0       1      Team Fortress Classic  game   4.99  1999-04-01 00:00:00    -1.0           0.0             1.0    7627.0\n",
              "2  76561197960266039     30              0.0               0.0  2013-05-06 16:00:46         1       0              Day of Defeat  game   4.99  2003-05-01 00:00:00    79.0           0.0             1.0    6136.0\n",
              "3  76561197960266039     40              0.0             748.0  2013-05-06 16:00:46         0       1         Deathmatch Classic  game   4.99  2001-06-01 00:00:00    -1.0           0.0             1.0    6835.0\n",
              "4  76561197960266039     50              0.0               0.0  2013-05-06 16:00:46         1       0  Half-Life: Opposing Force  game   4.99  1999-11-01 00:00:00    -1.0           0.0             1.0    7413.0"
            ]
          },
          "metadata": {
            "tags": []
          },
          "execution_count": 61
        }
      ]
    },
    {
      "cell_type": "code",
      "metadata": {
        "id": "_wcRIdUAGATs",
        "colab_type": "code",
        "outputId": "752ca67b-631a-4fdd-a23c-fb42fa8f29d0",
        "colab": {
          "base_uri": "https://localhost:8080/",
          "height": 289
        }
      },
      "source": [
        "#apps.Price.median() #4.99\n",
        "#gameplay_apps.isna().sum()\n",
        "gameplay_apps.Price = gameplay_apps.Price.apply(\n",
        "    lambda x: 4.99 if pd.isnull(x) else x\n",
        ")\n",
        "gameplay_apps.isna().sum()"
      ],
      "execution_count": 0,
      "outputs": [
        {
          "output_type": "execute_result",
          "data": {
            "text/plain": [
              "steamid                  0\n",
              "appid                    0\n",
              "playtime_2weeks          0\n",
              "playtime_forever         0\n",
              "dateretrieved            0\n",
              "unplayed                 0\n",
              "played                   0\n",
              "Title               729988\n",
              "Type                729988\n",
              "Price                    0\n",
              "Release_Date        729988\n",
              "Rating              729988\n",
              "Required_Age        729988\n",
              "Is_Multiplayer      729988\n",
              "game_age            729988\n",
              "dtype: int64"
            ]
          },
          "metadata": {
            "tags": []
          },
          "execution_count": 62
        }
      ]
    },
    {
      "cell_type": "code",
      "metadata": {
        "id": "mV6tJffaoh6L",
        "colab_type": "code",
        "outputId": "f552a044-8633-4ca4-c7c2-f309c7f4eb54",
        "colab": {
          "base_uri": "https://localhost:8080/",
          "height": 204
        }
      },
      "source": [
        "monetary = gameplay_apps[['steamid','Price','playtime_2weeks','playtime_forever']].groupby(\n",
        "    by=['steamid'],as_index=False).agg({'Price':'sum','playtime_2weeks':'sum'\n",
        "    ,'playtime_forever':'sum'\n",
        "    })\n",
        "\n",
        "monetary.head()"
      ],
      "execution_count": 0,
      "outputs": [
        {
          "output_type": "execute_result",
          "data": {
            "text/html": [
              "<div>\n",
              "<style scoped>\n",
              "    .dataframe tbody tr th:only-of-type {\n",
              "        vertical-align: middle;\n",
              "    }\n",
              "\n",
              "    .dataframe tbody tr th {\n",
              "        vertical-align: top;\n",
              "    }\n",
              "\n",
              "    .dataframe thead th {\n",
              "        text-align: right;\n",
              "    }\n",
              "</style>\n",
              "<table border=\"1\" class=\"dataframe\">\n",
              "  <thead>\n",
              "    <tr style=\"text-align: right;\">\n",
              "      <th></th>\n",
              "      <th>steamid</th>\n",
              "      <th>Price</th>\n",
              "      <th>playtime_2weeks</th>\n",
              "      <th>playtime_forever</th>\n",
              "    </tr>\n",
              "  </thead>\n",
              "  <tbody>\n",
              "    <tr>\n",
              "      <th>0</th>\n",
              "      <td>76561197960266039</td>\n",
              "      <td>124.85</td>\n",
              "      <td>8076.0</td>\n",
              "      <td>121756.0</td>\n",
              "    </tr>\n",
              "    <tr>\n",
              "      <th>1</th>\n",
              "      <td>76561197960269360</td>\n",
              "      <td>392.63</td>\n",
              "      <td>5575.0</td>\n",
              "      <td>106560.0</td>\n",
              "    </tr>\n",
              "    <tr>\n",
              "      <th>2</th>\n",
              "      <td>76561197960269424</td>\n",
              "      <td>618.42</td>\n",
              "      <td>5265.0</td>\n",
              "      <td>274562.0</td>\n",
              "    </tr>\n",
              "    <tr>\n",
              "      <th>3</th>\n",
              "      <td>76561197960269425</td>\n",
              "      <td>2375.87</td>\n",
              "      <td>5761.0</td>\n",
              "      <td>1408888.0</td>\n",
              "    </tr>\n",
              "    <tr>\n",
              "      <th>4</th>\n",
              "      <td>76561197960269501</td>\n",
              "      <td>2641.03</td>\n",
              "      <td>6543.0</td>\n",
              "      <td>170598.0</td>\n",
              "    </tr>\n",
              "  </tbody>\n",
              "</table>\n",
              "</div>"
            ],
            "text/plain": [
              "             steamid    Price  playtime_2weeks  playtime_forever\n",
              "0  76561197960266039   124.85           8076.0          121756.0\n",
              "1  76561197960269360   392.63           5575.0          106560.0\n",
              "2  76561197960269424   618.42           5265.0          274562.0\n",
              "3  76561197960269425  2375.87           5761.0         1408888.0\n",
              "4  76561197960269501  2641.03           6543.0          170598.0"
            ]
          },
          "metadata": {
            "tags": []
          },
          "execution_count": 63
        }
      ]
    },
    {
      "cell_type": "code",
      "metadata": {
        "id": "oD8p68nkpZ7L",
        "colab_type": "code",
        "outputId": "941b736e-d9f8-45fb-ff81-e6c7072224f5",
        "colab": {
          "base_uri": "https://localhost:8080/",
          "height": 884
        }
      },
      "source": [
        "monetary.Price.quantile(np.arange(0.5,1.0,0.01))\n",
        "\n",
        "monetary[monetary.steamid.isin(\n",
        "    data[data.ClusterID==1].steamid\n",
        ")].Price.quantile(np.arange(0.5,1.0,0.01))\n",
        "\n",
        "monetary[monetary.steamid.isin(\n",
        "    data[data.ClusterID==2].steamid\n",
        ")].Price.quantile(np.arange(0.5,1.0,0.01))"
      ],
      "execution_count": 0,
      "outputs": [
        {
          "output_type": "execute_result",
          "data": {
            "text/plain": [
              "0.50    1700.9750\n",
              "0.51    1724.7510\n",
              "0.52    1748.6756\n",
              "0.53    1773.8000\n",
              "0.54    1798.7000\n",
              "0.55    1821.7810\n",
              "0.56    1852.7640\n",
              "0.57    1877.6000\n",
              "0.58    1906.5434\n",
              "0.59    1934.5769\n",
              "0.60    1965.2740\n",
              "0.61    1993.4653\n",
              "0.62    2017.9500\n",
              "0.63    2046.5266\n",
              "0.64    2078.4368\n",
              "0.65    2108.3830\n",
              "0.66    2141.5224\n",
              "0.67    2178.1678\n",
              "0.68    2209.9776\n",
              "0.69    2250.2538\n",
              "0.70    2286.3010\n",
              "0.71    2320.7874\n",
              "0.72    2358.8440\n",
              "0.73    2394.9846\n",
              "0.74    2441.1904\n",
              "0.75    2483.6175\n",
              "0.76    2528.3356\n",
              "0.77    2576.2221\n",
              "0.78    2625.0124\n",
              "0.79    2678.9350\n",
              "0.80    2727.3780\n",
              "0.81    2785.0942\n",
              "0.82    2848.5300\n",
              "0.83    2917.2250\n",
              "0.84    3000.8388\n",
              "0.85    3086.0880\n",
              "0.86    3166.3986\n",
              "0.87    3265.4170\n",
              "0.88    3374.7764\n",
              "0.89    3489.5832\n",
              "0.90    3623.2000\n",
              "0.91    3774.1269\n",
              "0.92    3951.0052\n",
              "0.93    4154.8066\n",
              "0.94    4386.4752\n",
              "0.95    4713.1555\n",
              "0.96    5197.9900\n",
              "0.97    5747.3760\n",
              "0.98    6469.4756\n",
              "0.99    8066.7966\n",
              "Name: Price, dtype: float64"
            ]
          },
          "metadata": {
            "tags": []
          },
          "execution_count": 67
        }
      ]
    },
    {
      "cell_type": "code",
      "metadata": {
        "id": "SKhCjbd6EEB7",
        "colab_type": "code",
        "outputId": "8182190c-2618-4cad-a1f8-91ca712b5830",
        "colab": {
          "base_uri": "https://localhost:8080/",
          "height": 204
        }
      },
      "source": [
        "monetary = gameplay_apps[['steamid','Price','playtime_2weeks','playtime_forever','unplayed','played']].groupby(\n",
        "    by=['steamid','played','unplayed'],as_index=False).agg({'Price':'sum','playtime_2weeks':'sum'\n",
        "    ,'playtime_forever':'sum'\n",
        "    })\n",
        "\n",
        "monetary.head()"
      ],
      "execution_count": 0,
      "outputs": [
        {
          "output_type": "execute_result",
          "data": {
            "text/html": [
              "<div>\n",
              "<style scoped>\n",
              "    .dataframe tbody tr th:only-of-type {\n",
              "        vertical-align: middle;\n",
              "    }\n",
              "\n",
              "    .dataframe tbody tr th {\n",
              "        vertical-align: top;\n",
              "    }\n",
              "\n",
              "    .dataframe thead th {\n",
              "        text-align: right;\n",
              "    }\n",
              "</style>\n",
              "<table border=\"1\" class=\"dataframe\">\n",
              "  <thead>\n",
              "    <tr style=\"text-align: right;\">\n",
              "      <th></th>\n",
              "      <th>steamid</th>\n",
              "      <th>played</th>\n",
              "      <th>unplayed</th>\n",
              "      <th>Price</th>\n",
              "      <th>playtime_2weeks</th>\n",
              "      <th>playtime_forever</th>\n",
              "    </tr>\n",
              "  </thead>\n",
              "  <tbody>\n",
              "    <tr>\n",
              "      <th>0</th>\n",
              "      <td>76561197960266039</td>\n",
              "      <td>0</td>\n",
              "      <td>1</td>\n",
              "      <td>39.94</td>\n",
              "      <td>0.0</td>\n",
              "      <td>0.0</td>\n",
              "    </tr>\n",
              "    <tr>\n",
              "      <th>1</th>\n",
              "      <td>76561197960266039</td>\n",
              "      <td>1</td>\n",
              "      <td>0</td>\n",
              "      <td>84.91</td>\n",
              "      <td>8076.0</td>\n",
              "      <td>121756.0</td>\n",
              "    </tr>\n",
              "    <tr>\n",
              "      <th>2</th>\n",
              "      <td>76561197960269360</td>\n",
              "      <td>0</td>\n",
              "      <td>1</td>\n",
              "      <td>174.82</td>\n",
              "      <td>0.0</td>\n",
              "      <td>0.0</td>\n",
              "    </tr>\n",
              "    <tr>\n",
              "      <th>3</th>\n",
              "      <td>76561197960269360</td>\n",
              "      <td>1</td>\n",
              "      <td>0</td>\n",
              "      <td>217.81</td>\n",
              "      <td>5575.0</td>\n",
              "      <td>106560.0</td>\n",
              "    </tr>\n",
              "    <tr>\n",
              "      <th>4</th>\n",
              "      <td>76561197960269424</td>\n",
              "      <td>0</td>\n",
              "      <td>1</td>\n",
              "      <td>150.79</td>\n",
              "      <td>0.0</td>\n",
              "      <td>0.0</td>\n",
              "    </tr>\n",
              "  </tbody>\n",
              "</table>\n",
              "</div>"
            ],
            "text/plain": [
              "             steamid  played  unplayed   Price  playtime_2weeks  playtime_forever\n",
              "0  76561197960266039       0         1   39.94              0.0               0.0\n",
              "1  76561197960266039       1         0   84.91           8076.0          121756.0\n",
              "2  76561197960269360       0         1  174.82              0.0               0.0\n",
              "3  76561197960269360       1         0  217.81           5575.0          106560.0\n",
              "4  76561197960269424       0         1  150.79              0.0               0.0"
            ]
          },
          "metadata": {
            "tags": []
          },
          "execution_count": 49
        }
      ]
    },
    {
      "cell_type": "code",
      "metadata": {
        "id": "phk5a9KUG5DS",
        "colab_type": "code",
        "outputId": "11bf710d-1a8d-4827-b6c3-5da17ec1a878",
        "colab": {
          "base_uri": "https://localhost:8080/",
          "height": 204
        }
      },
      "source": [
        "monetary.groupby('steamid',as_index=False).agg({'Price':'sum'}).Price.quantile(np.arange(0,1,0.1))"
      ],
      "execution_count": 0,
      "outputs": [
        {
          "output_type": "execute_result",
          "data": {
            "text/plain": [
              "0.0       0.000\n",
              "0.1       0.000\n",
              "0.2      19.990\n",
              "0.3      44.970\n",
              "0.4      84.930\n",
              "0.5     149.910\n",
              "0.6     249.870\n",
              "0.7     399.720\n",
              "0.8     649.562\n",
              "0.9    1155.226\n",
              "Name: Price, dtype: float64"
            ]
          },
          "metadata": {
            "tags": []
          },
          "execution_count": 51
        }
      ]
    },
    {
      "cell_type": "code",
      "metadata": {
        "id": "E2oWKJPCVwTT",
        "colab_type": "code",
        "outputId": "59bb4019-5b08-4c40-e2ce-f4f9a04ad70d",
        "colab": {
          "base_uri": "https://localhost:8080/",
          "height": 142
        }
      },
      "source": [
        "monetary[monetary.played==1][['Price','playtime_2weeks','playtime_forever']].corr()"
      ],
      "execution_count": 0,
      "outputs": [
        {
          "output_type": "execute_result",
          "data": {
            "text/html": [
              "<div>\n",
              "<style scoped>\n",
              "    .dataframe tbody tr th:only-of-type {\n",
              "        vertical-align: middle;\n",
              "    }\n",
              "\n",
              "    .dataframe tbody tr th {\n",
              "        vertical-align: top;\n",
              "    }\n",
              "\n",
              "    .dataframe thead th {\n",
              "        text-align: right;\n",
              "    }\n",
              "</style>\n",
              "<table border=\"1\" class=\"dataframe\">\n",
              "  <thead>\n",
              "    <tr style=\"text-align: right;\">\n",
              "      <th></th>\n",
              "      <th>Price</th>\n",
              "      <th>playtime_2weeks</th>\n",
              "      <th>playtime_forever</th>\n",
              "    </tr>\n",
              "  </thead>\n",
              "  <tbody>\n",
              "    <tr>\n",
              "      <th>Price</th>\n",
              "      <td>1.000000</td>\n",
              "      <td>-0.000157</td>\n",
              "      <td>0.206401</td>\n",
              "    </tr>\n",
              "    <tr>\n",
              "      <th>playtime_2weeks</th>\n",
              "      <td>-0.000157</td>\n",
              "      <td>1.000000</td>\n",
              "      <td>0.337881</td>\n",
              "    </tr>\n",
              "    <tr>\n",
              "      <th>playtime_forever</th>\n",
              "      <td>0.206401</td>\n",
              "      <td>0.337881</td>\n",
              "      <td>1.000000</td>\n",
              "    </tr>\n",
              "  </tbody>\n",
              "</table>\n",
              "</div>"
            ],
            "text/plain": [
              "                     Price  playtime_2weeks  playtime_forever\n",
              "Price             1.000000        -0.000157          0.206401\n",
              "playtime_2weeks  -0.000157         1.000000          0.337881\n",
              "playtime_forever  0.206401         0.337881          1.000000"
            ]
          },
          "metadata": {
            "tags": []
          },
          "execution_count": 142
        }
      ]
    },
    {
      "cell_type": "code",
      "metadata": {
        "id": "yCvWIvbIW9y2",
        "colab_type": "code",
        "outputId": "3a024a32-7da6-4386-acc1-7ac41a112250",
        "colab": {
          "base_uri": "https://localhost:8080/",
          "height": 142
        }
      },
      "source": [
        "monetary[(monetary.played==1) & (\n",
        "    monetary.steamid.isin(data[data.ClusterID==1].steamid))\n",
        "][['Price','playtime_2weeks','playtime_forever']].corr()"
      ],
      "execution_count": 0,
      "outputs": [
        {
          "output_type": "execute_result",
          "data": {
            "text/html": [
              "<div>\n",
              "<style scoped>\n",
              "    .dataframe tbody tr th:only-of-type {\n",
              "        vertical-align: middle;\n",
              "    }\n",
              "\n",
              "    .dataframe tbody tr th {\n",
              "        vertical-align: top;\n",
              "    }\n",
              "\n",
              "    .dataframe thead th {\n",
              "        text-align: right;\n",
              "    }\n",
              "</style>\n",
              "<table border=\"1\" class=\"dataframe\">\n",
              "  <thead>\n",
              "    <tr style=\"text-align: right;\">\n",
              "      <th></th>\n",
              "      <th>Price</th>\n",
              "      <th>playtime_2weeks</th>\n",
              "      <th>playtime_forever</th>\n",
              "    </tr>\n",
              "  </thead>\n",
              "  <tbody>\n",
              "    <tr>\n",
              "      <th>Price</th>\n",
              "      <td>1.000000</td>\n",
              "      <td>-0.040002</td>\n",
              "      <td>0.14869</td>\n",
              "    </tr>\n",
              "    <tr>\n",
              "      <th>playtime_2weeks</th>\n",
              "      <td>-0.040002</td>\n",
              "      <td>1.000000</td>\n",
              "      <td>0.25979</td>\n",
              "    </tr>\n",
              "    <tr>\n",
              "      <th>playtime_forever</th>\n",
              "      <td>0.148690</td>\n",
              "      <td>0.259790</td>\n",
              "      <td>1.00000</td>\n",
              "    </tr>\n",
              "  </tbody>\n",
              "</table>\n",
              "</div>"
            ],
            "text/plain": [
              "                     Price  playtime_2weeks  playtime_forever\n",
              "Price             1.000000        -0.040002           0.14869\n",
              "playtime_2weeks  -0.040002         1.000000           0.25979\n",
              "playtime_forever  0.148690         0.259790           1.00000"
            ]
          },
          "metadata": {
            "tags": []
          },
          "execution_count": 143
        }
      ]
    },
    {
      "cell_type": "code",
      "metadata": {
        "id": "MYAPMX4oXNvY",
        "colab_type": "code",
        "outputId": "2a727121-b5f4-490a-dc23-d30135eb6d0a",
        "colab": {
          "base_uri": "https://localhost:8080/",
          "height": 142
        }
      },
      "source": [
        "monetary[(monetary.played==1) & (\n",
        "    monetary.steamid.isin(data[data.ClusterID==2].steamid))\n",
        "][['Price','playtime_2weeks','playtime_forever']].corr()\n",
        "\n",
        "#2weeks and forever moderate correlation"
      ],
      "execution_count": 0,
      "outputs": [
        {
          "output_type": "execute_result",
          "data": {
            "text/html": [
              "<div>\n",
              "<style scoped>\n",
              "    .dataframe tbody tr th:only-of-type {\n",
              "        vertical-align: middle;\n",
              "    }\n",
              "\n",
              "    .dataframe tbody tr th {\n",
              "        vertical-align: top;\n",
              "    }\n",
              "\n",
              "    .dataframe thead th {\n",
              "        text-align: right;\n",
              "    }\n",
              "</style>\n",
              "<table border=\"1\" class=\"dataframe\">\n",
              "  <thead>\n",
              "    <tr style=\"text-align: right;\">\n",
              "      <th></th>\n",
              "      <th>Price</th>\n",
              "      <th>playtime_2weeks</th>\n",
              "      <th>playtime_forever</th>\n",
              "    </tr>\n",
              "  </thead>\n",
              "  <tbody>\n",
              "    <tr>\n",
              "      <th>Price</th>\n",
              "      <td>1.000000</td>\n",
              "      <td>0.061807</td>\n",
              "      <td>0.165749</td>\n",
              "    </tr>\n",
              "    <tr>\n",
              "      <th>playtime_2weeks</th>\n",
              "      <td>0.061807</td>\n",
              "      <td>1.000000</td>\n",
              "      <td>0.460339</td>\n",
              "    </tr>\n",
              "    <tr>\n",
              "      <th>playtime_forever</th>\n",
              "      <td>0.165749</td>\n",
              "      <td>0.460339</td>\n",
              "      <td>1.000000</td>\n",
              "    </tr>\n",
              "  </tbody>\n",
              "</table>\n",
              "</div>"
            ],
            "text/plain": [
              "                     Price  playtime_2weeks  playtime_forever\n",
              "Price             1.000000         0.061807          0.165749\n",
              "playtime_2weeks   0.061807         1.000000          0.460339\n",
              "playtime_forever  0.165749         0.460339          1.000000"
            ]
          },
          "metadata": {
            "tags": []
          },
          "execution_count": 144
        }
      ]
    },
    {
      "cell_type": "code",
      "metadata": {
        "id": "y4XsmbEAJ6ko",
        "colab_type": "code",
        "outputId": "cdb489ae-0cb3-4330-bafd-f1299ab269e2",
        "colab": {
          "base_uri": "https://localhost:8080/",
          "height": 224
        }
      },
      "source": [
        "monetary_play = monetary.merge(play_counts,how='inner',on='steamid')\n",
        "monetary_play.head()"
      ],
      "execution_count": 0,
      "outputs": [
        {
          "output_type": "execute_result",
          "data": {
            "text/html": [
              "<div>\n",
              "<style scoped>\n",
              "    .dataframe tbody tr th:only-of-type {\n",
              "        vertical-align: middle;\n",
              "    }\n",
              "\n",
              "    .dataframe tbody tr th {\n",
              "        vertical-align: top;\n",
              "    }\n",
              "\n",
              "    .dataframe thead th {\n",
              "        text-align: right;\n",
              "    }\n",
              "</style>\n",
              "<table border=\"1\" class=\"dataframe\">\n",
              "  <thead>\n",
              "    <tr style=\"text-align: right;\">\n",
              "      <th></th>\n",
              "      <th>steamid</th>\n",
              "      <th>played_x</th>\n",
              "      <th>unplayed_x</th>\n",
              "      <th>Price</th>\n",
              "      <th>playtime_2weeks</th>\n",
              "      <th>playtime_forever</th>\n",
              "      <th>unplayed_y</th>\n",
              "      <th>played_y</th>\n",
              "      <th>no_of_games</th>\n",
              "      <th>unplayed_percentage</th>\n",
              "    </tr>\n",
              "  </thead>\n",
              "  <tbody>\n",
              "    <tr>\n",
              "      <th>0</th>\n",
              "      <td>76561197960266039</td>\n",
              "      <td>0</td>\n",
              "      <td>1</td>\n",
              "      <td>39.94</td>\n",
              "      <td>0.0</td>\n",
              "      <td>0.0</td>\n",
              "      <td>7</td>\n",
              "      <td>10</td>\n",
              "      <td>17</td>\n",
              "      <td>0.411765</td>\n",
              "    </tr>\n",
              "    <tr>\n",
              "      <th>1</th>\n",
              "      <td>76561197960266039</td>\n",
              "      <td>1</td>\n",
              "      <td>0</td>\n",
              "      <td>84.91</td>\n",
              "      <td>8076.0</td>\n",
              "      <td>121756.0</td>\n",
              "      <td>7</td>\n",
              "      <td>10</td>\n",
              "      <td>17</td>\n",
              "      <td>0.411765</td>\n",
              "    </tr>\n",
              "    <tr>\n",
              "      <th>2</th>\n",
              "      <td>76561197960269360</td>\n",
              "      <td>0</td>\n",
              "      <td>1</td>\n",
              "      <td>174.82</td>\n",
              "      <td>0.0</td>\n",
              "      <td>0.0</td>\n",
              "      <td>19</td>\n",
              "      <td>20</td>\n",
              "      <td>39</td>\n",
              "      <td>0.487179</td>\n",
              "    </tr>\n",
              "    <tr>\n",
              "      <th>3</th>\n",
              "      <td>76561197960269360</td>\n",
              "      <td>1</td>\n",
              "      <td>0</td>\n",
              "      <td>217.81</td>\n",
              "      <td>5575.0</td>\n",
              "      <td>106560.0</td>\n",
              "      <td>19</td>\n",
              "      <td>20</td>\n",
              "      <td>39</td>\n",
              "      <td>0.487179</td>\n",
              "    </tr>\n",
              "    <tr>\n",
              "      <th>4</th>\n",
              "      <td>76561197960269424</td>\n",
              "      <td>0</td>\n",
              "      <td>1</td>\n",
              "      <td>150.79</td>\n",
              "      <td>0.0</td>\n",
              "      <td>0.0</td>\n",
              "      <td>22</td>\n",
              "      <td>43</td>\n",
              "      <td>65</td>\n",
              "      <td>0.338462</td>\n",
              "    </tr>\n",
              "  </tbody>\n",
              "</table>\n",
              "</div>"
            ],
            "text/plain": [
              "             steamid  played_x  unplayed_x   Price  playtime_2weeks  playtime_forever  unplayed_y  played_y  no_of_games  unplayed_percentage\n",
              "0  76561197960266039         0           1   39.94              0.0               0.0           7        10           17             0.411765\n",
              "1  76561197960266039         1           0   84.91           8076.0          121756.0           7        10           17             0.411765\n",
              "2  76561197960269360         0           1  174.82              0.0               0.0          19        20           39             0.487179\n",
              "3  76561197960269360         1           0  217.81           5575.0          106560.0          19        20           39             0.487179\n",
              "4  76561197960269424         0           1  150.79              0.0               0.0          22        43           65             0.338462"
            ]
          },
          "metadata": {
            "tags": []
          },
          "execution_count": 145
        }
      ]
    },
    {
      "cell_type": "code",
      "metadata": {
        "id": "4g6R_3x5XslF",
        "colab_type": "code",
        "outputId": "37abc100-37e1-49ac-b0b4-ef1bf8adef99",
        "colab": {
          "base_uri": "https://localhost:8080/",
          "height": 204
        }
      },
      "source": [
        "monetary_play[monetary_play.played_x==1][[\n",
        "  'Price','playtime_2weeks','playtime_forever','played_y','no_of_games'\n",
        "]].corr()"
      ],
      "execution_count": 0,
      "outputs": [
        {
          "output_type": "execute_result",
          "data": {
            "text/html": [
              "<div>\n",
              "<style scoped>\n",
              "    .dataframe tbody tr th:only-of-type {\n",
              "        vertical-align: middle;\n",
              "    }\n",
              "\n",
              "    .dataframe tbody tr th {\n",
              "        vertical-align: top;\n",
              "    }\n",
              "\n",
              "    .dataframe thead th {\n",
              "        text-align: right;\n",
              "    }\n",
              "</style>\n",
              "<table border=\"1\" class=\"dataframe\">\n",
              "  <thead>\n",
              "    <tr style=\"text-align: right;\">\n",
              "      <th></th>\n",
              "      <th>Price</th>\n",
              "      <th>playtime_2weeks</th>\n",
              "      <th>playtime_forever</th>\n",
              "      <th>played_y</th>\n",
              "      <th>no_of_games</th>\n",
              "    </tr>\n",
              "  </thead>\n",
              "  <tbody>\n",
              "    <tr>\n",
              "      <th>Price</th>\n",
              "      <td>1.000000</td>\n",
              "      <td>-0.000157</td>\n",
              "      <td>0.206401</td>\n",
              "      <td>0.982039</td>\n",
              "      <td>0.884806</td>\n",
              "    </tr>\n",
              "    <tr>\n",
              "      <th>playtime_2weeks</th>\n",
              "      <td>-0.000157</td>\n",
              "      <td>1.000000</td>\n",
              "      <td>0.337881</td>\n",
              "      <td>0.004365</td>\n",
              "      <td>0.024708</td>\n",
              "    </tr>\n",
              "    <tr>\n",
              "      <th>playtime_forever</th>\n",
              "      <td>0.206401</td>\n",
              "      <td>0.337881</td>\n",
              "      <td>1.000000</td>\n",
              "      <td>0.210135</td>\n",
              "      <td>0.177660</td>\n",
              "    </tr>\n",
              "    <tr>\n",
              "      <th>played_y</th>\n",
              "      <td>0.982039</td>\n",
              "      <td>0.004365</td>\n",
              "      <td>0.210135</td>\n",
              "      <td>1.000000</td>\n",
              "      <td>0.908739</td>\n",
              "    </tr>\n",
              "    <tr>\n",
              "      <th>no_of_games</th>\n",
              "      <td>0.884806</td>\n",
              "      <td>0.024708</td>\n",
              "      <td>0.177660</td>\n",
              "      <td>0.908739</td>\n",
              "      <td>1.000000</td>\n",
              "    </tr>\n",
              "  </tbody>\n",
              "</table>\n",
              "</div>"
            ],
            "text/plain": [
              "                     Price  playtime_2weeks  playtime_forever  played_y  no_of_games\n",
              "Price             1.000000        -0.000157          0.206401  0.982039     0.884806\n",
              "playtime_2weeks  -0.000157         1.000000          0.337881  0.004365     0.024708\n",
              "playtime_forever  0.206401         0.337881          1.000000  0.210135     0.177660\n",
              "played_y          0.982039         0.004365          0.210135  1.000000     0.908739\n",
              "no_of_games       0.884806         0.024708          0.177660  0.908739     1.000000"
            ]
          },
          "metadata": {
            "tags": []
          },
          "execution_count": 146
        }
      ]
    },
    {
      "cell_type": "code",
      "metadata": {
        "id": "uRz_l-ChYYGW",
        "colab_type": "code",
        "outputId": "38e89ef5-32dc-4351-c922-5ac61172bf5a",
        "colab": {
          "base_uri": "https://localhost:8080/",
          "height": 204
        }
      },
      "source": [
        "monetary_play[(monetary_play.played_x==1) & (monetary.steamid.isin(data[data.ClusterID==1].steamid))][[\n",
        "  'Price','playtime_2weeks','playtime_forever','played_y','no_of_games'\n",
        "]].corr()"
      ],
      "execution_count": 0,
      "outputs": [
        {
          "output_type": "execute_result",
          "data": {
            "text/html": [
              "<div>\n",
              "<style scoped>\n",
              "    .dataframe tbody tr th:only-of-type {\n",
              "        vertical-align: middle;\n",
              "    }\n",
              "\n",
              "    .dataframe tbody tr th {\n",
              "        vertical-align: top;\n",
              "    }\n",
              "\n",
              "    .dataframe thead th {\n",
              "        text-align: right;\n",
              "    }\n",
              "</style>\n",
              "<table border=\"1\" class=\"dataframe\">\n",
              "  <thead>\n",
              "    <tr style=\"text-align: right;\">\n",
              "      <th></th>\n",
              "      <th>Price</th>\n",
              "      <th>playtime_2weeks</th>\n",
              "      <th>playtime_forever</th>\n",
              "      <th>played_y</th>\n",
              "      <th>no_of_games</th>\n",
              "    </tr>\n",
              "  </thead>\n",
              "  <tbody>\n",
              "    <tr>\n",
              "      <th>Price</th>\n",
              "      <td>1.000000</td>\n",
              "      <td>-0.040002</td>\n",
              "      <td>0.148690</td>\n",
              "      <td>0.967110</td>\n",
              "      <td>0.893249</td>\n",
              "    </tr>\n",
              "    <tr>\n",
              "      <th>playtime_2weeks</th>\n",
              "      <td>-0.040002</td>\n",
              "      <td>1.000000</td>\n",
              "      <td>0.259790</td>\n",
              "      <td>-0.041036</td>\n",
              "      <td>-0.021882</td>\n",
              "    </tr>\n",
              "    <tr>\n",
              "      <th>playtime_forever</th>\n",
              "      <td>0.148690</td>\n",
              "      <td>0.259790</td>\n",
              "      <td>1.000000</td>\n",
              "      <td>0.151749</td>\n",
              "      <td>0.108425</td>\n",
              "    </tr>\n",
              "    <tr>\n",
              "      <th>played_y</th>\n",
              "      <td>0.967110</td>\n",
              "      <td>-0.041036</td>\n",
              "      <td>0.151749</td>\n",
              "      <td>1.000000</td>\n",
              "      <td>0.924803</td>\n",
              "    </tr>\n",
              "    <tr>\n",
              "      <th>no_of_games</th>\n",
              "      <td>0.893249</td>\n",
              "      <td>-0.021882</td>\n",
              "      <td>0.108425</td>\n",
              "      <td>0.924803</td>\n",
              "      <td>1.000000</td>\n",
              "    </tr>\n",
              "  </tbody>\n",
              "</table>\n",
              "</div>"
            ],
            "text/plain": [
              "                     Price  playtime_2weeks  playtime_forever  played_y  no_of_games\n",
              "Price             1.000000        -0.040002          0.148690  0.967110     0.893249\n",
              "playtime_2weeks  -0.040002         1.000000          0.259790 -0.041036    -0.021882\n",
              "playtime_forever  0.148690         0.259790          1.000000  0.151749     0.108425\n",
              "played_y          0.967110        -0.041036          0.151749  1.000000     0.924803\n",
              "no_of_games       0.893249        -0.021882          0.108425  0.924803     1.000000"
            ]
          },
          "metadata": {
            "tags": []
          },
          "execution_count": 147
        }
      ]
    },
    {
      "cell_type": "code",
      "metadata": {
        "id": "9rUVmOjcYopn",
        "colab_type": "code",
        "outputId": "46f0c4fd-1ae8-413e-f3c8-2f8edf0d0548",
        "colab": {
          "base_uri": "https://localhost:8080/",
          "height": 204
        }
      },
      "source": [
        "monetary_play[(monetary_play.played_x==1) & (monetary.steamid.isin(data[data.ClusterID==2].steamid))][[\n",
        "  'Price','playtime_2weeks','playtime_forever','played_y','no_of_games'\n",
        "]].corr()"
      ],
      "execution_count": 0,
      "outputs": [
        {
          "output_type": "execute_result",
          "data": {
            "text/html": [
              "<div>\n",
              "<style scoped>\n",
              "    .dataframe tbody tr th:only-of-type {\n",
              "        vertical-align: middle;\n",
              "    }\n",
              "\n",
              "    .dataframe tbody tr th {\n",
              "        vertical-align: top;\n",
              "    }\n",
              "\n",
              "    .dataframe thead th {\n",
              "        text-align: right;\n",
              "    }\n",
              "</style>\n",
              "<table border=\"1\" class=\"dataframe\">\n",
              "  <thead>\n",
              "    <tr style=\"text-align: right;\">\n",
              "      <th></th>\n",
              "      <th>Price</th>\n",
              "      <th>playtime_2weeks</th>\n",
              "      <th>playtime_forever</th>\n",
              "      <th>played_y</th>\n",
              "      <th>no_of_games</th>\n",
              "    </tr>\n",
              "  </thead>\n",
              "  <tbody>\n",
              "    <tr>\n",
              "      <th>Price</th>\n",
              "      <td>1.000000</td>\n",
              "      <td>0.061807</td>\n",
              "      <td>0.165749</td>\n",
              "      <td>0.974430</td>\n",
              "      <td>0.779270</td>\n",
              "    </tr>\n",
              "    <tr>\n",
              "      <th>playtime_2weeks</th>\n",
              "      <td>0.061807</td>\n",
              "      <td>1.000000</td>\n",
              "      <td>0.460339</td>\n",
              "      <td>0.068807</td>\n",
              "      <td>0.099104</td>\n",
              "    </tr>\n",
              "    <tr>\n",
              "      <th>playtime_forever</th>\n",
              "      <td>0.165749</td>\n",
              "      <td>0.460339</td>\n",
              "      <td>1.000000</td>\n",
              "      <td>0.174990</td>\n",
              "      <td>0.101034</td>\n",
              "    </tr>\n",
              "    <tr>\n",
              "      <th>played_y</th>\n",
              "      <td>0.974430</td>\n",
              "      <td>0.068807</td>\n",
              "      <td>0.174990</td>\n",
              "      <td>1.000000</td>\n",
              "      <td>0.808033</td>\n",
              "    </tr>\n",
              "    <tr>\n",
              "      <th>no_of_games</th>\n",
              "      <td>0.779270</td>\n",
              "      <td>0.099104</td>\n",
              "      <td>0.101034</td>\n",
              "      <td>0.808033</td>\n",
              "      <td>1.000000</td>\n",
              "    </tr>\n",
              "  </tbody>\n",
              "</table>\n",
              "</div>"
            ],
            "text/plain": [
              "                     Price  playtime_2weeks  playtime_forever  played_y  no_of_games\n",
              "Price             1.000000         0.061807          0.165749  0.974430     0.779270\n",
              "playtime_2weeks   0.061807         1.000000          0.460339  0.068807     0.099104\n",
              "playtime_forever  0.165749         0.460339          1.000000  0.174990     0.101034\n",
              "played_y          0.974430         0.068807          0.174990  1.000000     0.808033\n",
              "no_of_games       0.779270         0.099104          0.101034  0.808033     1.000000"
            ]
          },
          "metadata": {
            "tags": []
          },
          "execution_count": 148
        }
      ]
    },
    {
      "cell_type": "code",
      "metadata": {
        "id": "TqUNhj47h1le",
        "colab_type": "code",
        "outputId": "ba1f01c8-7a81-48f5-ae5c-159f61f63d19",
        "colab": {
          "base_uri": "https://localhost:8080/",
          "height": 111
        }
      },
      "source": [
        "cluster_means[['ClusterID','Price','daily_monetary','account_age']]\n",
        "\n",
        "#0 spends less, has newer accounts but spends around half a dollar everyday on average\n",
        "#Whereas 1 spends over 1.5 dollars everyday"
      ],
      "execution_count": 0,
      "outputs": [
        {
          "output_type": "execute_result",
          "data": {
            "text/html": [
              "<div>\n",
              "<style scoped>\n",
              "    .dataframe tbody tr th:only-of-type {\n",
              "        vertical-align: middle;\n",
              "    }\n",
              "\n",
              "    .dataframe tbody tr th {\n",
              "        vertical-align: top;\n",
              "    }\n",
              "\n",
              "    .dataframe thead th {\n",
              "        text-align: right;\n",
              "    }\n",
              "</style>\n",
              "<table border=\"1\" class=\"dataframe\">\n",
              "  <thead>\n",
              "    <tr style=\"text-align: right;\">\n",
              "      <th></th>\n",
              "      <th>ClusterID</th>\n",
              "      <th>Price</th>\n",
              "      <th>daily_monetary</th>\n",
              "      <th>account_age</th>\n",
              "    </tr>\n",
              "  </thead>\n",
              "  <tbody>\n",
              "    <tr>\n",
              "      <th>0</th>\n",
              "      <td>1</td>\n",
              "      <td>566.441844</td>\n",
              "      <td>0.585916</td>\n",
              "      <td>1283.870395</td>\n",
              "    </tr>\n",
              "    <tr>\n",
              "      <th>1</th>\n",
              "      <td>2</td>\n",
              "      <td>1773.631934</td>\n",
              "      <td>1.597294</td>\n",
              "      <td>1543.859229</td>\n",
              "    </tr>\n",
              "  </tbody>\n",
              "</table>\n",
              "</div>"
            ],
            "text/plain": [
              "   ClusterID        Price  daily_monetary  account_age\n",
              "0          1   566.441844        0.585916  1283.870395\n",
              "1          2  1773.631934        1.597294  1543.859229"
            ]
          },
          "metadata": {
            "tags": []
          },
          "execution_count": 149
        }
      ]
    },
    {
      "cell_type": "code",
      "metadata": {
        "id": "waBcSymLYjWi",
        "colab_type": "code",
        "outputId": "1bdcb089-070d-4512-9845-3ce12e6af373",
        "colab": {
          "base_uri": "https://localhost:8080/",
          "height": 204
        }
      },
      "source": [
        "data.daily_monetary.quantile(np.arange(0,1,0.1))"
      ],
      "execution_count": 0,
      "outputs": [
        {
          "output_type": "execute_result",
          "data": {
            "text/plain": [
              "0.0    0.000000\n",
              "0.1    0.138682\n",
              "0.2    0.277766\n",
              "0.3    0.415605\n",
              "0.4    0.559234\n",
              "0.5    0.719495\n",
              "0.6    0.915857\n",
              "0.7    1.161696\n",
              "0.8    1.514192\n",
              "0.9    1.963059\n",
              "Name: daily_monetary, dtype: float64"
            ]
          },
          "metadata": {
            "tags": []
          },
          "execution_count": 236
        }
      ]
    },
    {
      "cell_type": "code",
      "metadata": {
        "id": "MmeACkOeoXfj",
        "colab_type": "code",
        "colab": {}
      },
      "source": [
        ""
      ],
      "execution_count": 0,
      "outputs": []
    },
    {
      "cell_type": "markdown",
      "metadata": {
        "id": "IghqbT5YmB9Y",
        "colab_type": "text"
      },
      "source": [
        "### Money vs Play"
      ]
    },
    {
      "cell_type": "code",
      "metadata": {
        "id": "CCxfsJ3FmEbz",
        "colab_type": "code",
        "outputId": "1378276d-6932-41cb-d20f-113f2420bc86",
        "colab": {
          "base_uri": "https://localhost:8080/",
          "height": 343
        }
      },
      "source": [
        "gameplay_apps.head()\n",
        "gameplay_apps['year'] = pd.to_datetime(gameplay_apps.Release_Date).dt.year\n",
        "gameplay_apps.head()"
      ],
      "execution_count": 0,
      "outputs": [
        {
          "output_type": "execute_result",
          "data": {
            "text/html": [
              "<div>\n",
              "<style scoped>\n",
              "    .dataframe tbody tr th:only-of-type {\n",
              "        vertical-align: middle;\n",
              "    }\n",
              "\n",
              "    .dataframe tbody tr th {\n",
              "        vertical-align: top;\n",
              "    }\n",
              "\n",
              "    .dataframe thead th {\n",
              "        text-align: right;\n",
              "    }\n",
              "</style>\n",
              "<table border=\"1\" class=\"dataframe\">\n",
              "  <thead>\n",
              "    <tr style=\"text-align: right;\">\n",
              "      <th></th>\n",
              "      <th>steamid</th>\n",
              "      <th>appid</th>\n",
              "      <th>playtime_2weeks</th>\n",
              "      <th>playtime_forever</th>\n",
              "      <th>dateretrieved</th>\n",
              "      <th>unplayed</th>\n",
              "      <th>played</th>\n",
              "      <th>Title</th>\n",
              "      <th>Type</th>\n",
              "      <th>Price</th>\n",
              "      <th>Release_Date</th>\n",
              "      <th>Rating</th>\n",
              "      <th>Required_Age</th>\n",
              "      <th>Is_Multiplayer</th>\n",
              "      <th>game_age</th>\n",
              "      <th>year</th>\n",
              "    </tr>\n",
              "  </thead>\n",
              "  <tbody>\n",
              "    <tr>\n",
              "      <th>0</th>\n",
              "      <td>76561197960266039</td>\n",
              "      <td>10</td>\n",
              "      <td>7.0</td>\n",
              "      <td>1311.0</td>\n",
              "      <td>2013-05-06 16:00:46</td>\n",
              "      <td>0</td>\n",
              "      <td>1</td>\n",
              "      <td>Counter-Strike</td>\n",
              "      <td>game</td>\n",
              "      <td>9.99</td>\n",
              "      <td>2000-11-01 00:00:00</td>\n",
              "      <td>88.0</td>\n",
              "      <td>0.0</td>\n",
              "      <td>1.0</td>\n",
              "      <td>7042.0</td>\n",
              "      <td>2000.0</td>\n",
              "    </tr>\n",
              "    <tr>\n",
              "      <th>1</th>\n",
              "      <td>76561197960266039</td>\n",
              "      <td>20</td>\n",
              "      <td>0.0</td>\n",
              "      <td>391.0</td>\n",
              "      <td>2013-05-06 16:00:46</td>\n",
              "      <td>0</td>\n",
              "      <td>1</td>\n",
              "      <td>Team Fortress Classic</td>\n",
              "      <td>game</td>\n",
              "      <td>4.99</td>\n",
              "      <td>1999-04-01 00:00:00</td>\n",
              "      <td>-1.0</td>\n",
              "      <td>0.0</td>\n",
              "      <td>1.0</td>\n",
              "      <td>7622.0</td>\n",
              "      <td>1999.0</td>\n",
              "    </tr>\n",
              "    <tr>\n",
              "      <th>2</th>\n",
              "      <td>76561197960266039</td>\n",
              "      <td>30</td>\n",
              "      <td>0.0</td>\n",
              "      <td>0.0</td>\n",
              "      <td>2013-05-06 16:00:46</td>\n",
              "      <td>1</td>\n",
              "      <td>0</td>\n",
              "      <td>Day of Defeat</td>\n",
              "      <td>game</td>\n",
              "      <td>4.99</td>\n",
              "      <td>2003-05-01 00:00:00</td>\n",
              "      <td>79.0</td>\n",
              "      <td>0.0</td>\n",
              "      <td>1.0</td>\n",
              "      <td>6131.0</td>\n",
              "      <td>2003.0</td>\n",
              "    </tr>\n",
              "    <tr>\n",
              "      <th>3</th>\n",
              "      <td>76561197960266039</td>\n",
              "      <td>40</td>\n",
              "      <td>0.0</td>\n",
              "      <td>748.0</td>\n",
              "      <td>2013-05-06 16:00:46</td>\n",
              "      <td>0</td>\n",
              "      <td>1</td>\n",
              "      <td>Deathmatch Classic</td>\n",
              "      <td>game</td>\n",
              "      <td>4.99</td>\n",
              "      <td>2001-06-01 00:00:00</td>\n",
              "      <td>-1.0</td>\n",
              "      <td>0.0</td>\n",
              "      <td>1.0</td>\n",
              "      <td>6830.0</td>\n",
              "      <td>2001.0</td>\n",
              "    </tr>\n",
              "    <tr>\n",
              "      <th>4</th>\n",
              "      <td>76561197960266039</td>\n",
              "      <td>50</td>\n",
              "      <td>0.0</td>\n",
              "      <td>0.0</td>\n",
              "      <td>2013-05-06 16:00:46</td>\n",
              "      <td>1</td>\n",
              "      <td>0</td>\n",
              "      <td>Half-Life: Opposing Force</td>\n",
              "      <td>game</td>\n",
              "      <td>4.99</td>\n",
              "      <td>1999-11-01 00:00:00</td>\n",
              "      <td>-1.0</td>\n",
              "      <td>0.0</td>\n",
              "      <td>1.0</td>\n",
              "      <td>7408.0</td>\n",
              "      <td>1999.0</td>\n",
              "    </tr>\n",
              "  </tbody>\n",
              "</table>\n",
              "</div>"
            ],
            "text/plain": [
              "             steamid  appid  playtime_2weeks  playtime_forever        dateretrieved  unplayed  played                      Title  Type  Price         Release_Date  Rating  Required_Age  Is_Multiplayer  game_age    year\n",
              "0  76561197960266039     10              7.0            1311.0  2013-05-06 16:00:46         0       1             Counter-Strike  game   9.99  2000-11-01 00:00:00    88.0           0.0             1.0    7042.0  2000.0\n",
              "1  76561197960266039     20              0.0             391.0  2013-05-06 16:00:46         0       1      Team Fortress Classic  game   4.99  1999-04-01 00:00:00    -1.0           0.0             1.0    7622.0  1999.0\n",
              "2  76561197960266039     30              0.0               0.0  2013-05-06 16:00:46         1       0              Day of Defeat  game   4.99  2003-05-01 00:00:00    79.0           0.0             1.0    6131.0  2003.0\n",
              "3  76561197960266039     40              0.0             748.0  2013-05-06 16:00:46         0       1         Deathmatch Classic  game   4.99  2001-06-01 00:00:00    -1.0           0.0             1.0    6830.0  2001.0\n",
              "4  76561197960266039     50              0.0               0.0  2013-05-06 16:00:46         1       0  Half-Life: Opposing Force  game   4.99  1999-11-01 00:00:00    -1.0           0.0             1.0    7408.0  1999.0"
            ]
          },
          "metadata": {
            "tags": []
          },
          "execution_count": 150
        }
      ]
    },
    {
      "cell_type": "code",
      "metadata": {
        "id": "oa9yTghPnptZ",
        "colab_type": "code",
        "outputId": "b75f0919-ba99-4c34-b10c-b08204c98f49",
        "colab": {
          "base_uri": "https://localhost:8080/",
          "height": 300
        }
      },
      "source": [
        "figure(num=None, figsize=(15, 5), dpi=60, facecolor='w', edgecolor='k')\n",
        "sns.barplot(gameplay_apps.year,gameplay_apps.Price,hue=gameplay_apps.unplayed)"
      ],
      "execution_count": 0,
      "outputs": [
        {
          "output_type": "execute_result",
          "data": {
            "text/plain": [
              "<matplotlib.axes._subplots.AxesSubplot at 0x7f9018941358>"
            ]
          },
          "metadata": {
            "tags": []
          },
          "execution_count": 151
        },
        {
          "output_type": "display_data",
          "data": {
            "image/png": "[encoded data removed]",
            "text/plain": [
              "<Figure size 900x300 with 1 Axes>"
            ]
          },
          "metadata": {
            "tags": []
          }
        }
      ]
    },
    {
      "cell_type": "code",
      "metadata": {
        "id": "ZSqn69yItTrn",
        "colab_type": "code",
        "outputId": "1c784078-b503-44b1-ea76-058ccc6ce126",
        "colab": {
          "base_uri": "https://localhost:8080/",
          "height": 343
        }
      },
      "source": [
        "genres= pd.read_csv(genres_loc)\n",
        "genres.head()\n",
        "gameplay_apps_genres = gameplay_apps.merge(genres,on='appid',how='inner')\n",
        "gameplay_apps_genres.sort_values(['steamid','Genre']).head()"
      ],
      "execution_count": 0,
      "outputs": [
        {
          "output_type": "execute_result",
          "data": {
            "text/html": [
              "<div>\n",
              "<style scoped>\n",
              "    .dataframe tbody tr th:only-of-type {\n",
              "        vertical-align: middle;\n",
              "    }\n",
              "\n",
              "    .dataframe tbody tr th {\n",
              "        vertical-align: top;\n",
              "    }\n",
              "\n",
              "    .dataframe thead th {\n",
              "        text-align: right;\n",
              "    }\n",
              "</style>\n",
              "<table border=\"1\" class=\"dataframe\">\n",
              "  <thead>\n",
              "    <tr style=\"text-align: right;\">\n",
              "      <th></th>\n",
              "      <th>steamid</th>\n",
              "      <th>appid</th>\n",
              "      <th>playtime_2weeks</th>\n",
              "      <th>playtime_forever</th>\n",
              "      <th>dateretrieved</th>\n",
              "      <th>unplayed</th>\n",
              "      <th>played</th>\n",
              "      <th>Title</th>\n",
              "      <th>Type</th>\n",
              "      <th>Price</th>\n",
              "      <th>Release_Date</th>\n",
              "      <th>Rating</th>\n",
              "      <th>Required_Age</th>\n",
              "      <th>Is_Multiplayer</th>\n",
              "      <th>game_age</th>\n",
              "      <th>year</th>\n",
              "      <th>Genre</th>\n",
              "    </tr>\n",
              "  </thead>\n",
              "  <tbody>\n",
              "    <tr>\n",
              "      <th>0</th>\n",
              "      <td>76561197960266039</td>\n",
              "      <td>10</td>\n",
              "      <td>7.0</td>\n",
              "      <td>1311.0</td>\n",
              "      <td>2013-05-06 16:00:46</td>\n",
              "      <td>0</td>\n",
              "      <td>1</td>\n",
              "      <td>Counter-Strike</td>\n",
              "      <td>game</td>\n",
              "      <td>9.99</td>\n",
              "      <td>2000-11-01 00:00:00</td>\n",
              "      <td>88.0</td>\n",
              "      <td>0.0</td>\n",
              "      <td>1.0</td>\n",
              "      <td>7042.0</td>\n",
              "      <td>2000.0</td>\n",
              "      <td>Action</td>\n",
              "    </tr>\n",
              "    <tr>\n",
              "      <th>54299</th>\n",
              "      <td>76561197960266039</td>\n",
              "      <td>20</td>\n",
              "      <td>0.0</td>\n",
              "      <td>391.0</td>\n",
              "      <td>2013-05-06 16:00:46</td>\n",
              "      <td>0</td>\n",
              "      <td>1</td>\n",
              "      <td>Team Fortress Classic</td>\n",
              "      <td>game</td>\n",
              "      <td>4.99</td>\n",
              "      <td>1999-04-01 00:00:00</td>\n",
              "      <td>-1.0</td>\n",
              "      <td>0.0</td>\n",
              "      <td>1.0</td>\n",
              "      <td>7622.0</td>\n",
              "      <td>1999.0</td>\n",
              "      <td>Action</td>\n",
              "    </tr>\n",
              "    <tr>\n",
              "      <th>79053</th>\n",
              "      <td>76561197960266039</td>\n",
              "      <td>30</td>\n",
              "      <td>0.0</td>\n",
              "      <td>0.0</td>\n",
              "      <td>2013-05-06 16:00:46</td>\n",
              "      <td>1</td>\n",
              "      <td>0</td>\n",
              "      <td>Day of Defeat</td>\n",
              "      <td>game</td>\n",
              "      <td>4.99</td>\n",
              "      <td>2003-05-01 00:00:00</td>\n",
              "      <td>79.0</td>\n",
              "      <td>0.0</td>\n",
              "      <td>1.0</td>\n",
              "      <td>6131.0</td>\n",
              "      <td>2003.0</td>\n",
              "      <td>Action</td>\n",
              "    </tr>\n",
              "    <tr>\n",
              "      <th>110142</th>\n",
              "      <td>76561197960266039</td>\n",
              "      <td>40</td>\n",
              "      <td>0.0</td>\n",
              "      <td>748.0</td>\n",
              "      <td>2013-05-06 16:00:46</td>\n",
              "      <td>0</td>\n",
              "      <td>1</td>\n",
              "      <td>Deathmatch Classic</td>\n",
              "      <td>game</td>\n",
              "      <td>4.99</td>\n",
              "      <td>2001-06-01 00:00:00</td>\n",
              "      <td>-1.0</td>\n",
              "      <td>0.0</td>\n",
              "      <td>1.0</td>\n",
              "      <td>6830.0</td>\n",
              "      <td>2001.0</td>\n",
              "      <td>Action</td>\n",
              "    </tr>\n",
              "    <tr>\n",
              "      <th>140526</th>\n",
              "      <td>76561197960266039</td>\n",
              "      <td>50</td>\n",
              "      <td>0.0</td>\n",
              "      <td>0.0</td>\n",
              "      <td>2013-05-06 16:00:46</td>\n",
              "      <td>1</td>\n",
              "      <td>0</td>\n",
              "      <td>Half-Life: Opposing Force</td>\n",
              "      <td>game</td>\n",
              "      <td>4.99</td>\n",
              "      <td>1999-11-01 00:00:00</td>\n",
              "      <td>-1.0</td>\n",
              "      <td>0.0</td>\n",
              "      <td>1.0</td>\n",
              "      <td>7408.0</td>\n",
              "      <td>1999.0</td>\n",
              "      <td>Action</td>\n",
              "    </tr>\n",
              "  </tbody>\n",
              "</table>\n",
              "</div>"
            ],
            "text/plain": [
              "                  steamid  appid  playtime_2weeks  playtime_forever        dateretrieved  unplayed  played                      Title  Type  Price         Release_Date  Rating  Required_Age  Is_Multiplayer  game_age    year   Genre\n",
              "0       76561197960266039     10              7.0            1311.0  2013-05-06 16:00:46         0       1             Counter-Strike  game   9.99  2000-11-01 00:00:00    88.0           0.0             1.0    7042.0  2000.0  Action\n",
              "54299   76561197960266039     20              0.0             391.0  2013-05-06 16:00:46         0       1      Team Fortress Classic  game   4.99  1999-04-01 00:00:00    -1.0           0.0             1.0    7622.0  1999.0  Action\n",
              "79053   76561197960266039     30              0.0               0.0  2013-05-06 16:00:46         1       0              Day of Defeat  game   4.99  2003-05-01 00:00:00    79.0           0.0             1.0    6131.0  2003.0  Action\n",
              "110142  76561197960266039     40              0.0             748.0  2013-05-06 16:00:46         0       1         Deathmatch Classic  game   4.99  2001-06-01 00:00:00    -1.0           0.0             1.0    6830.0  2001.0  Action\n",
              "140526  76561197960266039     50              0.0               0.0  2013-05-06 16:00:46         1       0  Half-Life: Opposing Force  game   4.99  1999-11-01 00:00:00    -1.0           0.0             1.0    7408.0  1999.0  Action"
            ]
          },
          "metadata": {
            "tags": []
          },
          "execution_count": 229
        }
      ]
    },
    {
      "cell_type": "code",
      "metadata": {
        "id": "uOTMcPzU3kFF",
        "colab_type": "code",
        "outputId": "28f4e928-a829-46dc-909d-90827876cf75",
        "colab": {
          "base_uri": "https://localhost:8080/",
          "height": 119
        }
      },
      "source": [
        "pd.unique(gameplay_apps_genres.Genre)"
      ],
      "execution_count": 0,
      "outputs": [
        {
          "output_type": "execute_result",
          "data": {
            "text/plain": [
              "array(['Action', 'Free to Play', 'Indie', 'Simulation', 'Strategy',\n",
              "       'Casual', 'Adventure', 'RPG', 'Racing', 'Sports', 'Early Access',\n",
              "       'Massively Multiplayer', 'Design & Illustration', 'Web Publishing',\n",
              "       'Audio Production', 'Software Training', 'Utilities',\n",
              "       'Video Production', 'Accounting', 'Education',\n",
              "       'Animation & Modeling', 'Photo Editing'], dtype=object)"
            ]
          },
          "metadata": {
            "tags": []
          },
          "execution_count": 153
        }
      ]
    },
    {
      "cell_type": "code",
      "metadata": {
        "id": "1paOsOv3vbMG",
        "colab_type": "code",
        "outputId": "a19fe739-351f-4414-ed14-7ed11dde31a2",
        "colab": {
          "base_uri": "https://localhost:8080/",
          "height": 54
        }
      },
      "source": [
        "'''\n",
        "figure(num=None, figsize=(10, 15), dpi=60, facecolor='w', edgecolor='k')\n",
        "sns.barplot('Price','Genre',data=gameplay_apps_genres[gameplay_apps_genres.Genre.isin(\n",
        "    ['Action', 'Free to Play', 'Indie', 'Simulation', 'Strategy',\n",
        "       'Casual', 'Adventure', 'RPG', 'Racing', 'Sports', 'Early Access',\n",
        "       'Massively Multiplayer']\n",
        ")],hue='unplayed')\n",
        "'''"
      ],
      "execution_count": 0,
      "outputs": [
        {
          "output_type": "execute_result",
          "data": {
            "text/plain": [
              "\"\\nfigure(num=None, figsize=(10, 15), dpi=60, facecolor='w', edgecolor='k')\\nsns.barplot('Price','Genre',data=gameplay_apps_genres[gameplay_apps_genres.Genre.isin(\\n    ['Action', 'Free to Play', 'Indie', 'Simulation', 'Strategy',\\n       'Casual', 'Adventure', 'RPG', 'Racing', 'Sports', 'Early Access',\\n       'Massively Multiplayer']\\n)],hue='unplayed')\\n\""
            ]
          },
          "metadata": {
            "tags": []
          },
          "execution_count": 154
        }
      ]
    },
    {
      "cell_type": "code",
      "metadata": {
        "id": "XkbKwxXpM9nz",
        "colab_type": "code",
        "outputId": "9c54624e-5030-4c4a-9750-7ec6e0fc5069",
        "colab": {
          "base_uri": "https://localhost:8080/",
          "height": 343
        }
      },
      "source": [
        "gameplay_apps_genres_cluster = gameplay_apps_genres.merge(data[['steamid','ClusterID']],on='steamid',how='inner')\n",
        "gameplay_apps_genres_cluster.head()"
      ],
      "execution_count": 0,
      "outputs": [
        {
          "output_type": "execute_result",
          "data": {
            "text/html": [
              "<div>\n",
              "<style scoped>\n",
              "    .dataframe tbody tr th:only-of-type {\n",
              "        vertical-align: middle;\n",
              "    }\n",
              "\n",
              "    .dataframe tbody tr th {\n",
              "        vertical-align: top;\n",
              "    }\n",
              "\n",
              "    .dataframe thead th {\n",
              "        text-align: right;\n",
              "    }\n",
              "</style>\n",
              "<table border=\"1\" class=\"dataframe\">\n",
              "  <thead>\n",
              "    <tr style=\"text-align: right;\">\n",
              "      <th></th>\n",
              "      <th>steamid</th>\n",
              "      <th>appid</th>\n",
              "      <th>playtime_2weeks</th>\n",
              "      <th>playtime_forever</th>\n",
              "      <th>dateretrieved</th>\n",
              "      <th>unplayed</th>\n",
              "      <th>played</th>\n",
              "      <th>Title</th>\n",
              "      <th>Type</th>\n",
              "      <th>Price</th>\n",
              "      <th>Release_Date</th>\n",
              "      <th>Rating</th>\n",
              "      <th>Required_Age</th>\n",
              "      <th>Is_Multiplayer</th>\n",
              "      <th>game_age</th>\n",
              "      <th>year</th>\n",
              "      <th>Genre</th>\n",
              "      <th>ClusterID</th>\n",
              "    </tr>\n",
              "  </thead>\n",
              "  <tbody>\n",
              "    <tr>\n",
              "      <th>0</th>\n",
              "      <td>76561197960269425</td>\n",
              "      <td>10</td>\n",
              "      <td>0.0</td>\n",
              "      <td>1304.0</td>\n",
              "      <td>2013-05-06 15:59:30</td>\n",
              "      <td>0</td>\n",
              "      <td>1</td>\n",
              "      <td>Counter-Strike</td>\n",
              "      <td>game</td>\n",
              "      <td>9.99</td>\n",
              "      <td>2000-11-01 00:00:00</td>\n",
              "      <td>88.0</td>\n",
              "      <td>0.0</td>\n",
              "      <td>1.0</td>\n",
              "      <td>7042.0</td>\n",
              "      <td>2000.0</td>\n",
              "      <td>Action</td>\n",
              "      <td>2</td>\n",
              "    </tr>\n",
              "    <tr>\n",
              "      <th>1</th>\n",
              "      <td>76561197960269425</td>\n",
              "      <td>20</td>\n",
              "      <td>0.0</td>\n",
              "      <td>0.0</td>\n",
              "      <td>2013-05-06 15:59:30</td>\n",
              "      <td>1</td>\n",
              "      <td>0</td>\n",
              "      <td>Team Fortress Classic</td>\n",
              "      <td>game</td>\n",
              "      <td>4.99</td>\n",
              "      <td>1999-04-01 00:00:00</td>\n",
              "      <td>-1.0</td>\n",
              "      <td>0.0</td>\n",
              "      <td>1.0</td>\n",
              "      <td>7622.0</td>\n",
              "      <td>1999.0</td>\n",
              "      <td>Action</td>\n",
              "      <td>2</td>\n",
              "    </tr>\n",
              "    <tr>\n",
              "      <th>2</th>\n",
              "      <td>76561197960269425</td>\n",
              "      <td>30</td>\n",
              "      <td>0.0</td>\n",
              "      <td>0.0</td>\n",
              "      <td>2013-05-06 15:59:30</td>\n",
              "      <td>1</td>\n",
              "      <td>0</td>\n",
              "      <td>Day of Defeat</td>\n",
              "      <td>game</td>\n",
              "      <td>4.99</td>\n",
              "      <td>2003-05-01 00:00:00</td>\n",
              "      <td>79.0</td>\n",
              "      <td>0.0</td>\n",
              "      <td>1.0</td>\n",
              "      <td>6131.0</td>\n",
              "      <td>2003.0</td>\n",
              "      <td>Action</td>\n",
              "      <td>2</td>\n",
              "    </tr>\n",
              "    <tr>\n",
              "      <th>3</th>\n",
              "      <td>76561197960269425</td>\n",
              "      <td>40</td>\n",
              "      <td>0.0</td>\n",
              "      <td>0.0</td>\n",
              "      <td>2013-05-06 15:59:30</td>\n",
              "      <td>1</td>\n",
              "      <td>0</td>\n",
              "      <td>Deathmatch Classic</td>\n",
              "      <td>game</td>\n",
              "      <td>4.99</td>\n",
              "      <td>2001-06-01 00:00:00</td>\n",
              "      <td>-1.0</td>\n",
              "      <td>0.0</td>\n",
              "      <td>1.0</td>\n",
              "      <td>6830.0</td>\n",
              "      <td>2001.0</td>\n",
              "      <td>Action</td>\n",
              "      <td>2</td>\n",
              "    </tr>\n",
              "    <tr>\n",
              "      <th>4</th>\n",
              "      <td>76561197960269425</td>\n",
              "      <td>50</td>\n",
              "      <td>0.0</td>\n",
              "      <td>305.0</td>\n",
              "      <td>2013-05-06 15:59:30</td>\n",
              "      <td>0</td>\n",
              "      <td>1</td>\n",
              "      <td>Half-Life: Opposing Force</td>\n",
              "      <td>game</td>\n",
              "      <td>4.99</td>\n",
              "      <td>1999-11-01 00:00:00</td>\n",
              "      <td>-1.0</td>\n",
              "      <td>0.0</td>\n",
              "      <td>1.0</td>\n",
              "      <td>7408.0</td>\n",
              "      <td>1999.0</td>\n",
              "      <td>Action</td>\n",
              "      <td>2</td>\n",
              "    </tr>\n",
              "  </tbody>\n",
              "</table>\n",
              "</div>"
            ],
            "text/plain": [
              "             steamid  appid  playtime_2weeks  playtime_forever        dateretrieved  unplayed  played                      Title  Type  Price         Release_Date  Rating  Required_Age  Is_Multiplayer  game_age    year   Genre  ClusterID\n",
              "0  76561197960269425     10              0.0            1304.0  2013-05-06 15:59:30         0       1             Counter-Strike  game   9.99  2000-11-01 00:00:00    88.0           0.0             1.0    7042.0  2000.0  Action          2\n",
              "1  76561197960269425     20              0.0               0.0  2013-05-06 15:59:30         1       0      Team Fortress Classic  game   4.99  1999-04-01 00:00:00    -1.0           0.0             1.0    7622.0  1999.0  Action          2\n",
              "2  76561197960269425     30              0.0               0.0  2013-05-06 15:59:30         1       0              Day of Defeat  game   4.99  2003-05-01 00:00:00    79.0           0.0             1.0    6131.0  2003.0  Action          2\n",
              "3  76561197960269425     40              0.0               0.0  2013-05-06 15:59:30         1       0         Deathmatch Classic  game   4.99  2001-06-01 00:00:00    -1.0           0.0             1.0    6830.0  2001.0  Action          2\n",
              "4  76561197960269425     50              0.0             305.0  2013-05-06 15:59:30         0       1  Half-Life: Opposing Force  game   4.99  1999-11-01 00:00:00    -1.0           0.0             1.0    7408.0  1999.0  Action          2"
            ]
          },
          "metadata": {
            "tags": []
          },
          "execution_count": 230
        }
      ]
    },
    {
      "cell_type": "code",
      "metadata": {
        "id": "tUoB4XgiSBcH",
        "colab_type": "code",
        "outputId": "e63ea8fd-815e-4e1a-889e-4b71d61e9919",
        "colab": {
          "base_uri": "https://localhost:8080/",
          "height": 343
        }
      },
      "source": [
        "gameplay_apps_genres_cluster_percent = gameplay_apps_genres_cluster.merge(\n",
        "    gameplay_apps_genres_cluster[['ClusterID','Price']].groupby('ClusterID',as_index=False).agg({'Price':'sum'})\n",
        "    ,on='ClusterID',how='inner')\n",
        "\n",
        "gameplay_apps_genres_cluster_percent.Price_x = gameplay_apps_genres_cluster_percent.Price_x/gameplay_apps_genres_cluster_percent.Price_y\n",
        "gameplay_apps_genres_cluster_percent.head()"
      ],
      "execution_count": 0,
      "outputs": [
        {
          "output_type": "execute_result",
          "data": {
            "text/html": [
              "<div>\n",
              "<style scoped>\n",
              "    .dataframe tbody tr th:only-of-type {\n",
              "        vertical-align: middle;\n",
              "    }\n",
              "\n",
              "    .dataframe tbody tr th {\n",
              "        vertical-align: top;\n",
              "    }\n",
              "\n",
              "    .dataframe thead th {\n",
              "        text-align: right;\n",
              "    }\n",
              "</style>\n",
              "<table border=\"1\" class=\"dataframe\">\n",
              "  <thead>\n",
              "    <tr style=\"text-align: right;\">\n",
              "      <th></th>\n",
              "      <th>steamid</th>\n",
              "      <th>appid</th>\n",
              "      <th>playtime_2weeks</th>\n",
              "      <th>playtime_forever</th>\n",
              "      <th>dateretrieved</th>\n",
              "      <th>unplayed</th>\n",
              "      <th>played</th>\n",
              "      <th>Title</th>\n",
              "      <th>Type</th>\n",
              "      <th>Price_x</th>\n",
              "      <th>Release_Date</th>\n",
              "      <th>Rating</th>\n",
              "      <th>Required_Age</th>\n",
              "      <th>Is_Multiplayer</th>\n",
              "      <th>game_age</th>\n",
              "      <th>year</th>\n",
              "      <th>Genre</th>\n",
              "      <th>ClusterID</th>\n",
              "      <th>Price_y</th>\n",
              "    </tr>\n",
              "  </thead>\n",
              "  <tbody>\n",
              "    <tr>\n",
              "      <th>0</th>\n",
              "      <td>76561197960269425</td>\n",
              "      <td>10</td>\n",
              "      <td>0.0</td>\n",
              "      <td>1304.0</td>\n",
              "      <td>2013-05-06 15:59:30</td>\n",
              "      <td>0</td>\n",
              "      <td>1</td>\n",
              "      <td>Counter-Strike</td>\n",
              "      <td>game</td>\n",
              "      <td>1.351672e-07</td>\n",
              "      <td>2000-11-01 00:00:00</td>\n",
              "      <td>88.0</td>\n",
              "      <td>0.0</td>\n",
              "      <td>1.0</td>\n",
              "      <td>7042.0</td>\n",
              "      <td>2000.0</td>\n",
              "      <td>Action</td>\n",
              "      <td>2</td>\n",
              "      <td>7.390844e+07</td>\n",
              "    </tr>\n",
              "    <tr>\n",
              "      <th>1</th>\n",
              "      <td>76561197960269425</td>\n",
              "      <td>20</td>\n",
              "      <td>0.0</td>\n",
              "      <td>0.0</td>\n",
              "      <td>2013-05-06 15:59:30</td>\n",
              "      <td>1</td>\n",
              "      <td>0</td>\n",
              "      <td>Team Fortress Classic</td>\n",
              "      <td>game</td>\n",
              "      <td>6.751597e-08</td>\n",
              "      <td>1999-04-01 00:00:00</td>\n",
              "      <td>-1.0</td>\n",
              "      <td>0.0</td>\n",
              "      <td>1.0</td>\n",
              "      <td>7622.0</td>\n",
              "      <td>1999.0</td>\n",
              "      <td>Action</td>\n",
              "      <td>2</td>\n",
              "      <td>7.390844e+07</td>\n",
              "    </tr>\n",
              "    <tr>\n",
              "      <th>2</th>\n",
              "      <td>76561197960269425</td>\n",
              "      <td>30</td>\n",
              "      <td>0.0</td>\n",
              "      <td>0.0</td>\n",
              "      <td>2013-05-06 15:59:30</td>\n",
              "      <td>1</td>\n",
              "      <td>0</td>\n",
              "      <td>Day of Defeat</td>\n",
              "      <td>game</td>\n",
              "      <td>6.751597e-08</td>\n",
              "      <td>2003-05-01 00:00:00</td>\n",
              "      <td>79.0</td>\n",
              "      <td>0.0</td>\n",
              "      <td>1.0</td>\n",
              "      <td>6131.0</td>\n",
              "      <td>2003.0</td>\n",
              "      <td>Action</td>\n",
              "      <td>2</td>\n",
              "      <td>7.390844e+07</td>\n",
              "    </tr>\n",
              "    <tr>\n",
              "      <th>3</th>\n",
              "      <td>76561197960269425</td>\n",
              "      <td>40</td>\n",
              "      <td>0.0</td>\n",
              "      <td>0.0</td>\n",
              "      <td>2013-05-06 15:59:30</td>\n",
              "      <td>1</td>\n",
              "      <td>0</td>\n",
              "      <td>Deathmatch Classic</td>\n",
              "      <td>game</td>\n",
              "      <td>6.751597e-08</td>\n",
              "      <td>2001-06-01 00:00:00</td>\n",
              "      <td>-1.0</td>\n",
              "      <td>0.0</td>\n",
              "      <td>1.0</td>\n",
              "      <td>6830.0</td>\n",
              "      <td>2001.0</td>\n",
              "      <td>Action</td>\n",
              "      <td>2</td>\n",
              "      <td>7.390844e+07</td>\n",
              "    </tr>\n",
              "    <tr>\n",
              "      <th>4</th>\n",
              "      <td>76561197960269425</td>\n",
              "      <td>50</td>\n",
              "      <td>0.0</td>\n",
              "      <td>305.0</td>\n",
              "      <td>2013-05-06 15:59:30</td>\n",
              "      <td>0</td>\n",
              "      <td>1</td>\n",
              "      <td>Half-Life: Opposing Force</td>\n",
              "      <td>game</td>\n",
              "      <td>6.751597e-08</td>\n",
              "      <td>1999-11-01 00:00:00</td>\n",
              "      <td>-1.0</td>\n",
              "      <td>0.0</td>\n",
              "      <td>1.0</td>\n",
              "      <td>7408.0</td>\n",
              "      <td>1999.0</td>\n",
              "      <td>Action</td>\n",
              "      <td>2</td>\n",
              "      <td>7.390844e+07</td>\n",
              "    </tr>\n",
              "  </tbody>\n",
              "</table>\n",
              "</div>"
            ],
            "text/plain": [
              "             steamid  appid  playtime_2weeks  playtime_forever        dateretrieved  unplayed  played                      Title  Type       Price_x         Release_Date  Rating  Required_Age  Is_Multiplayer  game_age    year   Genre  ClusterID       Price_y\n",
              "0  76561197960269425     10              0.0            1304.0  2013-05-06 15:59:30         0       1             Counter-Strike  game  1.351672e-07  2000-11-01 00:00:00    88.0           0.0             1.0    7042.0  2000.0  Action          2  7.390844e+07\n",
              "1  76561197960269425     20              0.0               0.0  2013-05-06 15:59:30         1       0      Team Fortress Classic  game  6.751597e-08  1999-04-01 00:00:00    -1.0           0.0             1.0    7622.0  1999.0  Action          2  7.390844e+07\n",
              "2  76561197960269425     30              0.0               0.0  2013-05-06 15:59:30         1       0              Day of Defeat  game  6.751597e-08  2003-05-01 00:00:00    79.0           0.0             1.0    6131.0  2003.0  Action          2  7.390844e+07\n",
              "3  76561197960269425     40              0.0               0.0  2013-05-06 15:59:30         1       0         Deathmatch Classic  game  6.751597e-08  2001-06-01 00:00:00    -1.0           0.0             1.0    6830.0  2001.0  Action          2  7.390844e+07\n",
              "4  76561197960269425     50              0.0             305.0  2013-05-06 15:59:30         0       1  Half-Life: Opposing Force  game  6.751597e-08  1999-11-01 00:00:00    -1.0           0.0             1.0    7408.0  1999.0  Action          2  7.390844e+07"
            ]
          },
          "metadata": {
            "tags": []
          },
          "execution_count": 231
        }
      ]
    },
    {
      "cell_type": "code",
      "metadata": {
        "id": "3F18ugnLOTnB",
        "colab_type": "code",
        "outputId": "5bf1ad52-9df4-4047-85bb-493c362f6432",
        "colab": {
          "base_uri": "https://localhost:8080/",
          "height": 282
        }
      },
      "source": [
        "genre_price = gameplay_apps_genres_cluster_percent[['Genre','Price_x','ClusterID']][(\n",
        "    gameplay_apps_genres_cluster_percent.unplayed==1) & (gameplay_apps_genres_cluster_percent.Genre.isin(\n",
        "    ['Action', 'Free to Play', 'Indie', 'Simulation', 'Strategy',\n",
        "       'Casual', 'Adventure', 'RPG', 'Racing', 'Sports', 'Early Access',\n",
        "       'Massively Multiplayer']))].groupby(\n",
        "    ['Genre','ClusterID'],as_index=False).agg({'Price_x':'sum'}).sort_values('Genre',ascending=True)\n",
        "\n",
        "figure(num=None, figsize=(10, 5), dpi=60, facecolor='w', edgecolor='k')\n",
        "ax = sns.barplot(genre_price.Price_x,genre_price.Genre,hue=genre_price.ClusterID)\n",
        "ax.set(xlabel='Fraction of money spent on unplayed games for each cluster')\n",
        "ax.set(ylabel='Genres (unplayed games)')\n",
        "plt.show()\n"
      ],
      "execution_count": 0,
      "outputs": [
        {
          "output_type": "display_data",
          "data": {
            "image/png": "[encoded data removed]",
            "text/plain": [
              "<Figure size 600x300 with 1 Axes>"
            ]
          },
          "metadata": {
            "tags": []
          }
        }
      ]
    },
    {
      "cell_type": "code",
      "metadata": {
        "id": "0qzMoQzcQcHz",
        "colab_type": "code",
        "outputId": "6f67e435-9415-43c8-e090-944e43574b70",
        "colab": {
          "base_uri": "https://localhost:8080/",
          "height": 299
        }
      },
      "source": [
        "genre_price = gameplay_apps_genres_cluster[['Genre','Price','ClusterID']][(\n",
        "    gameplay_apps_genres_cluster.unplayed==0) & (gameplay_apps_genres_cluster.Genre.isin(\n",
        "    ['Action', 'Free to Play', 'Indie', 'Simulation', 'Strategy',\n",
        "       'Casual', 'Adventure', 'RPG', 'Racing', 'Sports', 'Early Access',\n",
        "       'Massively Multiplayer']))].groupby(\n",
        "    ['Genre','ClusterID'],as_index=False).agg({'Price':'sum'}).sort_values('Genre',ascending=True)\n",
        "\n",
        "figure(num=None, figsize=(10, 5), dpi=60, facecolor='w', edgecolor='k')\n",
        "ax = sns.barplot('Price','Genre',data=genre_price,hue='ClusterID')\n"
      ],
      "execution_count": 0,
      "outputs": [
        {
          "output_type": "execute_result",
          "data": {
            "text/plain": [
              "<matplotlib.axes._subplots.AxesSubplot at 0x7f9021a48390>"
            ]
          },
          "metadata": {
            "tags": []
          },
          "execution_count": 219
        },
        {
          "output_type": "display_data",
          "data": {
            "image/png": "[encoded data removed]",
            "text/plain": [
              "<Figure size 600x300 with 1 Axes>"
            ]
          },
          "metadata": {
            "tags": []
          }
        }
      ]
    },
    {
      "cell_type": "markdown",
      "metadata": {
        "id": "Pe_mdtEPf2O8",
        "colab_type": "text"
      },
      "source": [
        "##Yearly ownership"
      ]
    },
    {
      "cell_type": "code",
      "metadata": {
        "id": "xnMq2GeRf4Ea",
        "colab_type": "code",
        "outputId": "3c28dec0-2deb-4ac1-f8b3-676c35b2ad43",
        "colab": {
          "base_uri": "https://localhost:8080/",
          "height": 343
        }
      },
      "source": [
        "gameplay_apps.head()\n",
        "gameplay_apps['year'] = pd.to_datetime(gameplay_apps.Release_Date).dt.year\n",
        "gameplay_apps.head()"
      ],
      "execution_count": 0,
      "outputs": [
        {
          "output_type": "execute_result",
          "data": {
            "text/html": [
              "<div>\n",
              "<style scoped>\n",
              "    .dataframe tbody tr th:only-of-type {\n",
              "        vertical-align: middle;\n",
              "    }\n",
              "\n",
              "    .dataframe tbody tr th {\n",
              "        vertical-align: top;\n",
              "    }\n",
              "\n",
              "    .dataframe thead th {\n",
              "        text-align: right;\n",
              "    }\n",
              "</style>\n",
              "<table border=\"1\" class=\"dataframe\">\n",
              "  <thead>\n",
              "    <tr style=\"text-align: right;\">\n",
              "      <th></th>\n",
              "      <th>steamid</th>\n",
              "      <th>appid</th>\n",
              "      <th>playtime_2weeks</th>\n",
              "      <th>playtime_forever</th>\n",
              "      <th>dateretrieved</th>\n",
              "      <th>unplayed</th>\n",
              "      <th>played</th>\n",
              "      <th>Title</th>\n",
              "      <th>Type</th>\n",
              "      <th>Price</th>\n",
              "      <th>Release_Date</th>\n",
              "      <th>Rating</th>\n",
              "      <th>Required_Age</th>\n",
              "      <th>Is_Multiplayer</th>\n",
              "      <th>game_age</th>\n",
              "      <th>year</th>\n",
              "    </tr>\n",
              "  </thead>\n",
              "  <tbody>\n",
              "    <tr>\n",
              "      <th>0</th>\n",
              "      <td>76561197960266039</td>\n",
              "      <td>10</td>\n",
              "      <td>7.0</td>\n",
              "      <td>1311.0</td>\n",
              "      <td>2013-05-06 16:00:46</td>\n",
              "      <td>0</td>\n",
              "      <td>1</td>\n",
              "      <td>Counter-Strike</td>\n",
              "      <td>game</td>\n",
              "      <td>9.99</td>\n",
              "      <td>2000-11-01 00:00:00</td>\n",
              "      <td>88.0</td>\n",
              "      <td>0.0</td>\n",
              "      <td>1.0</td>\n",
              "      <td>7042.0</td>\n",
              "      <td>2000.0</td>\n",
              "    </tr>\n",
              "    <tr>\n",
              "      <th>1</th>\n",
              "      <td>76561197960266039</td>\n",
              "      <td>20</td>\n",
              "      <td>0.0</td>\n",
              "      <td>391.0</td>\n",
              "      <td>2013-05-06 16:00:46</td>\n",
              "      <td>0</td>\n",
              "      <td>1</td>\n",
              "      <td>Team Fortress Classic</td>\n",
              "      <td>game</td>\n",
              "      <td>4.99</td>\n",
              "      <td>1999-04-01 00:00:00</td>\n",
              "      <td>-1.0</td>\n",
              "      <td>0.0</td>\n",
              "      <td>1.0</td>\n",
              "      <td>7622.0</td>\n",
              "      <td>1999.0</td>\n",
              "    </tr>\n",
              "    <tr>\n",
              "      <th>2</th>\n",
              "      <td>76561197960266039</td>\n",
              "      <td>30</td>\n",
              "      <td>0.0</td>\n",
              "      <td>0.0</td>\n",
              "      <td>2013-05-06 16:00:46</td>\n",
              "      <td>1</td>\n",
              "      <td>0</td>\n",
              "      <td>Day of Defeat</td>\n",
              "      <td>game</td>\n",
              "      <td>4.99</td>\n",
              "      <td>2003-05-01 00:00:00</td>\n",
              "      <td>79.0</td>\n",
              "      <td>0.0</td>\n",
              "      <td>1.0</td>\n",
              "      <td>6131.0</td>\n",
              "      <td>2003.0</td>\n",
              "    </tr>\n",
              "    <tr>\n",
              "      <th>3</th>\n",
              "      <td>76561197960266039</td>\n",
              "      <td>40</td>\n",
              "      <td>0.0</td>\n",
              "      <td>748.0</td>\n",
              "      <td>2013-05-06 16:00:46</td>\n",
              "      <td>0</td>\n",
              "      <td>1</td>\n",
              "      <td>Deathmatch Classic</td>\n",
              "      <td>game</td>\n",
              "      <td>4.99</td>\n",
              "      <td>2001-06-01 00:00:00</td>\n",
              "      <td>-1.0</td>\n",
              "      <td>0.0</td>\n",
              "      <td>1.0</td>\n",
              "      <td>6830.0</td>\n",
              "      <td>2001.0</td>\n",
              "    </tr>\n",
              "    <tr>\n",
              "      <th>4</th>\n",
              "      <td>76561197960266039</td>\n",
              "      <td>50</td>\n",
              "      <td>0.0</td>\n",
              "      <td>0.0</td>\n",
              "      <td>2013-05-06 16:00:46</td>\n",
              "      <td>1</td>\n",
              "      <td>0</td>\n",
              "      <td>Half-Life: Opposing Force</td>\n",
              "      <td>game</td>\n",
              "      <td>4.99</td>\n",
              "      <td>1999-11-01 00:00:00</td>\n",
              "      <td>-1.0</td>\n",
              "      <td>0.0</td>\n",
              "      <td>1.0</td>\n",
              "      <td>7408.0</td>\n",
              "      <td>1999.0</td>\n",
              "    </tr>\n",
              "  </tbody>\n",
              "</table>\n",
              "</div>"
            ],
            "text/plain": [
              "             steamid  appid  playtime_2weeks  playtime_forever        dateretrieved  unplayed  played                      Title  Type  Price         Release_Date  Rating  Required_Age  Is_Multiplayer  game_age    year\n",
              "0  76561197960266039     10              7.0            1311.0  2013-05-06 16:00:46         0       1             Counter-Strike  game   9.99  2000-11-01 00:00:00    88.0           0.0             1.0    7042.0  2000.0\n",
              "1  76561197960266039     20              0.0             391.0  2013-05-06 16:00:46         0       1      Team Fortress Classic  game   4.99  1999-04-01 00:00:00    -1.0           0.0             1.0    7622.0  1999.0\n",
              "2  76561197960266039     30              0.0               0.0  2013-05-06 16:00:46         1       0              Day of Defeat  game   4.99  2003-05-01 00:00:00    79.0           0.0             1.0    6131.0  2003.0\n",
              "3  76561197960266039     40              0.0             748.0  2013-05-06 16:00:46         0       1         Deathmatch Classic  game   4.99  2001-06-01 00:00:00    -1.0           0.0             1.0    6830.0  2001.0\n",
              "4  76561197960266039     50              0.0               0.0  2013-05-06 16:00:46         1       0  Half-Life: Opposing Force  game   4.99  1999-11-01 00:00:00    -1.0           0.0             1.0    7408.0  1999.0"
            ]
          },
          "metadata": {
            "tags": []
          },
          "execution_count": 155
        }
      ]
    },
    {
      "cell_type": "code",
      "metadata": {
        "id": "bSzvsDe7hQYJ",
        "colab_type": "code",
        "outputId": "5cda4b89-6873-4aeb-c8af-fbfed78a33df",
        "colab": {
          "base_uri": "https://localhost:8080/",
          "height": 204
        }
      },
      "source": [
        "gameplay_apps_year = gameplay_apps[['steamid','year','unplayed','played']]\n",
        "gameplay_apps_year = gameplay_apps_year.merge(data,on='steamid',how='inner')\n",
        "gameplay_apps_year = gameplay_apps_year[['steamid','year','unplayed_x','played','ClusterID']]\n",
        "gameplay_apps_year.columns = ['steamid','year','unplayed','played','ClusterID']\n",
        "gameplay_apps_year.head()"
      ],
      "execution_count": 0,
      "outputs": [
        {
          "output_type": "execute_result",
          "data": {
            "text/html": [
              "<div>\n",
              "<style scoped>\n",
              "    .dataframe tbody tr th:only-of-type {\n",
              "        vertical-align: middle;\n",
              "    }\n",
              "\n",
              "    .dataframe tbody tr th {\n",
              "        vertical-align: top;\n",
              "    }\n",
              "\n",
              "    .dataframe thead th {\n",
              "        text-align: right;\n",
              "    }\n",
              "</style>\n",
              "<table border=\"1\" class=\"dataframe\">\n",
              "  <thead>\n",
              "    <tr style=\"text-align: right;\">\n",
              "      <th></th>\n",
              "      <th>steamid</th>\n",
              "      <th>year</th>\n",
              "      <th>unplayed</th>\n",
              "      <th>played</th>\n",
              "      <th>ClusterID</th>\n",
              "    </tr>\n",
              "  </thead>\n",
              "  <tbody>\n",
              "    <tr>\n",
              "      <th>0</th>\n",
              "      <td>76561197960269425</td>\n",
              "      <td>2000.0</td>\n",
              "      <td>0</td>\n",
              "      <td>1</td>\n",
              "      <td>2</td>\n",
              "    </tr>\n",
              "    <tr>\n",
              "      <th>1</th>\n",
              "      <td>76561197960269425</td>\n",
              "      <td>1999.0</td>\n",
              "      <td>1</td>\n",
              "      <td>0</td>\n",
              "      <td>2</td>\n",
              "    </tr>\n",
              "    <tr>\n",
              "      <th>2</th>\n",
              "      <td>76561197960269425</td>\n",
              "      <td>2003.0</td>\n",
              "      <td>1</td>\n",
              "      <td>0</td>\n",
              "      <td>2</td>\n",
              "    </tr>\n",
              "    <tr>\n",
              "      <th>3</th>\n",
              "      <td>76561197960269425</td>\n",
              "      <td>2001.0</td>\n",
              "      <td>1</td>\n",
              "      <td>0</td>\n",
              "      <td>2</td>\n",
              "    </tr>\n",
              "    <tr>\n",
              "      <th>4</th>\n",
              "      <td>76561197960269425</td>\n",
              "      <td>1999.0</td>\n",
              "      <td>0</td>\n",
              "      <td>1</td>\n",
              "      <td>2</td>\n",
              "    </tr>\n",
              "  </tbody>\n",
              "</table>\n",
              "</div>"
            ],
            "text/plain": [
              "             steamid    year  unplayed  played  ClusterID\n",
              "0  76561197960269425  2000.0         0       1          2\n",
              "1  76561197960269425  1999.0         1       0          2\n",
              "2  76561197960269425  2003.0         1       0          2\n",
              "3  76561197960269425  2001.0         1       0          2\n",
              "4  76561197960269425  1999.0         0       1          2"
            ]
          },
          "metadata": {
            "tags": []
          },
          "execution_count": 156
        }
      ]
    },
    {
      "cell_type": "code",
      "metadata": {
        "id": "7F6ilC5dyYcl",
        "colab_type": "code",
        "outputId": "2d984269-8ef3-48dd-ae09-45ba4b4ca841",
        "colab": {
          "base_uri": "https://localhost:8080/",
          "height": 204
        }
      },
      "source": [
        "year_totals = gameplay_apps_year.groupby(by=['year','ClusterID'],as_index=False).count()[['year','ClusterID','steamid']]\n",
        "year_totals.columns= ['year','ClusterID','no_of_games']\n",
        "year_totals = year_totals[year_totals.year<2013]\n",
        "year_totals.head()"
      ],
      "execution_count": 0,
      "outputs": [
        {
          "output_type": "execute_result",
          "data": {
            "text/html": [
              "<div>\n",
              "<style scoped>\n",
              "    .dataframe tbody tr th:only-of-type {\n",
              "        vertical-align: middle;\n",
              "    }\n",
              "\n",
              "    .dataframe tbody tr th {\n",
              "        vertical-align: top;\n",
              "    }\n",
              "\n",
              "    .dataframe thead th {\n",
              "        text-align: right;\n",
              "    }\n",
              "</style>\n",
              "<table border=\"1\" class=\"dataframe\">\n",
              "  <thead>\n",
              "    <tr style=\"text-align: right;\">\n",
              "      <th></th>\n",
              "      <th>year</th>\n",
              "      <th>ClusterID</th>\n",
              "      <th>no_of_games</th>\n",
              "    </tr>\n",
              "  </thead>\n",
              "  <tbody>\n",
              "    <tr>\n",
              "      <th>0</th>\n",
              "      <td>1970.0</td>\n",
              "      <td>1</td>\n",
              "      <td>19545</td>\n",
              "    </tr>\n",
              "    <tr>\n",
              "      <th>1</th>\n",
              "      <td>1970.0</td>\n",
              "      <td>2</td>\n",
              "      <td>40244</td>\n",
              "    </tr>\n",
              "    <tr>\n",
              "      <th>2</th>\n",
              "      <td>1998.0</td>\n",
              "      <td>1</td>\n",
              "      <td>6853</td>\n",
              "    </tr>\n",
              "    <tr>\n",
              "      <th>3</th>\n",
              "      <td>1998.0</td>\n",
              "      <td>2</td>\n",
              "      <td>10088</td>\n",
              "    </tr>\n",
              "    <tr>\n",
              "      <th>4</th>\n",
              "      <td>1999.0</td>\n",
              "      <td>1</td>\n",
              "      <td>11101</td>\n",
              "    </tr>\n",
              "  </tbody>\n",
              "</table>\n",
              "</div>"
            ],
            "text/plain": [
              "     year  ClusterID  no_of_games\n",
              "0  1970.0          1        19545\n",
              "1  1970.0          2        40244\n",
              "2  1998.0          1         6853\n",
              "3  1998.0          2        10088\n",
              "4  1999.0          1        11101"
            ]
          },
          "metadata": {
            "tags": []
          },
          "execution_count": 157
        }
      ]
    },
    {
      "cell_type": "code",
      "metadata": {
        "id": "bQ02brUmxHTL",
        "colab_type": "code",
        "outputId": "450c1f9d-fb60-40ac-eb4f-7a70f24b50be",
        "colab": {
          "base_uri": "https://localhost:8080/",
          "height": 204
        }
      },
      "source": [
        "gameplay_apps_year_merge = gameplay_apps_year.groupby(['year','unplayed','played','ClusterID'],as_index=False).count()\n",
        "gameplay_apps_year_merge = gameplay_apps_year_merge.merge(year_totals,on=['year','ClusterID'],how='inner')\n",
        "gameplay_apps_year_merge['percentage'] = gameplay_apps_year_merge.steamid/gameplay_apps_year_merge.no_of_games\n",
        "gameplay_apps_year_merge.head()"
      ],
      "execution_count": 0,
      "outputs": [
        {
          "output_type": "execute_result",
          "data": {
            "text/html": [
              "<div>\n",
              "<style scoped>\n",
              "    .dataframe tbody tr th:only-of-type {\n",
              "        vertical-align: middle;\n",
              "    }\n",
              "\n",
              "    .dataframe tbody tr th {\n",
              "        vertical-align: top;\n",
              "    }\n",
              "\n",
              "    .dataframe thead th {\n",
              "        text-align: right;\n",
              "    }\n",
              "</style>\n",
              "<table border=\"1\" class=\"dataframe\">\n",
              "  <thead>\n",
              "    <tr style=\"text-align: right;\">\n",
              "      <th></th>\n",
              "      <th>year</th>\n",
              "      <th>unplayed</th>\n",
              "      <th>played</th>\n",
              "      <th>ClusterID</th>\n",
              "      <th>steamid</th>\n",
              "      <th>no_of_games</th>\n",
              "      <th>percentage</th>\n",
              "    </tr>\n",
              "  </thead>\n",
              "  <tbody>\n",
              "    <tr>\n",
              "      <th>0</th>\n",
              "      <td>1970.0</td>\n",
              "      <td>0</td>\n",
              "      <td>1</td>\n",
              "      <td>1</td>\n",
              "      <td>17367</td>\n",
              "      <td>19545</td>\n",
              "      <td>0.888565</td>\n",
              "    </tr>\n",
              "    <tr>\n",
              "      <th>1</th>\n",
              "      <td>1970.0</td>\n",
              "      <td>1</td>\n",
              "      <td>0</td>\n",
              "      <td>1</td>\n",
              "      <td>2178</td>\n",
              "      <td>19545</td>\n",
              "      <td>0.111435</td>\n",
              "    </tr>\n",
              "    <tr>\n",
              "      <th>2</th>\n",
              "      <td>1970.0</td>\n",
              "      <td>0</td>\n",
              "      <td>1</td>\n",
              "      <td>2</td>\n",
              "      <td>29418</td>\n",
              "      <td>40244</td>\n",
              "      <td>0.730991</td>\n",
              "    </tr>\n",
              "    <tr>\n",
              "      <th>3</th>\n",
              "      <td>1970.0</td>\n",
              "      <td>1</td>\n",
              "      <td>0</td>\n",
              "      <td>2</td>\n",
              "      <td>10826</td>\n",
              "      <td>40244</td>\n",
              "      <td>0.269009</td>\n",
              "    </tr>\n",
              "    <tr>\n",
              "      <th>4</th>\n",
              "      <td>1998.0</td>\n",
              "      <td>0</td>\n",
              "      <td>1</td>\n",
              "      <td>1</td>\n",
              "      <td>3750</td>\n",
              "      <td>6853</td>\n",
              "      <td>0.547206</td>\n",
              "    </tr>\n",
              "  </tbody>\n",
              "</table>\n",
              "</div>"
            ],
            "text/plain": [
              "     year  unplayed  played  ClusterID  steamid  no_of_games  percentage\n",
              "0  1970.0         0       1          1    17367        19545    0.888565\n",
              "1  1970.0         1       0          1     2178        19545    0.111435\n",
              "2  1970.0         0       1          2    29418        40244    0.730991\n",
              "3  1970.0         1       0          2    10826        40244    0.269009\n",
              "4  1998.0         0       1          1     3750         6853    0.547206"
            ]
          },
          "metadata": {
            "tags": []
          },
          "execution_count": 158
        }
      ]
    },
    {
      "cell_type": "code",
      "metadata": {
        "id": "Z_4CTQmB1OtO",
        "colab_type": "code",
        "colab": {}
      },
      "source": [
        "#gameplay_apps_year_merge.columns = ['year', 'unplayed', 'played', 'Groups', 'steamid', 'no_of_games', 'unplayed percentage']"
      ],
      "execution_count": 0,
      "outputs": []
    },
    {
      "cell_type": "code",
      "metadata": {
        "id": "WM_f6vhsie6d",
        "colab_type": "code",
        "outputId": "b3a2f000-4582-4edd-bf1e-f499860cde49",
        "colab": {
          "base_uri": "https://localhost:8080/",
          "height": 299
        }
      },
      "source": [
        "gameplay_apps_year_merge.columns = ['year', 'unplayed', 'played', 'Clusters', 'steamid', 'no_of_games', 'unplayed percentage']\n",
        "figure(num=None, figsize=(15, 5), dpi=60, facecolor='w', edgecolor='k')\n",
        "ax = sns.barplot('year','unplayed percentage',data=gameplay_apps_year_merge[gameplay_apps_year_merge.unplayed==1],hue='Clusters')\n",
        "ax.set(xlabel='Year of release of games until 2012')\n",
        "ax.set(ylabel='Unplayed percentage of games')\n",
        "#plt.title('Percentage of unplayed games every year until 2012 for the Clusters', y=-0.2)\n"
      ],
      "execution_count": 0,
      "outputs": [
        {
          "output_type": "execute_result",
          "data": {
            "text/plain": [
              "[Text(0, 0.5, 'Unplayed percentage of games')]"
            ]
          },
          "metadata": {
            "tags": []
          },
          "execution_count": 160
        },
        {
          "output_type": "display_data",
          "data": {
            "image/png": "[encoded data removed]",
            "text/plain": [
              "<Figure size 900x300 with 1 Axes>"
            ]
          },
          "metadata": {
            "tags": []
          }
        }
      ]
    },
    {
      "cell_type": "code",
      "metadata": {
        "id": "aucbqatYHcGf",
        "colab_type": "code",
        "outputId": "6645397c-4c00-408c-f2c7-049be3d27c48",
        "colab": {
          "base_uri": "https://localhost:8080/",
          "height": 204
        }
      },
      "source": [
        "year_totals.head()"
      ],
      "execution_count": 0,
      "outputs": [
        {
          "output_type": "execute_result",
          "data": {
            "text/html": [
              "<div>\n",
              "<style scoped>\n",
              "    .dataframe tbody tr th:only-of-type {\n",
              "        vertical-align: middle;\n",
              "    }\n",
              "\n",
              "    .dataframe tbody tr th {\n",
              "        vertical-align: top;\n",
              "    }\n",
              "\n",
              "    .dataframe thead th {\n",
              "        text-align: right;\n",
              "    }\n",
              "</style>\n",
              "<table border=\"1\" class=\"dataframe\">\n",
              "  <thead>\n",
              "    <tr style=\"text-align: right;\">\n",
              "      <th></th>\n",
              "      <th>year</th>\n",
              "      <th>ClusterID</th>\n",
              "      <th>no_of_games</th>\n",
              "    </tr>\n",
              "  </thead>\n",
              "  <tbody>\n",
              "    <tr>\n",
              "      <th>0</th>\n",
              "      <td>1970.0</td>\n",
              "      <td>1</td>\n",
              "      <td>19545</td>\n",
              "    </tr>\n",
              "    <tr>\n",
              "      <th>1</th>\n",
              "      <td>1970.0</td>\n",
              "      <td>2</td>\n",
              "      <td>40244</td>\n",
              "    </tr>\n",
              "    <tr>\n",
              "      <th>2</th>\n",
              "      <td>1998.0</td>\n",
              "      <td>1</td>\n",
              "      <td>6853</td>\n",
              "    </tr>\n",
              "    <tr>\n",
              "      <th>3</th>\n",
              "      <td>1998.0</td>\n",
              "      <td>2</td>\n",
              "      <td>10088</td>\n",
              "    </tr>\n",
              "    <tr>\n",
              "      <th>4</th>\n",
              "      <td>1999.0</td>\n",
              "      <td>1</td>\n",
              "      <td>11101</td>\n",
              "    </tr>\n",
              "  </tbody>\n",
              "</table>\n",
              "</div>"
            ],
            "text/plain": [
              "     year  ClusterID  no_of_games\n",
              "0  1970.0          1        19545\n",
              "1  1970.0          2        40244\n",
              "2  1998.0          1         6853\n",
              "3  1998.0          2        10088\n",
              "4  1999.0          1        11101"
            ]
          },
          "metadata": {
            "tags": []
          },
          "execution_count": 161
        }
      ]
    },
    {
      "cell_type": "markdown",
      "metadata": {
        "id": "9x9yxBJxG8ap",
        "colab_type": "text"
      },
      "source": [
        "### Unplayed for free games"
      ]
    },
    {
      "cell_type": "code",
      "metadata": {
        "id": "l8S10mvKmzqW",
        "colab_type": "code",
        "outputId": "370d742d-d10b-4db5-dfaf-21dec0321974",
        "colab": {
          "base_uri": "https://localhost:8080/",
          "height": 314
        }
      },
      "source": [
        "gameplay_apps_year = gameplay_apps[['steamid','year','unplayed','played']][gameplay_apps.Price>0]\n",
        "gameplay_apps_year = gameplay_apps_year.merge(data,on='steamid',how='inner')\n",
        "gameplay_apps_year = gameplay_apps_year[['steamid','year','unplayed_x','played','ClusterID']]\n",
        "gameplay_apps_year.columns = ['steamid','year','unplayed','played','ClusterID']\n",
        "\n",
        "year_totals = gameplay_apps_year.groupby(by=['year','ClusterID'],as_index=False).count()[['year','ClusterID','steamid']]\n",
        "year_totals.columns= ['year','ClusterID','no_of_games']\n",
        "year_totals = year_totals[year_totals.year<2013]\n",
        "year_totals.head()\n",
        "\n",
        "gameplay_apps_year_merge = gameplay_apps_year.groupby(['year','unplayed','played','ClusterID'],as_index=False).count()\n",
        "gameplay_apps_year_merge = gameplay_apps_year_merge.merge(year_totals,on=['year','ClusterID'],how='inner')\n",
        "gameplay_apps_year_merge['percentage'] = gameplay_apps_year_merge.steamid/gameplay_apps_year_merge.no_of_games\n",
        "gameplay_apps_year_merge.head()\n",
        "\n",
        "gameplay_apps_year_merge.columns = ['year', 'unplayed', 'played', 'Groups', 'steamid', 'no_of_games', 'unplayed percentage']\n",
        "\n",
        "gameplay_apps_year_merge.columns = ['year', 'unplayed', 'played', 'Groups', 'steamid', 'no_of_games', 'unplayed percentage']\n",
        "figure(num=None, figsize=(15, 5), dpi=60, facecolor='w', edgecolor='k')\n",
        "ax = sns.barplot('year','unplayed percentage',data=gameplay_apps_year_merge[gameplay_apps_year_merge.unplayed==1],hue='Groups')\n",
        "ax.set(xlabel='Year of release of games until 2012')\n",
        "ax.set(ylabel='Unplayed percentage of games')\n",
        "plt.title('Percentage of unplayed games every year until 2012 for the Groups', y=-0.2)\n"
      ],
      "execution_count": 0,
      "outputs": [
        {
          "output_type": "execute_result",
          "data": {
            "text/plain": [
              "Text(0.5, -0.2, 'Percentage of unplayed games every year until 2012 for the Groups')"
            ]
          },
          "metadata": {
            "tags": []
          },
          "execution_count": 162
        },
        {
          "output_type": "display_data",
          "data": {
            "image/png": "[encoded data removed]",
            "text/plain": [
              "<Figure size 900x300 with 1 Axes>"
            ]
          },
          "metadata": {
            "tags": []
          }
        }
      ]
    },
    {
      "cell_type": "markdown",
      "metadata": {
        "id": "eKZ79PVqrfyr",
        "colab_type": "text"
      },
      "source": [
        "## Achievements"
      ]
    },
    {
      "cell_type": "markdown",
      "metadata": {
        "id": "cEGuTDAarjSh",
        "colab_type": "text"
      },
      "source": [
        "The number of achievements offered by games ranges from 0 to 1629, with a mode of 12, an average of 33.1, and a median of 24.\n",
        "When evaluating games’ cumulative playtime with respect to the number of achievements they offer,we found a very weak positive correlation (Spearman’s correlation, R = 0.16). However, when we constrain the range of offered achievements to only games that offer 1-90 achievements, we find a moderate correlation (R = 0.53). Beyond the range of 90 achievements offered, there is no correlation with playtime (R = −0.02). This suggests a possibility that achievements incentivize more playtime than would have otherwise occurred."
      ]
    },
    {
      "cell_type": "code",
      "metadata": {
        "id": "OedacPcPi2YS",
        "colab_type": "code",
        "outputId": "4985735a-24fa-4533-f799-68d7d70e0087",
        "colab": {
          "base_uri": "https://localhost:8080/"
        }
      },
      "source": [
        "cluster_means[['ClusterID','avg_percentage_completion','no_of_games','total_achievements','achievement_per_game']]\n",
        "\n",
        "#1 picks slightly easier games with more depth"
      ],
      "execution_count": 0,
      "outputs": [
        {
          "output_type": "execute_result",
          "data": {
            "text/html": [
              "<div>\n",
              "<style scoped>\n",
              "    .dataframe tbody tr th:only-of-type {\n",
              "        vertical-align: middle;\n",
              "    }\n",
              "\n",
              "    .dataframe tbody tr th {\n",
              "        vertical-align: top;\n",
              "    }\n",
              "\n",
              "    .dataframe thead th {\n",
              "        text-align: right;\n",
              "    }\n",
              "</style>\n",
              "<table border=\"1\" class=\"dataframe\">\n",
              "  <thead>\n",
              "    <tr style=\"text-align: right;\">\n",
              "      <th></th>\n",
              "      <th>ClusterID</th>\n",
              "      <th>avg_percentage_completion</th>\n",
              "      <th>no_of_games</th>\n",
              "      <th>total_achievements</th>\n",
              "      <th>achievement_per_game</th>\n",
              "    </tr>\n",
              "  </thead>\n",
              "  <tbody>\n",
              "    <tr>\n",
              "      <th>0</th>\n",
              "      <td>1</td>\n",
              "      <td>14.524801</td>\n",
              "      <td>40.099434</td>\n",
              "      <td>2557.660090</td>\n",
              "      <td>67.793393</td>\n",
              "    </tr>\n",
              "    <tr>\n",
              "      <th>1</th>\n",
              "      <td>2</td>\n",
              "      <td>14.284000</td>\n",
              "      <td>133.410463</td>\n",
              "      <td>7527.327596</td>\n",
              "      <td>58.010844</td>\n",
              "    </tr>\n",
              "  </tbody>\n",
              "</table>\n",
              "</div>"
            ],
            "text/plain": [
              "   ClusterID  avg_percentage_completion  no_of_games  total_achievements  achievement_per_game\n",
              "0          1                  14.524801    40.099434         2557.660090             67.793393\n",
              "1          2                  14.284000   133.410463         7527.327596             58.010844"
            ]
          },
          "metadata": {
            "tags": []
          },
          "execution_count": 163
        }
      ]
    },
    {
      "cell_type": "code",
      "metadata": {
        "id": "W99vJYCvVBl9",
        "colab_type": "code",
        "outputId": "67a60566-8d22-4bf2-e40b-d20ac16695ad",
        "colab": {
          "base_uri": "https://localhost:8080/"
        }
      },
      "source": [
        "achievements = pd.read_csv(achievement_loc)\n",
        "ac_count = achievements.groupby(by='appid',as_index=False).agg(\n",
        "    {'Name':'count','Percentage':'mean'}\n",
        ")\n",
        "ac_count.columns = ['appid','ach_count','avg_percentage']\n",
        "ac_count.head()"
      ],
      "execution_count": 0,
      "outputs": [
        {
          "output_type": "execute_result",
          "data": {
            "text/html": [
              "<div>\n",
              "<style scoped>\n",
              "    .dataframe tbody tr th:only-of-type {\n",
              "        vertical-align: middle;\n",
              "    }\n",
              "\n",
              "    .dataframe tbody tr th {\n",
              "        vertical-align: top;\n",
              "    }\n",
              "\n",
              "    .dataframe thead th {\n",
              "        text-align: right;\n",
              "    }\n",
              "</style>\n",
              "<table border=\"1\" class=\"dataframe\">\n",
              "  <thead>\n",
              "    <tr style=\"text-align: right;\">\n",
              "      <th></th>\n",
              "      <th>appid</th>\n",
              "      <th>ach_count</th>\n",
              "      <th>avg_percentage</th>\n",
              "    </tr>\n",
              "  </thead>\n",
              "  <tbody>\n",
              "    <tr>\n",
              "      <th>0</th>\n",
              "      <td>50</td>\n",
              "      <td>5</td>\n",
              "      <td>0.057843</td>\n",
              "    </tr>\n",
              "    <tr>\n",
              "      <th>1</th>\n",
              "      <td>60</td>\n",
              "      <td>3</td>\n",
              "      <td>0.043437</td>\n",
              "    </tr>\n",
              "    <tr>\n",
              "      <th>2</th>\n",
              "      <td>220</td>\n",
              "      <td>33</td>\n",
              "      <td>17.638451</td>\n",
              "    </tr>\n",
              "    <tr>\n",
              "      <th>3</th>\n",
              "      <td>240</td>\n",
              "      <td>148</td>\n",
              "      <td>16.973004</td>\n",
              "    </tr>\n",
              "    <tr>\n",
              "      <th>4</th>\n",
              "      <td>300</td>\n",
              "      <td>55</td>\n",
              "      <td>5.954849</td>\n",
              "    </tr>\n",
              "  </tbody>\n",
              "</table>\n",
              "</div>"
            ],
            "text/plain": [
              "   appid  ach_count  avg_percentage\n",
              "0     50          5        0.057843\n",
              "1     60          3        0.043437\n",
              "2    220         33       17.638451\n",
              "3    240        148       16.973004\n",
              "4    300         55        5.954849"
            ]
          },
          "metadata": {
            "tags": []
          },
          "execution_count": 164
        }
      ]
    },
    {
      "cell_type": "code",
      "metadata": {
        "id": "uW0w_QxOw3XM",
        "colab_type": "code",
        "outputId": "5def979b-3712-4ed4-ce07-c3f733caa228",
        "colab": {
          "base_uri": "https://localhost:8080/"
        }
      },
      "source": [
        "gameplay.head()\n",
        "gameplay_ach = gameplay.merge(ac_count,on='appid',how='inner')\n",
        "gameplay_ach.sort_values('steamid',ascending=False).head()"
      ],
      "execution_count": 0,
      "outputs": [
        {
          "output_type": "execute_result",
          "data": {
            "text/html": [
              "<div>\n",
              "<style scoped>\n",
              "    .dataframe tbody tr th:only-of-type {\n",
              "        vertical-align: middle;\n",
              "    }\n",
              "\n",
              "    .dataframe tbody tr th {\n",
              "        vertical-align: top;\n",
              "    }\n",
              "\n",
              "    .dataframe thead th {\n",
              "        text-align: right;\n",
              "    }\n",
              "</style>\n",
              "<table border=\"1\" class=\"dataframe\">\n",
              "  <thead>\n",
              "    <tr style=\"text-align: right;\">\n",
              "      <th></th>\n",
              "      <th>steamid</th>\n",
              "      <th>appid</th>\n",
              "      <th>playtime_2weeks</th>\n",
              "      <th>playtime_forever</th>\n",
              "      <th>dateretrieved</th>\n",
              "      <th>unplayed</th>\n",
              "      <th>played</th>\n",
              "      <th>ach_count</th>\n",
              "      <th>avg_percentage</th>\n",
              "    </tr>\n",
              "  </thead>\n",
              "  <tbody>\n",
              "    <tr>\n",
              "      <th>55434</th>\n",
              "      <td>76561198086329948</td>\n",
              "      <td>60</td>\n",
              "      <td>0.0</td>\n",
              "      <td>0.0</td>\n",
              "      <td>2013-11-05 10:09:03</td>\n",
              "      <td>1</td>\n",
              "      <td>0</td>\n",
              "      <td>3</td>\n",
              "      <td>0.043437</td>\n",
              "    </tr>\n",
              "    <tr>\n",
              "      <th>843371</th>\n",
              "      <td>76561198086303848</td>\n",
              "      <td>550</td>\n",
              "      <td>48.0</td>\n",
              "      <td>1453.0</td>\n",
              "      <td>2013-11-05 09:36:02</td>\n",
              "      <td>0</td>\n",
              "      <td>1</td>\n",
              "      <td>70</td>\n",
              "      <td>12.836382</td>\n",
              "    </tr>\n",
              "    <tr>\n",
              "      <th>4000668</th>\n",
              "      <td>76561198086303848</td>\n",
              "      <td>209160</td>\n",
              "      <td>0.0</td>\n",
              "      <td>0.0</td>\n",
              "      <td>2013-11-05 09:36:02</td>\n",
              "      <td>1</td>\n",
              "      <td>0</td>\n",
              "      <td>40</td>\n",
              "      <td>36.753345</td>\n",
              "    </tr>\n",
              "    <tr>\n",
              "      <th>2238363</th>\n",
              "      <td>76561198086303848</td>\n",
              "      <td>10180</td>\n",
              "      <td>27.0</td>\n",
              "      <td>224.0</td>\n",
              "      <td>2013-11-05 09:36:02</td>\n",
              "      <td>0</td>\n",
              "      <td>1</td>\n",
              "      <td>50</td>\n",
              "      <td>34.367665</td>\n",
              "    </tr>\n",
              "    <tr>\n",
              "      <th>1122970</th>\n",
              "      <td>76561198086303848</td>\n",
              "      <td>24240</td>\n",
              "      <td>13.0</td>\n",
              "      <td>561.0</td>\n",
              "      <td>2013-11-05 09:36:02</td>\n",
              "      <td>0</td>\n",
              "      <td>1</td>\n",
              "      <td>60</td>\n",
              "      <td>5.669421</td>\n",
              "    </tr>\n",
              "  </tbody>\n",
              "</table>\n",
              "</div>"
            ],
            "text/plain": [
              "                   steamid   appid  playtime_2weeks  playtime_forever        dateretrieved  unplayed  played  ach_count  avg_percentage\n",
              "55434    76561198086329948      60              0.0               0.0  2013-11-05 10:09:03         1       0          3        0.043437\n",
              "843371   76561198086303848     550             48.0            1453.0  2013-11-05 09:36:02         0       1         70       12.836382\n",
              "4000668  76561198086303848  209160              0.0               0.0  2013-11-05 09:36:02         1       0         40       36.753345\n",
              "2238363  76561198086303848   10180             27.0             224.0  2013-11-05 09:36:02         0       1         50       34.367665\n",
              "1122970  76561198086303848   24240             13.0             561.0  2013-11-05 09:36:02         0       1         60        5.669421"
            ]
          },
          "metadata": {
            "tags": []
          },
          "execution_count": 165
        }
      ]
    },
    {
      "cell_type": "code",
      "metadata": {
        "id": "sXBzonwk0uxa",
        "colab_type": "code",
        "outputId": "b7c24ae4-2f06-45a5-9d71-a2cbda13d390",
        "colab": {
          "base_uri": "https://localhost:8080/"
        }
      },
      "source": [
        "gameplay_ach_summary = gameplay_ach[gameplay_ach.played==1][['steamid','ach_count','avg_percentage']].groupby(\n",
        "    by='steamid',as_index=False).agg({'ach_count':'median','avg_percentage':'median'})\n",
        "gameplay_ach_summary.head()"
      ],
      "execution_count": 0,
      "outputs": [
        {
          "output_type": "execute_result",
          "data": {
            "text/html": [
              "<div>\n",
              "<style scoped>\n",
              "    .dataframe tbody tr th:only-of-type {\n",
              "        vertical-align: middle;\n",
              "    }\n",
              "\n",
              "    .dataframe tbody tr th {\n",
              "        vertical-align: top;\n",
              "    }\n",
              "\n",
              "    .dataframe thead th {\n",
              "        text-align: right;\n",
              "    }\n",
              "</style>\n",
              "<table border=\"1\" class=\"dataframe\">\n",
              "  <thead>\n",
              "    <tr style=\"text-align: right;\">\n",
              "      <th></th>\n",
              "      <th>steamid</th>\n",
              "      <th>ach_count</th>\n",
              "      <th>avg_percentage</th>\n",
              "    </tr>\n",
              "  </thead>\n",
              "  <tbody>\n",
              "    <tr>\n",
              "      <th>0</th>\n",
              "      <td>76561197960266039</td>\n",
              "      <td>90.5</td>\n",
              "      <td>15.401724</td>\n",
              "    </tr>\n",
              "    <tr>\n",
              "      <th>1</th>\n",
              "      <td>76561197960269360</td>\n",
              "      <td>28.0</td>\n",
              "      <td>13.611378</td>\n",
              "    </tr>\n",
              "    <tr>\n",
              "      <th>2</th>\n",
              "      <td>76561197960269424</td>\n",
              "      <td>62.0</td>\n",
              "      <td>15.896916</td>\n",
              "    </tr>\n",
              "    <tr>\n",
              "      <th>3</th>\n",
              "      <td>76561197960269425</td>\n",
              "      <td>36.0</td>\n",
              "      <td>11.922427</td>\n",
              "    </tr>\n",
              "    <tr>\n",
              "      <th>4</th>\n",
              "      <td>76561197960269501</td>\n",
              "      <td>50.0</td>\n",
              "      <td>12.360830</td>\n",
              "    </tr>\n",
              "  </tbody>\n",
              "</table>\n",
              "</div>"
            ],
            "text/plain": [
              "             steamid  ach_count  avg_percentage\n",
              "0  76561197960266039       90.5       15.401724\n",
              "1  76561197960269360       28.0       13.611378\n",
              "2  76561197960269424       62.0       15.896916\n",
              "3  76561197960269425       36.0       11.922427\n",
              "4  76561197960269501       50.0       12.360830"
            ]
          },
          "metadata": {
            "tags": []
          },
          "execution_count": 166
        }
      ]
    },
    {
      "cell_type": "code",
      "metadata": {
        "id": "oDamOo9f1jF6",
        "colab_type": "code",
        "outputId": "32001003-b914-4257-e3f7-03edccfcf2d4",
        "colab": {
          "base_uri": "https://localhost:8080/"
        }
      },
      "source": [
        "gameplay_ach_summary[gameplay_ach_summary.steamid.isin(\n",
        "    data[data.ClusterID==1].steamid\n",
        ")].ach_count.quantile(np.arange(0.1,1.1,0.1)) \n",
        "#Median 63, 90 85\n",
        "gameplay_ach_summary[gameplay_ach_summary.steamid.isin(\n",
        "    data[data.ClusterID==1].steamid\n",
        ")].avg_percentage.quantile(np.arange(0.1,1.1,0.1)) \n",
        "#Median 15.2, 90 19.18\n",
        "\n",
        "gameplay_ach_summary[gameplay_ach_summary.steamid.isin(\n",
        "    data[data.ClusterID==2].steamid\n",
        ")].ach_count.quantile(np.arange(0.1,1.1,0.1)) \n",
        "#Median 53, 90 67\n",
        "gameplay_ach_summary[gameplay_ach_summary.steamid.isin(\n",
        "    data[data.ClusterID==2].steamid\n",
        ")].avg_percentage.quantile(np.arange(0.1,1.1,0.1)) \n",
        "#Median 14.36, 90 16.94"
      ],
      "execution_count": 0,
      "outputs": [
        {
          "output_type": "execute_result",
          "data": {
            "text/plain": [
              "0.1    11.972060\n",
              "0.2    12.836382\n",
              "0.3    13.420714\n",
              "0.4    13.906187\n",
              "0.5    14.363478\n",
              "0.6    15.090118\n",
              "0.7    15.401492\n",
              "0.8    15.860894\n",
              "0.9    16.944819\n",
              "1.0    34.795377\n",
              "Name: avg_percentage, dtype: float64"
            ]
          },
          "metadata": {
            "tags": []
          },
          "execution_count": 167
        }
      ]
    },
    {
      "cell_type": "markdown",
      "metadata": {
        "id": "UbEFtYYalq6m",
        "colab_type": "text"
      },
      "source": [
        "## Player Data"
      ]
    },
    {
      "cell_type": "code",
      "metadata": {
        "id": "6kClFno5lpjj",
        "colab_type": "code",
        "outputId": "eb99d459-1080-4fb2-ec91-23268022bd58",
        "colab": {
          "base_uri": "https://localhost:8080/"
        }
      },
      "source": [
        "player_summary = pd.read_csv(player_summary_loc)\n",
        "#player_summary.head()\n",
        "#sns.countplot(player_summary.loccountrycode,hist=True)\n",
        "player_data = player_summary[['loccountrycode','steamid']].groupby(\n",
        "    'loccountrycode',as_index=False).count().sort_values('steamid',ascending=False).head(n=10)\n",
        "\n",
        "sns.barplot('steamid','loccountrycode',data=player_data)"
      ],
      "execution_count": 0,
      "outputs": [
        {
          "output_type": "execute_result",
          "data": {
            "text/plain": [
              "<matplotlib.axes._subplots.AxesSubplot at 0x7f9025799278>"
            ]
          },
          "metadata": {
            "tags": []
          },
          "execution_count": 168
        },
        {
          "output_type": "display_data",
          "data": {
            "image/png": "[encoded data removed]",
            "text/plain": [
              "<Figure size 432x288 with 1 Axes>"
            ]
          },
          "metadata": {
            "tags": []
          }
        }
      ]
    },
    {
      "cell_type": "code",
      "metadata": {
        "id": "aVz3_-FOrgp-",
        "colab_type": "code",
        "outputId": "6fc30de6-2194-416b-9665-a3610300f8ec",
        "colab": {
          "base_uri": "https://localhost:8080/"
        }
      },
      "source": [
        "player_data = player_summary[player_summary.steamid.isin(\n",
        "    data[data.ClusterID==1].steamid\n",
        ")][['loccountrycode','steamid']].groupby(\n",
        "    'loccountrycode',as_index=False).count().sort_values('steamid',ascending=False).head(n=10)\n",
        "\n",
        "sns.barplot('steamid','loccountrycode',data=player_data)"
      ],
      "execution_count": 0,
      "outputs": [
        {
          "output_type": "execute_result",
          "data": {
            "text/plain": [
              "<matplotlib.axes._subplots.AxesSubplot at 0x7f8fc30167f0>"
            ]
          },
          "metadata": {
            "tags": []
          },
          "execution_count": 169
        },
        {
          "output_type": "display_data",
          "data": {
            "image/png": "[encoded data removed]",
            "text/plain": [
              "<Figure size 432x288 with 1 Axes>"
            ]
          },
          "metadata": {
            "tags": []
          }
        }
      ]
    },
    {
      "cell_type": "code",
      "metadata": {
        "id": "dw6tngOOr620",
        "colab_type": "code",
        "outputId": "f3b8ac24-9273-4b8c-af70-63dccb5ea6a1",
        "colab": {
          "base_uri": "https://localhost:8080/"
        }
      },
      "source": [
        "player_data = player_summary[player_summary.steamid.isin(\n",
        "    data[data.ClusterID==2].steamid\n",
        ")][['loccountrycode','steamid']].groupby(\n",
        "    'loccountrycode',as_index=False).count().sort_values('steamid',ascending=False).head(n=10)\n",
        "\n",
        "sns.barplot('steamid','loccountrycode',data=player_data)"
      ],
      "execution_count": 0,
      "outputs": [
        {
          "output_type": "execute_result",
          "data": {
            "text/plain": [
              "<matplotlib.axes._subplots.AxesSubplot at 0x7f901c8c91d0>"
            ]
          },
          "metadata": {
            "tags": []
          },
          "execution_count": 170
        },
        {
          "output_type": "display_data",
          "data": {
            "image/png": "[encoded data removed]",
            "text/plain": [
              "<Figure size 432x288 with 1 Axes>"
            ]
          },
          "metadata": {
            "tags": []
          }
        }
      ]
    },
    {
      "cell_type": "markdown",
      "metadata": {
        "id": "FVbpnQY2aqCr",
        "colab_type": "text"
      },
      "source": [
        "## Correlations"
      ]
    },
    {
      "cell_type": "code",
      "metadata": {
        "id": "LweLnF0GUZdI",
        "colab_type": "code",
        "outputId": "dd6a7119-f122-4999-e899-d94a01c44342",
        "colab": {
          "base_uri": "https://localhost:8080/",
          "height": 377
        }
      },
      "source": [
        "gameplay_apps_ac = gameplay_apps.merge(ac_count,how='inner',on='appid')\n",
        "gameplay_apps_ac.sort_values('steamid').head()"
      ],
      "execution_count": 0,
      "outputs": [
        {
          "output_type": "execute_result",
          "data": {
            "text/html": [
              "<div>\n",
              "<style scoped>\n",
              "    .dataframe tbody tr th:only-of-type {\n",
              "        vertical-align: middle;\n",
              "    }\n",
              "\n",
              "    .dataframe tbody tr th {\n",
              "        vertical-align: top;\n",
              "    }\n",
              "\n",
              "    .dataframe thead th {\n",
              "        text-align: right;\n",
              "    }\n",
              "</style>\n",
              "<table border=\"1\" class=\"dataframe\">\n",
              "  <thead>\n",
              "    <tr style=\"text-align: right;\">\n",
              "      <th></th>\n",
              "      <th>steamid</th>\n",
              "      <th>appid</th>\n",
              "      <th>playtime_2weeks</th>\n",
              "      <th>playtime_forever</th>\n",
              "      <th>dateretrieved</th>\n",
              "      <th>unplayed</th>\n",
              "      <th>played</th>\n",
              "      <th>Title</th>\n",
              "      <th>Type</th>\n",
              "      <th>Price</th>\n",
              "      <th>Release_Date</th>\n",
              "      <th>Rating</th>\n",
              "      <th>Required_Age</th>\n",
              "      <th>Is_Multiplayer</th>\n",
              "      <th>game_age</th>\n",
              "      <th>year</th>\n",
              "      <th>ach_count</th>\n",
              "      <th>avg_percentage</th>\n",
              "    </tr>\n",
              "  </thead>\n",
              "  <tbody>\n",
              "    <tr>\n",
              "      <th>0</th>\n",
              "      <td>76561197960266039</td>\n",
              "      <td>50</td>\n",
              "      <td>0.0</td>\n",
              "      <td>0.0</td>\n",
              "      <td>2013-05-06 16:00:46</td>\n",
              "      <td>1</td>\n",
              "      <td>0</td>\n",
              "      <td>Half-Life: Opposing Force</td>\n",
              "      <td>game</td>\n",
              "      <td>4.99</td>\n",
              "      <td>1999-11-01 00:00:00</td>\n",
              "      <td>-1.0</td>\n",
              "      <td>0.0</td>\n",
              "      <td>1.0</td>\n",
              "      <td>7408.0</td>\n",
              "      <td>1999.0</td>\n",
              "      <td>5</td>\n",
              "      <td>0.057843</td>\n",
              "    </tr>\n",
              "    <tr>\n",
              "      <th>55435</th>\n",
              "      <td>76561197960266039</td>\n",
              "      <td>220</td>\n",
              "      <td>0.0</td>\n",
              "      <td>1.0</td>\n",
              "      <td>2013-05-06 16:00:46</td>\n",
              "      <td>0</td>\n",
              "      <td>1</td>\n",
              "      <td>Half-Life 2</td>\n",
              "      <td>game</td>\n",
              "      <td>9.99</td>\n",
              "      <td>2004-11-16 00:00:00</td>\n",
              "      <td>96.0</td>\n",
              "      <td>0.0</td>\n",
              "      <td>0.0</td>\n",
              "      <td>5566.0</td>\n",
              "      <td>2004.0</td>\n",
              "      <td>33</td>\n",
              "      <td>17.638451</td>\n",
              "    </tr>\n",
              "    <tr>\n",
              "      <th>112701</th>\n",
              "      <td>76561197960266039</td>\n",
              "      <td>240</td>\n",
              "      <td>1286.0</td>\n",
              "      <td>9102.0</td>\n",
              "      <td>2013-05-06 16:00:46</td>\n",
              "      <td>0</td>\n",
              "      <td>1</td>\n",
              "      <td>Counter-Strike: Source</td>\n",
              "      <td>game</td>\n",
              "      <td>19.99</td>\n",
              "      <td>2004-11-01 00:00:00</td>\n",
              "      <td>88.0</td>\n",
              "      <td>0.0</td>\n",
              "      <td>1.0</td>\n",
              "      <td>5581.0</td>\n",
              "      <td>2004.0</td>\n",
              "      <td>148</td>\n",
              "      <td>16.973004</td>\n",
              "    </tr>\n",
              "    <tr>\n",
              "      <th>188910</th>\n",
              "      <td>76561197960266039</td>\n",
              "      <td>300</td>\n",
              "      <td>0.0</td>\n",
              "      <td>0.0</td>\n",
              "      <td>2013-05-06 16:00:46</td>\n",
              "      <td>1</td>\n",
              "      <td>0</td>\n",
              "      <td>Day of Defeat: Source</td>\n",
              "      <td>game</td>\n",
              "      <td>9.99</td>\n",
              "      <td>2010-07-12 00:00:00</td>\n",
              "      <td>80.0</td>\n",
              "      <td>0.0</td>\n",
              "      <td>1.0</td>\n",
              "      <td>3502.0</td>\n",
              "      <td>2010.0</td>\n",
              "      <td>55</td>\n",
              "      <td>5.954849</td>\n",
              "    </tr>\n",
              "    <tr>\n",
              "      <th>219436</th>\n",
              "      <td>76561197960266039</td>\n",
              "      <td>440</td>\n",
              "      <td>6783.0</td>\n",
              "      <td>103398.0</td>\n",
              "      <td>2013-05-06 16:00:46</td>\n",
              "      <td>0</td>\n",
              "      <td>1</td>\n",
              "      <td>Team Fortress 2</td>\n",
              "      <td>game</td>\n",
              "      <td>0.00</td>\n",
              "      <td>2007-10-10 00:00:00</td>\n",
              "      <td>92.0</td>\n",
              "      <td>0.0</td>\n",
              "      <td>1.0</td>\n",
              "      <td>4508.0</td>\n",
              "      <td>2007.0</td>\n",
              "      <td>520</td>\n",
              "      <td>11.994409</td>\n",
              "    </tr>\n",
              "  </tbody>\n",
              "</table>\n",
              "</div>"
            ],
            "text/plain": [
              "                  steamid  appid  playtime_2weeks  playtime_forever        dateretrieved  unplayed  played                      Title  Type  Price         Release_Date  Rating  Required_Age  Is_Multiplayer  game_age    year  ach_count  avg_percentage\n",
              "0       76561197960266039     50              0.0               0.0  2013-05-06 16:00:46         1       0  Half-Life: Opposing Force  game   4.99  1999-11-01 00:00:00    -1.0           0.0             1.0    7408.0  1999.0          5        0.057843\n",
              "55435   76561197960266039    220              0.0               1.0  2013-05-06 16:00:46         0       1                Half-Life 2  game   9.99  2004-11-16 00:00:00    96.0           0.0             0.0    5566.0  2004.0         33       17.638451\n",
              "112701  76561197960266039    240           1286.0            9102.0  2013-05-06 16:00:46         0       1     Counter-Strike: Source  game  19.99  2004-11-01 00:00:00    88.0           0.0             1.0    5581.0  2004.0        148       16.973004\n",
              "188910  76561197960266039    300              0.0               0.0  2013-05-06 16:00:46         1       0      Day of Defeat: Source  game   9.99  2010-07-12 00:00:00    80.0           0.0             1.0    3502.0  2010.0         55        5.954849\n",
              "219436  76561197960266039    440           6783.0          103398.0  2013-05-06 16:00:46         0       1            Team Fortress 2  game   0.00  2007-10-10 00:00:00    92.0           0.0             1.0    4508.0  2007.0        520       11.994409"
            ]
          },
          "metadata": {
            "tags": []
          },
          "execution_count": 171
        }
      ]
    },
    {
      "cell_type": "code",
      "metadata": {
        "id": "O9p9et5FWq3A",
        "colab_type": "code",
        "outputId": "cfa68b18-4ae6-44b7-f8ce-410918645702",
        "colab": {
          "base_uri": "https://localhost:8080/",
          "height": 235
        }
      },
      "source": [
        "gameplay_apps_ac[gameplay_apps_ac.played==1][['playtime_2weeks','playtime_forever','game_age','Price','ach_count','avg_percentage']].corr()\n",
        "#Interesting"
      ],
      "execution_count": 0,
      "outputs": [
        {
          "output_type": "execute_result",
          "data": {
            "text/html": [
              "<div>\n",
              "<style scoped>\n",
              "    .dataframe tbody tr th:only-of-type {\n",
              "        vertical-align: middle;\n",
              "    }\n",
              "\n",
              "    .dataframe tbody tr th {\n",
              "        vertical-align: top;\n",
              "    }\n",
              "\n",
              "    .dataframe thead th {\n",
              "        text-align: right;\n",
              "    }\n",
              "</style>\n",
              "<table border=\"1\" class=\"dataframe\">\n",
              "  <thead>\n",
              "    <tr style=\"text-align: right;\">\n",
              "      <th></th>\n",
              "      <th>playtime_2weeks</th>\n",
              "      <th>playtime_forever</th>\n",
              "      <th>game_age</th>\n",
              "      <th>Price</th>\n",
              "      <th>ach_count</th>\n",
              "      <th>avg_percentage</th>\n",
              "    </tr>\n",
              "  </thead>\n",
              "  <tbody>\n",
              "    <tr>\n",
              "      <th>playtime_2weeks</th>\n",
              "      <td>1.000000</td>\n",
              "      <td>0.515559</td>\n",
              "      <td>-0.002962</td>\n",
              "      <td>0.055583</td>\n",
              "      <td>0.167100</td>\n",
              "      <td>-0.010860</td>\n",
              "    </tr>\n",
              "    <tr>\n",
              "      <th>playtime_forever</th>\n",
              "      <td>0.515559</td>\n",
              "      <td>1.000000</td>\n",
              "      <td>0.029205</td>\n",
              "      <td>0.018638</td>\n",
              "      <td>0.224847</td>\n",
              "      <td>-0.017267</td>\n",
              "    </tr>\n",
              "    <tr>\n",
              "      <th>game_age</th>\n",
              "      <td>-0.002962</td>\n",
              "      <td>0.029205</td>\n",
              "      <td>1.000000</td>\n",
              "      <td>-0.106078</td>\n",
              "      <td>0.004640</td>\n",
              "      <td>0.032652</td>\n",
              "    </tr>\n",
              "    <tr>\n",
              "      <th>Price</th>\n",
              "      <td>0.055583</td>\n",
              "      <td>0.018638</td>\n",
              "      <td>-0.106078</td>\n",
              "      <td>1.000000</td>\n",
              "      <td>-0.022668</td>\n",
              "      <td>0.057826</td>\n",
              "    </tr>\n",
              "    <tr>\n",
              "      <th>ach_count</th>\n",
              "      <td>0.167100</td>\n",
              "      <td>0.224847</td>\n",
              "      <td>0.004640</td>\n",
              "      <td>-0.022668</td>\n",
              "      <td>1.000000</td>\n",
              "      <td>-0.160080</td>\n",
              "    </tr>\n",
              "    <tr>\n",
              "      <th>avg_percentage</th>\n",
              "      <td>-0.010860</td>\n",
              "      <td>-0.017267</td>\n",
              "      <td>0.032652</td>\n",
              "      <td>0.057826</td>\n",
              "      <td>-0.160080</td>\n",
              "      <td>1.000000</td>\n",
              "    </tr>\n",
              "  </tbody>\n",
              "</table>\n",
              "</div>"
            ],
            "text/plain": [
              "                  playtime_2weeks  playtime_forever  game_age     Price  ach_count  avg_percentage\n",
              "playtime_2weeks          1.000000          0.515559 -0.002962  0.055583   0.167100       -0.010860\n",
              "playtime_forever         0.515559          1.000000  0.029205  0.018638   0.224847       -0.017267\n",
              "game_age                -0.002962          0.029205  1.000000 -0.106078   0.004640        0.032652\n",
              "Price                    0.055583          0.018638 -0.106078  1.000000  -0.022668        0.057826\n",
              "ach_count                0.167100          0.224847  0.004640 -0.022668   1.000000       -0.160080\n",
              "avg_percentage          -0.010860         -0.017267  0.032652  0.057826  -0.160080        1.000000"
            ]
          },
          "metadata": {
            "tags": []
          },
          "execution_count": 172
        }
      ]
    },
    {
      "cell_type": "code",
      "metadata": {
        "id": "8rg9dI0CZZ5G",
        "colab_type": "code",
        "outputId": "8c08e209-1547-4acf-85d6-e38caedd1dfb",
        "colab": {
          "base_uri": "https://localhost:8080/",
          "height": 235
        }
      },
      "source": [
        "gameplay_apps_ac[gameplay_apps_ac.unplayed==1][['playtime_2weeks','playtime_forever','game_age','Price','ach_count','avg_percentage']].corr()\n",
        "# Nothing Interesting"
      ],
      "execution_count": 0,
      "outputs": [
        {
          "output_type": "execute_result",
          "data": {
            "text/html": [
              "<div>\n",
              "<style scoped>\n",
              "    .dataframe tbody tr th:only-of-type {\n",
              "        vertical-align: middle;\n",
              "    }\n",
              "\n",
              "    .dataframe tbody tr th {\n",
              "        vertical-align: top;\n",
              "    }\n",
              "\n",
              "    .dataframe thead th {\n",
              "        text-align: right;\n",
              "    }\n",
              "</style>\n",
              "<table border=\"1\" class=\"dataframe\">\n",
              "  <thead>\n",
              "    <tr style=\"text-align: right;\">\n",
              "      <th></th>\n",
              "      <th>playtime_2weeks</th>\n",
              "      <th>playtime_forever</th>\n",
              "      <th>game_age</th>\n",
              "      <th>Price</th>\n",
              "      <th>ach_count</th>\n",
              "      <th>avg_percentage</th>\n",
              "    </tr>\n",
              "  </thead>\n",
              "  <tbody>\n",
              "    <tr>\n",
              "      <th>playtime_2weeks</th>\n",
              "      <td>1.000000</td>\n",
              "      <td>NaN</td>\n",
              "      <td>-0.000388</td>\n",
              "      <td>0.000186</td>\n",
              "      <td>0.000427</td>\n",
              "      <td>-0.000072</td>\n",
              "    </tr>\n",
              "    <tr>\n",
              "      <th>playtime_forever</th>\n",
              "      <td>NaN</td>\n",
              "      <td>NaN</td>\n",
              "      <td>NaN</td>\n",
              "      <td>NaN</td>\n",
              "      <td>NaN</td>\n",
              "      <td>NaN</td>\n",
              "    </tr>\n",
              "    <tr>\n",
              "      <th>game_age</th>\n",
              "      <td>-0.000388</td>\n",
              "      <td>NaN</td>\n",
              "      <td>1.000000</td>\n",
              "      <td>-0.178151</td>\n",
              "      <td>-0.123656</td>\n",
              "      <td>-0.105241</td>\n",
              "    </tr>\n",
              "    <tr>\n",
              "      <th>Price</th>\n",
              "      <td>0.000186</td>\n",
              "      <td>NaN</td>\n",
              "      <td>-0.178151</td>\n",
              "      <td>1.000000</td>\n",
              "      <td>0.246466</td>\n",
              "      <td>0.103094</td>\n",
              "    </tr>\n",
              "    <tr>\n",
              "      <th>ach_count</th>\n",
              "      <td>0.000427</td>\n",
              "      <td>NaN</td>\n",
              "      <td>-0.123656</td>\n",
              "      <td>0.246466</td>\n",
              "      <td>1.000000</td>\n",
              "      <td>-0.107767</td>\n",
              "    </tr>\n",
              "    <tr>\n",
              "      <th>avg_percentage</th>\n",
              "      <td>-0.000072</td>\n",
              "      <td>NaN</td>\n",
              "      <td>-0.105241</td>\n",
              "      <td>0.103094</td>\n",
              "      <td>-0.107767</td>\n",
              "      <td>1.000000</td>\n",
              "    </tr>\n",
              "  </tbody>\n",
              "</table>\n",
              "</div>"
            ],
            "text/plain": [
              "                  playtime_2weeks  playtime_forever  game_age     Price  ach_count  avg_percentage\n",
              "playtime_2weeks          1.000000               NaN -0.000388  0.000186   0.000427       -0.000072\n",
              "playtime_forever              NaN               NaN       NaN       NaN        NaN             NaN\n",
              "game_age                -0.000388               NaN  1.000000 -0.178151  -0.123656       -0.105241\n",
              "Price                    0.000186               NaN -0.178151  1.000000   0.246466        0.103094\n",
              "ach_count                0.000427               NaN -0.123656  0.246466   1.000000       -0.107767\n",
              "avg_percentage          -0.000072               NaN -0.105241  0.103094  -0.107767        1.000000"
            ]
          },
          "metadata": {
            "tags": []
          },
          "execution_count": 173
        }
      ]
    },
    {
      "cell_type": "code",
      "metadata": {
        "id": "_0GhcpglZu9X",
        "colab_type": "code",
        "outputId": "fdef9bdb-62d5-48f3-a17c-788f3c0e6cd6",
        "colab": {
          "base_uri": "https://localhost:8080/",
          "height": 235
        }
      },
      "source": [
        "gameplay_apps_ac[(gameplay_apps_ac.played==1\n",
        "                  ) & (gameplay_apps_ac.steamid.isin(\n",
        "                      data[data.ClusterID==1].steamid #Cluster selection\n",
        "                  ))][['playtime_2weeks','playtime_forever','game_age','Price','ach_count','avg_percentage']].corr()\n",
        "# Interesting"
      ],
      "execution_count": 0,
      "outputs": [
        {
          "output_type": "execute_result",
          "data": {
            "text/html": [
              "<div>\n",
              "<style scoped>\n",
              "    .dataframe tbody tr th:only-of-type {\n",
              "        vertical-align: middle;\n",
              "    }\n",
              "\n",
              "    .dataframe tbody tr th {\n",
              "        vertical-align: top;\n",
              "    }\n",
              "\n",
              "    .dataframe thead th {\n",
              "        text-align: right;\n",
              "    }\n",
              "</style>\n",
              "<table border=\"1\" class=\"dataframe\">\n",
              "  <thead>\n",
              "    <tr style=\"text-align: right;\">\n",
              "      <th></th>\n",
              "      <th>playtime_2weeks</th>\n",
              "      <th>playtime_forever</th>\n",
              "      <th>game_age</th>\n",
              "      <th>Price</th>\n",
              "      <th>ach_count</th>\n",
              "      <th>avg_percentage</th>\n",
              "    </tr>\n",
              "  </thead>\n",
              "  <tbody>\n",
              "    <tr>\n",
              "      <th>playtime_2weeks</th>\n",
              "      <td>1.000000</td>\n",
              "      <td>0.433439</td>\n",
              "      <td>-0.008958</td>\n",
              "      <td>0.029732</td>\n",
              "      <td>0.124630</td>\n",
              "      <td>-0.009176</td>\n",
              "    </tr>\n",
              "    <tr>\n",
              "      <th>playtime_forever</th>\n",
              "      <td>0.433439</td>\n",
              "      <td>1.000000</td>\n",
              "      <td>0.029004</td>\n",
              "      <td>-0.006278</td>\n",
              "      <td>0.206854</td>\n",
              "      <td>-0.012698</td>\n",
              "    </tr>\n",
              "    <tr>\n",
              "      <th>game_age</th>\n",
              "      <td>-0.008958</td>\n",
              "      <td>0.029004</td>\n",
              "      <td>1.000000</td>\n",
              "      <td>-0.117815</td>\n",
              "      <td>0.001034</td>\n",
              "      <td>0.042425</td>\n",
              "    </tr>\n",
              "    <tr>\n",
              "      <th>Price</th>\n",
              "      <td>0.029732</td>\n",
              "      <td>-0.006278</td>\n",
              "      <td>-0.117815</td>\n",
              "      <td>1.000000</td>\n",
              "      <td>-0.062209</td>\n",
              "      <td>0.043858</td>\n",
              "    </tr>\n",
              "    <tr>\n",
              "      <th>ach_count</th>\n",
              "      <td>0.124630</td>\n",
              "      <td>0.206854</td>\n",
              "      <td>0.001034</td>\n",
              "      <td>-0.062209</td>\n",
              "      <td>1.000000</td>\n",
              "      <td>-0.178323</td>\n",
              "    </tr>\n",
              "    <tr>\n",
              "      <th>avg_percentage</th>\n",
              "      <td>-0.009176</td>\n",
              "      <td>-0.012698</td>\n",
              "      <td>0.042425</td>\n",
              "      <td>0.043858</td>\n",
              "      <td>-0.178323</td>\n",
              "      <td>1.000000</td>\n",
              "    </tr>\n",
              "  </tbody>\n",
              "</table>\n",
              "</div>"
            ],
            "text/plain": [
              "                  playtime_2weeks  playtime_forever  game_age     Price  ach_count  avg_percentage\n",
              "playtime_2weeks          1.000000          0.433439 -0.008958  0.029732   0.124630       -0.009176\n",
              "playtime_forever         0.433439          1.000000  0.029004 -0.006278   0.206854       -0.012698\n",
              "game_age                -0.008958          0.029004  1.000000 -0.117815   0.001034        0.042425\n",
              "Price                    0.029732         -0.006278 -0.117815  1.000000  -0.062209        0.043858\n",
              "ach_count                0.124630          0.206854  0.001034 -0.062209   1.000000       -0.178323\n",
              "avg_percentage          -0.009176         -0.012698  0.042425  0.043858  -0.178323        1.000000"
            ]
          },
          "metadata": {
            "tags": []
          },
          "execution_count": 174
        }
      ]
    },
    {
      "cell_type": "code",
      "metadata": {
        "id": "6X6G-OjFaGXR",
        "colab_type": "code",
        "outputId": "520dbe6c-7a98-4bae-80d7-8070f9db42e8",
        "colab": {
          "base_uri": "https://localhost:8080/",
          "height": 235
        }
      },
      "source": [
        "gameplay_apps_ac[(gameplay_apps_ac.played==1\n",
        "                  ) & (gameplay_apps_ac.steamid.isin(\n",
        "                      data[data.ClusterID==2].steamid #Cluster selection\n",
        "                  ))][['playtime_2weeks','playtime_forever','game_age','Price','ach_count','avg_percentage']].corr()\n",
        "# similar"
      ],
      "execution_count": 0,
      "outputs": [
        {
          "output_type": "execute_result",
          "data": {
            "text/html": [
              "<div>\n",
              "<style scoped>\n",
              "    .dataframe tbody tr th:only-of-type {\n",
              "        vertical-align: middle;\n",
              "    }\n",
              "\n",
              "    .dataframe tbody tr th {\n",
              "        vertical-align: top;\n",
              "    }\n",
              "\n",
              "    .dataframe thead th {\n",
              "        text-align: right;\n",
              "    }\n",
              "</style>\n",
              "<table border=\"1\" class=\"dataframe\">\n",
              "  <thead>\n",
              "    <tr style=\"text-align: right;\">\n",
              "      <th></th>\n",
              "      <th>playtime_2weeks</th>\n",
              "      <th>playtime_forever</th>\n",
              "      <th>game_age</th>\n",
              "      <th>Price</th>\n",
              "      <th>ach_count</th>\n",
              "      <th>avg_percentage</th>\n",
              "    </tr>\n",
              "  </thead>\n",
              "  <tbody>\n",
              "    <tr>\n",
              "      <th>playtime_2weeks</th>\n",
              "      <td>1.000000</td>\n",
              "      <td>0.434275</td>\n",
              "      <td>0.004081</td>\n",
              "      <td>0.017567</td>\n",
              "      <td>0.136282</td>\n",
              "      <td>0.005788</td>\n",
              "    </tr>\n",
              "    <tr>\n",
              "      <th>playtime_forever</th>\n",
              "      <td>0.434275</td>\n",
              "      <td>1.000000</td>\n",
              "      <td>0.037611</td>\n",
              "      <td>-0.024889</td>\n",
              "      <td>0.268105</td>\n",
              "      <td>-0.003716</td>\n",
              "    </tr>\n",
              "    <tr>\n",
              "      <th>game_age</th>\n",
              "      <td>0.004081</td>\n",
              "      <td>0.037611</td>\n",
              "      <td>1.000000</td>\n",
              "      <td>-0.083097</td>\n",
              "      <td>0.004428</td>\n",
              "      <td>0.032434</td>\n",
              "    </tr>\n",
              "    <tr>\n",
              "      <th>Price</th>\n",
              "      <td>0.017567</td>\n",
              "      <td>-0.024889</td>\n",
              "      <td>-0.083097</td>\n",
              "      <td>1.000000</td>\n",
              "      <td>0.036024</td>\n",
              "      <td>0.075159</td>\n",
              "    </tr>\n",
              "    <tr>\n",
              "      <th>ach_count</th>\n",
              "      <td>0.136282</td>\n",
              "      <td>0.268105</td>\n",
              "      <td>0.004428</td>\n",
              "      <td>0.036024</td>\n",
              "      <td>1.000000</td>\n",
              "      <td>-0.146544</td>\n",
              "    </tr>\n",
              "    <tr>\n",
              "      <th>avg_percentage</th>\n",
              "      <td>0.005788</td>\n",
              "      <td>-0.003716</td>\n",
              "      <td>0.032434</td>\n",
              "      <td>0.075159</td>\n",
              "      <td>-0.146544</td>\n",
              "      <td>1.000000</td>\n",
              "    </tr>\n",
              "  </tbody>\n",
              "</table>\n",
              "</div>"
            ],
            "text/plain": [
              "                  playtime_2weeks  playtime_forever  game_age     Price  ach_count  avg_percentage\n",
              "playtime_2weeks          1.000000          0.434275  0.004081  0.017567   0.136282        0.005788\n",
              "playtime_forever         0.434275          1.000000  0.037611 -0.024889   0.268105       -0.003716\n",
              "game_age                 0.004081          0.037611  1.000000 -0.083097   0.004428        0.032434\n",
              "Price                    0.017567         -0.024889 -0.083097  1.000000   0.036024        0.075159\n",
              "ach_count                0.136282          0.268105  0.004428  0.036024   1.000000       -0.146544\n",
              "avg_percentage           0.005788         -0.003716  0.032434  0.075159  -0.146544        1.000000"
            ]
          },
          "metadata": {
            "tags": []
          },
          "execution_count": 175
        }
      ]
    },
    {
      "cell_type": "markdown",
      "metadata": {
        "id": "bX0m3G3sqdwn",
        "colab_type": "text"
      },
      "source": [
        "## Country wise analysis"
      ]
    },
    {
      "cell_type": "code",
      "metadata": {
        "id": "ildZEl8Cqkmt",
        "colab_type": "code",
        "outputId": "2bc7bce4-acb4-4a7d-96f5-f8bdb25cea79",
        "colab": {
          "base_uri": "https://localhost:8080/",
          "height": 343
        }
      },
      "source": [
        "player_summary = pd.read_csv(player_summary_loc)\n",
        "player_summary.head()"
      ],
      "execution_count": 0,
      "outputs": [
        {
          "output_type": "execute_result",
          "data": {
            "text/html": [
              "<div>\n",
              "<style scoped>\n",
              "    .dataframe tbody tr th:only-of-type {\n",
              "        vertical-align: middle;\n",
              "    }\n",
              "\n",
              "    .dataframe tbody tr th {\n",
              "        vertical-align: top;\n",
              "    }\n",
              "\n",
              "    .dataframe thead th {\n",
              "        text-align: right;\n",
              "    }\n",
              "</style>\n",
              "<table border=\"1\" class=\"dataframe\">\n",
              "  <thead>\n",
              "    <tr style=\"text-align: right;\">\n",
              "      <th></th>\n",
              "      <th>steamid</th>\n",
              "      <th>personaname</th>\n",
              "      <th>profileurl</th>\n",
              "      <th>avatar</th>\n",
              "      <th>avatarmedium</th>\n",
              "      <th>avatarfull</th>\n",
              "      <th>personastate</th>\n",
              "      <th>communityvisibilitystate</th>\n",
              "      <th>profilestate</th>\n",
              "      <th>lastlogoff</th>\n",
              "      <th>commentpermission</th>\n",
              "      <th>realname</th>\n",
              "      <th>primaryclanid</th>\n",
              "      <th>timecreated</th>\n",
              "      <th>gameid</th>\n",
              "      <th>gameserverip</th>\n",
              "      <th>gameextrainfo</th>\n",
              "      <th>cityid</th>\n",
              "      <th>loccountrycode</th>\n",
              "      <th>locstatecode</th>\n",
              "      <th>loccityid</th>\n",
              "      <th>dateretrieved</th>\n",
              "    </tr>\n",
              "  </thead>\n",
              "  <tbody>\n",
              "    <tr>\n",
              "      <th>0</th>\n",
              "      <td>76561197960266039</td>\n",
              "      <td>Weasel</td>\n",
              "      <td>http://steamcommunity.com/id/Weasel/</td>\n",
              "      <td>http://media.steampowered.com/steamcommunity/p...</td>\n",
              "      <td>http://media.steampowered.com/steamcommunity/p...</td>\n",
              "      <td>http://media.steampowered.com/steamcommunity/p...</td>\n",
              "      <td>0</td>\n",
              "      <td>3</td>\n",
              "      <td>1.0</td>\n",
              "      <td>2013-02-13 23:41:54</td>\n",
              "      <td>2.0</td>\n",
              "      <td>Weasel</td>\n",
              "      <td>1.035828e+17</td>\n",
              "      <td>2003-09-10 23:48:48</td>\n",
              "      <td>NaN</td>\n",
              "      <td>NaN</td>\n",
              "      <td>NaN</td>\n",
              "      <td>NaN</td>\n",
              "      <td>US</td>\n",
              "      <td>NV</td>\n",
              "      <td>NaN</td>\n",
              "      <td>2013-02-28 14:19:00</td>\n",
              "    </tr>\n",
              "    <tr>\n",
              "      <th>1</th>\n",
              "      <td>76561197960269360</td>\n",
              "      <td>minnes kort ett</td>\n",
              "      <td>http://steamcommunity.com/id/dibban/</td>\n",
              "      <td>http://media.steampowered.com/steamcommunity/p...</td>\n",
              "      <td>http://media.steampowered.com/steamcommunity/p...</td>\n",
              "      <td>http://media.steampowered.com/steamcommunity/p...</td>\n",
              "      <td>0</td>\n",
              "      <td>1</td>\n",
              "      <td>1.0</td>\n",
              "      <td>2013-01-24 17:40:08</td>\n",
              "      <td>2.0</td>\n",
              "      <td>NaN</td>\n",
              "      <td>NaN</td>\n",
              "      <td>NaN</td>\n",
              "      <td>NaN</td>\n",
              "      <td>NaN</td>\n",
              "      <td>NaN</td>\n",
              "      <td>NaN</td>\n",
              "      <td>NaN</td>\n",
              "      <td>NaN</td>\n",
              "      <td>NaN</td>\n",
              "      <td>2013-02-28 14:34:05</td>\n",
              "    </tr>\n",
              "    <tr>\n",
              "      <th>2</th>\n",
              "      <td>76561197960269424</td>\n",
              "      <td>t8p</td>\n",
              "      <td>http://steamcommunity.com/profiles/76561197960...</td>\n",
              "      <td>http://media.steampowered.com/steamcommunity/p...</td>\n",
              "      <td>http://media.steampowered.com/steamcommunity/p...</td>\n",
              "      <td>http://media.steampowered.com/steamcommunity/p...</td>\n",
              "      <td>1</td>\n",
              "      <td>3</td>\n",
              "      <td>1.0</td>\n",
              "      <td>2013-02-14 19:57:02</td>\n",
              "      <td>1.0</td>\n",
              "      <td>NaN</td>\n",
              "      <td>1.035828e+17</td>\n",
              "      <td>2003-09-12 00:09:53</td>\n",
              "      <td>730.0</td>\n",
              "      <td>208.64.201.103:27034</td>\n",
              "      <td>Counter-Strike: Global Offensive</td>\n",
              "      <td>NaN</td>\n",
              "      <td>CA</td>\n",
              "      <td>NaN</td>\n",
              "      <td>NaN</td>\n",
              "      <td>2013-02-28 14:34:05</td>\n",
              "    </tr>\n",
              "    <tr>\n",
              "      <th>3</th>\n",
              "      <td>76561197960269425</td>\n",
              "      <td>lone</td>\n",
              "      <td>http://steamcommunity.com/id/waoh/</td>\n",
              "      <td>http://media.steampowered.com/steamcommunity/p...</td>\n",
              "      <td>http://media.steampowered.com/steamcommunity/p...</td>\n",
              "      <td>http://media.steampowered.com/steamcommunity/p...</td>\n",
              "      <td>1</td>\n",
              "      <td>3</td>\n",
              "      <td>1.0</td>\n",
              "      <td>2013-03-06 13:01:11</td>\n",
              "      <td>1.0</td>\n",
              "      <td>Casey</td>\n",
              "      <td>1.035828e+17</td>\n",
              "      <td>2003-09-12 00:18:47</td>\n",
              "      <td>570.0</td>\n",
              "      <td>208.78.164.199:27038</td>\n",
              "      <td>Dota 2</td>\n",
              "      <td>NaN</td>\n",
              "      <td>US</td>\n",
              "      <td>OR</td>\n",
              "      <td>3187.0</td>\n",
              "      <td>2013-03-06 16:18:05</td>\n",
              "    </tr>\n",
              "    <tr>\n",
              "      <th>4</th>\n",
              "      <td>76561197960269501</td>\n",
              "      <td>â™¥ PanzerKnacker â™¥</td>\n",
              "      <td>http://steamcommunity.com/id/PanzerKnacker/</td>\n",
              "      <td>http://media.steampowered.com/steamcommunity/p...</td>\n",
              "      <td>http://media.steampowered.com/steamcommunity/p...</td>\n",
              "      <td>http://media.steampowered.com/steamcommunity/p...</td>\n",
              "      <td>1</td>\n",
              "      <td>3</td>\n",
              "      <td>1.0</td>\n",
              "      <td>2013-03-06 03:13:37</td>\n",
              "      <td>NaN</td>\n",
              "      <td>Justin Glenn</td>\n",
              "      <td>1.035828e+17</td>\n",
              "      <td>2003-09-12 00:23:37</td>\n",
              "      <td>NaN</td>\n",
              "      <td>NaN</td>\n",
              "      <td>NaN</td>\n",
              "      <td>NaN</td>\n",
              "      <td>US</td>\n",
              "      <td>CA</td>\n",
              "      <td>518.0</td>\n",
              "      <td>2013-03-06 16:18:05</td>\n",
              "    </tr>\n",
              "  </tbody>\n",
              "</table>\n",
              "</div>"
            ],
            "text/plain": [
              "             steamid            personaname                                         profileurl                                             avatar                                       avatarmedium                                         avatarfull  personastate  communityvisibilitystate  profilestate           lastlogoff  commentpermission      realname  primaryclanid          timecreated  gameid          gameserverip                     gameextrainfo  cityid loccountrycode locstatecode  loccityid        dateretrieved\n",
              "0  76561197960266039                 Weasel               http://steamcommunity.com/id/Weasel/  http://media.steampowered.com/steamcommunity/p...  http://media.steampowered.com/steamcommunity/p...  http://media.steampowered.com/steamcommunity/p...             0                         3           1.0  2013-02-13 23:41:54                2.0        Weasel   1.035828e+17  2003-09-10 23:48:48     NaN                   NaN                               NaN     NaN             US           NV        NaN  2013-02-28 14:19:00\n",
              "1  76561197960269360        minnes kort ett               http://steamcommunity.com/id/dibban/  http://media.steampowered.com/steamcommunity/p...  http://media.steampowered.com/steamcommunity/p...  http://media.steampowered.com/steamcommunity/p...             0                         1           1.0  2013-01-24 17:40:08                2.0           NaN            NaN                  NaN     NaN                   NaN                               NaN     NaN            NaN          NaN        NaN  2013-02-28 14:34:05\n",
              "2  76561197960269424                    t8p  http://steamcommunity.com/profiles/76561197960...  http://media.steampowered.com/steamcommunity/p...  http://media.steampowered.com/steamcommunity/p...  http://media.steampowered.com/steamcommunity/p...             1                         3           1.0  2013-02-14 19:57:02                1.0           NaN   1.035828e+17  2003-09-12 00:09:53   730.0  208.64.201.103:27034  Counter-Strike: Global Offensive     NaN             CA          NaN        NaN  2013-02-28 14:34:05\n",
              "3  76561197960269425                   lone                 http://steamcommunity.com/id/waoh/  http://media.steampowered.com/steamcommunity/p...  http://media.steampowered.com/steamcommunity/p...  http://media.steampowered.com/steamcommunity/p...             1                         3           1.0  2013-03-06 13:01:11                1.0         Casey   1.035828e+17  2003-09-12 00:18:47   570.0  208.78.164.199:27038                            Dota 2     NaN             US           OR     3187.0  2013-03-06 16:18:05\n",
              "4  76561197960269501  â™¥ PanzerKnacker â™¥        http://steamcommunity.com/id/PanzerKnacker/  http://media.steampowered.com/steamcommunity/p...  http://media.steampowered.com/steamcommunity/p...  http://media.steampowered.com/steamcommunity/p...             1                         3           1.0  2013-03-06 03:13:37                NaN  Justin Glenn   1.035828e+17  2003-09-12 00:23:37     NaN                   NaN                               NaN     NaN             US           CA      518.0  2013-03-06 16:18:05"
            ]
          },
          "metadata": {
            "tags": []
          },
          "execution_count": 176
        }
      ]
    },
    {
      "cell_type": "code",
      "metadata": {
        "id": "UtlYo8rUqwBE",
        "colab_type": "code",
        "outputId": "920c4eaf-08b8-4d99-a757-4f8b234a6512",
        "colab": {
          "base_uri": "https://localhost:8080/",
          "height": 343
        }
      },
      "source": [
        "gameplay_player = play_counts.merge(player_summary,how='inner',on='steamid')\n",
        "gameplay_player.head()"
      ],
      "execution_count": 0,
      "outputs": [
        {
          "output_type": "execute_result",
          "data": {
            "text/html": [
              "<div>\n",
              "<style scoped>\n",
              "    .dataframe tbody tr th:only-of-type {\n",
              "        vertical-align: middle;\n",
              "    }\n",
              "\n",
              "    .dataframe tbody tr th {\n",
              "        vertical-align: top;\n",
              "    }\n",
              "\n",
              "    .dataframe thead th {\n",
              "        text-align: right;\n",
              "    }\n",
              "</style>\n",
              "<table border=\"1\" class=\"dataframe\">\n",
              "  <thead>\n",
              "    <tr style=\"text-align: right;\">\n",
              "      <th></th>\n",
              "      <th>steamid</th>\n",
              "      <th>unplayed</th>\n",
              "      <th>played</th>\n",
              "      <th>no_of_games</th>\n",
              "      <th>unplayed_percentage</th>\n",
              "      <th>personaname</th>\n",
              "      <th>profileurl</th>\n",
              "      <th>avatar</th>\n",
              "      <th>avatarmedium</th>\n",
              "      <th>avatarfull</th>\n",
              "      <th>personastate</th>\n",
              "      <th>communityvisibilitystate</th>\n",
              "      <th>profilestate</th>\n",
              "      <th>lastlogoff</th>\n",
              "      <th>commentpermission</th>\n",
              "      <th>realname</th>\n",
              "      <th>primaryclanid</th>\n",
              "      <th>timecreated</th>\n",
              "      <th>gameid</th>\n",
              "      <th>gameserverip</th>\n",
              "      <th>gameextrainfo</th>\n",
              "      <th>cityid</th>\n",
              "      <th>loccountrycode</th>\n",
              "      <th>locstatecode</th>\n",
              "      <th>loccityid</th>\n",
              "      <th>dateretrieved</th>\n",
              "    </tr>\n",
              "  </thead>\n",
              "  <tbody>\n",
              "    <tr>\n",
              "      <th>0</th>\n",
              "      <td>76561197960266039</td>\n",
              "      <td>7</td>\n",
              "      <td>10</td>\n",
              "      <td>17</td>\n",
              "      <td>0.411765</td>\n",
              "      <td>Weasel</td>\n",
              "      <td>http://steamcommunity.com/id/Weasel/</td>\n",
              "      <td>http://media.steampowered.com/steamcommunity/p...</td>\n",
              "      <td>http://media.steampowered.com/steamcommunity/p...</td>\n",
              "      <td>http://media.steampowered.com/steamcommunity/p...</td>\n",
              "      <td>0</td>\n",
              "      <td>3</td>\n",
              "      <td>1.0</td>\n",
              "      <td>2013-02-13 23:41:54</td>\n",
              "      <td>2.0</td>\n",
              "      <td>Weasel</td>\n",
              "      <td>1.035828e+17</td>\n",
              "      <td>2003-09-10 23:48:48</td>\n",
              "      <td>NaN</td>\n",
              "      <td>NaN</td>\n",
              "      <td>NaN</td>\n",
              "      <td>NaN</td>\n",
              "      <td>US</td>\n",
              "      <td>NV</td>\n",
              "      <td>NaN</td>\n",
              "      <td>2013-02-28 14:19:00</td>\n",
              "    </tr>\n",
              "    <tr>\n",
              "      <th>1</th>\n",
              "      <td>76561197960269360</td>\n",
              "      <td>19</td>\n",
              "      <td>20</td>\n",
              "      <td>39</td>\n",
              "      <td>0.487179</td>\n",
              "      <td>minnes kort ett</td>\n",
              "      <td>http://steamcommunity.com/id/dibban/</td>\n",
              "      <td>http://media.steampowered.com/steamcommunity/p...</td>\n",
              "      <td>http://media.steampowered.com/steamcommunity/p...</td>\n",
              "      <td>http://media.steampowered.com/steamcommunity/p...</td>\n",
              "      <td>0</td>\n",
              "      <td>1</td>\n",
              "      <td>1.0</td>\n",
              "      <td>2013-01-24 17:40:08</td>\n",
              "      <td>2.0</td>\n",
              "      <td>NaN</td>\n",
              "      <td>NaN</td>\n",
              "      <td>NaN</td>\n",
              "      <td>NaN</td>\n",
              "      <td>NaN</td>\n",
              "      <td>NaN</td>\n",
              "      <td>NaN</td>\n",
              "      <td>NaN</td>\n",
              "      <td>NaN</td>\n",
              "      <td>NaN</td>\n",
              "      <td>2013-02-28 14:34:05</td>\n",
              "    </tr>\n",
              "    <tr>\n",
              "      <th>2</th>\n",
              "      <td>76561197960269424</td>\n",
              "      <td>22</td>\n",
              "      <td>43</td>\n",
              "      <td>65</td>\n",
              "      <td>0.338462</td>\n",
              "      <td>t8p</td>\n",
              "      <td>http://steamcommunity.com/profiles/76561197960...</td>\n",
              "      <td>http://media.steampowered.com/steamcommunity/p...</td>\n",
              "      <td>http://media.steampowered.com/steamcommunity/p...</td>\n",
              "      <td>http://media.steampowered.com/steamcommunity/p...</td>\n",
              "      <td>1</td>\n",
              "      <td>3</td>\n",
              "      <td>1.0</td>\n",
              "      <td>2013-02-14 19:57:02</td>\n",
              "      <td>1.0</td>\n",
              "      <td>NaN</td>\n",
              "      <td>1.035828e+17</td>\n",
              "      <td>2003-09-12 00:09:53</td>\n",
              "      <td>730.0</td>\n",
              "      <td>208.64.201.103:27034</td>\n",
              "      <td>Counter-Strike: Global Offensive</td>\n",
              "      <td>NaN</td>\n",
              "      <td>CA</td>\n",
              "      <td>NaN</td>\n",
              "      <td>NaN</td>\n",
              "      <td>2013-02-28 14:34:05</td>\n",
              "    </tr>\n",
              "    <tr>\n",
              "      <th>3</th>\n",
              "      <td>76561197960269425</td>\n",
              "      <td>77</td>\n",
              "      <td>145</td>\n",
              "      <td>222</td>\n",
              "      <td>0.346847</td>\n",
              "      <td>lone</td>\n",
              "      <td>http://steamcommunity.com/id/waoh/</td>\n",
              "      <td>http://media.steampowered.com/steamcommunity/p...</td>\n",
              "      <td>http://media.steampowered.com/steamcommunity/p...</td>\n",
              "      <td>http://media.steampowered.com/steamcommunity/p...</td>\n",
              "      <td>1</td>\n",
              "      <td>3</td>\n",
              "      <td>1.0</td>\n",
              "      <td>2013-03-06 13:01:11</td>\n",
              "      <td>1.0</td>\n",
              "      <td>Casey</td>\n",
              "      <td>1.035828e+17</td>\n",
              "      <td>2003-09-12 00:18:47</td>\n",
              "      <td>570.0</td>\n",
              "      <td>208.78.164.199:27038</td>\n",
              "      <td>Dota 2</td>\n",
              "      <td>NaN</td>\n",
              "      <td>US</td>\n",
              "      <td>OR</td>\n",
              "      <td>3187.0</td>\n",
              "      <td>2013-03-06 16:18:05</td>\n",
              "    </tr>\n",
              "    <tr>\n",
              "      <th>4</th>\n",
              "      <td>76561197960269501</td>\n",
              "      <td>63</td>\n",
              "      <td>143</td>\n",
              "      <td>206</td>\n",
              "      <td>0.305825</td>\n",
              "      <td>â™¥ PanzerKnacker â™¥</td>\n",
              "      <td>http://steamcommunity.com/id/PanzerKnacker/</td>\n",
              "      <td>http://media.steampowered.com/steamcommunity/p...</td>\n",
              "      <td>http://media.steampowered.com/steamcommunity/p...</td>\n",
              "      <td>http://media.steampowered.com/steamcommunity/p...</td>\n",
              "      <td>1</td>\n",
              "      <td>3</td>\n",
              "      <td>1.0</td>\n",
              "      <td>2013-03-06 03:13:37</td>\n",
              "      <td>NaN</td>\n",
              "      <td>Justin Glenn</td>\n",
              "      <td>1.035828e+17</td>\n",
              "      <td>2003-09-12 00:23:37</td>\n",
              "      <td>NaN</td>\n",
              "      <td>NaN</td>\n",
              "      <td>NaN</td>\n",
              "      <td>NaN</td>\n",
              "      <td>US</td>\n",
              "      <td>CA</td>\n",
              "      <td>518.0</td>\n",
              "      <td>2013-03-06 16:18:05</td>\n",
              "    </tr>\n",
              "  </tbody>\n",
              "</table>\n",
              "</div>"
            ],
            "text/plain": [
              "             steamid  unplayed  played  no_of_games  unplayed_percentage            personaname                                         profileurl                                             avatar                                       avatarmedium                                         avatarfull  personastate  communityvisibilitystate  profilestate           lastlogoff  commentpermission      realname  primaryclanid          timecreated  gameid          gameserverip                     gameextrainfo  cityid loccountrycode locstatecode  loccityid        dateretrieved\n",
              "0  76561197960266039         7      10           17             0.411765                 Weasel               http://steamcommunity.com/id/Weasel/  http://media.steampowered.com/steamcommunity/p...  http://media.steampowered.com/steamcommunity/p...  http://media.steampowered.com/steamcommunity/p...             0                         3           1.0  2013-02-13 23:41:54                2.0        Weasel   1.035828e+17  2003-09-10 23:48:48     NaN                   NaN                               NaN     NaN             US           NV        NaN  2013-02-28 14:19:00\n",
              "1  76561197960269360        19      20           39             0.487179        minnes kort ett               http://steamcommunity.com/id/dibban/  http://media.steampowered.com/steamcommunity/p...  http://media.steampowered.com/steamcommunity/p...  http://media.steampowered.com/steamcommunity/p...             0                         1           1.0  2013-01-24 17:40:08                2.0           NaN            NaN                  NaN     NaN                   NaN                               NaN     NaN            NaN          NaN        NaN  2013-02-28 14:34:05\n",
              "2  76561197960269424        22      43           65             0.338462                    t8p  http://steamcommunity.com/profiles/76561197960...  http://media.steampowered.com/steamcommunity/p...  http://media.steampowered.com/steamcommunity/p...  http://media.steampowered.com/steamcommunity/p...             1                         3           1.0  2013-02-14 19:57:02                1.0           NaN   1.035828e+17  2003-09-12 00:09:53   730.0  208.64.201.103:27034  Counter-Strike: Global Offensive     NaN             CA          NaN        NaN  2013-02-28 14:34:05\n",
              "3  76561197960269425        77     145          222             0.346847                   lone                 http://steamcommunity.com/id/waoh/  http://media.steampowered.com/steamcommunity/p...  http://media.steampowered.com/steamcommunity/p...  http://media.steampowered.com/steamcommunity/p...             1                         3           1.0  2013-03-06 13:01:11                1.0         Casey   1.035828e+17  2003-09-12 00:18:47   570.0  208.78.164.199:27038                            Dota 2     NaN             US           OR     3187.0  2013-03-06 16:18:05\n",
              "4  76561197960269501        63     143          206             0.305825  â™¥ PanzerKnacker â™¥        http://steamcommunity.com/id/PanzerKnacker/  http://media.steampowered.com/steamcommunity/p...  http://media.steampowered.com/steamcommunity/p...  http://media.steampowered.com/steamcommunity/p...             1                         3           1.0  2013-03-06 03:13:37                NaN  Justin Glenn   1.035828e+17  2003-09-12 00:23:37     NaN                   NaN                               NaN     NaN             US           CA      518.0  2013-03-06 16:18:05"
            ]
          },
          "metadata": {
            "tags": []
          },
          "execution_count": 177
        }
      ]
    },
    {
      "cell_type": "code",
      "metadata": {
        "id": "lxniIu-frCoA",
        "colab_type": "code",
        "outputId": "bf6945aa-08e1-4a17-e580-8448fee3c9d1",
        "colab": {
          "base_uri": "https://localhost:8080/",
          "height": 54
        }
      },
      "source": [
        "'''\n",
        "data = gameplay_player[['loccountrycode','no_of_games']].groupby(\n",
        "    by='loccountrycode').count().sort_values('no_of_games',ascending=False).reset_index().head()\n",
        "\n",
        "data.no_of_games = data.no_of_games*100/gameplay_player.count()[1]\n",
        "data.columns = ['loccountrycode','% of players']\n",
        "data\n",
        "'''"
      ],
      "execution_count": 0,
      "outputs": [
        {
          "output_type": "execute_result",
          "data": {
            "text/plain": [
              "\"\\ndata = gameplay_player[['loccountrycode','no_of_games']].groupby(\\n    by='loccountrycode').count().sort_values('no_of_games',ascending=False).reset_index().head()\\n\\ndata.no_of_games = data.no_of_games*100/gameplay_player.count()[1]\\ndata.columns = ['loccountrycode','% of players']\\ndata\\n\""
            ]
          },
          "metadata": {
            "tags": []
          },
          "execution_count": 178
        }
      ]
    },
    {
      "cell_type": "code",
      "metadata": {
        "id": "kQSabFV4t5B4",
        "colab_type": "code",
        "outputId": "f93d0227-0519-4558-9caf-8c09aa7e6bda",
        "colab": {
          "base_uri": "https://localhost:8080/",
          "height": 54
        }
      },
      "source": [
        "'''\n",
        "gameplay_player[gameplay_player.loccountrycode.isin(data.loccountrycode)][['loccountrycode','no_of_games']].groupby(\n",
        "    by='loccountrycode').agg({'no_of_games':'mean'}).sort_values('no_of_games',ascending=False)\n",
        "    '''"
      ],
      "execution_count": 0,
      "outputs": [
        {
          "output_type": "execute_result",
          "data": {
            "text/plain": [
              "\"\\ngameplay_player[gameplay_player.loccountrycode.isin(data.loccountrycode)][['loccountrycode','no_of_games']].groupby(\\n    by='loccountrycode').agg({'no_of_games':'mean'}).sort_values('no_of_games',ascending=False)\\n    \""
            ]
          },
          "metadata": {
            "tags": []
          },
          "execution_count": 179
        }
      ]
    },
    {
      "cell_type": "code",
      "metadata": {
        "id": "9ZsQ96E4uan_",
        "colab_type": "code",
        "outputId": "a21eb886-5d59-46fa-ae22-584e93be13db",
        "colab": {
          "base_uri": "https://localhost:8080/",
          "height": 54
        }
      },
      "source": [
        "'''\n",
        "gameplay_player[gameplay_player.loccountrycode.isin(data.loccountrycode)][['loccountrycode','unplayed_percentage']].groupby(\n",
        "    by='loccountrycode').agg({'unplayed_percentage':'mean'}).sort_values('unplayed_percentage',ascending=False)\n",
        "    '''"
      ],
      "execution_count": 0,
      "outputs": [
        {
          "output_type": "execute_result",
          "data": {
            "text/plain": [
              "\"\\ngameplay_player[gameplay_player.loccountrycode.isin(data.loccountrycode)][['loccountrycode','unplayed_percentage']].groupby(\\n    by='loccountrycode').agg({'unplayed_percentage':'mean'}).sort_values('unplayed_percentage',ascending=False)\\n    \""
            ]
          },
          "metadata": {
            "tags": []
          },
          "execution_count": 180
        }
      ]
    },
    {
      "cell_type": "markdown",
      "metadata": {
        "id": "pciMRR8v4Cmn",
        "colab_type": "text"
      },
      "source": [
        "## Online and offline"
      ]
    },
    {
      "cell_type": "code",
      "metadata": {
        "id": "y6e1gnSm7Eum",
        "colab_type": "code",
        "outputId": "5e2baec7-e40a-4e4c-aeae-b310eb3454c5",
        "colab": {
          "base_uri": "https://localhost:8080/",
          "height": 343
        }
      },
      "source": [
        "gameplay_apps.head()"
      ],
      "execution_count": 0,
      "outputs": [
        {
          "output_type": "execute_result",
          "data": {
            "text/html": [
              "<div>\n",
              "<style scoped>\n",
              "    .dataframe tbody tr th:only-of-type {\n",
              "        vertical-align: middle;\n",
              "    }\n",
              "\n",
              "    .dataframe tbody tr th {\n",
              "        vertical-align: top;\n",
              "    }\n",
              "\n",
              "    .dataframe thead th {\n",
              "        text-align: right;\n",
              "    }\n",
              "</style>\n",
              "<table border=\"1\" class=\"dataframe\">\n",
              "  <thead>\n",
              "    <tr style=\"text-align: right;\">\n",
              "      <th></th>\n",
              "      <th>steamid</th>\n",
              "      <th>appid</th>\n",
              "      <th>playtime_2weeks</th>\n",
              "      <th>playtime_forever</th>\n",
              "      <th>dateretrieved</th>\n",
              "      <th>unplayed</th>\n",
              "      <th>played</th>\n",
              "      <th>Title</th>\n",
              "      <th>Type</th>\n",
              "      <th>Price</th>\n",
              "      <th>Release_Date</th>\n",
              "      <th>Rating</th>\n",
              "      <th>Required_Age</th>\n",
              "      <th>Is_Multiplayer</th>\n",
              "      <th>game_age</th>\n",
              "      <th>year</th>\n",
              "    </tr>\n",
              "  </thead>\n",
              "  <tbody>\n",
              "    <tr>\n",
              "      <th>0</th>\n",
              "      <td>76561197960266039</td>\n",
              "      <td>10</td>\n",
              "      <td>7.0</td>\n",
              "      <td>1311.0</td>\n",
              "      <td>2013-05-06 16:00:46</td>\n",
              "      <td>0</td>\n",
              "      <td>1</td>\n",
              "      <td>Counter-Strike</td>\n",
              "      <td>game</td>\n",
              "      <td>9.99</td>\n",
              "      <td>2000-11-01 00:00:00</td>\n",
              "      <td>88.0</td>\n",
              "      <td>0.0</td>\n",
              "      <td>1.0</td>\n",
              "      <td>7042.0</td>\n",
              "      <td>2000.0</td>\n",
              "    </tr>\n",
              "    <tr>\n",
              "      <th>1</th>\n",
              "      <td>76561197960266039</td>\n",
              "      <td>20</td>\n",
              "      <td>0.0</td>\n",
              "      <td>391.0</td>\n",
              "      <td>2013-05-06 16:00:46</td>\n",
              "      <td>0</td>\n",
              "      <td>1</td>\n",
              "      <td>Team Fortress Classic</td>\n",
              "      <td>game</td>\n",
              "      <td>4.99</td>\n",
              "      <td>1999-04-01 00:00:00</td>\n",
              "      <td>-1.0</td>\n",
              "      <td>0.0</td>\n",
              "      <td>1.0</td>\n",
              "      <td>7622.0</td>\n",
              "      <td>1999.0</td>\n",
              "    </tr>\n",
              "    <tr>\n",
              "      <th>2</th>\n",
              "      <td>76561197960266039</td>\n",
              "      <td>30</td>\n",
              "      <td>0.0</td>\n",
              "      <td>0.0</td>\n",
              "      <td>2013-05-06 16:00:46</td>\n",
              "      <td>1</td>\n",
              "      <td>0</td>\n",
              "      <td>Day of Defeat</td>\n",
              "      <td>game</td>\n",
              "      <td>4.99</td>\n",
              "      <td>2003-05-01 00:00:00</td>\n",
              "      <td>79.0</td>\n",
              "      <td>0.0</td>\n",
              "      <td>1.0</td>\n",
              "      <td>6131.0</td>\n",
              "      <td>2003.0</td>\n",
              "    </tr>\n",
              "    <tr>\n",
              "      <th>3</th>\n",
              "      <td>76561197960266039</td>\n",
              "      <td>40</td>\n",
              "      <td>0.0</td>\n",
              "      <td>748.0</td>\n",
              "      <td>2013-05-06 16:00:46</td>\n",
              "      <td>0</td>\n",
              "      <td>1</td>\n",
              "      <td>Deathmatch Classic</td>\n",
              "      <td>game</td>\n",
              "      <td>4.99</td>\n",
              "      <td>2001-06-01 00:00:00</td>\n",
              "      <td>-1.0</td>\n",
              "      <td>0.0</td>\n",
              "      <td>1.0</td>\n",
              "      <td>6830.0</td>\n",
              "      <td>2001.0</td>\n",
              "    </tr>\n",
              "    <tr>\n",
              "      <th>4</th>\n",
              "      <td>76561197960266039</td>\n",
              "      <td>50</td>\n",
              "      <td>0.0</td>\n",
              "      <td>0.0</td>\n",
              "      <td>2013-05-06 16:00:46</td>\n",
              "      <td>1</td>\n",
              "      <td>0</td>\n",
              "      <td>Half-Life: Opposing Force</td>\n",
              "      <td>game</td>\n",
              "      <td>4.99</td>\n",
              "      <td>1999-11-01 00:00:00</td>\n",
              "      <td>-1.0</td>\n",
              "      <td>0.0</td>\n",
              "      <td>1.0</td>\n",
              "      <td>7408.0</td>\n",
              "      <td>1999.0</td>\n",
              "    </tr>\n",
              "  </tbody>\n",
              "</table>\n",
              "</div>"
            ],
            "text/plain": [
              "             steamid  appid  playtime_2weeks  playtime_forever        dateretrieved  unplayed  played                      Title  Type  Price         Release_Date  Rating  Required_Age  Is_Multiplayer  game_age    year\n",
              "0  76561197960266039     10              7.0            1311.0  2013-05-06 16:00:46         0       1             Counter-Strike  game   9.99  2000-11-01 00:00:00    88.0           0.0             1.0    7042.0  2000.0\n",
              "1  76561197960266039     20              0.0             391.0  2013-05-06 16:00:46         0       1      Team Fortress Classic  game   4.99  1999-04-01 00:00:00    -1.0           0.0             1.0    7622.0  1999.0\n",
              "2  76561197960266039     30              0.0               0.0  2013-05-06 16:00:46         1       0              Day of Defeat  game   4.99  2003-05-01 00:00:00    79.0           0.0             1.0    6131.0  2003.0\n",
              "3  76561197960266039     40              0.0             748.0  2013-05-06 16:00:46         0       1         Deathmatch Classic  game   4.99  2001-06-01 00:00:00    -1.0           0.0             1.0    6830.0  2001.0\n",
              "4  76561197960266039     50              0.0               0.0  2013-05-06 16:00:46         1       0  Half-Life: Opposing Force  game   4.99  1999-11-01 00:00:00    -1.0           0.0             1.0    7408.0  1999.0"
            ]
          },
          "metadata": {
            "tags": []
          },
          "execution_count": 181
        }
      ]
    },
    {
      "cell_type": "code",
      "metadata": {
        "id": "izjj3ztOJq1T",
        "colab_type": "code",
        "outputId": "024f2cef-879e-4462-a181-20b2c62ee7a6",
        "colab": {
          "base_uri": "https://localhost:8080/",
          "height": 224
        }
      },
      "source": [
        "data.head()"
      ],
      "execution_count": 0,
      "outputs": [
        {
          "output_type": "execute_result",
          "data": {
            "text/html": [
              "<div>\n",
              "<style scoped>\n",
              "    .dataframe tbody tr th:only-of-type {\n",
              "        vertical-align: middle;\n",
              "    }\n",
              "\n",
              "    .dataframe tbody tr th {\n",
              "        vertical-align: top;\n",
              "    }\n",
              "\n",
              "    .dataframe thead th {\n",
              "        text-align: right;\n",
              "    }\n",
              "</style>\n",
              "<table border=\"1\" class=\"dataframe\">\n",
              "  <thead>\n",
              "    <tr style=\"text-align: right;\">\n",
              "      <th></th>\n",
              "      <th>steamid</th>\n",
              "      <th>commentpermission</th>\n",
              "      <th>realname</th>\n",
              "      <th>playtime_2weeks</th>\n",
              "      <th>playtime_forever</th>\n",
              "      <th>no_of_games</th>\n",
              "      <th>free_to_play</th>\n",
              "      <th>Price</th>\n",
              "      <th>Rating</th>\n",
              "      <th>Required_Age</th>\n",
              "      <th>Is_Multiplayer</th>\n",
              "      <th>Is_Adult</th>\n",
              "      <th>unplayed</th>\n",
              "      <th>game_age</th>\n",
              "      <th>no_of_groups</th>\n",
              "      <th>avg_friend_duration</th>\n",
              "      <th>avg_percentage_completion</th>\n",
              "      <th>total_group_connections</th>\n",
              "      <th>total_friend_connections</th>\n",
              "      <th>total_achievements</th>\n",
              "      <th>loggoff_duration</th>\n",
              "      <th>account_age</th>\n",
              "      <th>Genre_Action</th>\n",
              "      <th>Genre_Adventure</th>\n",
              "      <th>Genre_Casual</th>\n",
              "      <th>Genre_Early</th>\n",
              "      <th>Genre_Free</th>\n",
              "      <th>Genre_Indie</th>\n",
              "      <th>Genre_Massively_Multiplayer</th>\n",
              "      <th>Genre_RPG</th>\n",
              "      <th>Genre_Racing</th>\n",
              "      <th>Genre_Simulation</th>\n",
              "      <th>Genre_Sports</th>\n",
              "      <th>Genre_Strategy</th>\n",
              "      <th>Genre_Unknown</th>\n",
              "      <th>Playtime_2weeks_bygenre_Action</th>\n",
              "      <th>Playtime_2weeks_bygenre_Adventure</th>\n",
              "      <th>Playtime_2weeks_bygenre_Casual</th>\n",
              "      <th>Playtime_2weeks_bygenre_Early</th>\n",
              "      <th>Playtime_2weeks_bygenre_Free</th>\n",
              "      <th>Playtime_2weeks_bygenre_Indie</th>\n",
              "      <th>Playtime_2weeks_bygenre_Massively_Multiplayer</th>\n",
              "      <th>Playtime_2weeks_bygenre_RPG</th>\n",
              "      <th>Playtime_2weeks_bygenre_Racing</th>\n",
              "      <th>Playtime_2weeks_bygenre_Simulation</th>\n",
              "      <th>Playtime_2weeks_bygenre_Sports</th>\n",
              "      <th>Playtime_2weeks_bygenre_Strategy</th>\n",
              "      <th>Playtime_2weeks_bygenre_Unknown</th>\n",
              "      <th>Playtime_forever_bygenre_Action</th>\n",
              "      <th>Playtime_forever_bygenre_Adventure</th>\n",
              "      <th>Playtime_forever_bygenre_Casual</th>\n",
              "      <th>Playtime_forever_bygenre_Early</th>\n",
              "      <th>Playtime_forever_bygenre_Free</th>\n",
              "      <th>Playtime_forever_bygenre_Indie</th>\n",
              "      <th>Playtime_forever_bygenre_Massively_Multiplayer</th>\n",
              "      <th>Playtime_forever_bygenre_RPG</th>\n",
              "      <th>Playtime_forever_bygenre_Racing</th>\n",
              "      <th>Playtime_forever_bygenre_Simulation</th>\n",
              "      <th>Playtime_forever_bygenre_Sports</th>\n",
              "      <th>Playtime_forever_bygenre_Strategy</th>\n",
              "      <th>Playtime_forever_bygenre_Unknown</th>\n",
              "      <th>Type_demo</th>\n",
              "      <th>Type_dlc</th>\n",
              "      <th>Type_game</th>\n",
              "      <th>Type_mod</th>\n",
              "      <th>Type_Unknown</th>\n",
              "      <th>playtime_age</th>\n",
              "      <th>forever_avg</th>\n",
              "      <th>daily_monetary</th>\n",
              "      <th>achievement_per_game</th>\n",
              "      <th>freetoplay_percentage</th>\n",
              "      <th>multiplayer_percentage</th>\n",
              "      <th>adult_percentage</th>\n",
              "      <th>unplayed_percentage</th>\n",
              "      <th>Playtime_forever_total</th>\n",
              "      <th>Playtime_2weeks_total</th>\n",
              "      <th>Genre_total</th>\n",
              "      <th>ClusterID</th>\n",
              "    </tr>\n",
              "  </thead>\n",
              "  <tbody>\n",
              "    <tr>\n",
              "      <th>0</th>\n",
              "      <td>76561197960269425</td>\n",
              "      <td>0.0</td>\n",
              "      <td>1</td>\n",
              "      <td>5761.0</td>\n",
              "      <td>359095.125</td>\n",
              "      <td>222.0</td>\n",
              "      <td>9.0</td>\n",
              "      <td>2375.87</td>\n",
              "      <td>77.747748</td>\n",
              "      <td>3.905405</td>\n",
              "      <td>83.0</td>\n",
              "      <td>1.0</td>\n",
              "      <td>77.0</td>\n",
              "      <td>3914.536036</td>\n",
              "      <td>12.0</td>\n",
              "      <td>432.500000</td>\n",
              "      <td>13.789975</td>\n",
              "      <td>379079.0</td>\n",
              "      <td>58.0</td>\n",
              "      <td>11628.0</td>\n",
              "      <td>61.0</td>\n",
              "      <td>3334.5</td>\n",
              "      <td>0.347716</td>\n",
              "      <td>0.098985</td>\n",
              "      <td>0.096447</td>\n",
              "      <td>0.002538</td>\n",
              "      <td>0.007614</td>\n",
              "      <td>0.208122</td>\n",
              "      <td>0.000000</td>\n",
              "      <td>0.083756</td>\n",
              "      <td>0.007614</td>\n",
              "      <td>0.020305</td>\n",
              "      <td>0.010152</td>\n",
              "      <td>0.104061</td>\n",
              "      <td>0.012690</td>\n",
              "      <td>0.572430</td>\n",
              "      <td>0.011098</td>\n",
              "      <td>0.287675</td>\n",
              "      <td>0.0</td>\n",
              "      <td>0.000000</td>\n",
              "      <td>0.075496</td>\n",
              "      <td>0.0</td>\n",
              "      <td>0.011098</td>\n",
              "      <td>0.0</td>\n",
              "      <td>0.001168</td>\n",
              "      <td>0.041034</td>\n",
              "      <td>0.000000</td>\n",
              "      <td>0.00000</td>\n",
              "      <td>0.126480</td>\n",
              "      <td>0.034038</td>\n",
              "      <td>0.233752</td>\n",
              "      <td>0.000119</td>\n",
              "      <td>0.022556</td>\n",
              "      <td>0.496072</td>\n",
              "      <td>0.000000</td>\n",
              "      <td>0.053008</td>\n",
              "      <td>0.000063</td>\n",
              "      <td>0.000003</td>\n",
              "      <td>0.001457</td>\n",
              "      <td>0.032430</td>\n",
              "      <td>0.000021</td>\n",
              "      <td>0.0</td>\n",
              "      <td>0.004505</td>\n",
              "      <td>0.972973</td>\n",
              "      <td>0.000000</td>\n",
              "      <td>0.022523</td>\n",
              "      <td>1586</td>\n",
              "      <td>226.415590</td>\n",
              "      <td>1.498026</td>\n",
              "      <td>52.378378</td>\n",
              "      <td>0.040541</td>\n",
              "      <td>0.373874</td>\n",
              "      <td>0.004505</td>\n",
              "      <td>0.346847</td>\n",
              "      <td>2330534.0</td>\n",
              "      <td>6848.0</td>\n",
              "      <td>394</td>\n",
              "      <td>2</td>\n",
              "    </tr>\n",
              "    <tr>\n",
              "      <th>1</th>\n",
              "      <td>76561197960269501</td>\n",
              "      <td>0.0</td>\n",
              "      <td>1</td>\n",
              "      <td>6543.0</td>\n",
              "      <td>170598.000</td>\n",
              "      <td>206.0</td>\n",
              "      <td>8.0</td>\n",
              "      <td>2641.03</td>\n",
              "      <td>79.228155</td>\n",
              "      <td>4.456311</td>\n",
              "      <td>90.5</td>\n",
              "      <td>1.0</td>\n",
              "      <td>63.0</td>\n",
              "      <td>3761.116505</td>\n",
              "      <td>28.0</td>\n",
              "      <td>319.717105</td>\n",
              "      <td>13.636806</td>\n",
              "      <td>2723055.0</td>\n",
              "      <td>152.0</td>\n",
              "      <td>11298.0</td>\n",
              "      <td>61.0</td>\n",
              "      <td>3334.5</td>\n",
              "      <td>0.357724</td>\n",
              "      <td>0.075881</td>\n",
              "      <td>0.070461</td>\n",
              "      <td>0.000000</td>\n",
              "      <td>0.008130</td>\n",
              "      <td>0.197832</td>\n",
              "      <td>0.002710</td>\n",
              "      <td>0.051491</td>\n",
              "      <td>0.010840</td>\n",
              "      <td>0.051491</td>\n",
              "      <td>0.008130</td>\n",
              "      <td>0.132791</td>\n",
              "      <td>0.032520</td>\n",
              "      <td>0.064735</td>\n",
              "      <td>0.007774</td>\n",
              "      <td>0.000000</td>\n",
              "      <td>0.0</td>\n",
              "      <td>0.000000</td>\n",
              "      <td>0.041413</td>\n",
              "      <td>0.0</td>\n",
              "      <td>0.000000</td>\n",
              "      <td>0.0</td>\n",
              "      <td>0.002686</td>\n",
              "      <td>0.000000</td>\n",
              "      <td>0.030813</td>\n",
              "      <td>0.85258</td>\n",
              "      <td>0.507494</td>\n",
              "      <td>0.054859</td>\n",
              "      <td>0.005600</td>\n",
              "      <td>0.000000</td>\n",
              "      <td>0.134056</td>\n",
              "      <td>0.059518</td>\n",
              "      <td>0.000077</td>\n",
              "      <td>0.074155</td>\n",
              "      <td>0.002563</td>\n",
              "      <td>0.000066</td>\n",
              "      <td>0.000084</td>\n",
              "      <td>0.112939</td>\n",
              "      <td>0.048590</td>\n",
              "      <td>0.0</td>\n",
              "      <td>0.004854</td>\n",
              "      <td>0.927184</td>\n",
              "      <td>0.009709</td>\n",
              "      <td>0.058252</td>\n",
              "      <td>1586</td>\n",
              "      <td>107.564943</td>\n",
              "      <td>1.665214</td>\n",
              "      <td>54.844660</td>\n",
              "      <td>0.038835</td>\n",
              "      <td>0.439320</td>\n",
              "      <td>0.004854</td>\n",
              "      <td>0.305825</td>\n",
              "      <td>287156.0</td>\n",
              "      <td>7075.0</td>\n",
              "      <td>369</td>\n",
              "      <td>2</td>\n",
              "    </tr>\n",
              "    <tr>\n",
              "      <th>2</th>\n",
              "      <td>76561197960269721</td>\n",
              "      <td>0.0</td>\n",
              "      <td>0</td>\n",
              "      <td>10727.0</td>\n",
              "      <td>359095.125</td>\n",
              "      <td>75.0</td>\n",
              "      <td>5.0</td>\n",
              "      <td>917.30</td>\n",
              "      <td>80.480000</td>\n",
              "      <td>2.480000</td>\n",
              "      <td>38.0</td>\n",
              "      <td>0.0</td>\n",
              "      <td>37.0</td>\n",
              "      <td>4172.626667</td>\n",
              "      <td>4.0</td>\n",
              "      <td>846.600000</td>\n",
              "      <td>14.620819</td>\n",
              "      <td>5133.0</td>\n",
              "      <td>5.0</td>\n",
              "      <td>4698.0</td>\n",
              "      <td>80.0</td>\n",
              "      <td>3334.5</td>\n",
              "      <td>0.347107</td>\n",
              "      <td>0.099174</td>\n",
              "      <td>0.016529</td>\n",
              "      <td>0.000000</td>\n",
              "      <td>0.024793</td>\n",
              "      <td>0.115702</td>\n",
              "      <td>0.008264</td>\n",
              "      <td>0.181818</td>\n",
              "      <td>0.000000</td>\n",
              "      <td>0.024793</td>\n",
              "      <td>0.000000</td>\n",
              "      <td>0.165289</td>\n",
              "      <td>0.016529</td>\n",
              "      <td>0.000052</td>\n",
              "      <td>0.000052</td>\n",
              "      <td>0.000000</td>\n",
              "      <td>0.0</td>\n",
              "      <td>0.000000</td>\n",
              "      <td>0.000052</td>\n",
              "      <td>0.0</td>\n",
              "      <td>0.000052</td>\n",
              "      <td>0.0</td>\n",
              "      <td>0.000157</td>\n",
              "      <td>0.000000</td>\n",
              "      <td>0.999635</td>\n",
              "      <td>0.00000</td>\n",
              "      <td>0.261675</td>\n",
              "      <td>0.052906</td>\n",
              "      <td>0.000556</td>\n",
              "      <td>0.000000</td>\n",
              "      <td>0.025541</td>\n",
              "      <td>0.065929</td>\n",
              "      <td>0.021525</td>\n",
              "      <td>0.131212</td>\n",
              "      <td>0.000000</td>\n",
              "      <td>0.000006</td>\n",
              "      <td>0.000000</td>\n",
              "      <td>0.409037</td>\n",
              "      <td>0.031613</td>\n",
              "      <td>0.0</td>\n",
              "      <td>0.000000</td>\n",
              "      <td>0.960000</td>\n",
              "      <td>0.013333</td>\n",
              "      <td>0.026667</td>\n",
              "      <td>1586</td>\n",
              "      <td>226.415590</td>\n",
              "      <td>0.578373</td>\n",
              "      <td>62.640000</td>\n",
              "      <td>0.066667</td>\n",
              "      <td>0.506667</td>\n",
              "      <td>0.000000</td>\n",
              "      <td>0.493333</td>\n",
              "      <td>503651.0</td>\n",
              "      <td>19154.0</td>\n",
              "      <td>121</td>\n",
              "      <td>1</td>\n",
              "    </tr>\n",
              "    <tr>\n",
              "      <th>3</th>\n",
              "      <td>76561197960269752</td>\n",
              "      <td>0.0</td>\n",
              "      <td>1</td>\n",
              "      <td>8060.0</td>\n",
              "      <td>102719.000</td>\n",
              "      <td>20.0</td>\n",
              "      <td>2.0</td>\n",
              "      <td>264.82</td>\n",
              "      <td>83.250000</td>\n",
              "      <td>5.100000</td>\n",
              "      <td>14.0</td>\n",
              "      <td>0.0</td>\n",
              "      <td>8.0</td>\n",
              "      <td>4728.261932</td>\n",
              "      <td>15.0</td>\n",
              "      <td>347.750000</td>\n",
              "      <td>14.846449</td>\n",
              "      <td>286035.0</td>\n",
              "      <td>116.0</td>\n",
              "      <td>1556.0</td>\n",
              "      <td>81.0</td>\n",
              "      <td>3334.5</td>\n",
              "      <td>0.629630</td>\n",
              "      <td>0.000000</td>\n",
              "      <td>0.000000</td>\n",
              "      <td>0.000000</td>\n",
              "      <td>0.074074</td>\n",
              "      <td>0.000000</td>\n",
              "      <td>0.000000</td>\n",
              "      <td>0.259259</td>\n",
              "      <td>0.000000</td>\n",
              "      <td>0.000000</td>\n",
              "      <td>0.000000</td>\n",
              "      <td>0.037037</td>\n",
              "      <td>0.000000</td>\n",
              "      <td>0.962273</td>\n",
              "      <td>0.000000</td>\n",
              "      <td>0.000000</td>\n",
              "      <td>0.0</td>\n",
              "      <td>0.018863</td>\n",
              "      <td>0.000000</td>\n",
              "      <td>0.0</td>\n",
              "      <td>0.000000</td>\n",
              "      <td>0.0</td>\n",
              "      <td>0.000000</td>\n",
              "      <td>0.000000</td>\n",
              "      <td>0.018863</td>\n",
              "      <td>0.00000</td>\n",
              "      <td>0.523047</td>\n",
              "      <td>0.000000</td>\n",
              "      <td>0.000000</td>\n",
              "      <td>0.000000</td>\n",
              "      <td>0.208763</td>\n",
              "      <td>0.000000</td>\n",
              "      <td>0.000000</td>\n",
              "      <td>0.066787</td>\n",
              "      <td>0.000000</td>\n",
              "      <td>0.000000</td>\n",
              "      <td>0.000000</td>\n",
              "      <td>0.201402</td>\n",
              "      <td>0.000000</td>\n",
              "      <td>0.0</td>\n",
              "      <td>0.000000</td>\n",
              "      <td>1.000000</td>\n",
              "      <td>0.000000</td>\n",
              "      <td>0.000000</td>\n",
              "      <td>1586</td>\n",
              "      <td>64.766078</td>\n",
              "      <td>0.166974</td>\n",
              "      <td>77.800000</td>\n",
              "      <td>0.100000</td>\n",
              "      <td>0.700000</td>\n",
              "      <td>0.000000</td>\n",
              "      <td>0.400000</td>\n",
              "      <td>180693.0</td>\n",
              "      <td>8376.0</td>\n",
              "      <td>27</td>\n",
              "      <td>1</td>\n",
              "    </tr>\n",
              "    <tr>\n",
              "      <th>4</th>\n",
              "      <td>76561197960270225</td>\n",
              "      <td>0.0</td>\n",
              "      <td>1</td>\n",
              "      <td>8833.0</td>\n",
              "      <td>157599.000</td>\n",
              "      <td>187.0</td>\n",
              "      <td>6.0</td>\n",
              "      <td>1997.19</td>\n",
              "      <td>78.914439</td>\n",
              "      <td>2.989305</td>\n",
              "      <td>75.0</td>\n",
              "      <td>0.0</td>\n",
              "      <td>80.0</td>\n",
              "      <td>3843.850267</td>\n",
              "      <td>3.0</td>\n",
              "      <td>105.487805</td>\n",
              "      <td>13.244114</td>\n",
              "      <td>795622.0</td>\n",
              "      <td>41.0</td>\n",
              "      <td>11035.0</td>\n",
              "      <td>80.0</td>\n",
              "      <td>3334.5</td>\n",
              "      <td>0.342466</td>\n",
              "      <td>0.071918</td>\n",
              "      <td>0.058219</td>\n",
              "      <td>0.000000</td>\n",
              "      <td>0.006849</td>\n",
              "      <td>0.147260</td>\n",
              "      <td>0.000000</td>\n",
              "      <td>0.085616</td>\n",
              "      <td>0.010274</td>\n",
              "      <td>0.047945</td>\n",
              "      <td>0.003425</td>\n",
              "      <td>0.140411</td>\n",
              "      <td>0.085616</td>\n",
              "      <td>0.380752</td>\n",
              "      <td>0.000000</td>\n",
              "      <td>0.000000</td>\n",
              "      <td>0.0</td>\n",
              "      <td>0.222859</td>\n",
              "      <td>0.000000</td>\n",
              "      <td>0.0</td>\n",
              "      <td>0.157892</td>\n",
              "      <td>0.0</td>\n",
              "      <td>0.000627</td>\n",
              "      <td>0.000000</td>\n",
              "      <td>0.237869</td>\n",
              "      <td>0.00000</td>\n",
              "      <td>0.290993</td>\n",
              "      <td>0.017525</td>\n",
              "      <td>0.016589</td>\n",
              "      <td>0.000000</td>\n",
              "      <td>0.230949</td>\n",
              "      <td>0.031191</td>\n",
              "      <td>0.000000</td>\n",
              "      <td>0.066627</td>\n",
              "      <td>0.000356</td>\n",
              "      <td>0.000038</td>\n",
              "      <td>0.000000</td>\n",
              "      <td>0.334901</td>\n",
              "      <td>0.010831</td>\n",
              "      <td>0.0</td>\n",
              "      <td>0.000000</td>\n",
              "      <td>0.860963</td>\n",
              "      <td>0.005348</td>\n",
              "      <td>0.133690</td>\n",
              "      <td>1586</td>\n",
              "      <td>99.368852</td>\n",
              "      <td>1.259262</td>\n",
              "      <td>59.010695</td>\n",
              "      <td>0.032086</td>\n",
              "      <td>0.401070</td>\n",
              "      <td>0.000000</td>\n",
              "      <td>0.427807</td>\n",
              "      <td>370614.0</td>\n",
              "      <td>22319.0</td>\n",
              "      <td>292</td>\n",
              "      <td>2</td>\n",
              "    </tr>\n",
              "  </tbody>\n",
              "</table>\n",
              "</div>"
            ],
            "text/plain": [
              "             steamid  commentpermission  realname  playtime_2weeks  playtime_forever  no_of_games  free_to_play    Price     Rating  Required_Age  Is_Multiplayer  Is_Adult  unplayed     game_age  no_of_groups  avg_friend_duration  avg_percentage_completion  total_group_connections  total_friend_connections  total_achievements  loggoff_duration  account_age  Genre_Action  Genre_Adventure  Genre_Casual  Genre_Early  Genre_Free  Genre_Indie  Genre_Massively_Multiplayer  Genre_RPG  Genre_Racing  Genre_Simulation  Genre_Sports  Genre_Strategy  Genre_Unknown  Playtime_2weeks_bygenre_Action  Playtime_2weeks_bygenre_Adventure  Playtime_2weeks_bygenre_Casual  Playtime_2weeks_bygenre_Early  Playtime_2weeks_bygenre_Free  Playtime_2weeks_bygenre_Indie  Playtime_2weeks_bygenre_Massively_Multiplayer  Playtime_2weeks_bygenre_RPG  Playtime_2weeks_bygenre_Racing  Playtime_2weeks_bygenre_Simulation  Playtime_2weeks_bygenre_Sports  Playtime_2weeks_bygenre_Strategy  Playtime_2weeks_bygenre_Unknown  \\\n",
              "0  76561197960269425                0.0         1           5761.0        359095.125        222.0           9.0  2375.87  77.747748      3.905405            83.0       1.0      77.0  3914.536036          12.0           432.500000                  13.789975                 379079.0                      58.0             11628.0              61.0       3334.5      0.347716         0.098985      0.096447     0.002538    0.007614     0.208122                     0.000000   0.083756      0.007614          0.020305      0.010152        0.104061       0.012690                        0.572430                           0.011098                        0.287675                            0.0                      0.000000                       0.075496                                            0.0                     0.011098                             0.0                            0.001168                        0.041034                          0.000000                          0.00000   \n",
              "1  76561197960269501                0.0         1           6543.0        170598.000        206.0           8.0  2641.03  79.228155      4.456311            90.5       1.0      63.0  3761.116505          28.0           319.717105                  13.636806                2723055.0                     152.0             11298.0              61.0       3334.5      0.357724         0.075881      0.070461     0.000000    0.008130     0.197832                     0.002710   0.051491      0.010840          0.051491      0.008130        0.132791       0.032520                        0.064735                           0.007774                        0.000000                            0.0                      0.000000                       0.041413                                            0.0                     0.000000                             0.0                            0.002686                        0.000000                          0.030813                          0.85258   \n",
              "2  76561197960269721                0.0         0          10727.0        359095.125         75.0           5.0   917.30  80.480000      2.480000            38.0       0.0      37.0  4172.626667           4.0           846.600000                  14.620819                   5133.0                       5.0              4698.0              80.0       3334.5      0.347107         0.099174      0.016529     0.000000    0.024793     0.115702                     0.008264   0.181818      0.000000          0.024793      0.000000        0.165289       0.016529                        0.000052                           0.000052                        0.000000                            0.0                      0.000000                       0.000052                                            0.0                     0.000052                             0.0                            0.000157                        0.000000                          0.999635                          0.00000   \n",
              "3  76561197960269752                0.0         1           8060.0        102719.000         20.0           2.0   264.82  83.250000      5.100000            14.0       0.0       8.0  4728.261932          15.0           347.750000                  14.846449                 286035.0                     116.0              1556.0              81.0       3334.5      0.629630         0.000000      0.000000     0.000000    0.074074     0.000000                     0.000000   0.259259      0.000000          0.000000      0.000000        0.037037       0.000000                        0.962273                           0.000000                        0.000000                            0.0                      0.018863                       0.000000                                            0.0                     0.000000                             0.0                            0.000000                        0.000000                          0.018863                          0.00000   \n",
              "4  76561197960270225                0.0         1           8833.0        157599.000        187.0           6.0  1997.19  78.914439      2.989305            75.0       0.0      80.0  3843.850267           3.0           105.487805                  13.244114                 795622.0                      41.0             11035.0              80.0       3334.5      0.342466         0.071918      0.058219     0.000000    0.006849     0.147260                     0.000000   0.085616      0.010274          0.047945      0.003425        0.140411       0.085616                        0.380752                           0.000000                        0.000000                            0.0                      0.222859                       0.000000                                            0.0                     0.157892                             0.0                            0.000627                        0.000000                          0.237869                          0.00000   \n",
              "\n",
              "   Playtime_forever_bygenre_Action  Playtime_forever_bygenre_Adventure  Playtime_forever_bygenre_Casual  Playtime_forever_bygenre_Early  Playtime_forever_bygenre_Free  Playtime_forever_bygenre_Indie  Playtime_forever_bygenre_Massively_Multiplayer  Playtime_forever_bygenre_RPG  Playtime_forever_bygenre_Racing  Playtime_forever_bygenre_Simulation  Playtime_forever_bygenre_Sports  Playtime_forever_bygenre_Strategy  Playtime_forever_bygenre_Unknown  Type_demo  Type_dlc  Type_game  Type_mod  Type_Unknown  playtime_age  forever_avg  daily_monetary  achievement_per_game  freetoplay_percentage  multiplayer_percentage  adult_percentage  unplayed_percentage  Playtime_forever_total  Playtime_2weeks_total  Genre_total  ClusterID  \n",
              "0                         0.126480                            0.034038                         0.233752                        0.000119                       0.022556                        0.496072                                        0.000000                      0.053008                         0.000063                             0.000003                         0.001457                           0.032430                          0.000021        0.0  0.004505   0.972973  0.000000      0.022523          1586   226.415590        1.498026             52.378378               0.040541                0.373874          0.004505             0.346847               2330534.0                 6848.0          394          2  \n",
              "1                         0.507494                            0.054859                         0.005600                        0.000000                       0.134056                        0.059518                                        0.000077                      0.074155                         0.002563                             0.000066                         0.000084                           0.112939                          0.048590        0.0  0.004854   0.927184  0.009709      0.058252          1586   107.564943        1.665214             54.844660               0.038835                0.439320          0.004854             0.305825                287156.0                 7075.0          369          2  \n",
              "2                         0.261675                            0.052906                         0.000556                        0.000000                       0.025541                        0.065929                                        0.021525                      0.131212                         0.000000                             0.000006                         0.000000                           0.409037                          0.031613        0.0  0.000000   0.960000  0.013333      0.026667          1586   226.415590        0.578373             62.640000               0.066667                0.506667          0.000000             0.493333                503651.0                19154.0          121          1  \n",
              "3                         0.523047                            0.000000                         0.000000                        0.000000                       0.208763                        0.000000                                        0.000000                      0.066787                         0.000000                             0.000000                         0.000000                           0.201402                          0.000000        0.0  0.000000   1.000000  0.000000      0.000000          1586    64.766078        0.166974             77.800000               0.100000                0.700000          0.000000             0.400000                180693.0                 8376.0           27          1  \n",
              "4                         0.290993                            0.017525                         0.016589                        0.000000                       0.230949                        0.031191                                        0.000000                      0.066627                         0.000356                             0.000038                         0.000000                           0.334901                          0.010831        0.0  0.000000   0.860963  0.005348      0.133690          1586    99.368852        1.259262             59.010695               0.032086                0.401070          0.000000             0.427807                370614.0                22319.0          292          2  "
            ]
          },
          "metadata": {
            "tags": []
          },
          "execution_count": 182
        }
      ]
    },
    {
      "cell_type": "code",
      "metadata": {
        "id": "h8nS6PhE5YET",
        "colab_type": "code",
        "outputId": "0a214782-2fbe-4d1d-8c2f-da2ad1736fdd",
        "colab": {
          "base_uri": "https://localhost:8080/",
          "height": 343
        }
      },
      "source": [
        "gameplay_apps_filter = gameplay_apps[(gameplay_apps.Is_Multiplayer==1)]\n",
        "gameplay_apps_cluster = gameplay_apps_filter.merge(data[['steamid','ClusterID']],how='inner',on='steamid')\n",
        "gameplay_apps_cluster.head()"
      ],
      "execution_count": 0,
      "outputs": [
        {
          "output_type": "execute_result",
          "data": {
            "text/html": [
              "<div>\n",
              "<style scoped>\n",
              "    .dataframe tbody tr th:only-of-type {\n",
              "        vertical-align: middle;\n",
              "    }\n",
              "\n",
              "    .dataframe tbody tr th {\n",
              "        vertical-align: top;\n",
              "    }\n",
              "\n",
              "    .dataframe thead th {\n",
              "        text-align: right;\n",
              "    }\n",
              "</style>\n",
              "<table border=\"1\" class=\"dataframe\">\n",
              "  <thead>\n",
              "    <tr style=\"text-align: right;\">\n",
              "      <th></th>\n",
              "      <th>steamid</th>\n",
              "      <th>appid</th>\n",
              "      <th>playtime_2weeks</th>\n",
              "      <th>playtime_forever</th>\n",
              "      <th>dateretrieved</th>\n",
              "      <th>unplayed</th>\n",
              "      <th>played</th>\n",
              "      <th>Title</th>\n",
              "      <th>Type</th>\n",
              "      <th>Price</th>\n",
              "      <th>Release_Date</th>\n",
              "      <th>Rating</th>\n",
              "      <th>Required_Age</th>\n",
              "      <th>Is_Multiplayer</th>\n",
              "      <th>game_age</th>\n",
              "      <th>year</th>\n",
              "      <th>ClusterID</th>\n",
              "    </tr>\n",
              "  </thead>\n",
              "  <tbody>\n",
              "    <tr>\n",
              "      <th>0</th>\n",
              "      <td>76561197960269425</td>\n",
              "      <td>10</td>\n",
              "      <td>0.0</td>\n",
              "      <td>1304.0</td>\n",
              "      <td>2013-05-06 15:59:30</td>\n",
              "      <td>0</td>\n",
              "      <td>1</td>\n",
              "      <td>Counter-Strike</td>\n",
              "      <td>game</td>\n",
              "      <td>9.99</td>\n",
              "      <td>2000-11-01 00:00:00</td>\n",
              "      <td>88.0</td>\n",
              "      <td>0.0</td>\n",
              "      <td>1.0</td>\n",
              "      <td>7042.0</td>\n",
              "      <td>2000.0</td>\n",
              "      <td>2</td>\n",
              "    </tr>\n",
              "    <tr>\n",
              "      <th>1</th>\n",
              "      <td>76561197960269425</td>\n",
              "      <td>20</td>\n",
              "      <td>0.0</td>\n",
              "      <td>0.0</td>\n",
              "      <td>2013-05-06 15:59:30</td>\n",
              "      <td>1</td>\n",
              "      <td>0</td>\n",
              "      <td>Team Fortress Classic</td>\n",
              "      <td>game</td>\n",
              "      <td>4.99</td>\n",
              "      <td>1999-04-01 00:00:00</td>\n",
              "      <td>-1.0</td>\n",
              "      <td>0.0</td>\n",
              "      <td>1.0</td>\n",
              "      <td>7622.0</td>\n",
              "      <td>1999.0</td>\n",
              "      <td>2</td>\n",
              "    </tr>\n",
              "    <tr>\n",
              "      <th>2</th>\n",
              "      <td>76561197960269425</td>\n",
              "      <td>30</td>\n",
              "      <td>0.0</td>\n",
              "      <td>0.0</td>\n",
              "      <td>2013-05-06 15:59:30</td>\n",
              "      <td>1</td>\n",
              "      <td>0</td>\n",
              "      <td>Day of Defeat</td>\n",
              "      <td>game</td>\n",
              "      <td>4.99</td>\n",
              "      <td>2003-05-01 00:00:00</td>\n",
              "      <td>79.0</td>\n",
              "      <td>0.0</td>\n",
              "      <td>1.0</td>\n",
              "      <td>6131.0</td>\n",
              "      <td>2003.0</td>\n",
              "      <td>2</td>\n",
              "    </tr>\n",
              "    <tr>\n",
              "      <th>3</th>\n",
              "      <td>76561197960269425</td>\n",
              "      <td>40</td>\n",
              "      <td>0.0</td>\n",
              "      <td>0.0</td>\n",
              "      <td>2013-05-06 15:59:30</td>\n",
              "      <td>1</td>\n",
              "      <td>0</td>\n",
              "      <td>Deathmatch Classic</td>\n",
              "      <td>game</td>\n",
              "      <td>4.99</td>\n",
              "      <td>2001-06-01 00:00:00</td>\n",
              "      <td>-1.0</td>\n",
              "      <td>0.0</td>\n",
              "      <td>1.0</td>\n",
              "      <td>6830.0</td>\n",
              "      <td>2001.0</td>\n",
              "      <td>2</td>\n",
              "    </tr>\n",
              "    <tr>\n",
              "      <th>4</th>\n",
              "      <td>76561197960269425</td>\n",
              "      <td>50</td>\n",
              "      <td>0.0</td>\n",
              "      <td>305.0</td>\n",
              "      <td>2013-05-06 15:59:30</td>\n",
              "      <td>0</td>\n",
              "      <td>1</td>\n",
              "      <td>Half-Life: Opposing Force</td>\n",
              "      <td>game</td>\n",
              "      <td>4.99</td>\n",
              "      <td>1999-11-01 00:00:00</td>\n",
              "      <td>-1.0</td>\n",
              "      <td>0.0</td>\n",
              "      <td>1.0</td>\n",
              "      <td>7408.0</td>\n",
              "      <td>1999.0</td>\n",
              "      <td>2</td>\n",
              "    </tr>\n",
              "  </tbody>\n",
              "</table>\n",
              "</div>"
            ],
            "text/plain": [
              "             steamid  appid  playtime_2weeks  playtime_forever        dateretrieved  unplayed  played                      Title  Type  Price         Release_Date  Rating  Required_Age  Is_Multiplayer  game_age    year  ClusterID\n",
              "0  76561197960269425     10              0.0            1304.0  2013-05-06 15:59:30         0       1             Counter-Strike  game   9.99  2000-11-01 00:00:00    88.0           0.0             1.0    7042.0  2000.0          2\n",
              "1  76561197960269425     20              0.0               0.0  2013-05-06 15:59:30         1       0      Team Fortress Classic  game   4.99  1999-04-01 00:00:00    -1.0           0.0             1.0    7622.0  1999.0          2\n",
              "2  76561197960269425     30              0.0               0.0  2013-05-06 15:59:30         1       0              Day of Defeat  game   4.99  2003-05-01 00:00:00    79.0           0.0             1.0    6131.0  2003.0          2\n",
              "3  76561197960269425     40              0.0               0.0  2013-05-06 15:59:30         1       0         Deathmatch Classic  game   4.99  2001-06-01 00:00:00    -1.0           0.0             1.0    6830.0  2001.0          2\n",
              "4  76561197960269425     50              0.0             305.0  2013-05-06 15:59:30         0       1  Half-Life: Opposing Force  game   4.99  1999-11-01 00:00:00    -1.0           0.0             1.0    7408.0  1999.0          2"
            ]
          },
          "metadata": {
            "tags": []
          },
          "execution_count": 183
        }
      ]
    },
    {
      "cell_type": "code",
      "metadata": {
        "id": "Szm1pRIL4ETI",
        "colab_type": "code",
        "outputId": "6c1e7e94-224a-4013-e77b-c2ce61beb97d",
        "colab": {
          "base_uri": "https://localhost:8080/",
          "height": 204
        }
      },
      "source": [
        "year_multiplayer = gameplay_apps_cluster[['year','playtime_forever','ClusterID']].groupby(['year','ClusterID'],as_index=False\n",
        "                                                 ).agg({'playtime_forever':'sum'})\n",
        "\n",
        "year_multiplayer.sort_values(['year','ClusterID']).head()"
      ],
      "execution_count": 0,
      "outputs": [
        {
          "output_type": "execute_result",
          "data": {
            "text/html": [
              "<div>\n",
              "<style scoped>\n",
              "    .dataframe tbody tr th:only-of-type {\n",
              "        vertical-align: middle;\n",
              "    }\n",
              "\n",
              "    .dataframe tbody tr th {\n",
              "        vertical-align: top;\n",
              "    }\n",
              "\n",
              "    .dataframe thead th {\n",
              "        text-align: right;\n",
              "    }\n",
              "</style>\n",
              "<table border=\"1\" class=\"dataframe\">\n",
              "  <thead>\n",
              "    <tr style=\"text-align: right;\">\n",
              "      <th></th>\n",
              "      <th>year</th>\n",
              "      <th>ClusterID</th>\n",
              "      <th>playtime_forever</th>\n",
              "    </tr>\n",
              "  </thead>\n",
              "  <tbody>\n",
              "    <tr>\n",
              "      <th>0</th>\n",
              "      <td>1970.0</td>\n",
              "      <td>1</td>\n",
              "      <td>15620553.0</td>\n",
              "    </tr>\n",
              "    <tr>\n",
              "      <th>1</th>\n",
              "      <td>1970.0</td>\n",
              "      <td>2</td>\n",
              "      <td>18889765.0</td>\n",
              "    </tr>\n",
              "    <tr>\n",
              "      <th>2</th>\n",
              "      <td>1998.0</td>\n",
              "      <td>1</td>\n",
              "      <td>2524390.0</td>\n",
              "    </tr>\n",
              "    <tr>\n",
              "      <th>3</th>\n",
              "      <td>1998.0</td>\n",
              "      <td>2</td>\n",
              "      <td>3978375.0</td>\n",
              "    </tr>\n",
              "    <tr>\n",
              "      <th>4</th>\n",
              "      <td>1999.0</td>\n",
              "      <td>1</td>\n",
              "      <td>1428474.0</td>\n",
              "    </tr>\n",
              "  </tbody>\n",
              "</table>\n",
              "</div>"
            ],
            "text/plain": [
              "     year  ClusterID  playtime_forever\n",
              "0  1970.0          1        15620553.0\n",
              "1  1970.0          2        18889765.0\n",
              "2  1998.0          1         2524390.0\n",
              "3  1998.0          2         3978375.0\n",
              "4  1999.0          1         1428474.0"
            ]
          },
          "metadata": {
            "tags": []
          },
          "execution_count": 184
        }
      ]
    },
    {
      "cell_type": "code",
      "metadata": {
        "id": "8Ug49LDd6P6D",
        "colab_type": "code",
        "outputId": "783554d2-01b1-4f5c-b6a8-e8a3e0c2c0ce",
        "colab": {
          "base_uri": "https://localhost:8080/",
          "height": 282
        }
      },
      "source": [
        "year_multiplayer.playtime_forever = year_multiplayer.playtime_forever/(60*24*365)\n",
        "figure(num=None, figsize=(15,5), dpi=60, facecolor='w', edgecolor='k')\n",
        "ax = sns.barplot('year','playtime_forever',data=year_multiplayer,hue='ClusterID')\n",
        "ax.set(xlabel='Year of release of games until 2012')\n",
        "ax.set(ylabel='Unplayed percentage of games')\n",
        "plt.show()"
      ],
      "execution_count": 0,
      "outputs": [
        {
          "output_type": "display_data",
          "data": {
            "image/png": "[encoded data removed]",
            "text/plain": [
              "<Figure size 900x300 with 1 Axes>"
            ]
          },
          "metadata": {
            "tags": []
          }
        }
      ]
    },
    {
      "cell_type": "code",
      "metadata": {
        "id": "es7oADw49pD0",
        "colab_type": "code",
        "outputId": "0555151e-3e15-455f-b49d-e1ab2ae33964",
        "colab": {
          "base_uri": "https://localhost:8080/",
          "height": 343
        }
      },
      "source": [
        "gameplay_apps_filter = gameplay_apps\n",
        "gameplay_apps_cluster = gameplay_apps_filter.merge(data[['steamid','ClusterID']],how='inner',on='steamid')\n",
        "gameplay_apps_cluster.head()"
      ],
      "execution_count": 0,
      "outputs": [
        {
          "output_type": "execute_result",
          "data": {
            "text/html": [
              "<div>\n",
              "<style scoped>\n",
              "    .dataframe tbody tr th:only-of-type {\n",
              "        vertical-align: middle;\n",
              "    }\n",
              "\n",
              "    .dataframe tbody tr th {\n",
              "        vertical-align: top;\n",
              "    }\n",
              "\n",
              "    .dataframe thead th {\n",
              "        text-align: right;\n",
              "    }\n",
              "</style>\n",
              "<table border=\"1\" class=\"dataframe\">\n",
              "  <thead>\n",
              "    <tr style=\"text-align: right;\">\n",
              "      <th></th>\n",
              "      <th>steamid</th>\n",
              "      <th>appid</th>\n",
              "      <th>playtime_2weeks</th>\n",
              "      <th>playtime_forever</th>\n",
              "      <th>dateretrieved</th>\n",
              "      <th>unplayed</th>\n",
              "      <th>played</th>\n",
              "      <th>Title</th>\n",
              "      <th>Type</th>\n",
              "      <th>Price</th>\n",
              "      <th>Release_Date</th>\n",
              "      <th>Rating</th>\n",
              "      <th>Required_Age</th>\n",
              "      <th>Is_Multiplayer</th>\n",
              "      <th>game_age</th>\n",
              "      <th>year</th>\n",
              "      <th>ClusterID</th>\n",
              "    </tr>\n",
              "  </thead>\n",
              "  <tbody>\n",
              "    <tr>\n",
              "      <th>0</th>\n",
              "      <td>76561197960269425</td>\n",
              "      <td>10</td>\n",
              "      <td>0.0</td>\n",
              "      <td>1304.0</td>\n",
              "      <td>2013-05-06 15:59:30</td>\n",
              "      <td>0</td>\n",
              "      <td>1</td>\n",
              "      <td>Counter-Strike</td>\n",
              "      <td>game</td>\n",
              "      <td>9.99</td>\n",
              "      <td>2000-11-01 00:00:00</td>\n",
              "      <td>88.0</td>\n",
              "      <td>0.0</td>\n",
              "      <td>1.0</td>\n",
              "      <td>7042.0</td>\n",
              "      <td>2000.0</td>\n",
              "      <td>2</td>\n",
              "    </tr>\n",
              "    <tr>\n",
              "      <th>1</th>\n",
              "      <td>76561197960269425</td>\n",
              "      <td>20</td>\n",
              "      <td>0.0</td>\n",
              "      <td>0.0</td>\n",
              "      <td>2013-05-06 15:59:30</td>\n",
              "      <td>1</td>\n",
              "      <td>0</td>\n",
              "      <td>Team Fortress Classic</td>\n",
              "      <td>game</td>\n",
              "      <td>4.99</td>\n",
              "      <td>1999-04-01 00:00:00</td>\n",
              "      <td>-1.0</td>\n",
              "      <td>0.0</td>\n",
              "      <td>1.0</td>\n",
              "      <td>7622.0</td>\n",
              "      <td>1999.0</td>\n",
              "      <td>2</td>\n",
              "    </tr>\n",
              "    <tr>\n",
              "      <th>2</th>\n",
              "      <td>76561197960269425</td>\n",
              "      <td>30</td>\n",
              "      <td>0.0</td>\n",
              "      <td>0.0</td>\n",
              "      <td>2013-05-06 15:59:30</td>\n",
              "      <td>1</td>\n",
              "      <td>0</td>\n",
              "      <td>Day of Defeat</td>\n",
              "      <td>game</td>\n",
              "      <td>4.99</td>\n",
              "      <td>2003-05-01 00:00:00</td>\n",
              "      <td>79.0</td>\n",
              "      <td>0.0</td>\n",
              "      <td>1.0</td>\n",
              "      <td>6131.0</td>\n",
              "      <td>2003.0</td>\n",
              "      <td>2</td>\n",
              "    </tr>\n",
              "    <tr>\n",
              "      <th>3</th>\n",
              "      <td>76561197960269425</td>\n",
              "      <td>40</td>\n",
              "      <td>0.0</td>\n",
              "      <td>0.0</td>\n",
              "      <td>2013-05-06 15:59:30</td>\n",
              "      <td>1</td>\n",
              "      <td>0</td>\n",
              "      <td>Deathmatch Classic</td>\n",
              "      <td>game</td>\n",
              "      <td>4.99</td>\n",
              "      <td>2001-06-01 00:00:00</td>\n",
              "      <td>-1.0</td>\n",
              "      <td>0.0</td>\n",
              "      <td>1.0</td>\n",
              "      <td>6830.0</td>\n",
              "      <td>2001.0</td>\n",
              "      <td>2</td>\n",
              "    </tr>\n",
              "    <tr>\n",
              "      <th>4</th>\n",
              "      <td>76561197960269425</td>\n",
              "      <td>50</td>\n",
              "      <td>0.0</td>\n",
              "      <td>305.0</td>\n",
              "      <td>2013-05-06 15:59:30</td>\n",
              "      <td>0</td>\n",
              "      <td>1</td>\n",
              "      <td>Half-Life: Opposing Force</td>\n",
              "      <td>game</td>\n",
              "      <td>4.99</td>\n",
              "      <td>1999-11-01 00:00:00</td>\n",
              "      <td>-1.0</td>\n",
              "      <td>0.0</td>\n",
              "      <td>1.0</td>\n",
              "      <td>7408.0</td>\n",
              "      <td>1999.0</td>\n",
              "      <td>2</td>\n",
              "    </tr>\n",
              "  </tbody>\n",
              "</table>\n",
              "</div>"
            ],
            "text/plain": [
              "             steamid  appid  playtime_2weeks  playtime_forever        dateretrieved  unplayed  played                      Title  Type  Price         Release_Date  Rating  Required_Age  Is_Multiplayer  game_age    year  ClusterID\n",
              "0  76561197960269425     10              0.0            1304.0  2013-05-06 15:59:30         0       1             Counter-Strike  game   9.99  2000-11-01 00:00:00    88.0           0.0             1.0    7042.0  2000.0          2\n",
              "1  76561197960269425     20              0.0               0.0  2013-05-06 15:59:30         1       0      Team Fortress Classic  game   4.99  1999-04-01 00:00:00    -1.0           0.0             1.0    7622.0  1999.0          2\n",
              "2  76561197960269425     30              0.0               0.0  2013-05-06 15:59:30         1       0              Day of Defeat  game   4.99  2003-05-01 00:00:00    79.0           0.0             1.0    6131.0  2003.0          2\n",
              "3  76561197960269425     40              0.0               0.0  2013-05-06 15:59:30         1       0         Deathmatch Classic  game   4.99  2001-06-01 00:00:00    -1.0           0.0             1.0    6830.0  2001.0          2\n",
              "4  76561197960269425     50              0.0             305.0  2013-05-06 15:59:30         0       1  Half-Life: Opposing Force  game   4.99  1999-11-01 00:00:00    -1.0           0.0             1.0    7408.0  1999.0          2"
            ]
          },
          "metadata": {
            "tags": []
          },
          "execution_count": 186
        }
      ]
    },
    {
      "cell_type": "code",
      "metadata": {
        "id": "Ohc1hVW--B-d",
        "colab_type": "code",
        "outputId": "b0a63ddc-3f99-43ba-9458-181dce51e48b",
        "colab": {
          "base_uri": "https://localhost:8080/",
          "height": 204
        }
      },
      "source": [
        "gameplay_overall = gameplay_apps_cluster[['year','playtime_forever','Is_Multiplayer','ClusterID']].groupby(\n",
        "    ['year','Is_Multiplayer','ClusterID'],as_index=False).agg(\n",
        "        {'playtime_forever':'sum'}\n",
        "    )\n",
        "\n",
        "gameplay_overall.head()"
      ],
      "execution_count": 0,
      "outputs": [
        {
          "output_type": "execute_result",
          "data": {
            "text/html": [
              "<div>\n",
              "<style scoped>\n",
              "    .dataframe tbody tr th:only-of-type {\n",
              "        vertical-align: middle;\n",
              "    }\n",
              "\n",
              "    .dataframe tbody tr th {\n",
              "        vertical-align: top;\n",
              "    }\n",
              "\n",
              "    .dataframe thead th {\n",
              "        text-align: right;\n",
              "    }\n",
              "</style>\n",
              "<table border=\"1\" class=\"dataframe\">\n",
              "  <thead>\n",
              "    <tr style=\"text-align: right;\">\n",
              "      <th></th>\n",
              "      <th>year</th>\n",
              "      <th>Is_Multiplayer</th>\n",
              "      <th>ClusterID</th>\n",
              "      <th>playtime_forever</th>\n",
              "    </tr>\n",
              "  </thead>\n",
              "  <tbody>\n",
              "    <tr>\n",
              "      <th>0</th>\n",
              "      <td>1970.0</td>\n",
              "      <td>0.0</td>\n",
              "      <td>1</td>\n",
              "      <td>11373260.0</td>\n",
              "    </tr>\n",
              "    <tr>\n",
              "      <th>1</th>\n",
              "      <td>1970.0</td>\n",
              "      <td>0.0</td>\n",
              "      <td>2</td>\n",
              "      <td>14387069.0</td>\n",
              "    </tr>\n",
              "    <tr>\n",
              "      <th>2</th>\n",
              "      <td>1970.0</td>\n",
              "      <td>1.0</td>\n",
              "      <td>1</td>\n",
              "      <td>15620553.0</td>\n",
              "    </tr>\n",
              "    <tr>\n",
              "      <th>3</th>\n",
              "      <td>1970.0</td>\n",
              "      <td>1.0</td>\n",
              "      <td>2</td>\n",
              "      <td>18889765.0</td>\n",
              "    </tr>\n",
              "    <tr>\n",
              "      <th>4</th>\n",
              "      <td>1998.0</td>\n",
              "      <td>1.0</td>\n",
              "      <td>1</td>\n",
              "      <td>2524390.0</td>\n",
              "    </tr>\n",
              "  </tbody>\n",
              "</table>\n",
              "</div>"
            ],
            "text/plain": [
              "     year  Is_Multiplayer  ClusterID  playtime_forever\n",
              "0  1970.0             0.0          1        11373260.0\n",
              "1  1970.0             0.0          2        14387069.0\n",
              "2  1970.0             1.0          1        15620553.0\n",
              "3  1970.0             1.0          2        18889765.0\n",
              "4  1998.0             1.0          1         2524390.0"
            ]
          },
          "metadata": {
            "tags": []
          },
          "execution_count": 187
        }
      ]
    },
    {
      "cell_type": "code",
      "metadata": {
        "id": "vyQhW_wR-ynz",
        "colab_type": "code",
        "outputId": "c2731160-cea5-466d-e5e4-b8621189d020",
        "colab": {
          "base_uri": "https://localhost:8080/",
          "height": 292
        }
      },
      "source": [
        "#year_multiplayer.playtime_forever = year_multiplayer.playtime_forever/(60*24*365)\n",
        "figure(num=None, figsize=(15,5), dpi=60, facecolor='w', edgecolor='k')\n",
        "ax = sns.barplot('year','playtime_forever',data=gameplay_overall[gameplay_overall.Is_Multiplayer==0],hue='ClusterID')\n",
        "ax.set(xlabel='Year of release of games until 2012')\n",
        "ax.set(ylabel='Unplayed percentage of games')\n",
        "plt.show()"
      ],
      "execution_count": 0,
      "outputs": [
        {
          "output_type": "display_data",
          "data": {
            "image/png": "[encoded data removed]",
            "text/plain": [
              "<Figure size 900x300 with 1 Axes>"
            ]
          },
          "metadata": {
            "tags": []
          }
        }
      ]
    },
    {
      "cell_type": "code",
      "metadata": {
        "id": "0Wk-Tx0j_qWr",
        "colab_type": "code",
        "outputId": "80bc23c0-f80f-47ba-bf34-7020a081e5cc",
        "colab": {
          "base_uri": "https://localhost:8080/",
          "height": 292
        }
      },
      "source": [
        "#year_multiplayer.playtime_forever = year_multiplayer.playtime_forever/(60*24*365)\n",
        "figure(num=None, figsize=(15,5), dpi=60, facecolor='w', edgecolor='k')\n",
        "ax = sns.barplot('year','playtime_forever',data=gameplay_overall[gameplay_overall.Is_Multiplayer==1],hue='ClusterID')\n",
        "ax.set(xlabel='Year of release of games until 2012')\n",
        "ax.set(ylabel='Unplayed percentage of games')\n",
        "plt.show()"
      ],
      "execution_count": 0,
      "outputs": [
        {
          "output_type": "display_data",
          "data": {
            "image/png": "[encoded data removed]",
            "text/plain": [
              "<Figure size 900x300 with 1 Axes>"
            ]
          },
          "metadata": {
            "tags": []
          }
        }
      ]
    },
    {
      "cell_type": "markdown",
      "metadata": {
        "id": "nnX3EZW7Cms1",
        "colab_type": "text"
      },
      "source": [
        "### Games in Genres"
      ]
    },
    {
      "cell_type": "code",
      "metadata": {
        "id": "sG8T_5clCqHq",
        "colab_type": "code",
        "outputId": "d15af540-b72e-4337-cc1b-e2d742788426",
        "colab": {
          "base_uri": "https://localhost:8080/",
          "height": 224
        }
      },
      "source": [
        "data.head()"
      ],
      "execution_count": 0,
      "outputs": [
        {
          "output_type": "execute_result",
          "data": {
            "text/html": [
              "<div>\n",
              "<style scoped>\n",
              "    .dataframe tbody tr th:only-of-type {\n",
              "        vertical-align: middle;\n",
              "    }\n",
              "\n",
              "    .dataframe tbody tr th {\n",
              "        vertical-align: top;\n",
              "    }\n",
              "\n",
              "    .dataframe thead th {\n",
              "        text-align: right;\n",
              "    }\n",
              "</style>\n",
              "<table border=\"1\" class=\"dataframe\">\n",
              "  <thead>\n",
              "    <tr style=\"text-align: right;\">\n",
              "      <th></th>\n",
              "      <th>steamid</th>\n",
              "      <th>commentpermission</th>\n",
              "      <th>realname</th>\n",
              "      <th>playtime_2weeks</th>\n",
              "      <th>playtime_forever</th>\n",
              "      <th>no_of_games</th>\n",
              "      <th>free_to_play</th>\n",
              "      <th>Price</th>\n",
              "      <th>Rating</th>\n",
              "      <th>Required_Age</th>\n",
              "      <th>Is_Multiplayer</th>\n",
              "      <th>Is_Adult</th>\n",
              "      <th>unplayed</th>\n",
              "      <th>game_age</th>\n",
              "      <th>no_of_groups</th>\n",
              "      <th>avg_friend_duration</th>\n",
              "      <th>avg_percentage_completion</th>\n",
              "      <th>total_group_connections</th>\n",
              "      <th>total_friend_connections</th>\n",
              "      <th>total_achievements</th>\n",
              "      <th>loggoff_duration</th>\n",
              "      <th>account_age</th>\n",
              "      <th>Genre_Action</th>\n",
              "      <th>Genre_Adventure</th>\n",
              "      <th>Genre_Casual</th>\n",
              "      <th>Genre_Early</th>\n",
              "      <th>Genre_Free</th>\n",
              "      <th>Genre_Indie</th>\n",
              "      <th>Genre_Massively_Multiplayer</th>\n",
              "      <th>Genre_RPG</th>\n",
              "      <th>Genre_Racing</th>\n",
              "      <th>Genre_Simulation</th>\n",
              "      <th>Genre_Sports</th>\n",
              "      <th>Genre_Strategy</th>\n",
              "      <th>Genre_Unknown</th>\n",
              "      <th>Playtime_2weeks_bygenre_Action</th>\n",
              "      <th>Playtime_2weeks_bygenre_Adventure</th>\n",
              "      <th>Playtime_2weeks_bygenre_Casual</th>\n",
              "      <th>Playtime_2weeks_bygenre_Early</th>\n",
              "      <th>Playtime_2weeks_bygenre_Free</th>\n",
              "      <th>Playtime_2weeks_bygenre_Indie</th>\n",
              "      <th>Playtime_2weeks_bygenre_Massively_Multiplayer</th>\n",
              "      <th>Playtime_2weeks_bygenre_RPG</th>\n",
              "      <th>Playtime_2weeks_bygenre_Racing</th>\n",
              "      <th>Playtime_2weeks_bygenre_Simulation</th>\n",
              "      <th>Playtime_2weeks_bygenre_Sports</th>\n",
              "      <th>Playtime_2weeks_bygenre_Strategy</th>\n",
              "      <th>Playtime_2weeks_bygenre_Unknown</th>\n",
              "      <th>Playtime_forever_bygenre_Action</th>\n",
              "      <th>Playtime_forever_bygenre_Adventure</th>\n",
              "      <th>Playtime_forever_bygenre_Casual</th>\n",
              "      <th>Playtime_forever_bygenre_Early</th>\n",
              "      <th>Playtime_forever_bygenre_Free</th>\n",
              "      <th>Playtime_forever_bygenre_Indie</th>\n",
              "      <th>Playtime_forever_bygenre_Massively_Multiplayer</th>\n",
              "      <th>Playtime_forever_bygenre_RPG</th>\n",
              "      <th>Playtime_forever_bygenre_Racing</th>\n",
              "      <th>Playtime_forever_bygenre_Simulation</th>\n",
              "      <th>Playtime_forever_bygenre_Sports</th>\n",
              "      <th>Playtime_forever_bygenre_Strategy</th>\n",
              "      <th>Playtime_forever_bygenre_Unknown</th>\n",
              "      <th>Type_demo</th>\n",
              "      <th>Type_dlc</th>\n",
              "      <th>Type_game</th>\n",
              "      <th>Type_mod</th>\n",
              "      <th>Type_Unknown</th>\n",
              "      <th>playtime_age</th>\n",
              "      <th>forever_avg</th>\n",
              "      <th>daily_monetary</th>\n",
              "      <th>achievement_per_game</th>\n",
              "      <th>freetoplay_percentage</th>\n",
              "      <th>multiplayer_percentage</th>\n",
              "      <th>adult_percentage</th>\n",
              "      <th>unplayed_percentage</th>\n",
              "      <th>Playtime_forever_total</th>\n",
              "      <th>Playtime_2weeks_total</th>\n",
              "      <th>Genre_total</th>\n",
              "      <th>ClusterID</th>\n",
              "    </tr>\n",
              "  </thead>\n",
              "  <tbody>\n",
              "    <tr>\n",
              "      <th>0</th>\n",
              "      <td>76561197960269425</td>\n",
              "      <td>0.0</td>\n",
              "      <td>1</td>\n",
              "      <td>5761.0</td>\n",
              "      <td>359095.125</td>\n",
              "      <td>222.0</td>\n",
              "      <td>9.0</td>\n",
              "      <td>2375.87</td>\n",
              "      <td>77.747748</td>\n",
              "      <td>3.905405</td>\n",
              "      <td>83.0</td>\n",
              "      <td>1.0</td>\n",
              "      <td>77.0</td>\n",
              "      <td>3914.536036</td>\n",
              "      <td>12.0</td>\n",
              "      <td>432.500000</td>\n",
              "      <td>13.789975</td>\n",
              "      <td>379079.0</td>\n",
              "      <td>58.0</td>\n",
              "      <td>11628.0</td>\n",
              "      <td>61.0</td>\n",
              "      <td>3334.5</td>\n",
              "      <td>0.347716</td>\n",
              "      <td>0.098985</td>\n",
              "      <td>0.096447</td>\n",
              "      <td>0.002538</td>\n",
              "      <td>0.007614</td>\n",
              "      <td>0.208122</td>\n",
              "      <td>0.000000</td>\n",
              "      <td>0.083756</td>\n",
              "      <td>0.007614</td>\n",
              "      <td>0.020305</td>\n",
              "      <td>0.010152</td>\n",
              "      <td>0.104061</td>\n",
              "      <td>0.012690</td>\n",
              "      <td>0.572430</td>\n",
              "      <td>0.011098</td>\n",
              "      <td>0.287675</td>\n",
              "      <td>0.0</td>\n",
              "      <td>0.000000</td>\n",
              "      <td>0.075496</td>\n",
              "      <td>0.0</td>\n",
              "      <td>0.011098</td>\n",
              "      <td>0.0</td>\n",
              "      <td>0.001168</td>\n",
              "      <td>0.041034</td>\n",
              "      <td>0.000000</td>\n",
              "      <td>0.00000</td>\n",
              "      <td>0.126480</td>\n",
              "      <td>0.034038</td>\n",
              "      <td>0.233752</td>\n",
              "      <td>0.000119</td>\n",
              "      <td>0.022556</td>\n",
              "      <td>0.496072</td>\n",
              "      <td>0.000000</td>\n",
              "      <td>0.053008</td>\n",
              "      <td>0.000063</td>\n",
              "      <td>0.000003</td>\n",
              "      <td>0.001457</td>\n",
              "      <td>0.032430</td>\n",
              "      <td>0.000021</td>\n",
              "      <td>0.0</td>\n",
              "      <td>0.004505</td>\n",
              "      <td>0.972973</td>\n",
              "      <td>0.000000</td>\n",
              "      <td>0.022523</td>\n",
              "      <td>1586</td>\n",
              "      <td>226.415590</td>\n",
              "      <td>1.498026</td>\n",
              "      <td>52.378378</td>\n",
              "      <td>0.040541</td>\n",
              "      <td>0.373874</td>\n",
              "      <td>0.004505</td>\n",
              "      <td>0.346847</td>\n",
              "      <td>2330534.0</td>\n",
              "      <td>6848.0</td>\n",
              "      <td>394</td>\n",
              "      <td>2</td>\n",
              "    </tr>\n",
              "    <tr>\n",
              "      <th>1</th>\n",
              "      <td>76561197960269501</td>\n",
              "      <td>0.0</td>\n",
              "      <td>1</td>\n",
              "      <td>6543.0</td>\n",
              "      <td>170598.000</td>\n",
              "      <td>206.0</td>\n",
              "      <td>8.0</td>\n",
              "      <td>2641.03</td>\n",
              "      <td>79.228155</td>\n",
              "      <td>4.456311</td>\n",
              "      <td>90.5</td>\n",
              "      <td>1.0</td>\n",
              "      <td>63.0</td>\n",
              "      <td>3761.116505</td>\n",
              "      <td>28.0</td>\n",
              "      <td>319.717105</td>\n",
              "      <td>13.636806</td>\n",
              "      <td>2723055.0</td>\n",
              "      <td>152.0</td>\n",
              "      <td>11298.0</td>\n",
              "      <td>61.0</td>\n",
              "      <td>3334.5</td>\n",
              "      <td>0.357724</td>\n",
              "      <td>0.075881</td>\n",
              "      <td>0.070461</td>\n",
              "      <td>0.000000</td>\n",
              "      <td>0.008130</td>\n",
              "      <td>0.197832</td>\n",
              "      <td>0.002710</td>\n",
              "      <td>0.051491</td>\n",
              "      <td>0.010840</td>\n",
              "      <td>0.051491</td>\n",
              "      <td>0.008130</td>\n",
              "      <td>0.132791</td>\n",
              "      <td>0.032520</td>\n",
              "      <td>0.064735</td>\n",
              "      <td>0.007774</td>\n",
              "      <td>0.000000</td>\n",
              "      <td>0.0</td>\n",
              "      <td>0.000000</td>\n",
              "      <td>0.041413</td>\n",
              "      <td>0.0</td>\n",
              "      <td>0.000000</td>\n",
              "      <td>0.0</td>\n",
              "      <td>0.002686</td>\n",
              "      <td>0.000000</td>\n",
              "      <td>0.030813</td>\n",
              "      <td>0.85258</td>\n",
              "      <td>0.507494</td>\n",
              "      <td>0.054859</td>\n",
              "      <td>0.005600</td>\n",
              "      <td>0.000000</td>\n",
              "      <td>0.134056</td>\n",
              "      <td>0.059518</td>\n",
              "      <td>0.000077</td>\n",
              "      <td>0.074155</td>\n",
              "      <td>0.002563</td>\n",
              "      <td>0.000066</td>\n",
              "      <td>0.000084</td>\n",
              "      <td>0.112939</td>\n",
              "      <td>0.048590</td>\n",
              "      <td>0.0</td>\n",
              "      <td>0.004854</td>\n",
              "      <td>0.927184</td>\n",
              "      <td>0.009709</td>\n",
              "      <td>0.058252</td>\n",
              "      <td>1586</td>\n",
              "      <td>107.564943</td>\n",
              "      <td>1.665214</td>\n",
              "      <td>54.844660</td>\n",
              "      <td>0.038835</td>\n",
              "      <td>0.439320</td>\n",
              "      <td>0.004854</td>\n",
              "      <td>0.305825</td>\n",
              "      <td>287156.0</td>\n",
              "      <td>7075.0</td>\n",
              "      <td>369</td>\n",
              "      <td>2</td>\n",
              "    </tr>\n",
              "    <tr>\n",
              "      <th>2</th>\n",
              "      <td>76561197960269721</td>\n",
              "      <td>0.0</td>\n",
              "      <td>0</td>\n",
              "      <td>10727.0</td>\n",
              "      <td>359095.125</td>\n",
              "      <td>75.0</td>\n",
              "      <td>5.0</td>\n",
              "      <td>917.30</td>\n",
              "      <td>80.480000</td>\n",
              "      <td>2.480000</td>\n",
              "      <td>38.0</td>\n",
              "      <td>0.0</td>\n",
              "      <td>37.0</td>\n",
              "      <td>4172.626667</td>\n",
              "      <td>4.0</td>\n",
              "      <td>846.600000</td>\n",
              "      <td>14.620819</td>\n",
              "      <td>5133.0</td>\n",
              "      <td>5.0</td>\n",
              "      <td>4698.0</td>\n",
              "      <td>80.0</td>\n",
              "      <td>3334.5</td>\n",
              "      <td>0.347107</td>\n",
              "      <td>0.099174</td>\n",
              "      <td>0.016529</td>\n",
              "      <td>0.000000</td>\n",
              "      <td>0.024793</td>\n",
              "      <td>0.115702</td>\n",
              "      <td>0.008264</td>\n",
              "      <td>0.181818</td>\n",
              "      <td>0.000000</td>\n",
              "      <td>0.024793</td>\n",
              "      <td>0.000000</td>\n",
              "      <td>0.165289</td>\n",
              "      <td>0.016529</td>\n",
              "      <td>0.000052</td>\n",
              "      <td>0.000052</td>\n",
              "      <td>0.000000</td>\n",
              "      <td>0.0</td>\n",
              "      <td>0.000000</td>\n",
              "      <td>0.000052</td>\n",
              "      <td>0.0</td>\n",
              "      <td>0.000052</td>\n",
              "      <td>0.0</td>\n",
              "      <td>0.000157</td>\n",
              "      <td>0.000000</td>\n",
              "      <td>0.999635</td>\n",
              "      <td>0.00000</td>\n",
              "      <td>0.261675</td>\n",
              "      <td>0.052906</td>\n",
              "      <td>0.000556</td>\n",
              "      <td>0.000000</td>\n",
              "      <td>0.025541</td>\n",
              "      <td>0.065929</td>\n",
              "      <td>0.021525</td>\n",
              "      <td>0.131212</td>\n",
              "      <td>0.000000</td>\n",
              "      <td>0.000006</td>\n",
              "      <td>0.000000</td>\n",
              "      <td>0.409037</td>\n",
              "      <td>0.031613</td>\n",
              "      <td>0.0</td>\n",
              "      <td>0.000000</td>\n",
              "      <td>0.960000</td>\n",
              "      <td>0.013333</td>\n",
              "      <td>0.026667</td>\n",
              "      <td>1586</td>\n",
              "      <td>226.415590</td>\n",
              "      <td>0.578373</td>\n",
              "      <td>62.640000</td>\n",
              "      <td>0.066667</td>\n",
              "      <td>0.506667</td>\n",
              "      <td>0.000000</td>\n",
              "      <td>0.493333</td>\n",
              "      <td>503651.0</td>\n",
              "      <td>19154.0</td>\n",
              "      <td>121</td>\n",
              "      <td>1</td>\n",
              "    </tr>\n",
              "    <tr>\n",
              "      <th>3</th>\n",
              "      <td>76561197960269752</td>\n",
              "      <td>0.0</td>\n",
              "      <td>1</td>\n",
              "      <td>8060.0</td>\n",
              "      <td>102719.000</td>\n",
              "      <td>20.0</td>\n",
              "      <td>2.0</td>\n",
              "      <td>264.82</td>\n",
              "      <td>83.250000</td>\n",
              "      <td>5.100000</td>\n",
              "      <td>14.0</td>\n",
              "      <td>0.0</td>\n",
              "      <td>8.0</td>\n",
              "      <td>4728.261932</td>\n",
              "      <td>15.0</td>\n",
              "      <td>347.750000</td>\n",
              "      <td>14.846449</td>\n",
              "      <td>286035.0</td>\n",
              "      <td>116.0</td>\n",
              "      <td>1556.0</td>\n",
              "      <td>81.0</td>\n",
              "      <td>3334.5</td>\n",
              "      <td>0.629630</td>\n",
              "      <td>0.000000</td>\n",
              "      <td>0.000000</td>\n",
              "      <td>0.000000</td>\n",
              "      <td>0.074074</td>\n",
              "      <td>0.000000</td>\n",
              "      <td>0.000000</td>\n",
              "      <td>0.259259</td>\n",
              "      <td>0.000000</td>\n",
              "      <td>0.000000</td>\n",
              "      <td>0.000000</td>\n",
              "      <td>0.037037</td>\n",
              "      <td>0.000000</td>\n",
              "      <td>0.962273</td>\n",
              "      <td>0.000000</td>\n",
              "      <td>0.000000</td>\n",
              "      <td>0.0</td>\n",
              "      <td>0.018863</td>\n",
              "      <td>0.000000</td>\n",
              "      <td>0.0</td>\n",
              "      <td>0.000000</td>\n",
              "      <td>0.0</td>\n",
              "      <td>0.000000</td>\n",
              "      <td>0.000000</td>\n",
              "      <td>0.018863</td>\n",
              "      <td>0.00000</td>\n",
              "      <td>0.523047</td>\n",
              "      <td>0.000000</td>\n",
              "      <td>0.000000</td>\n",
              "      <td>0.000000</td>\n",
              "      <td>0.208763</td>\n",
              "      <td>0.000000</td>\n",
              "      <td>0.000000</td>\n",
              "      <td>0.066787</td>\n",
              "      <td>0.000000</td>\n",
              "      <td>0.000000</td>\n",
              "      <td>0.000000</td>\n",
              "      <td>0.201402</td>\n",
              "      <td>0.000000</td>\n",
              "      <td>0.0</td>\n",
              "      <td>0.000000</td>\n",
              "      <td>1.000000</td>\n",
              "      <td>0.000000</td>\n",
              "      <td>0.000000</td>\n",
              "      <td>1586</td>\n",
              "      <td>64.766078</td>\n",
              "      <td>0.166974</td>\n",
              "      <td>77.800000</td>\n",
              "      <td>0.100000</td>\n",
              "      <td>0.700000</td>\n",
              "      <td>0.000000</td>\n",
              "      <td>0.400000</td>\n",
              "      <td>180693.0</td>\n",
              "      <td>8376.0</td>\n",
              "      <td>27</td>\n",
              "      <td>1</td>\n",
              "    </tr>\n",
              "    <tr>\n",
              "      <th>4</th>\n",
              "      <td>76561197960270225</td>\n",
              "      <td>0.0</td>\n",
              "      <td>1</td>\n",
              "      <td>8833.0</td>\n",
              "      <td>157599.000</td>\n",
              "      <td>187.0</td>\n",
              "      <td>6.0</td>\n",
              "      <td>1997.19</td>\n",
              "      <td>78.914439</td>\n",
              "      <td>2.989305</td>\n",
              "      <td>75.0</td>\n",
              "      <td>0.0</td>\n",
              "      <td>80.0</td>\n",
              "      <td>3843.850267</td>\n",
              "      <td>3.0</td>\n",
              "      <td>105.487805</td>\n",
              "      <td>13.244114</td>\n",
              "      <td>795622.0</td>\n",
              "      <td>41.0</td>\n",
              "      <td>11035.0</td>\n",
              "      <td>80.0</td>\n",
              "      <td>3334.5</td>\n",
              "      <td>0.342466</td>\n",
              "      <td>0.071918</td>\n",
              "      <td>0.058219</td>\n",
              "      <td>0.000000</td>\n",
              "      <td>0.006849</td>\n",
              "      <td>0.147260</td>\n",
              "      <td>0.000000</td>\n",
              "      <td>0.085616</td>\n",
              "      <td>0.010274</td>\n",
              "      <td>0.047945</td>\n",
              "      <td>0.003425</td>\n",
              "      <td>0.140411</td>\n",
              "      <td>0.085616</td>\n",
              "      <td>0.380752</td>\n",
              "      <td>0.000000</td>\n",
              "      <td>0.000000</td>\n",
              "      <td>0.0</td>\n",
              "      <td>0.222859</td>\n",
              "      <td>0.000000</td>\n",
              "      <td>0.0</td>\n",
              "      <td>0.157892</td>\n",
              "      <td>0.0</td>\n",
              "      <td>0.000627</td>\n",
              "      <td>0.000000</td>\n",
              "      <td>0.237869</td>\n",
              "      <td>0.00000</td>\n",
              "      <td>0.290993</td>\n",
              "      <td>0.017525</td>\n",
              "      <td>0.016589</td>\n",
              "      <td>0.000000</td>\n",
              "      <td>0.230949</td>\n",
              "      <td>0.031191</td>\n",
              "      <td>0.000000</td>\n",
              "      <td>0.066627</td>\n",
              "      <td>0.000356</td>\n",
              "      <td>0.000038</td>\n",
              "      <td>0.000000</td>\n",
              "      <td>0.334901</td>\n",
              "      <td>0.010831</td>\n",
              "      <td>0.0</td>\n",
              "      <td>0.000000</td>\n",
              "      <td>0.860963</td>\n",
              "      <td>0.005348</td>\n",
              "      <td>0.133690</td>\n",
              "      <td>1586</td>\n",
              "      <td>99.368852</td>\n",
              "      <td>1.259262</td>\n",
              "      <td>59.010695</td>\n",
              "      <td>0.032086</td>\n",
              "      <td>0.401070</td>\n",
              "      <td>0.000000</td>\n",
              "      <td>0.427807</td>\n",
              "      <td>370614.0</td>\n",
              "      <td>22319.0</td>\n",
              "      <td>292</td>\n",
              "      <td>2</td>\n",
              "    </tr>\n",
              "  </tbody>\n",
              "</table>\n",
              "</div>"
            ],
            "text/plain": [
              "             steamid  commentpermission  realname  playtime_2weeks  playtime_forever  no_of_games  free_to_play    Price     Rating  Required_Age  Is_Multiplayer  Is_Adult  unplayed     game_age  no_of_groups  avg_friend_duration  avg_percentage_completion  total_group_connections  total_friend_connections  total_achievements  loggoff_duration  account_age  Genre_Action  Genre_Adventure  Genre_Casual  Genre_Early  Genre_Free  Genre_Indie  Genre_Massively_Multiplayer  Genre_RPG  Genre_Racing  Genre_Simulation  Genre_Sports  Genre_Strategy  Genre_Unknown  Playtime_2weeks_bygenre_Action  Playtime_2weeks_bygenre_Adventure  Playtime_2weeks_bygenre_Casual  Playtime_2weeks_bygenre_Early  Playtime_2weeks_bygenre_Free  Playtime_2weeks_bygenre_Indie  Playtime_2weeks_bygenre_Massively_Multiplayer  Playtime_2weeks_bygenre_RPG  Playtime_2weeks_bygenre_Racing  Playtime_2weeks_bygenre_Simulation  Playtime_2weeks_bygenre_Sports  Playtime_2weeks_bygenre_Strategy  Playtime_2weeks_bygenre_Unknown  \\\n",
              "0  76561197960269425                0.0         1           5761.0        359095.125        222.0           9.0  2375.87  77.747748      3.905405            83.0       1.0      77.0  3914.536036          12.0           432.500000                  13.789975                 379079.0                      58.0             11628.0              61.0       3334.5      0.347716         0.098985      0.096447     0.002538    0.007614     0.208122                     0.000000   0.083756      0.007614          0.020305      0.010152        0.104061       0.012690                        0.572430                           0.011098                        0.287675                            0.0                      0.000000                       0.075496                                            0.0                     0.011098                             0.0                            0.001168                        0.041034                          0.000000                          0.00000   \n",
              "1  76561197960269501                0.0         1           6543.0        170598.000        206.0           8.0  2641.03  79.228155      4.456311            90.5       1.0      63.0  3761.116505          28.0           319.717105                  13.636806                2723055.0                     152.0             11298.0              61.0       3334.5      0.357724         0.075881      0.070461     0.000000    0.008130     0.197832                     0.002710   0.051491      0.010840          0.051491      0.008130        0.132791       0.032520                        0.064735                           0.007774                        0.000000                            0.0                      0.000000                       0.041413                                            0.0                     0.000000                             0.0                            0.002686                        0.000000                          0.030813                          0.85258   \n",
              "2  76561197960269721                0.0         0          10727.0        359095.125         75.0           5.0   917.30  80.480000      2.480000            38.0       0.0      37.0  4172.626667           4.0           846.600000                  14.620819                   5133.0                       5.0              4698.0              80.0       3334.5      0.347107         0.099174      0.016529     0.000000    0.024793     0.115702                     0.008264   0.181818      0.000000          0.024793      0.000000        0.165289       0.016529                        0.000052                           0.000052                        0.000000                            0.0                      0.000000                       0.000052                                            0.0                     0.000052                             0.0                            0.000157                        0.000000                          0.999635                          0.00000   \n",
              "3  76561197960269752                0.0         1           8060.0        102719.000         20.0           2.0   264.82  83.250000      5.100000            14.0       0.0       8.0  4728.261932          15.0           347.750000                  14.846449                 286035.0                     116.0              1556.0              81.0       3334.5      0.629630         0.000000      0.000000     0.000000    0.074074     0.000000                     0.000000   0.259259      0.000000          0.000000      0.000000        0.037037       0.000000                        0.962273                           0.000000                        0.000000                            0.0                      0.018863                       0.000000                                            0.0                     0.000000                             0.0                            0.000000                        0.000000                          0.018863                          0.00000   \n",
              "4  76561197960270225                0.0         1           8833.0        157599.000        187.0           6.0  1997.19  78.914439      2.989305            75.0       0.0      80.0  3843.850267           3.0           105.487805                  13.244114                 795622.0                      41.0             11035.0              80.0       3334.5      0.342466         0.071918      0.058219     0.000000    0.006849     0.147260                     0.000000   0.085616      0.010274          0.047945      0.003425        0.140411       0.085616                        0.380752                           0.000000                        0.000000                            0.0                      0.222859                       0.000000                                            0.0                     0.157892                             0.0                            0.000627                        0.000000                          0.237869                          0.00000   \n",
              "\n",
              "   Playtime_forever_bygenre_Action  Playtime_forever_bygenre_Adventure  Playtime_forever_bygenre_Casual  Playtime_forever_bygenre_Early  Playtime_forever_bygenre_Free  Playtime_forever_bygenre_Indie  Playtime_forever_bygenre_Massively_Multiplayer  Playtime_forever_bygenre_RPG  Playtime_forever_bygenre_Racing  Playtime_forever_bygenre_Simulation  Playtime_forever_bygenre_Sports  Playtime_forever_bygenre_Strategy  Playtime_forever_bygenre_Unknown  Type_demo  Type_dlc  Type_game  Type_mod  Type_Unknown  playtime_age  forever_avg  daily_monetary  achievement_per_game  freetoplay_percentage  multiplayer_percentage  adult_percentage  unplayed_percentage  Playtime_forever_total  Playtime_2weeks_total  Genre_total  ClusterID  \n",
              "0                         0.126480                            0.034038                         0.233752                        0.000119                       0.022556                        0.496072                                        0.000000                      0.053008                         0.000063                             0.000003                         0.001457                           0.032430                          0.000021        0.0  0.004505   0.972973  0.000000      0.022523          1586   226.415590        1.498026             52.378378               0.040541                0.373874          0.004505             0.346847               2330534.0                 6848.0          394          2  \n",
              "1                         0.507494                            0.054859                         0.005600                        0.000000                       0.134056                        0.059518                                        0.000077                      0.074155                         0.002563                             0.000066                         0.000084                           0.112939                          0.048590        0.0  0.004854   0.927184  0.009709      0.058252          1586   107.564943        1.665214             54.844660               0.038835                0.439320          0.004854             0.305825                287156.0                 7075.0          369          2  \n",
              "2                         0.261675                            0.052906                         0.000556                        0.000000                       0.025541                        0.065929                                        0.021525                      0.131212                         0.000000                             0.000006                         0.000000                           0.409037                          0.031613        0.0  0.000000   0.960000  0.013333      0.026667          1586   226.415590        0.578373             62.640000               0.066667                0.506667          0.000000             0.493333                503651.0                19154.0          121          1  \n",
              "3                         0.523047                            0.000000                         0.000000                        0.000000                       0.208763                        0.000000                                        0.000000                      0.066787                         0.000000                             0.000000                         0.000000                           0.201402                          0.000000        0.0  0.000000   1.000000  0.000000      0.000000          1586    64.766078        0.166974             77.800000               0.100000                0.700000          0.000000             0.400000                180693.0                 8376.0           27          1  \n",
              "4                         0.290993                            0.017525                         0.016589                        0.000000                       0.230949                        0.031191                                        0.000000                      0.066627                         0.000356                             0.000038                         0.000000                           0.334901                          0.010831        0.0  0.000000   0.860963  0.005348      0.133690          1586    99.368852        1.259262             59.010695               0.032086                0.401070          0.000000             0.427807                370614.0                22319.0          292          2  "
            ]
          },
          "metadata": {
            "tags": []
          },
          "execution_count": 190
        }
      ]
    },
    {
      "cell_type": "code",
      "metadata": {
        "id": "VkLwi--oEHAe",
        "colab_type": "code",
        "outputId": "c26ec987-76b7-4e84-fd6d-7adecc1201a8",
        "colab": {
          "base_uri": "https://localhost:8080/",
          "height": 663
        }
      },
      "source": [
        "data.columns.values"
      ],
      "execution_count": 0,
      "outputs": [
        {
          "output_type": "execute_result",
          "data": {
            "text/plain": [
              "array(['steamid', 'commentpermission', 'realname', 'playtime_2weeks',\n",
              "       'playtime_forever', 'no_of_games', 'free_to_play', 'Price',\n",
              "       'Rating', 'Required_Age', 'Is_Multiplayer', 'Is_Adult', 'unplayed',\n",
              "       'game_age', 'no_of_groups', 'avg_friend_duration',\n",
              "       'avg_percentage_completion', 'total_group_connections',\n",
              "       'total_friend_connections', 'total_achievements',\n",
              "       'loggoff_duration', 'account_age', 'Genre_Action',\n",
              "       'Genre_Adventure', 'Genre_Casual', 'Genre_Early', 'Genre_Free',\n",
              "       'Genre_Indie', 'Genre_Massively_Multiplayer', 'Genre_RPG',\n",
              "       'Genre_Racing', 'Genre_Simulation', 'Genre_Sports',\n",
              "       'Genre_Strategy', 'Genre_Unknown',\n",
              "       'Playtime_2weeks_bygenre_Action',\n",
              "       'Playtime_2weeks_bygenre_Adventure',\n",
              "       'Playtime_2weeks_bygenre_Casual', 'Playtime_2weeks_bygenre_Early',\n",
              "       'Playtime_2weeks_bygenre_Free', 'Playtime_2weeks_bygenre_Indie',\n",
              "       'Playtime_2weeks_bygenre_Massively_Multiplayer',\n",
              "       'Playtime_2weeks_bygenre_RPG', 'Playtime_2weeks_bygenre_Racing',\n",
              "       'Playtime_2weeks_bygenre_Simulation',\n",
              "       'Playtime_2weeks_bygenre_Sports',\n",
              "       'Playtime_2weeks_bygenre_Strategy',\n",
              "       'Playtime_2weeks_bygenre_Unknown',\n",
              "       'Playtime_forever_bygenre_Action',\n",
              "       'Playtime_forever_bygenre_Adventure',\n",
              "       'Playtime_forever_bygenre_Casual',\n",
              "       'Playtime_forever_bygenre_Early', 'Playtime_forever_bygenre_Free',\n",
              "       'Playtime_forever_bygenre_Indie',\n",
              "       'Playtime_forever_bygenre_Massively_Multiplayer',\n",
              "       'Playtime_forever_bygenre_RPG', 'Playtime_forever_bygenre_Racing',\n",
              "       'Playtime_forever_bygenre_Simulation',\n",
              "       'Playtime_forever_bygenre_Sports',\n",
              "       'Playtime_forever_bygenre_Strategy',\n",
              "       'Playtime_forever_bygenre_Unknown', 'Type_demo', 'Type_dlc',\n",
              "       'Type_game', 'Type_mod', 'Type_Unknown', 'playtime_age',\n",
              "       'forever_avg', 'daily_monetary', 'achievement_per_game',\n",
              "       'freetoplay_percentage', 'multiplayer_percentage',\n",
              "       'adult_percentage', 'unplayed_percentage',\n",
              "       'Playtime_forever_total', 'Playtime_2weeks_total', 'Genre_total',\n",
              "       'ClusterID'], dtype=object)"
            ]
          },
          "metadata": {
            "tags": []
          },
          "execution_count": 191
        }
      ]
    },
    {
      "cell_type": "code",
      "metadata": {
        "id": "4P6gnGfTDbPn",
        "colab_type": "code",
        "outputId": "ee60b402-1803-41da-e8ea-cfbb5331f824",
        "colab": {
          "base_uri": "https://localhost:8080/",
          "height": 282
        }
      },
      "source": [
        "data_melt = data[[\"ClusterID\",'Genre_Action',\n",
        "       'Genre_Adventure', 'Genre_Casual', 'Genre_Early', 'Genre_Free',\n",
        "       'Genre_Indie', 'Genre_Massively_Multiplayer', 'Genre_RPG',\n",
        "       'Genre_Racing', 'Genre_Simulation', 'Genre_Sports',\n",
        "       'Genre_Strategy']]\n",
        "data_melt.columns = [\"ClusterID\",'Action',\n",
        "       'Adventure', 'Casual', 'Early', 'Free',\n",
        "       'Indie', 'Massively_Multiplayer', 'RPG',\n",
        "       'Racing', 'Simulation', 'Sports', 'Strategy']\n",
        "\n",
        "data_melt = data_melt.melt(id_vars=[\"ClusterID\"], \n",
        "        var_name=\"Genre\", \n",
        "        value_name=\"% of games\")\n",
        "\n",
        "data_melt_genre = data_melt.groupby(['ClusterID','Genre'],as_index=False).agg({\n",
        "    '% of games':'mean'\n",
        "})\n",
        "\n",
        "data_melt_genre.columns = ['Clusters','Genre','% of games']\n",
        "\n",
        "figure(num=None, figsize=(10,5), dpi=60, facecolor='w', edgecolor='k')\n",
        "ax = sns.barplot('% of games','Genre',data=data_melt_genre,hue='Clusters')\n",
        "ax.set(xlabel='Fraction of owned games')\n",
        "ax.set(ylabel='Genres of games owned')\n",
        "plt.show()\n"
      ],
      "execution_count": 0,
      "outputs": [
        {
          "output_type": "display_data",
          "data": {
            "image/png": "[encoded data removed]",
            "text/plain": [
              "<Figure size 600x300 with 1 Axes>"
            ]
          },
          "metadata": {
            "tags": []
          }
        }
      ]
    },
    {
      "cell_type": "code",
      "metadata": {
        "id": "yCqGNub4MhWs",
        "colab_type": "code",
        "colab": {}
      },
      "source": [
        ""
      ],
      "execution_count": 0,
      "outputs": []
    },
    {
      "cell_type": "code",
      "metadata": {
        "id": "O3O-XJ2pFGUJ",
        "colab_type": "code",
        "outputId": "71ac28a2-229a-4182-8cc8-aa2b2cc51312",
        "colab": {
          "base_uri": "https://localhost:8080/",
          "height": 282
        }
      },
      "source": [
        "data_melt = data[[\"ClusterID\",'Playtime_forever_bygenre_Action',\n",
        "       'Playtime_forever_bygenre_Adventure',\n",
        "       'Playtime_forever_bygenre_Casual',\n",
        "       'Playtime_forever_bygenre_Early', 'Playtime_forever_bygenre_Free',\n",
        "       'Playtime_forever_bygenre_Indie',\n",
        "       'Playtime_forever_bygenre_Massively_Multiplayer',\n",
        "       'Playtime_forever_bygenre_RPG', 'Playtime_forever_bygenre_Racing',\n",
        "       'Playtime_forever_bygenre_Simulation',\n",
        "       'Playtime_forever_bygenre_Sports',\n",
        "       'Playtime_forever_bygenre_Strategy']].melt(id_vars=[\"ClusterID\"], \n",
        "        var_name=\"Genre\", \n",
        "        value_name=\"% of games\")\n",
        "\n",
        "data_melt_genre = data_melt.groupby(['ClusterID','Genre'],as_index=False).agg({\n",
        "    '% of games':'mean'\n",
        "})\n",
        "\n",
        "figure(num=None, figsize=(10,5), dpi=60, facecolor='w', edgecolor='k')\n",
        "ax = sns.barplot('% of games','Genre',data=data_melt_genre,hue='ClusterID')\n",
        "ax.set(xlabel='Fraction of play times for games in each genre')\n",
        "ax.set(ylabel='Genres')\n",
        "plt.show()"
      ],
      "execution_count": 0,
      "outputs": [
        {
          "output_type": "display_data",
          "data": {
            "image/png": "[encoded data removed]",
            "text/plain": [
              "<Figure size 600x300 with 1 Axes>"
            ]
          },
          "metadata": {
            "tags": []
          }
        }
      ]
    },
    {
      "cell_type": "code",
      "metadata": {
        "id": "Tt9HCqXon0zh",
        "colab_type": "code",
        "outputId": "7e597210-ae68-4dcb-b2b7-f6e075ee9572",
        "colab": {
          "base_uri": "https://localhost:8080/",
          "height": 204
        }
      },
      "source": [
        "gameplay.head()"
      ],
      "execution_count": 0,
      "outputs": [
        {
          "output_type": "execute_result",
          "data": {
            "text/html": [
              "<div>\n",
              "<style scoped>\n",
              "    .dataframe tbody tr th:only-of-type {\n",
              "        vertical-align: middle;\n",
              "    }\n",
              "\n",
              "    .dataframe tbody tr th {\n",
              "        vertical-align: top;\n",
              "    }\n",
              "\n",
              "    .dataframe thead th {\n",
              "        text-align: right;\n",
              "    }\n",
              "</style>\n",
              "<table border=\"1\" class=\"dataframe\">\n",
              "  <thead>\n",
              "    <tr style=\"text-align: right;\">\n",
              "      <th></th>\n",
              "      <th>steamid</th>\n",
              "      <th>appid</th>\n",
              "      <th>playtime_2weeks</th>\n",
              "      <th>playtime_forever</th>\n",
              "      <th>dateretrieved</th>\n",
              "      <th>unplayed</th>\n",
              "      <th>played</th>\n",
              "    </tr>\n",
              "  </thead>\n",
              "  <tbody>\n",
              "    <tr>\n",
              "      <th>0</th>\n",
              "      <td>76561197960266039</td>\n",
              "      <td>10</td>\n",
              "      <td>7.0</td>\n",
              "      <td>1311.0</td>\n",
              "      <td>2013-05-06 16:00:46</td>\n",
              "      <td>0</td>\n",
              "      <td>1</td>\n",
              "    </tr>\n",
              "    <tr>\n",
              "      <th>1</th>\n",
              "      <td>76561197960266039</td>\n",
              "      <td>20</td>\n",
              "      <td>0.0</td>\n",
              "      <td>391.0</td>\n",
              "      <td>2013-05-06 16:00:46</td>\n",
              "      <td>0</td>\n",
              "      <td>1</td>\n",
              "    </tr>\n",
              "    <tr>\n",
              "      <th>2</th>\n",
              "      <td>76561197960266039</td>\n",
              "      <td>30</td>\n",
              "      <td>0.0</td>\n",
              "      <td>0.0</td>\n",
              "      <td>2013-05-06 16:00:46</td>\n",
              "      <td>1</td>\n",
              "      <td>0</td>\n",
              "    </tr>\n",
              "    <tr>\n",
              "      <th>3</th>\n",
              "      <td>76561197960266039</td>\n",
              "      <td>40</td>\n",
              "      <td>0.0</td>\n",
              "      <td>748.0</td>\n",
              "      <td>2013-05-06 16:00:46</td>\n",
              "      <td>0</td>\n",
              "      <td>1</td>\n",
              "    </tr>\n",
              "    <tr>\n",
              "      <th>4</th>\n",
              "      <td>76561197960266039</td>\n",
              "      <td>50</td>\n",
              "      <td>0.0</td>\n",
              "      <td>0.0</td>\n",
              "      <td>2013-05-06 16:00:46</td>\n",
              "      <td>1</td>\n",
              "      <td>0</td>\n",
              "    </tr>\n",
              "  </tbody>\n",
              "</table>\n",
              "</div>"
            ],
            "text/plain": [
              "             steamid  appid  playtime_2weeks  playtime_forever        dateretrieved  unplayed  played\n",
              "0  76561197960266039     10              7.0            1311.0  2013-05-06 16:00:46         0       1\n",
              "1  76561197960266039     20              0.0             391.0  2013-05-06 16:00:46         0       1\n",
              "2  76561197960266039     30              0.0               0.0  2013-05-06 16:00:46         1       0\n",
              "3  76561197960266039     40              0.0             748.0  2013-05-06 16:00:46         0       1\n",
              "4  76561197960266039     50              0.0               0.0  2013-05-06 16:00:46         1       0"
            ]
          },
          "metadata": {
            "tags": []
          },
          "execution_count": 194
        }
      ]
    },
    {
      "cell_type": "markdown",
      "metadata": {
        "id": "0LxwX0ZEyMI_",
        "colab_type": "text"
      },
      "source": [
        "### Playtimes online and offline"
      ]
    },
    {
      "cell_type": "code",
      "metadata": {
        "id": "Kshjq2-syLhV",
        "colab_type": "code",
        "outputId": "261a4735-2141-4e98-9b47-c11f1628b109",
        "colab": {
          "base_uri": "https://localhost:8080/",
          "height": 343
        }
      },
      "source": [
        "gameplay_apps.head()"
      ],
      "execution_count": 0,
      "outputs": [
        {
          "output_type": "execute_result",
          "data": {
            "text/html": [
              "<div>\n",
              "<style scoped>\n",
              "    .dataframe tbody tr th:only-of-type {\n",
              "        vertical-align: middle;\n",
              "    }\n",
              "\n",
              "    .dataframe tbody tr th {\n",
              "        vertical-align: top;\n",
              "    }\n",
              "\n",
              "    .dataframe thead th {\n",
              "        text-align: right;\n",
              "    }\n",
              "</style>\n",
              "<table border=\"1\" class=\"dataframe\">\n",
              "  <thead>\n",
              "    <tr style=\"text-align: right;\">\n",
              "      <th></th>\n",
              "      <th>steamid</th>\n",
              "      <th>appid</th>\n",
              "      <th>playtime_2weeks</th>\n",
              "      <th>playtime_forever</th>\n",
              "      <th>dateretrieved</th>\n",
              "      <th>unplayed</th>\n",
              "      <th>played</th>\n",
              "      <th>Title</th>\n",
              "      <th>Type</th>\n",
              "      <th>Price</th>\n",
              "      <th>Release_Date</th>\n",
              "      <th>Rating</th>\n",
              "      <th>Required_Age</th>\n",
              "      <th>Is_Multiplayer</th>\n",
              "      <th>game_age</th>\n",
              "    </tr>\n",
              "  </thead>\n",
              "  <tbody>\n",
              "    <tr>\n",
              "      <th>0</th>\n",
              "      <td>76561197960266039</td>\n",
              "      <td>10</td>\n",
              "      <td>7.0</td>\n",
              "      <td>1311.0</td>\n",
              "      <td>2013-05-06 16:00:46</td>\n",
              "      <td>0</td>\n",
              "      <td>1</td>\n",
              "      <td>Counter-Strike</td>\n",
              "      <td>game</td>\n",
              "      <td>9.99</td>\n",
              "      <td>2000-11-01 00:00:00</td>\n",
              "      <td>88.0</td>\n",
              "      <td>0.0</td>\n",
              "      <td>1.0</td>\n",
              "      <td>7042.0</td>\n",
              "    </tr>\n",
              "    <tr>\n",
              "      <th>1</th>\n",
              "      <td>76561197960266039</td>\n",
              "      <td>20</td>\n",
              "      <td>0.0</td>\n",
              "      <td>391.0</td>\n",
              "      <td>2013-05-06 16:00:46</td>\n",
              "      <td>0</td>\n",
              "      <td>1</td>\n",
              "      <td>Team Fortress Classic</td>\n",
              "      <td>game</td>\n",
              "      <td>4.99</td>\n",
              "      <td>1999-04-01 00:00:00</td>\n",
              "      <td>-1.0</td>\n",
              "      <td>0.0</td>\n",
              "      <td>1.0</td>\n",
              "      <td>7622.0</td>\n",
              "    </tr>\n",
              "    <tr>\n",
              "      <th>2</th>\n",
              "      <td>76561197960266039</td>\n",
              "      <td>30</td>\n",
              "      <td>0.0</td>\n",
              "      <td>0.0</td>\n",
              "      <td>2013-05-06 16:00:46</td>\n",
              "      <td>1</td>\n",
              "      <td>0</td>\n",
              "      <td>Day of Defeat</td>\n",
              "      <td>game</td>\n",
              "      <td>4.99</td>\n",
              "      <td>2003-05-01 00:00:00</td>\n",
              "      <td>79.0</td>\n",
              "      <td>0.0</td>\n",
              "      <td>1.0</td>\n",
              "      <td>6131.0</td>\n",
              "    </tr>\n",
              "    <tr>\n",
              "      <th>3</th>\n",
              "      <td>76561197960266039</td>\n",
              "      <td>40</td>\n",
              "      <td>0.0</td>\n",
              "      <td>748.0</td>\n",
              "      <td>2013-05-06 16:00:46</td>\n",
              "      <td>0</td>\n",
              "      <td>1</td>\n",
              "      <td>Deathmatch Classic</td>\n",
              "      <td>game</td>\n",
              "      <td>4.99</td>\n",
              "      <td>2001-06-01 00:00:00</td>\n",
              "      <td>-1.0</td>\n",
              "      <td>0.0</td>\n",
              "      <td>1.0</td>\n",
              "      <td>6830.0</td>\n",
              "    </tr>\n",
              "    <tr>\n",
              "      <th>4</th>\n",
              "      <td>76561197960266039</td>\n",
              "      <td>50</td>\n",
              "      <td>0.0</td>\n",
              "      <td>0.0</td>\n",
              "      <td>2013-05-06 16:00:46</td>\n",
              "      <td>1</td>\n",
              "      <td>0</td>\n",
              "      <td>Half-Life: Opposing Force</td>\n",
              "      <td>game</td>\n",
              "      <td>4.99</td>\n",
              "      <td>1999-11-01 00:00:00</td>\n",
              "      <td>-1.0</td>\n",
              "      <td>0.0</td>\n",
              "      <td>1.0</td>\n",
              "      <td>7408.0</td>\n",
              "    </tr>\n",
              "  </tbody>\n",
              "</table>\n",
              "</div>"
            ],
            "text/plain": [
              "             steamid  appid  playtime_2weeks  playtime_forever        dateretrieved  unplayed  played                      Title  Type  Price         Release_Date  Rating  Required_Age  Is_Multiplayer  game_age\n",
              "0  76561197960266039     10              7.0            1311.0  2013-05-06 16:00:46         0       1             Counter-Strike  game   9.99  2000-11-01 00:00:00    88.0           0.0             1.0    7042.0\n",
              "1  76561197960266039     20              0.0             391.0  2013-05-06 16:00:46         0       1      Team Fortress Classic  game   4.99  1999-04-01 00:00:00    -1.0           0.0             1.0    7622.0\n",
              "2  76561197960266039     30              0.0               0.0  2013-05-06 16:00:46         1       0              Day of Defeat  game   4.99  2003-05-01 00:00:00    79.0           0.0             1.0    6131.0\n",
              "3  76561197960266039     40              0.0             748.0  2013-05-06 16:00:46         0       1         Deathmatch Classic  game   4.99  2001-06-01 00:00:00    -1.0           0.0             1.0    6830.0\n",
              "4  76561197960266039     50              0.0               0.0  2013-05-06 16:00:46         1       0  Half-Life: Opposing Force  game   4.99  1999-11-01 00:00:00    -1.0           0.0             1.0    7408.0"
            ]
          },
          "metadata": {
            "tags": []
          },
          "execution_count": 43
        }
      ]
    },
    {
      "cell_type": "code",
      "metadata": {
        "id": "N0meqrqCyUVv",
        "colab_type": "code",
        "outputId": "ae9033a3-369a-404e-cbef-ccc3772304c8",
        "colab": {
          "base_uri": "https://localhost:8080/",
          "height": 111
        }
      },
      "source": [
        "total_play_time = gameplay_apps.groupby('Is_Multiplayer',as_index=False).agg({'playtime_2weeks':'sum',\n",
        "                                                     'playtime_forever':'sum'})\n",
        "#gameplay_apps_total = gameplay_apps.merge(total_play_time,on='Is_Multiplayer',how='inner')\n",
        "#gameplay_apps_total = gameplay_apps_total.groupby(['steamid','Is_Multiplayer'],as_index=False).agg(\n",
        "#    {'playtime_2weeks_x':'sum','playtime_forever_x':'sum','playtime_2weeks_y':'mean','playtime_forever_y':'mean'}\n",
        "#)\n",
        "\n",
        "total_play_time['total_2weeks'] = total_play_time.playtime_2weeks.sum()\n",
        "total_play_time['total_forever'] = total_play_time.playtime_forever.sum()\n",
        "total_play_time.head()"
      ],
      "execution_count": 0,
      "outputs": [
        {
          "output_type": "execute_result",
          "data": {
            "text/html": [
              "<div>\n",
              "<style scoped>\n",
              "    .dataframe tbody tr th:only-of-type {\n",
              "        vertical-align: middle;\n",
              "    }\n",
              "\n",
              "    .dataframe tbody tr th {\n",
              "        vertical-align: top;\n",
              "    }\n",
              "\n",
              "    .dataframe thead th {\n",
              "        text-align: right;\n",
              "    }\n",
              "</style>\n",
              "<table border=\"1\" class=\"dataframe\">\n",
              "  <thead>\n",
              "    <tr style=\"text-align: right;\">\n",
              "      <th></th>\n",
              "      <th>Is_Multiplayer</th>\n",
              "      <th>playtime_2weeks</th>\n",
              "      <th>playtime_forever</th>\n",
              "      <th>total_2weeks</th>\n",
              "      <th>total_forever</th>\n",
              "    </tr>\n",
              "  </thead>\n",
              "  <tbody>\n",
              "    <tr>\n",
              "      <th>0</th>\n",
              "      <td>0.0</td>\n",
              "      <td>2.743495e+08</td>\n",
              "      <td>3.817404e+09</td>\n",
              "      <td>1.626379e+09</td>\n",
              "      <td>2.622219e+10</td>\n",
              "    </tr>\n",
              "    <tr>\n",
              "      <th>1</th>\n",
              "      <td>1.0</td>\n",
              "      <td>1.352029e+09</td>\n",
              "      <td>2.240479e+10</td>\n",
              "      <td>1.626379e+09</td>\n",
              "      <td>2.622219e+10</td>\n",
              "    </tr>\n",
              "  </tbody>\n",
              "</table>\n",
              "</div>"
            ],
            "text/plain": [
              "   Is_Multiplayer  playtime_2weeks  playtime_forever  total_2weeks  total_forever\n",
              "0             0.0     2.743495e+08      3.817404e+09  1.626379e+09   2.622219e+10\n",
              "1             1.0     1.352029e+09      2.240479e+10  1.626379e+09   2.622219e+10"
            ]
          },
          "metadata": {
            "tags": []
          },
          "execution_count": 58
        }
      ]
    },
    {
      "cell_type": "code",
      "metadata": {
        "id": "hjjCTVcY1nvI",
        "colab_type": "code",
        "outputId": "51b69560-0388-494a-edc5-1a2b6de4b5c8",
        "colab": {
          "base_uri": "https://localhost:8080/",
          "height": 111
        }
      },
      "source": [
        "total_play_time['2week'] = total_play_time.playtime_2weeks*100/total_play_time.total_2weeks\n",
        "total_play_time['foever'] = total_play_time.playtime_forever*100/total_play_time.total_forever\n",
        "total_play_time"
      ],
      "execution_count": 0,
      "outputs": [
        {
          "output_type": "execute_result",
          "data": {
            "text/html": [
              "<div>\n",
              "<style scoped>\n",
              "    .dataframe tbody tr th:only-of-type {\n",
              "        vertical-align: middle;\n",
              "    }\n",
              "\n",
              "    .dataframe tbody tr th {\n",
              "        vertical-align: top;\n",
              "    }\n",
              "\n",
              "    .dataframe thead th {\n",
              "        text-align: right;\n",
              "    }\n",
              "</style>\n",
              "<table border=\"1\" class=\"dataframe\">\n",
              "  <thead>\n",
              "    <tr style=\"text-align: right;\">\n",
              "      <th></th>\n",
              "      <th>Is_Multiplayer</th>\n",
              "      <th>playtime_2weeks</th>\n",
              "      <th>playtime_forever</th>\n",
              "      <th>total_2weeks</th>\n",
              "      <th>total_forever</th>\n",
              "      <th>2week</th>\n",
              "      <th>foever</th>\n",
              "    </tr>\n",
              "  </thead>\n",
              "  <tbody>\n",
              "    <tr>\n",
              "      <th>0</th>\n",
              "      <td>0.0</td>\n",
              "      <td>2.743495e+08</td>\n",
              "      <td>3.817404e+09</td>\n",
              "      <td>1.626379e+09</td>\n",
              "      <td>2.622219e+10</td>\n",
              "      <td>16.868735</td>\n",
              "      <td>14.557913</td>\n",
              "    </tr>\n",
              "    <tr>\n",
              "      <th>1</th>\n",
              "      <td>1.0</td>\n",
              "      <td>1.352029e+09</td>\n",
              "      <td>2.240479e+10</td>\n",
              "      <td>1.626379e+09</td>\n",
              "      <td>2.622219e+10</td>\n",
              "      <td>83.131265</td>\n",
              "      <td>85.442087</td>\n",
              "    </tr>\n",
              "  </tbody>\n",
              "</table>\n",
              "</div>"
            ],
            "text/plain": [
              "   Is_Multiplayer  playtime_2weeks  playtime_forever  total_2weeks  total_forever      2week     foever\n",
              "0             0.0     2.743495e+08      3.817404e+09  1.626379e+09   2.622219e+10  16.868735  14.557913\n",
              "1             1.0     1.352029e+09      2.240479e+10  1.626379e+09   2.622219e+10  83.131265  85.442087"
            ]
          },
          "metadata": {
            "tags": []
          },
          "execution_count": 59
        }
      ]
    },
    {
      "cell_type": "code",
      "metadata": {
        "id": "u6txZcdK5065",
        "colab_type": "code",
        "outputId": "c1cf111c-015e-4861-9b99-6a1ed6e596d7",
        "colab": {
          "base_uri": "https://localhost:8080/",
          "height": 111
        }
      },
      "source": [
        "total_play_time = gameplay_apps[(\n",
        "    gameplay_apps.steamid.isin(data[data.ClusterID==1].steamid)\n",
        ")].groupby('Is_Multiplayer',as_index=False).agg({'playtime_2weeks':'sum',\n",
        "                                                     'playtime_forever':'sum'})\n",
        "total_play_time['total_2weeks'] = total_play_time.playtime_2weeks.sum()\n",
        "total_play_time['total_forever'] = total_play_time.playtime_forever.sum()\n",
        "total_play_time['2week'] = total_play_time.playtime_2weeks*100/total_play_time.total_2weeks\n",
        "total_play_time['foever'] = total_play_time.playtime_forever*100/total_play_time.total_forever\n",
        "total_play_time"
      ],
      "execution_count": 0,
      "outputs": [
        {
          "output_type": "execute_result",
          "data": {
            "text/html": [
              "<div>\n",
              "<style scoped>\n",
              "    .dataframe tbody tr th:only-of-type {\n",
              "        vertical-align: middle;\n",
              "    }\n",
              "\n",
              "    .dataframe tbody tr th {\n",
              "        vertical-align: top;\n",
              "    }\n",
              "\n",
              "    .dataframe thead th {\n",
              "        text-align: right;\n",
              "    }\n",
              "</style>\n",
              "<table border=\"1\" class=\"dataframe\">\n",
              "  <thead>\n",
              "    <tr style=\"text-align: right;\">\n",
              "      <th></th>\n",
              "      <th>Is_Multiplayer</th>\n",
              "      <th>playtime_2weeks</th>\n",
              "      <th>playtime_forever</th>\n",
              "      <th>total_2weeks</th>\n",
              "      <th>total_forever</th>\n",
              "      <th>2week</th>\n",
              "      <th>foever</th>\n",
              "    </tr>\n",
              "  </thead>\n",
              "  <tbody>\n",
              "    <tr>\n",
              "      <th>0</th>\n",
              "      <td>0.0</td>\n",
              "      <td>58826036.0</td>\n",
              "      <td>8.087103e+08</td>\n",
              "      <td>254949746.0</td>\n",
              "      <td>4.128581e+09</td>\n",
              "      <td>23.073581</td>\n",
              "      <td>19.588091</td>\n",
              "    </tr>\n",
              "    <tr>\n",
              "      <th>1</th>\n",
              "      <td>1.0</td>\n",
              "      <td>196123710.0</td>\n",
              "      <td>3.319871e+09</td>\n",
              "      <td>254949746.0</td>\n",
              "      <td>4.128581e+09</td>\n",
              "      <td>76.926419</td>\n",
              "      <td>80.411909</td>\n",
              "    </tr>\n",
              "  </tbody>\n",
              "</table>\n",
              "</div>"
            ],
            "text/plain": [
              "   Is_Multiplayer  playtime_2weeks  playtime_forever  total_2weeks  total_forever      2week     foever\n",
              "0             0.0       58826036.0      8.087103e+08   254949746.0   4.128581e+09  23.073581  19.588091\n",
              "1             1.0      196123710.0      3.319871e+09   254949746.0   4.128581e+09  76.926419  80.411909"
            ]
          },
          "metadata": {
            "tags": []
          },
          "execution_count": 61
        }
      ]
    },
    {
      "cell_type": "code",
      "metadata": {
        "id": "nwzKutU76JhY",
        "colab_type": "code",
        "outputId": "c534b31b-ee25-4126-a737-be01dd78a246",
        "colab": {
          "base_uri": "https://localhost:8080/",
          "height": 111
        }
      },
      "source": [
        "total_play_time = gameplay_apps[(\n",
        "    gameplay_apps.steamid.isin(data[data.ClusterID==2].steamid)\n",
        ")].groupby('Is_Multiplayer',as_index=False).agg({'playtime_2weeks':'sum',\n",
        "                                                     'playtime_forever':'sum'})\n",
        "total_play_time['total_2weeks'] = total_play_time.playtime_2weeks.sum()\n",
        "total_play_time['total_forever'] = total_play_time.playtime_forever.sum()\n",
        "total_play_time['2week'] = total_play_time.playtime_2weeks*100/total_play_time.total_2weeks\n",
        "total_play_time['foever'] = total_play_time.playtime_forever*100/total_play_time.total_forever\n",
        "total_play_time"
      ],
      "execution_count": 0,
      "outputs": [
        {
          "output_type": "execute_result",
          "data": {
            "text/html": [
              "<div>\n",
              "<style scoped>\n",
              "    .dataframe tbody tr th:only-of-type {\n",
              "        vertical-align: middle;\n",
              "    }\n",
              "\n",
              "    .dataframe tbody tr th {\n",
              "        vertical-align: top;\n",
              "    }\n",
              "\n",
              "    .dataframe thead th {\n",
              "        text-align: right;\n",
              "    }\n",
              "</style>\n",
              "<table border=\"1\" class=\"dataframe\">\n",
              "  <thead>\n",
              "    <tr style=\"text-align: right;\">\n",
              "      <th></th>\n",
              "      <th>Is_Multiplayer</th>\n",
              "      <th>playtime_2weeks</th>\n",
              "      <th>playtime_forever</th>\n",
              "      <th>total_2weeks</th>\n",
              "      <th>total_forever</th>\n",
              "      <th>2week</th>\n",
              "      <th>foever</th>\n",
              "    </tr>\n",
              "  </thead>\n",
              "  <tbody>\n",
              "    <tr>\n",
              "      <th>0</th>\n",
              "      <td>0.0</td>\n",
              "      <td>47516085.0</td>\n",
              "      <td>9.323999e+08</td>\n",
              "      <td>155892157.0</td>\n",
              "      <td>3.940296e+09</td>\n",
              "      <td>30.4801</td>\n",
              "      <td>23.663195</td>\n",
              "    </tr>\n",
              "    <tr>\n",
              "      <th>1</th>\n",
              "      <td>1.0</td>\n",
              "      <td>108376072.0</td>\n",
              "      <td>3.007896e+09</td>\n",
              "      <td>155892157.0</td>\n",
              "      <td>3.940296e+09</td>\n",
              "      <td>69.5199</td>\n",
              "      <td>76.336805</td>\n",
              "    </tr>\n",
              "  </tbody>\n",
              "</table>\n",
              "</div>"
            ],
            "text/plain": [
              "   Is_Multiplayer  playtime_2weeks  playtime_forever  total_2weeks  total_forever    2week     foever\n",
              "0             0.0       47516085.0      9.323999e+08   155892157.0   3.940296e+09  30.4801  23.663195\n",
              "1             1.0      108376072.0      3.007896e+09   155892157.0   3.940296e+09  69.5199  76.336805"
            ]
          },
          "metadata": {
            "tags": []
          },
          "execution_count": 62
        }
      ]
    }
  ]
}